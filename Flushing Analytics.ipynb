{
 "cells": [
  {
   "cell_type": "markdown",
   "id": "6d9b011a-a83b-4b45-8f8e-a0c8e2d6ff0b",
   "metadata": {
    "jp-MarkdownHeadingCollapsed": true,
    "nteract": {
     "transient": {
      "deleting": false
     }
    }
   },
   "source": [
    "# ****FLUSHING ANALYTICS****\n"
   ]
  },
  {
   "cell_type": "markdown",
   "id": "a53669f1-b6c4-4b27-9160-af4070c835f4",
   "metadata": {
    "jp-MarkdownHeadingCollapsed": true
   },
   "source": [
    "# Installing Dependencies"
   ]
  },
  {
   "cell_type": "code",
   "execution_count": 5,
   "id": "f1ab0c63-1cd9-4a7b-81c3-e133a0dd98bd",
   "metadata": {
    "collapsed": false,
    "jupyter": {
     "outputs_hidden": false,
     "source_hidden": false
    },
    "microsoft": {
     "language": "python",
     "language_group": "synapse_pyspark"
    },
    "nteract": {
     "transient": {
      "deleting": false
     }
    }
   },
   "outputs": [
    {
     "name": "stdout",
     "output_type": "stream",
     "text": [
      "Requirement already satisfied: pandas in c:\\users\\17561\\appdata\\local\\programs\\python\\python312\\lib\\site-packages (2.2.2)\n",
      "Requirement already satisfied: numpy>=1.26.0 in c:\\users\\17561\\appdata\\local\\programs\\python\\python312\\lib\\site-packages (from pandas) (2.0.0)\n",
      "Requirement already satisfied: python-dateutil>=2.8.2 in c:\\users\\17561\\appdata\\roaming\\python\\python312\\site-packages (from pandas) (2.9.0.post0)\n",
      "Requirement already satisfied: pytz>=2020.1 in c:\\users\\17561\\appdata\\local\\programs\\python\\python312\\lib\\site-packages (from pandas) (2024.1)\n",
      "Requirement already satisfied: tzdata>=2022.7 in c:\\users\\17561\\appdata\\local\\programs\\python\\python312\\lib\\site-packages (from pandas) (2024.1)\n",
      "Requirement already satisfied: six>=1.5 in c:\\users\\17561\\appdata\\roaming\\python\\python312\\site-packages (from python-dateutil>=2.8.2->pandas) (1.16.0)\n",
      "Note: you may need to restart the kernel to use updated packages.\n"
     ]
    },
    {
     "name": "stderr",
     "output_type": "stream",
     "text": [
      "\n",
      "[notice] A new release of pip is available: 24.0 -> 24.1.2\n",
      "[notice] To update, run: python.exe -m pip install --upgrade pip\n"
     ]
    },
    {
     "name": "stdout",
     "output_type": "stream",
     "text": [
      "Requirement already satisfied: pyproj in c:\\users\\17561\\appdata\\local\\programs\\python\\python312\\lib\\site-packages (3.6.1)\n",
      "Requirement already satisfied: certifi in c:\\users\\17561\\appdata\\local\\programs\\python\\python312\\lib\\site-packages (from pyproj) (2024.7.4)\n",
      "Note: you may need to restart the kernel to use updated packages.\n"
     ]
    },
    {
     "name": "stderr",
     "output_type": "stream",
     "text": [
      "\n",
      "[notice] A new release of pip is available: 24.0 -> 24.1.2\n",
      "[notice] To update, run: python.exe -m pip install --upgrade pip\n"
     ]
    },
    {
     "name": "stdout",
     "output_type": "stream",
     "text": [
      "Requirement already satisfied: scikit-learn in c:\\users\\17561\\appdata\\local\\programs\\python\\python312\\lib\\site-packages (1.5.1)\n",
      "Requirement already satisfied: numpy>=1.19.5 in c:\\users\\17561\\appdata\\local\\programs\\python\\python312\\lib\\site-packages (from scikit-learn) (2.0.0)\n",
      "Requirement already satisfied: scipy>=1.6.0 in c:\\users\\17561\\appdata\\local\\programs\\python\\python312\\lib\\site-packages (from scikit-learn) (1.14.0)\n",
      "Requirement already satisfied: joblib>=1.2.0 in c:\\users\\17561\\appdata\\local\\programs\\python\\python312\\lib\\site-packages (from scikit-learn) (1.4.2)\n",
      "Requirement already satisfied: threadpoolctl>=3.1.0 in c:\\users\\17561\\appdata\\local\\programs\\python\\python312\\lib\\site-packages (from scikit-learn) (3.5.0)\n",
      "Note: you may need to restart the kernel to use updated packages.\n"
     ]
    },
    {
     "name": "stderr",
     "output_type": "stream",
     "text": [
      "\n",
      "[notice] A new release of pip is available: 24.0 -> 24.1.2\n",
      "[notice] To update, run: python.exe -m pip install --upgrade pip\n"
     ]
    },
    {
     "name": "stdout",
     "output_type": "stream",
     "text": [
      "Note: you may need to restart the kernel to use updated packages.Requirement already satisfied: openpyxl in c:\\users\\17561\\appdata\\local\\programs\\python\\python312\\lib\\site-packages (3.1.5)\n",
      "Requirement already satisfied: et-xmlfile in c:\\users\\17561\\appdata\\local\\programs\\python\\python312\\lib\\site-packages (from openpyxl) (1.1.0)\n",
      "\n"
     ]
    },
    {
     "name": "stderr",
     "output_type": "stream",
     "text": [
      "\n",
      "[notice] A new release of pip is available: 24.0 -> 24.1.2\n",
      "[notice] To update, run: python.exe -m pip install --upgrade pip\n"
     ]
    },
    {
     "name": "stdout",
     "output_type": "stream",
     "text": [
      "Collecting matplotlib\n",
      "  Downloading matplotlib-3.9.1-cp312-cp312-win_amd64.whl.metadata (11 kB)\n",
      "Collecting contourpy>=1.0.1 (from matplotlib)\n",
      "  Downloading contourpy-1.2.1-cp312-cp312-win_amd64.whl.metadata (5.8 kB)\n",
      "Collecting cycler>=0.10 (from matplotlib)\n",
      "  Downloading cycler-0.12.1-py3-none-any.whl.metadata (3.8 kB)\n",
      "Collecting fonttools>=4.22.0 (from matplotlib)\n",
      "  Downloading fonttools-4.53.1-cp312-cp312-win_amd64.whl.metadata (165 kB)\n",
      "     ---------------------------------------- 0.0/165.9 kB ? eta -:--:--\n",
      "     ------ ------------------------------ 30.7/165.9 kB 660.6 kB/s eta 0:00:01\n",
      "     -------------------------------------  163.8/165.9 kB 2.4 MB/s eta 0:00:01\n",
      "     -------------------------------------- 165.9/165.9 kB 1.7 MB/s eta 0:00:00\n",
      "Collecting kiwisolver>=1.3.1 (from matplotlib)\n",
      "  Downloading kiwisolver-1.4.5-cp312-cp312-win_amd64.whl.metadata (6.5 kB)\n",
      "Requirement already satisfied: numpy>=1.23 in c:\\users\\17561\\appdata\\local\\programs\\python\\python312\\lib\\site-packages (from matplotlib) (2.0.0)\n",
      "Requirement already satisfied: packaging>=20.0 in c:\\users\\17561\\appdata\\roaming\\python\\python312\\site-packages (from matplotlib) (24.1)\n",
      "Collecting pillow>=8 (from matplotlib)\n",
      "  Downloading pillow-10.4.0-cp312-cp312-win_amd64.whl.metadata (9.3 kB)\n",
      "Collecting pyparsing>=2.3.1 (from matplotlib)\n",
      "  Downloading pyparsing-3.1.2-py3-none-any.whl.metadata (5.1 kB)\n",
      "Requirement already satisfied: python-dateutil>=2.7 in c:\\users\\17561\\appdata\\roaming\\python\\python312\\site-packages (from matplotlib) (2.9.0.post0)\n",
      "Requirement already satisfied: six>=1.5 in c:\\users\\17561\\appdata\\roaming\\python\\python312\\site-packages (from python-dateutil>=2.7->matplotlib) (1.16.0)\n",
      "Downloading matplotlib-3.9.1-cp312-cp312-win_amd64.whl (8.0 MB)\n",
      "   ---------------------------------------- 0.0/8.0 MB ? eta -:--:--\n",
      "   -- ------------------------------------- 0.6/8.0 MB 12.0 MB/s eta 0:00:01\n",
      "   ------ --------------------------------- 1.4/8.0 MB 17.7 MB/s eta 0:00:01\n",
      "   ---------------- ----------------------- 3.2/8.0 MB 22.7 MB/s eta 0:00:01\n",
      "   ------------------------- -------------- 5.1/8.0 MB 27.0 MB/s eta 0:00:01\n",
      "   ---------------------------------- ----- 7.0/8.0 MB 31.9 MB/s eta 0:00:01\n",
      "   ---------------------------------------  8.0/8.0 MB 31.8 MB/s eta 0:00:01\n",
      "   ---------------------------------------- 8.0/8.0 MB 25.5 MB/s eta 0:00:00\n",
      "Downloading contourpy-1.2.1-cp312-cp312-win_amd64.whl (189 kB)\n",
      "   ---------------------------------------- 0.0/189.9 kB ? eta -:--:--\n",
      "   -------------------------------------- - 184.3/189.9 kB ? eta -:--:--\n",
      "   ---------------------------------------- 189.9/189.9 kB 5.8 MB/s eta 0:00:00\n",
      "Downloading cycler-0.12.1-py3-none-any.whl (8.3 kB)\n",
      "Downloading fonttools-4.53.1-cp312-cp312-win_amd64.whl (2.2 MB)\n",
      "   ---------------------------------------- 0.0/2.2 MB ? eta -:--:--\n",
      "   --------------------------- ------------ 1.5/2.2 MB 46.7 MB/s eta 0:00:01\n",
      "   ---------------------------------------  2.2/2.2 MB 34.6 MB/s eta 0:00:01\n",
      "   ---------------------------------------- 2.2/2.2 MB 17.5 MB/s eta 0:00:00\n",
      "Downloading kiwisolver-1.4.5-cp312-cp312-win_amd64.whl (56 kB)\n",
      "   ---------------------------------------- 0.0/56.0 kB ? eta -:--:--\n",
      "   ------------------------------------ --- 51.2/56.0 kB ? eta -:--:--\n",
      "   ---------------------------------------- 56.0/56.0 kB 586.7 kB/s eta 0:00:00\n",
      "Downloading pillow-10.4.0-cp312-cp312-win_amd64.whl (2.6 MB)\n",
      "   ---------------------------------------- 0.0/2.6 MB ? eta -:--:--\n",
      "   ------------------ --------------------- 1.2/2.6 MB 19.2 MB/s eta 0:00:01\n",
      "   ------------------------------------- -- 2.4/2.6 MB 21.9 MB/s eta 0:00:01\n",
      "   ---------------------------------------  2.5/2.6 MB 23.3 MB/s eta 0:00:01\n",
      "   ---------------------------------------- 2.6/2.6 MB 12.5 MB/s eta 0:00:00\n",
      "Downloading pyparsing-3.1.2-py3-none-any.whl (103 kB)\n",
      "   ---------------------------------------- 0.0/103.2 kB ? eta -:--:--\n",
      "   ---------------------------------------  102.4/103.2 kB ? eta -:--:--\n",
      "   ---------------------------------------- 103.2/103.2 kB 1.2 MB/s eta 0:00:00\n",
      "Installing collected packages: pyparsing, pillow, kiwisolver, fonttools, cycler, contourpy, matplotlib\n",
      "Successfully installed contourpy-1.2.1 cycler-0.12.1 fonttools-4.53.1 kiwisolver-1.4.5 matplotlib-3.9.1 pillow-10.4.0 pyparsing-3.1.2\n",
      "Note: you may need to restart the kernel to use updated packages.\n"
     ]
    },
    {
     "name": "stderr",
     "output_type": "stream",
     "text": [
      "  WARNING: The scripts fonttools.exe, pyftmerge.exe, pyftsubset.exe and ttx.exe are installed in 'c:\\Users\\17561\\AppData\\Local\\Programs\\Python\\Python312\\Scripts' which is not on PATH.\n",
      "  Consider adding this directory to PATH or, if you prefer to suppress this warning, use --no-warn-script-location.\n",
      "\n",
      "[notice] A new release of pip is available: 24.0 -> 24.1.2\n",
      "[notice] To update, run: python.exe -m pip install --upgrade pip\n"
     ]
    }
   ],
   "source": [
    "%pip install pandas\n",
    "%pip install pyproj\n",
    "%pip install scikit-learn\n",
    "%pip install openpyxl\n",
    "%pip install matplotlib\n"
   ]
  },
  {
   "cell_type": "markdown",
   "id": "e5b8b28a-96d6-4a59-93b3-05d6ca472c0f",
   "metadata": {},
   "source": [
    "# Preparing the Data"
   ]
  },
  {
   "cell_type": "markdown",
   "id": "cee90e9b-f835-4faa-93b7-af6c4d81243c",
   "metadata": {},
   "source": [
    "## Loading and exploring the datasets"
   ]
  },
  {
   "cell_type": "code",
<<<<<<< HEAD
   "execution_count": 2,
=======
   "execution_count": 1,
>>>>>>> 68efe66f01e9b580e80d420c7a1ce7e073976a5a
   "id": "c8a29292-94e8-45d4-b23c-657292cb967b",
   "metadata": {
    "collapsed": false,
    "jupyter": {
     "outputs_hidden": false,
     "source_hidden": false
    },
    "microsoft": {
     "language": "python",
     "language_group": "synapse_pyspark"
    },
    "nteract": {
     "transient": {
      "deleting": false
     }
    }
   },
   "outputs": [
    {
     "name": "stderr",
     "output_type": "stream",
     "text": [
<<<<<<< HEAD
      "C:\\Users\\17561\\AppData\\Local\\Temp\\1\\ipykernel_17928\\881486883.py:20: DtypeWarning: Columns (33,50,57,91) have mixed types. Specify dtype option on import or set low_memory=False.\n",
      "  all_hydrants_df = pd.read_csv(all_hydrants_filepath)\n",
      "C:\\Users\\17561\\AppData\\Local\\Temp\\1\\ipykernel_17928\\881486883.py:21: DtypeWarning: Columns (0,4,5,15,23,24,63,64,65,66) have mixed types. Specify dtype option on import or set low_memory=False.\n",
=======
      "C:\\Users\\26154\\AppData\\Local\\Temp\\1\\ipykernel_16372\\881486883.py:20: DtypeWarning: Columns (33,50,57,91) have mixed types. Specify dtype option on import or set low_memory=False.\n",
      "  all_hydrants_df = pd.read_csv(all_hydrants_filepath)\n",
      "C:\\Users\\26154\\AppData\\Local\\Temp\\1\\ipykernel_16372\\881486883.py:21: DtypeWarning: Columns (0,4,5,15,23,24,63,64,65,66) have mixed types. Specify dtype option on import or set low_memory=False.\n",
>>>>>>> 68efe66f01e9b580e80d420c7a1ce7e073976a5a
      "  flushing_history_df = pd.read_csv(flushing_history_filepath)\n"
     ]
    }
   ],
   "source": [
    "# Importing dependencies\n",
    "import pandas as pd\n",
    "import matplotlib.pyplot as plt\n",
    "import numpy as np\n",
    "import copy\n",
    "\n",
    "from sklearn.model_selection import train_test_split\n",
    "from sklearn.linear_model import LinearRegression\n",
    "from sklearn.metrics import mean_squared_error as mse\n",
    "from pyproj import Proj, transform\n",
    "\n",
    "# file_path = '/EllaTesting/Files/Repairs_2018_2023.xlsx'\n",
    "\n",
    "# print(file_path)\n",
    "\n",
    "# Creating DataFrames from spreadsheets\n",
    "all_hydrants_filepath = \"Qry_AllHY.csv\"\n",
    "flushing_history_filepath = \"Qry_FlushHistory.csv\"\n",
    "\n",
    "all_hydrants_df = pd.read_csv(all_hydrants_filepath)\n",
    "flushing_history_df = pd.read_csv(flushing_history_filepath)"
   ]
  },
  {
   "cell_type": "markdown",
   "id": "cf8127dc",
   "metadata": {},
   "source": [
    "## Data Cleaning and Preprocessing"
   ]
  },
  {
   "cell_type": "markdown",
   "id": "591c3da6",
   "metadata": {},
   "source": [
    "### Data Cleaning - History Table"
   ]
  },
  {
   "cell_type": "code",
   "execution_count": 3,
   "id": "069a26ac-5e98-4c5b-91ff-451e1fce419d",
   "metadata": {
    "collapsed": false,
    "jupyter": {
     "outputs_hidden": false,
     "source_hidden": false
    },
    "microsoft": {
     "language": "python",
     "language_group": "synapse_pyspark"
    },
    "nteract": {
     "transient": {
      "deleting": false
     }
    }
   },
   "outputs": [],
   "source": [
    "# Creating a copy of the Flushing History DataFrame\n",
    "copied_flushing_history_df = copy.deepcopy(flushing_history_df)"
   ]
  },
  {
   "cell_type": "code",
   "execution_count": 4,
   "id": "c431e8b0",
   "metadata": {},
   "outputs": [],
   "source": [
    "#delete all unnecessary columns\n",
    "copied_flushing_history_df = copied_flushing_history_df.drop(columns={'FLSHTIME3', 'FLSHTIME4', 'FLSHTIME5', 'FLSHTIME6', 'FLSHTIME7', 'FLSHTIME8', 'FLSHTIME9', 'FLSHTIME10', 'FLSHTIME11', 'FLSHVOL1', 'FLSHVOL2', 'FLSHVOL3', 'FLSHVOL4', 'FLSHVOL5', 'FLSHVOL6', 'FLSHVOL7', 'FLSHVOL8', 'FLSHVOL9', 'FLSHVOL10', 'FLSHVOL11', 'CLFREE3', \n",
    "                                                                      'CLFREE4', 'CLFREE5', 'CLFREE6', 'CLFREE7', 'CLFREE8', 'CLFREE9', 'CLFREE10', 'CLFREE11', 'CLTOTL3', 'CLTOTL4', 'CLTOTL5', 'CLTOTL6', 'CLTOTL7', 'CLTOTL8', 'CLTOTL9', 'CLTOTL10', 'CLTOTL11', 'ADDBY', 'ADDDTTM', 'MODBY', 'MODDTTM', 'REMARKS', 'FLSHTIME', 'FLUSHNC', 'NFREASON' })"
   ]
  },
  {
   "cell_type": "code",
   "execution_count": 5,
   "id": "e807a4ff",
   "metadata": {},
   "outputs": [
    {
     "data": {
      "text/plain": [
       "(116808, 21)"
      ]
     },
     "execution_count": 5,
     "metadata": {},
     "output_type": "execute_result"
    }
   ],
   "source": [
    "copied_flushing_history_df.shape"
   ]
  },
  {
   "cell_type": "code",
   "execution_count": 6,
   "id": "0f81e1cb",
   "metadata": {},
   "outputs": [],
   "source": [
    "copied_flushing_history_df = copied_flushing_history_df.dropna(subset=['FLSHFRE', 'FLSHDATE', 'CLFREE', 'CLTOTL', 'PHREAD', 'FLSHVOL', 'FLSHDUR', 'COMPKEY'])"
   ]
  },
  {
   "cell_type": "code",
   "execution_count": 7,
   "id": "116290fc",
   "metadata": {},
   "outputs": [
    {
     "data": {
      "text/plain": [
       "(112582, 21)"
      ]
     },
     "execution_count": 7,
     "metadata": {},
     "output_type": "execute_result"
    }
   ],
   "source": [
    "copied_flushing_history_df.shape"
   ]
  },
  {
   "cell_type": "code",
   "execution_count": 8,
   "id": "563090c3",
   "metadata": {},
   "outputs": [
    {
     "data": {
      "text/html": [
       "<div>\n",
       "<style scoped>\n",
       "    .dataframe tbody tr th:only-of-type {\n",
       "        vertical-align: middle;\n",
       "    }\n",
       "\n",
       "    .dataframe tbody tr th {\n",
       "        vertical-align: top;\n",
       "    }\n",
       "\n",
       "    .dataframe thead th {\n",
       "        text-align: right;\n",
       "    }\n",
       "</style>\n",
       "<table border=\"1\" class=\"dataframe\">\n",
       "  <thead>\n",
       "    <tr style=\"text-align: right;\">\n",
       "      <th></th>\n",
       "      <th>INSPKEY</th>\n",
       "      <th>GRIDKEY</th>\n",
       "      <th>FLSHFRE</th>\n",
       "      <th>FLSHDATE</th>\n",
       "      <th>CLFREE</th>\n",
       "      <th>CLTOTL</th>\n",
       "      <th>PHREAD</th>\n",
       "      <th>FLSHVOL</th>\n",
       "      <th>FLSHDUR</th>\n",
       "      <th>INSPBY</th>\n",
       "      <th>...</th>\n",
       "      <th>CLFREE2</th>\n",
       "      <th>CLTOTL1</th>\n",
       "      <th>CLTOTL2</th>\n",
       "      <th>WWNUM</th>\n",
       "      <th>COMMUN</th>\n",
       "      <th>COMPKEY</th>\n",
       "      <th>FLSHTIME1</th>\n",
       "      <th>FLSHTIME2</th>\n",
       "      <th>UNSCEHDLD</th>\n",
       "      <th>ALTERNATE</th>\n",
       "    </tr>\n",
       "  </thead>\n",
       "  <tbody>\n",
       "    <tr>\n",
       "      <th>6</th>\n",
       "      <td>965966</td>\n",
       "      <td>19046430</td>\n",
       "      <td>1 WEEK</td>\n",
       "      <td>2019-04-23</td>\n",
       "      <td>1.18</td>\n",
       "      <td>1.27</td>\n",
       "      <td>7.92</td>\n",
       "      <td>1.000</td>\n",
       "      <td>5.0</td>\n",
       "      <td>61535</td>\n",
       "      <td>...</td>\n",
       "      <td>NaN</td>\n",
       "      <td>NaN</td>\n",
       "      <td>NaN</td>\n",
       "      <td>WW220003993</td>\n",
       "      <td>CD</td>\n",
       "      <td>805425.0</td>\n",
       "      <td>NaN</td>\n",
       "      <td>NaN</td>\n",
       "      <td>N</td>\n",
       "      <td>N</td>\n",
       "    </tr>\n",
       "    <tr>\n",
       "      <th>7</th>\n",
       "      <td>972209</td>\n",
       "      <td>19048814</td>\n",
       "      <td>1 MONTH</td>\n",
       "      <td>2019-04-25</td>\n",
       "      <td>1.66</td>\n",
       "      <td>1.90</td>\n",
       "      <td>7.90</td>\n",
       "      <td>18.000</td>\n",
       "      <td>10.0</td>\n",
       "      <td>65673</td>\n",
       "      <td>...</td>\n",
       "      <td>NaN</td>\n",
       "      <td>1.85</td>\n",
       "      <td>NaN</td>\n",
       "      <td>WW220003993</td>\n",
       "      <td>CV</td>\n",
       "      <td>9876.0</td>\n",
       "      <td>15:05</td>\n",
       "      <td>NaN</td>\n",
       "      <td>N</td>\n",
       "      <td>N</td>\n",
       "    </tr>\n",
       "    <tr>\n",
       "      <th>8</th>\n",
       "      <td>972253</td>\n",
       "      <td>19048815</td>\n",
       "      <td>1 MONTH</td>\n",
       "      <td>2019-04-25</td>\n",
       "      <td>1.33</td>\n",
       "      <td>1.54</td>\n",
       "      <td>7.51</td>\n",
       "      <td>10.000</td>\n",
       "      <td>10.0</td>\n",
       "      <td>65673</td>\n",
       "      <td>...</td>\n",
       "      <td>NaN</td>\n",
       "      <td>1.49</td>\n",
       "      <td>NaN</td>\n",
       "      <td>WW260002590</td>\n",
       "      <td>CR</td>\n",
       "      <td>540642.0</td>\n",
       "      <td>09:55</td>\n",
       "      <td>NaN</td>\n",
       "      <td>N</td>\n",
       "      <td>N</td>\n",
       "    </tr>\n",
       "    <tr>\n",
       "      <th>9</th>\n",
       "      <td>965951</td>\n",
       "      <td>19048816</td>\n",
       "      <td>1 WEEK</td>\n",
       "      <td>2019-04-29</td>\n",
       "      <td>1.69</td>\n",
       "      <td>1.92</td>\n",
       "      <td>7.50</td>\n",
       "      <td>6.000</td>\n",
       "      <td>5.0</td>\n",
       "      <td>65673</td>\n",
       "      <td>...</td>\n",
       "      <td>NaN</td>\n",
       "      <td>NaN</td>\n",
       "      <td>NaN</td>\n",
       "      <td>WW260002590</td>\n",
       "      <td>CT</td>\n",
       "      <td>531455.0</td>\n",
       "      <td>NaN</td>\n",
       "      <td>NaN</td>\n",
       "      <td>N</td>\n",
       "      <td>N</td>\n",
       "    </tr>\n",
       "    <tr>\n",
       "      <th>10</th>\n",
       "      <td>965955</td>\n",
       "      <td>19048817</td>\n",
       "      <td>2 WEEKS</td>\n",
       "      <td>2019-04-30</td>\n",
       "      <td>1.67</td>\n",
       "      <td>1.78</td>\n",
       "      <td>7.86</td>\n",
       "      <td>10.000</td>\n",
       "      <td>10.0</td>\n",
       "      <td>65673</td>\n",
       "      <td>...</td>\n",
       "      <td>NaN</td>\n",
       "      <td>1.82</td>\n",
       "      <td>NaN</td>\n",
       "      <td>WW220003993</td>\n",
       "      <td>CV</td>\n",
       "      <td>541072.0</td>\n",
       "      <td>10:50</td>\n",
       "      <td>NaN</td>\n",
       "      <td>N</td>\n",
       "      <td>N</td>\n",
       "    </tr>\n",
       "    <tr>\n",
       "      <th>11</th>\n",
       "      <td>965950</td>\n",
       "      <td>19048818</td>\n",
       "      <td>1 WEEK</td>\n",
       "      <td>2019-04-30</td>\n",
       "      <td>0.72</td>\n",
       "      <td>0.94</td>\n",
       "      <td>8.09</td>\n",
       "      <td>23.000</td>\n",
       "      <td>15.0</td>\n",
       "      <td>65673</td>\n",
       "      <td>...</td>\n",
       "      <td>0.82</td>\n",
       "      <td>0.98</td>\n",
       "      <td>1.03</td>\n",
       "      <td>WW260094120</td>\n",
       "      <td>CB</td>\n",
       "      <td>528297.0</td>\n",
       "      <td>09:40</td>\n",
       "      <td>09:45</td>\n",
       "      <td>N</td>\n",
       "      <td>N</td>\n",
       "    </tr>\n",
       "    <tr>\n",
       "      <th>12</th>\n",
       "      <td>970581</td>\n",
       "      <td>19048819</td>\n",
       "      <td>2 WEEKS</td>\n",
       "      <td>2019-05-01</td>\n",
       "      <td>1.09</td>\n",
       "      <td>1.20</td>\n",
       "      <td>8.21</td>\n",
       "      <td>1.000</td>\n",
       "      <td>5.0</td>\n",
       "      <td>61535</td>\n",
       "      <td>...</td>\n",
       "      <td>NaN</td>\n",
       "      <td>NaN</td>\n",
       "      <td>NaN</td>\n",
       "      <td>WW260094120</td>\n",
       "      <td>CB</td>\n",
       "      <td>9986.0</td>\n",
       "      <td>NaN</td>\n",
       "      <td>NaN</td>\n",
       "      <td>N</td>\n",
       "      <td>N</td>\n",
       "    </tr>\n",
       "    <tr>\n",
       "      <th>13</th>\n",
       "      <td>970575</td>\n",
       "      <td>19048820</td>\n",
       "      <td>2 WEEKS</td>\n",
       "      <td>2019-05-01</td>\n",
       "      <td>1.11</td>\n",
       "      <td>1.26</td>\n",
       "      <td>8.31</td>\n",
       "      <td>1.000</td>\n",
       "      <td>5.0</td>\n",
       "      <td>61535</td>\n",
       "      <td>...</td>\n",
       "      <td>NaN</td>\n",
       "      <td>NaN</td>\n",
       "      <td>NaN</td>\n",
       "      <td>WW260094120</td>\n",
       "      <td>CCC</td>\n",
       "      <td>9263.0</td>\n",
       "      <td>NaN</td>\n",
       "      <td>NaN</td>\n",
       "      <td>N</td>\n",
       "      <td>N</td>\n",
       "    </tr>\n",
       "    <tr>\n",
       "      <th>14</th>\n",
       "      <td>965730</td>\n",
       "      <td>19048821</td>\n",
       "      <td>3 DAYS</td>\n",
       "      <td>2019-03-01</td>\n",
       "      <td>0.92</td>\n",
       "      <td>1.12</td>\n",
       "      <td>7.69</td>\n",
       "      <td>1.194</td>\n",
       "      <td>20.0</td>\n",
       "      <td>35832</td>\n",
       "      <td>...</td>\n",
       "      <td>NaN</td>\n",
       "      <td>NaN</td>\n",
       "      <td>NaN</td>\n",
       "      <td>WW260094120</td>\n",
       "      <td>B</td>\n",
       "      <td>7781.0</td>\n",
       "      <td>NaN</td>\n",
       "      <td>NaN</td>\n",
       "      <td>N</td>\n",
       "      <td>N</td>\n",
       "    </tr>\n",
       "    <tr>\n",
       "      <th>15</th>\n",
       "      <td>965730</td>\n",
       "      <td>19048822</td>\n",
       "      <td>3 DAYS</td>\n",
       "      <td>2019-04-30</td>\n",
       "      <td>0.42</td>\n",
       "      <td>0.65</td>\n",
       "      <td>7.89</td>\n",
       "      <td>5.000</td>\n",
       "      <td>13.0</td>\n",
       "      <td>68527</td>\n",
       "      <td>...</td>\n",
       "      <td>NaN</td>\n",
       "      <td>0.97</td>\n",
       "      <td>NaN</td>\n",
       "      <td>WW260094120</td>\n",
       "      <td>B</td>\n",
       "      <td>7781.0</td>\n",
       "      <td>07:40</td>\n",
       "      <td>NaN</td>\n",
       "      <td>N</td>\n",
       "      <td>N</td>\n",
       "    </tr>\n",
       "  </tbody>\n",
       "</table>\n",
       "<p>10 rows × 21 columns</p>\n",
       "</div>"
      ],
      "text/plain": [
       "    INSPKEY   GRIDKEY  FLSHFRE    FLSHDATE  CLFREE  CLTOTL  PHREAD  FLSHVOL  \\\n",
       "6    965966  19046430   1 WEEK  2019-04-23    1.18    1.27    7.92    1.000   \n",
       "7    972209  19048814  1 MONTH  2019-04-25    1.66    1.90    7.90   18.000   \n",
       "8    972253  19048815  1 MONTH  2019-04-25    1.33    1.54    7.51   10.000   \n",
       "9    965951  19048816   1 WEEK  2019-04-29    1.69    1.92    7.50    6.000   \n",
       "10   965955  19048817  2 WEEKS  2019-04-30    1.67    1.78    7.86   10.000   \n",
       "11   965950  19048818   1 WEEK  2019-04-30    0.72    0.94    8.09   23.000   \n",
       "12   970581  19048819  2 WEEKS  2019-05-01    1.09    1.20    8.21    1.000   \n",
       "13   970575  19048820  2 WEEKS  2019-05-01    1.11    1.26    8.31    1.000   \n",
       "14   965730  19048821   3 DAYS  2019-03-01    0.92    1.12    7.69    1.194   \n",
       "15   965730  19048822   3 DAYS  2019-04-30    0.42    0.65    7.89    5.000   \n",
       "\n",
       "    FLSHDUR INSPBY  ...  CLFREE2  CLTOTL1  CLTOTL2        WWNUM COMMUN  \\\n",
       "6       5.0  61535  ...      NaN      NaN      NaN  WW220003993     CD   \n",
       "7      10.0  65673  ...      NaN     1.85      NaN  WW220003993     CV   \n",
       "8      10.0  65673  ...      NaN     1.49      NaN  WW260002590     CR   \n",
       "9       5.0  65673  ...      NaN      NaN      NaN  WW260002590     CT   \n",
       "10     10.0  65673  ...      NaN     1.82      NaN  WW220003993     CV   \n",
       "11     15.0  65673  ...     0.82     0.98     1.03  WW260094120     CB   \n",
       "12      5.0  61535  ...      NaN      NaN      NaN  WW260094120     CB   \n",
       "13      5.0  61535  ...      NaN      NaN      NaN  WW260094120    CCC   \n",
       "14     20.0  35832  ...      NaN      NaN      NaN  WW260094120      B   \n",
       "15     13.0  68527  ...      NaN     0.97      NaN  WW260094120      B   \n",
       "\n",
       "     COMPKEY  FLSHTIME1 FLSHTIME2 UNSCEHDLD ALTERNATE  \n",
       "6   805425.0        NaN       NaN         N         N  \n",
       "7     9876.0      15:05       NaN         N         N  \n",
       "8   540642.0      09:55       NaN         N         N  \n",
       "9   531455.0        NaN       NaN         N         N  \n",
       "10  541072.0      10:50       NaN         N         N  \n",
       "11  528297.0      09:40     09:45         N         N  \n",
       "12    9986.0        NaN       NaN         N         N  \n",
       "13    9263.0        NaN       NaN         N         N  \n",
       "14    7781.0        NaN       NaN         N         N  \n",
       "15    7781.0      07:40       NaN         N         N  \n",
       "\n",
       "[10 rows x 21 columns]"
      ]
     },
     "execution_count": 8,
     "metadata": {},
     "output_type": "execute_result"
    }
   ],
   "source": [
    "copied_flushing_history_df.head(10)"
   ]
  },
  {
   "cell_type": "code",
   "execution_count": 9,
   "id": "5faca8c1",
   "metadata": {},
   "outputs": [],
   "source": [
    "copied_flushing_history_df.to_csv('historycheck.csv', index=False)"
   ]
  },
  {
   "cell_type": "code",
   "execution_count": 10,
   "id": "4d1c2199",
   "metadata": {},
   "outputs": [],
   "source": [
    "#TODO: Ayan: Use the COMPKEY to fill out the missing values in COMMUN"
   ]
  },
  {
   "cell_type": "code",
   "execution_count": 11,
   "id": "8a34c279",
   "metadata": {},
   "outputs": [],
   "source": [
    "#TODO: Ella to verify the meaning of CLFREE1, CLFREE2, CLTOTL1, CLTOTL2 in relation to CLFREE, CLTOTL and decide whether the UNSCEHDLD and ALTERNATE are useful"
   ]
  },
  {
   "cell_type": "markdown",
   "id": "1bbfb53d",
   "metadata": {},
   "source": [
    "### Data Cleaning - Hydrant Table"
   ]
  },
  {
   "cell_type": "code",
   "execution_count": 12,
   "id": "839c23eb-6269-4dd4-86ce-5c331080bbfa",
   "metadata": {
    "collapsed": false,
    "jupyter": {
     "outputs_hidden": false,
     "source_hidden": false
    },
    "microsoft": {
     "language": "python",
     "language_group": "synapse_pyspark"
    },
    "nteract": {
     "transient": {
      "deleting": false
     }
    }
   },
   "outputs": [],
   "source": [
    "# Creating a copy of the All Hydrants DataFrame\n",
    "copied_all_hydrants_df = copy.deepcopy(all_hydrants_df)"
   ]
  },
  {
   "cell_type": "code",
   "execution_count": 13,
   "id": "eadad797-41d2-49db-a2c9-6eb77e338458",
   "metadata": {
    "collapsed": false,
    "jupyter": {
     "outputs_hidden": false,
     "source_hidden": false
    },
    "microsoft": {
     "language": "python",
     "language_group": "synapse_pyspark"
    },
    "nteract": {
     "transient": {
      "deleting": false
     }
    }
   },
   "outputs": [
    {
     "name": "stdout",
     "output_type": "stream",
     "text": [
      "              ADDRKEY ADDRQUAL   AREA       ASBLT  AUXVALVE  BARRELSIZE  \\\n",
      "count    40544.000000    28325  40082       21387       0.0     40544.0   \n",
      "unique            NaN    18114    149       11809       NaN         NaN   \n",
      "top               NaN       10    B33  SEECOMMENT       NaN         NaN   \n",
      "freq              NaN       91   1245         833       NaN         NaN   \n",
      "mean    102529.138393      NaN    NaN         NaN       NaN         0.0   \n",
      "std     142214.592750      NaN    NaN         NaN       NaN         0.0   \n",
      "min          1.000000      NaN    NaN         NaN       NaN         0.0   \n",
      "25%       3228.000000      NaN    NaN         NaN       NaN         0.0   \n",
      "50%       5721.000000      NaN    NaN         NaN       NaN         0.0   \n",
      "75%     217228.500000      NaN    NaN         NaN       NaN         0.0   \n",
      "max     437401.000000      NaN    NaN         NaN       NaN         0.0   \n",
      "\n",
      "        COLOR  IMSRO_COMPHY_COMPKEY  COMPLEXKEY DISTRICT    FEEDERDIAM  \\\n",
      "count   25949          4.054400e+04     40544.0    40535  40541.000000   \n",
      "unique      3                   NaN         NaN        3           NaN   \n",
      "top      BLUE                   NaN         NaN        W           NaN   \n",
      "freq    24997                   NaN         NaN    19629           NaN   \n",
      "mean      NaN          3.879137e+05         1.0      NaN     68.937619   \n",
      "std       NaN          4.304154e+05         0.0      NaN     74.755504   \n",
      "min       NaN          1.000000e+03         1.0      NaN      0.000000   \n",
      "25%       NaN          1.130475e+04         1.0      NaN      0.000000   \n",
      "50%       NaN          2.165350e+04         1.0      NaN      0.000000   \n",
      "75%       NaN          7.529305e+05         1.0      NaN    150.000000   \n",
      "max       NaN          1.312755e+06         1.0      NaN    150.000000   \n",
      "\n",
      "           FEEDERLEN FEEDERTYPE  GISSTATIC       HT    INSTDATE   INTKEY  \\\n",
      "count   40497.000000      18580        1.0  40544.0       20334  40544.0   \n",
      "unique           NaN          5        NaN      NaN        1723      NaN   \n",
      "top              NaN        PVC        NaN      NaN  2011-03-01      NaN   \n",
      "freq             NaN      18370        NaN      NaN         146      NaN   \n",
      "mean        2.030451        NaN        0.0      0.0         NaN      1.0   \n",
      "std        12.778269        NaN        NaN      0.0         NaN      0.0   \n",
      "min         0.000000        NaN        0.0      0.0         NaN      1.0   \n",
      "25%         0.000000        NaN        0.0      0.0         NaN      1.0   \n",
      "50%         0.000000        NaN        0.0      0.0         NaN      1.0   \n",
      "75%         2.983000        NaN        0.0      0.0         NaN      1.0   \n",
      "max      1354.810000        NaN        0.0      0.0         NaN      1.0   \n",
      "\n",
      "          LOC       MAINKEY  MAPNO  \n",
      "count   40535  4.054400e+04  10734  \n",
      "unique   1524           NaN    967  \n",
      "top      0771           NaN  M-N/A  \n",
      "freq       88           NaN   1285  \n",
      "mean      NaN  6.785502e+05    NaN  \n",
      "std       NaN  3.408857e+05    NaN  \n",
      "min       NaN  1.000000e+00    NaN  \n",
      "25%       NaN  5.154460e+05    NaN  \n",
      "50%       NaN  6.679450e+05    NaN  \n",
      "75%       NaN  8.850965e+05    NaN  \n",
      "max       NaN  1.312464e+06    NaN  \n",
      "              MFGKEY MODELNO  OBST       OUTLSZ1       OUTLSZ2       OUTLSZ3  \\\n",
      "count   40544.000000   23603   0.0  40544.000000  40544.000000  40544.000000   \n",
      "unique           NaN     160   NaN           NaN           NaN           NaN   \n",
      "top              NaN     M67   NaN           NaN           NaN           NaN   \n",
      "freq             NaN    8266   NaN           NaN           NaN           NaN   \n",
      "mean      957.699980     NaN   NaN     49.933529    106.919988     41.328951   \n",
      "std       414.291412     NaN   NaN     25.543514     62.065605     30.018924   \n",
      "min         1.000000     NaN   NaN      0.000000      0.000000      0.000000   \n",
      "25%      1001.000000     NaN   NaN     63.000000     63.000000      0.000000   \n",
      "50%      1012.000000     NaN   NaN     63.000000    150.000000     63.000000   \n",
      "75%      1022.000000     NaN   NaN     63.000000    150.000000     63.000000   \n",
      "max      2198.000000     NaN   NaN     63.000000    150.000000    150.000000   \n",
      "\n",
      "        OUTLSZ4    OWN  PACKING  PAINTTYPE  PRCLKEY PRESZONE   SEGKEY SERNO  \\\n",
      "count   40544.0  40543      0.0        0.0  40544.0    36032  40544.0     4   \n",
      "unique      NaN      8      NaN        NaN      NaN       27      NaN     4   \n",
      "top         NaN      R      NaN        NaN      NaN        5      NaN   AVK   \n",
      "freq        NaN  34306      NaN        NaN      NaN     8034      NaN     1   \n",
      "mean        0.0    NaN      NaN        NaN      1.0      NaN      1.0   NaN   \n",
      "std         0.0    NaN      NaN        NaN      0.0      NaN      0.0   NaN   \n",
      "min         0.0    NaN      NaN        NaN      1.0      NaN      1.0   NaN   \n",
      "25%         0.0    NaN      NaN        NaN      1.0      NaN      1.0   NaN   \n",
      "50%         0.0    NaN      NaN        NaN      1.0      NaN      1.0   NaN   \n",
      "75%         0.0    NaN      NaN        NaN      1.0      NaN      1.0   NaN   \n",
      "max         0.0    NaN      NaN        NaN      1.0      NaN      1.0   NaN   \n",
      "\n",
      "       SERVSTAT         SLKEY SPECINST    STKEY SUBAREA   UNITID  \n",
      "count     40544  4.054400e+04    14919  40544.0   40056    40544  \n",
      "unique        9           NaN     4667      NaN     166    40544  \n",
      "top           A           NaN  PRIVATE      NaN     C03  6591886  \n",
      "freq      33944           NaN     4032      NaN     982        1  \n",
      "mean        NaN  2.439542e+03      NaN      1.0     NaN      NaN  \n",
      "std         NaN  4.784585e+04      NaN      0.0     NaN      NaN  \n",
      "min         NaN  1.000000e+00      NaN      1.0     NaN      NaN  \n",
      "25%         NaN  1.000000e+00      NaN      1.0     NaN      NaN  \n",
      "50%         NaN  1.000000e+00      NaN      1.0     NaN      NaN  \n",
      "75%         NaN  1.000000e+00      NaN      1.0     NaN      NaN  \n",
      "max         NaN  1.307546e+06      NaN      1.0     NaN      NaN  \n",
      "       UNITTYPE    WVKEY        XCOORD        YCOORD        ZCOORD    BGTNO  \\\n",
      "count      2432  40544.0  4.005700e+04  4.005700e+04  32892.000000    19364   \n",
      "unique        2      NaN           NaN           NaN           NaN     2233   \n",
      "top      HYBLWF      NaN           NaN           NaN           NaN  11-1345   \n",
      "freq       2430      NaN           NaN           NaN           NaN      254   \n",
      "mean        NaN      1.0  6.054417e+05  4.835092e+06    145.343148      NaN   \n",
      "std         NaN      0.0  2.989218e+05  2.842446e+04     94.139300      NaN   \n",
      "min         NaN      1.0  3.033035e+05  4.827410e+05      0.000000      NaN   \n",
      "25%         NaN      1.0  5.999383e+05  4.826777e+06     85.150841      NaN   \n",
      "50%         NaN      1.0  6.039435e+05  4.834862e+06    172.483344      NaN   \n",
      "75%         NaN      1.0  6.089235e+05  4.841709e+06    212.795707      NaN   \n",
      "max         NaN      1.0  6.041630e+07  4.870022e+06    478.141327      NaN   \n",
      "\n",
      "        USGAREAKEY    EXPBY     EXPDATE  IMSRO_VARHY_COMPKEY  ADDBY  \\\n",
      "count      40544.0     6235        6235         4.054400e+04  40544   \n",
      "unique         NaN       19        1578                  NaN     43   \n",
      "top            NaN  GISDATA  2006-06-28                  NaN  27870   \n",
      "freq           NaN     3943         333                  NaN  22951   \n",
      "mean           1.0      NaN         NaN         3.879137e+05    NaN   \n",
      "std            0.0      NaN         NaN         4.304154e+05    NaN   \n",
      "min            1.0      NaN         NaN         1.000000e+03    NaN   \n",
      "25%            1.0      NaN         NaN         1.130475e+04    NaN   \n",
      "50%            1.0      NaN         NaN         2.165350e+04    NaN   \n",
      "75%            1.0      NaN         NaN         7.529305e+05    NaN   \n",
      "max            1.0      NaN         NaN         1.312755e+06    NaN   \n",
      "\n",
      "           ADDDTTM  MODBY     MODDTTM    LASTINSP    LASTWINT    OLDID WMODID  \\\n",
      "count        40544  36374       36374       33530       33249    23895      1   \n",
      "unique        3078     30        2156        1747        1884    23895      1   \n",
      "top     2003-03-01  01776  2024-01-16  2023-01-12  2023-01-12  G12-089      W   \n",
      "freq         23605  28230       27858         283         264        1      1   \n",
      "mean           NaN    NaN         NaN         NaN         NaN      NaN    NaN   \n",
      "std            NaN    NaN         NaN         NaN         NaN      NaN    NaN   \n",
      "min            NaN    NaN         NaN         NaN         NaN      NaN    NaN   \n",
      "25%            NaN    NaN         NaN         NaN         NaN      NaN    NaN   \n",
      "50%            NaN    NaN         NaN         NaN         NaN      NaN    NaN   \n",
      "75%            NaN    NaN         NaN         NaN         NaN      NaN    NaN   \n",
      "max            NaN    NaN         NaN         NaN         NaN      NaN    NaN   \n",
      "\n",
      "       WATPLATT FLSHFRE  \n",
      "count     38177    2389  \n",
      "unique      373      12  \n",
      "top         H19  1 YEAR  \n",
      "freq        333    1221  \n",
      "mean        NaN     NaN  \n",
      "std         NaN     NaN  \n",
      "min         NaN     NaN  \n",
      "25%         NaN     NaN  \n",
      "50%         NaN     NaN  \n",
      "75%         NaN     NaN  \n",
      "max         NaN     NaN  \n",
      "       MUNICIPAL LONGKEY PLUGGED COMMUN     FLUDATE        WWNUM     LASTFREE  \\\n",
      "count      24794   40544   40544  40529        2888        40060  2881.000000   \n",
      "unique        23       3       3     39         864            5          NaN   \n",
      "top            M       N       N      M  2024-06-13  WW260094120          NaN   \n",
      "freq       13016   40321   40211  18519          44        38704          NaN   \n",
      "mean         NaN     NaN     NaN    NaN         NaN          NaN     1.116443   \n",
      "std          NaN     NaN     NaN    NaN         NaN          NaN     0.258155   \n",
      "min          NaN     NaN     NaN    NaN         NaN          NaN     0.000000   \n",
      "25%          NaN     NaN     NaN    NaN         NaN          NaN     0.980000   \n",
      "50%          NaN     NaN     NaN    NaN         NaN          NaN     1.120000   \n",
      "75%          NaN     NaN     NaN    NaN         NaN          NaN     1.280000   \n",
      "max          NaN     NaN     NaN    NaN         NaN          NaN     1.940000   \n",
      "\n",
      "           LASTOTAL   FLSHFRE_GIS NONSCHE FZONENUM  MINFLTM DECLREQD  \\\n",
      "count   2882.000000  33066.000000   22833    40062  40304.0    40494   \n",
      "unique          NaN           NaN       4       14      NaN        2   \n",
      "top             NaN           NaN       N   FZ-C03      NaN        N   \n",
      "freq            NaN           NaN   22258     7641      NaN    35495   \n",
      "mean       1.319330     18.448285     NaN      NaN      8.0      NaN   \n",
      "std        0.268443     73.554184     NaN      NaN      0.0      NaN   \n",
      "min        0.000000      0.000000     NaN      NaN      8.0      NaN   \n",
      "25%        1.180000      0.000000     NaN      NaN      8.0      NaN   \n",
      "50%        1.320000      0.000000     NaN      NaN      8.0      NaN   \n",
      "75%        1.480000      0.000000     NaN      NaN      8.0      NaN   \n",
      "max        2.190000    365.000000     NaN      NaN      8.0      NaN   \n",
      "\n",
      "           LSTFMAX1     LSTFMAX2     LSTFMAX3     AVE3FMAX     LSTTMAX1  \\\n",
      "count   2865.000000  2816.000000  2791.000000  2786.000000  2866.000000   \n",
      "unique          NaN          NaN          NaN          NaN          NaN   \n",
      "top             NaN          NaN          NaN          NaN          NaN   \n",
      "freq            NaN          NaN          NaN          NaN          NaN   \n",
      "mean       1.288377     1.255437     1.689563     1.412353     1.154048   \n",
      "std        0.300164     0.307452    19.470250     6.499163     0.226073   \n",
      "min        0.000000     0.000000     0.000000     0.000000     0.000000   \n",
      "25%        1.130000     1.110000     1.110000     1.166667     1.020000   \n",
      "50%        1.310000     1.260000     1.250000     1.310000     1.150000   \n",
      "75%        1.480000     1.420000     1.410000     1.413333     1.290000   \n",
      "max        2.190000     7.670000  1018.000000   340.130000     2.060000   \n",
      "\n",
      "           LSTTMAX2     LSTTMAX3  \n",
      "count   2819.000000  2794.000000  \n",
      "unique          NaN          NaN  \n",
      "top             NaN          NaN  \n",
      "freq            NaN          NaN  \n",
      "mean       1.132682     1.131589  \n",
      "std        0.212361     0.196615  \n",
      "min        0.000000     0.000000  \n",
      "25%        1.010000     1.010000  \n",
      "50%        1.110000     1.120000  \n",
      "75%        1.250000     1.250000  \n",
      "max        2.160000     1.910000  \n",
      "           AVE3TMAX WARDID AVKCLIP HYMARKER    ASUMDATE     PRESSMIN  \\\n",
      "count   2791.000000  40061    5541    11624        5545  26187.00000   \n",
      "unique          NaN     27       3        3         314          NaN   \n",
      "top             NaN    M05       Y        Y  2006-12-13          NaN   \n",
      "freq            NaN   5068    4200     8134         228          NaN   \n",
      "mean       1.140063    NaN     NaN      NaN         NaN     68.20510   \n",
      "std        0.160143    NaN     NaN      NaN         NaN     17.61648   \n",
      "min        0.000000    NaN     NaN      NaN         NaN      0.00000   \n",
      "25%        1.050000    NaN     NaN      NaN         NaN     58.11235   \n",
      "50%        1.140000    NaN     NaN      NaN         NaN     68.42380   \n",
      "75%        1.226667    NaN     NaN      NaN         NaN     80.30965   \n",
      "max        1.786667    NaN     NaN      NaN         NaN    413.35220   \n",
      "\n",
      "            PRESSMAX      FIRFLGPM      OUTELEVN      MDLRESRD MAINTBY  \\\n",
      "count   26187.000000  26187.000000  40063.000000  24902.000000   37319   \n",
      "unique           NaN           NaN           NaN           NaN       1   \n",
      "top              NaN           NaN           NaN           NaN       R   \n",
      "freq             NaN           NaN           NaN           NaN   37319   \n",
      "mean       86.587322   2692.902086    119.949877      0.993442     NaN   \n",
      "std        21.624994    814.043925    102.274978      0.170572     NaN   \n",
      "min         0.000000      0.000000      0.000000      0.000000     NaN   \n",
      "25%        73.651200   2296.900000      0.000000      0.930500     NaN   \n",
      "50%        87.595000   2740.430000    150.663783      1.005900     NaN   \n",
      "75%        99.578700   3176.890000    204.291261      1.077700     NaN   \n",
      "max       424.121900  31320.200000    479.055727      1.870100     NaN   \n",
      "\n",
      "          REPLABY      REPLAFOR  FRFLWVLDDT   ASSTGRPID  EMDEPT  EMDIV  \\\n",
      "count      2714.0  2.718000e+03     25704.0       28005     0.0    0.0   \n",
      "unique     2712.0           NaN         NaN        1383     NaN    NaN   \n",
      "top     6564804.0           NaN         NaN  C-HYD-0970     NaN    NaN   \n",
      "freq          2.0           NaN         NaN          72     NaN    NaN   \n",
      "mean          NaN  2.119237e+06  20150923.0         NaN     NaN    NaN   \n",
      "std           NaN  8.499016e+05         0.0         NaN     NaN    NaN   \n",
      "min           NaN  3.482790e+05  20150923.0         NaN     NaN    NaN   \n",
      "25%           NaN  2.015834e+06  20150923.0         NaN     NaN    NaN   \n",
      "50%           NaN  2.019866e+06  20150923.0         NaN     NaN    NaN   \n",
      "75%           NaN  2.022990e+06  20150923.0         NaN     NaN    NaN   \n",
      "max           NaN  6.589628e+06  20150923.0         NaN     NaN    NaN   \n",
      "\n",
      "        EMSERV  EMSERVCAT  EMCAMASTCL  \n",
      "count      0.0        0.0         0.0  \n",
      "unique     NaN        NaN         NaN  \n",
      "top        NaN        NaN         NaN  \n",
      "freq       NaN        NaN         NaN  \n",
      "mean       NaN        NaN         NaN  \n",
      "std        NaN        NaN         NaN  \n",
      "min        NaN        NaN         NaN  \n",
      "25%        NaN        NaN         NaN  \n",
      "50%        NaN        NaN         NaN  \n",
      "75%        NaN        NaN         NaN  \n",
      "max        NaN        NaN         NaN  \n",
      "       EMASSTPRNT  EMPURCHDAT  EMESTSRVLF  EMRMGSRVLF  EMRMSRLFDT  EMREPLCOST  \\\n",
      "count         0.0         0.0         0.0         0.0         0.0         0.0   \n",
      "mean          NaN         NaN         NaN         NaN         NaN         NaN   \n",
      "std           NaN         NaN         NaN         NaN         NaN         NaN   \n",
      "min           NaN         NaN         NaN         NaN         NaN         NaN   \n",
      "25%           NaN         NaN         NaN         NaN         NaN         NaN   \n",
      "50%           NaN         NaN         NaN         NaN         NaN         NaN   \n",
      "75%           NaN         NaN         NaN         NaN         NaN         NaN   \n",
      "max           NaN         NaN         NaN         NaN         NaN         NaN   \n",
      "\n",
      "       EMREPCOSDT  EMPURINCST  EMASSTCRTL  EMASSTCRDT  EMASSTRISK  EMASTRSKDT  \\\n",
      "count         0.0         0.0         0.0         0.0         0.0         0.0   \n",
      "mean          NaN         NaN         NaN         NaN         NaN         NaN   \n",
      "std           NaN         NaN         NaN         NaN         NaN         NaN   \n",
      "min           NaN         NaN         NaN         NaN         NaN         NaN   \n",
      "25%           NaN         NaN         NaN         NaN         NaN         NaN   \n",
      "50%           NaN         NaN         NaN         NaN         NaN         NaN   \n",
      "75%           NaN         NaN         NaN         NaN         NaN         NaN   \n",
      "max           NaN         NaN         NaN         NaN         NaN         NaN   \n",
      "\n",
      "       EMDISTRICT  EMEQPMNTCL  EMEQPMNTTP  EMASSTDESC  EMCOND  EMCONDDATE  \n",
      "count         0.0         0.0         0.0         0.0     0.0         0.0  \n",
      "mean          NaN         NaN         NaN         NaN     NaN         NaN  \n",
      "std           NaN         NaN         NaN         NaN     NaN         NaN  \n",
      "min           NaN         NaN         NaN         NaN     NaN         NaN  \n",
      "25%           NaN         NaN         NaN         NaN     NaN         NaN  \n",
      "50%           NaN         NaN         NaN         NaN     NaN         NaN  \n",
      "75%           NaN         NaN         NaN         NaN     NaN         NaN  \n",
      "max           NaN         NaN         NaN         NaN     NaN         NaN  \n"
     ]
    }
   ],
   "source": [
    "#Item 1: Show the description of each column in the df\n",
    "\n",
    "num_columns = copied_all_hydrants_df.shape[1]\n",
    "window_size = 20\n",
    "\n",
    "for i in range(0, num_columns, window_size):\n",
    "    subset = copied_all_hydrants_df.iloc[:, i:i+window_size]\n",
    "    description = subset.describe(include='all')\n",
    "    print(description)"
   ]
  },
  {
   "cell_type": "code",
   "execution_count": 14,
   "id": "13d73105-14d9-4dd3-b45f-b2385183f7b3",
   "metadata": {
    "collapsed": false,
    "jupyter": {
     "outputs_hidden": false,
     "source_hidden": false
    },
    "microsoft": {
     "language": "python",
     "language_group": "synapse_pyspark"
    },
    "nteract": {
     "transient": {
      "deleting": false
     }
    }
   },
   "outputs": [
    {
     "data": {
      "text/html": [
       "<div>\n",
       "<style scoped>\n",
       "    .dataframe tbody tr th:only-of-type {\n",
       "        vertical-align: middle;\n",
       "    }\n",
       "\n",
       "    .dataframe tbody tr th {\n",
       "        vertical-align: top;\n",
       "    }\n",
       "\n",
       "    .dataframe thead th {\n",
       "        text-align: right;\n",
       "    }\n",
       "</style>\n",
       "<table border=\"1\" class=\"dataframe\">\n",
       "  <thead>\n",
       "    <tr style=\"text-align: right;\">\n",
       "      <th></th>\n",
       "      <th>ADDRKEY</th>\n",
       "      <th>AUXVALVE</th>\n",
       "      <th>BARRELSIZE</th>\n",
       "      <th>IMSRO_COMPHY_COMPKEY</th>\n",
       "      <th>COMPLEXKEY</th>\n",
       "      <th>FEEDERDIAM</th>\n",
       "      <th>FEEDERLEN</th>\n",
       "      <th>GISSTATIC</th>\n",
       "      <th>HT</th>\n",
       "      <th>INTKEY</th>\n",
       "      <th>...</th>\n",
       "      <th>EMASSTCRTL</th>\n",
       "      <th>EMASSTCRDT</th>\n",
       "      <th>EMASSTRISK</th>\n",
       "      <th>EMASTRSKDT</th>\n",
       "      <th>EMDISTRICT</th>\n",
       "      <th>EMEQPMNTCL</th>\n",
       "      <th>EMEQPMNTTP</th>\n",
       "      <th>EMASSTDESC</th>\n",
       "      <th>EMCOND</th>\n",
       "      <th>EMCONDDATE</th>\n",
       "    </tr>\n",
       "  </thead>\n",
       "  <tbody>\n",
       "    <tr>\n",
       "      <th>count</th>\n",
       "      <td>2389.000000</td>\n",
       "      <td>0.0</td>\n",
       "      <td>2389.0</td>\n",
       "      <td>2.389000e+03</td>\n",
       "      <td>2389.0</td>\n",
       "      <td>2389.000000</td>\n",
       "      <td>2389.000000</td>\n",
       "      <td>0.0</td>\n",
       "      <td>2389.0</td>\n",
       "      <td>2389.0</td>\n",
       "      <td>...</td>\n",
       "      <td>0.0</td>\n",
       "      <td>0.0</td>\n",
       "      <td>0.0</td>\n",
       "      <td>0.0</td>\n",
       "      <td>0.0</td>\n",
       "      <td>0.0</td>\n",
       "      <td>0.0</td>\n",
       "      <td>0.0</td>\n",
       "      <td>0.0</td>\n",
       "      <td>0.0</td>\n",
       "    </tr>\n",
       "    <tr>\n",
       "      <th>mean</th>\n",
       "      <td>81076.322729</td>\n",
       "      <td>NaN</td>\n",
       "      <td>0.0</td>\n",
       "      <td>3.362129e+05</td>\n",
       "      <td>1.0</td>\n",
       "      <td>63.729594</td>\n",
       "      <td>4.024884</td>\n",
       "      <td>NaN</td>\n",
       "      <td>0.0</td>\n",
       "      <td>1.0</td>\n",
       "      <td>...</td>\n",
       "      <td>NaN</td>\n",
       "      <td>NaN</td>\n",
       "      <td>NaN</td>\n",
       "      <td>NaN</td>\n",
       "      <td>NaN</td>\n",
       "      <td>NaN</td>\n",
       "      <td>NaN</td>\n",
       "      <td>NaN</td>\n",
       "      <td>NaN</td>\n",
       "      <td>NaN</td>\n",
       "    </tr>\n",
       "    <tr>\n",
       "      <th>std</th>\n",
       "      <td>122051.138142</td>\n",
       "      <td>NaN</td>\n",
       "      <td>0.0</td>\n",
       "      <td>4.165480e+05</td>\n",
       "      <td>0.0</td>\n",
       "      <td>74.163875</td>\n",
       "      <td>29.154112</td>\n",
       "      <td>NaN</td>\n",
       "      <td>0.0</td>\n",
       "      <td>0.0</td>\n",
       "      <td>...</td>\n",
       "      <td>NaN</td>\n",
       "      <td>NaN</td>\n",
       "      <td>NaN</td>\n",
       "      <td>NaN</td>\n",
       "      <td>NaN</td>\n",
       "      <td>NaN</td>\n",
       "      <td>NaN</td>\n",
       "      <td>NaN</td>\n",
       "      <td>NaN</td>\n",
       "      <td>NaN</td>\n",
       "    </tr>\n",
       "    <tr>\n",
       "      <th>min</th>\n",
       "      <td>1003.000000</td>\n",
       "      <td>NaN</td>\n",
       "      <td>0.0</td>\n",
       "      <td>1.002000e+03</td>\n",
       "      <td>1.0</td>\n",
       "      <td>0.000000</td>\n",
       "      <td>0.000000</td>\n",
       "      <td>NaN</td>\n",
       "      <td>0.0</td>\n",
       "      <td>1.0</td>\n",
       "      <td>...</td>\n",
       "      <td>NaN</td>\n",
       "      <td>NaN</td>\n",
       "      <td>NaN</td>\n",
       "      <td>NaN</td>\n",
       "      <td>NaN</td>\n",
       "      <td>NaN</td>\n",
       "      <td>NaN</td>\n",
       "      <td>NaN</td>\n",
       "      <td>NaN</td>\n",
       "      <td>NaN</td>\n",
       "    </tr>\n",
       "    <tr>\n",
       "      <th>25%</th>\n",
       "      <td>3243.000000</td>\n",
       "      <td>NaN</td>\n",
       "      <td>0.0</td>\n",
       "      <td>9.067000e+03</td>\n",
       "      <td>1.0</td>\n",
       "      <td>0.000000</td>\n",
       "      <td>1.200000</td>\n",
       "      <td>NaN</td>\n",
       "      <td>0.0</td>\n",
       "      <td>1.0</td>\n",
       "      <td>...</td>\n",
       "      <td>NaN</td>\n",
       "      <td>NaN</td>\n",
       "      <td>NaN</td>\n",
       "      <td>NaN</td>\n",
       "      <td>NaN</td>\n",
       "      <td>NaN</td>\n",
       "      <td>NaN</td>\n",
       "      <td>NaN</td>\n",
       "      <td>NaN</td>\n",
       "      <td>NaN</td>\n",
       "    </tr>\n",
       "    <tr>\n",
       "      <th>50%</th>\n",
       "      <td>5478.000000</td>\n",
       "      <td>NaN</td>\n",
       "      <td>0.0</td>\n",
       "      <td>1.939500e+04</td>\n",
       "      <td>1.0</td>\n",
       "      <td>0.000000</td>\n",
       "      <td>2.291000</td>\n",
       "      <td>NaN</td>\n",
       "      <td>0.0</td>\n",
       "      <td>1.0</td>\n",
       "      <td>...</td>\n",
       "      <td>NaN</td>\n",
       "      <td>NaN</td>\n",
       "      <td>NaN</td>\n",
       "      <td>NaN</td>\n",
       "      <td>NaN</td>\n",
       "      <td>NaN</td>\n",
       "      <td>NaN</td>\n",
       "      <td>NaN</td>\n",
       "      <td>NaN</td>\n",
       "      <td>NaN</td>\n",
       "    </tr>\n",
       "    <tr>\n",
       "      <th>75%</th>\n",
       "      <td>129011.000000</td>\n",
       "      <td>NaN</td>\n",
       "      <td>0.0</td>\n",
       "      <td>7.158620e+05</td>\n",
       "      <td>1.0</td>\n",
       "      <td>150.000000</td>\n",
       "      <td>3.500000</td>\n",
       "      <td>NaN</td>\n",
       "      <td>0.0</td>\n",
       "      <td>1.0</td>\n",
       "      <td>...</td>\n",
       "      <td>NaN</td>\n",
       "      <td>NaN</td>\n",
       "      <td>NaN</td>\n",
       "      <td>NaN</td>\n",
       "      <td>NaN</td>\n",
       "      <td>NaN</td>\n",
       "      <td>NaN</td>\n",
       "      <td>NaN</td>\n",
       "      <td>NaN</td>\n",
       "      <td>NaN</td>\n",
       "    </tr>\n",
       "    <tr>\n",
       "      <th>max</th>\n",
       "      <td>437401.000000</td>\n",
       "      <td>NaN</td>\n",
       "      <td>0.0</td>\n",
       "      <td>1.312755e+06</td>\n",
       "      <td>1.0</td>\n",
       "      <td>150.000000</td>\n",
       "      <td>1166.540000</td>\n",
       "      <td>NaN</td>\n",
       "      <td>0.0</td>\n",
       "      <td>1.0</td>\n",
       "      <td>...</td>\n",
       "      <td>NaN</td>\n",
       "      <td>NaN</td>\n",
       "      <td>NaN</td>\n",
       "      <td>NaN</td>\n",
       "      <td>NaN</td>\n",
       "      <td>NaN</td>\n",
       "      <td>NaN</td>\n",
       "      <td>NaN</td>\n",
       "      <td>NaN</td>\n",
       "      <td>NaN</td>\n",
       "    </tr>\n",
       "  </tbody>\n",
       "</table>\n",
       "<p>8 rows × 71 columns</p>\n",
       "</div>"
      ],
      "text/plain": [
       "             ADDRKEY  AUXVALVE  BARRELSIZE  IMSRO_COMPHY_COMPKEY  COMPLEXKEY  \\\n",
       "count    2389.000000       0.0      2389.0          2.389000e+03      2389.0   \n",
       "mean    81076.322729       NaN         0.0          3.362129e+05         1.0   \n",
       "std    122051.138142       NaN         0.0          4.165480e+05         0.0   \n",
       "min      1003.000000       NaN         0.0          1.002000e+03         1.0   \n",
       "25%      3243.000000       NaN         0.0          9.067000e+03         1.0   \n",
       "50%      5478.000000       NaN         0.0          1.939500e+04         1.0   \n",
       "75%    129011.000000       NaN         0.0          7.158620e+05         1.0   \n",
       "max    437401.000000       NaN         0.0          1.312755e+06         1.0   \n",
       "\n",
       "        FEEDERDIAM    FEEDERLEN  GISSTATIC      HT  INTKEY  ...  EMASSTCRTL  \\\n",
       "count  2389.000000  2389.000000        0.0  2389.0  2389.0  ...         0.0   \n",
       "mean     63.729594     4.024884        NaN     0.0     1.0  ...         NaN   \n",
       "std      74.163875    29.154112        NaN     0.0     0.0  ...         NaN   \n",
       "min       0.000000     0.000000        NaN     0.0     1.0  ...         NaN   \n",
       "25%       0.000000     1.200000        NaN     0.0     1.0  ...         NaN   \n",
       "50%       0.000000     2.291000        NaN     0.0     1.0  ...         NaN   \n",
       "75%     150.000000     3.500000        NaN     0.0     1.0  ...         NaN   \n",
       "max     150.000000  1166.540000        NaN     0.0     1.0  ...         NaN   \n",
       "\n",
       "       EMASSTCRDT  EMASSTRISK  EMASTRSKDT  EMDISTRICT  EMEQPMNTCL  EMEQPMNTTP  \\\n",
       "count         0.0         0.0         0.0         0.0         0.0         0.0   \n",
       "mean          NaN         NaN         NaN         NaN         NaN         NaN   \n",
       "std           NaN         NaN         NaN         NaN         NaN         NaN   \n",
       "min           NaN         NaN         NaN         NaN         NaN         NaN   \n",
       "25%           NaN         NaN         NaN         NaN         NaN         NaN   \n",
       "50%           NaN         NaN         NaN         NaN         NaN         NaN   \n",
       "75%           NaN         NaN         NaN         NaN         NaN         NaN   \n",
       "max           NaN         NaN         NaN         NaN         NaN         NaN   \n",
       "\n",
       "       EMASSTDESC  EMCOND  EMCONDDATE  \n",
       "count         0.0     0.0         0.0  \n",
       "mean          NaN     NaN         NaN  \n",
       "std           NaN     NaN         NaN  \n",
       "min           NaN     NaN         NaN  \n",
       "25%           NaN     NaN         NaN  \n",
       "50%           NaN     NaN         NaN  \n",
       "75%           NaN     NaN         NaN  \n",
       "max           NaN     NaN         NaN  \n",
       "\n",
       "[8 rows x 71 columns]"
      ]
     },
     "execution_count": 14,
     "metadata": {},
     "output_type": "execute_result"
    }
   ],
   "source": [
    "# Filters rows where flushing frequency is blank\n",
    "copied_all_hydrants_df = copied_all_hydrants_df[copied_all_hydrants_df['FLSHFRE'].notnull()]\n",
    "copied_all_hydrants_df.describe()"
   ]
  },
  {
   "cell_type": "code",
   "execution_count": 15,
   "id": "0305a76f-1c74-4177-abe3-c9ce52f5836f",
   "metadata": {
    "collapsed": false,
    "jupyter": {
     "outputs_hidden": false,
     "source_hidden": false
    },
    "microsoft": {
     "language": "python",
     "language_group": "synapse_pyspark"
    },
    "nteract": {
     "transient": {
      "deleting": false
     }
    }
   },
   "outputs": [
    {
     "name": "stdout",
     "output_type": "stream",
     "text": [
      "ADDRKEY                    0\n",
      "ADDRQUAL                 809\n",
      "AREA                       2\n",
      "ASBLT                   1152\n",
      "AUXVALVE                2389\n",
      "BARRELSIZE                 0\n",
      "COLOR                    400\n",
      "IMSRO_COMPHY_COMPKEY       0\n",
      "COMPLEXKEY                 0\n",
      "DISTRICT                   0\n",
      "FEEDERDIAM                 0\n",
      "FEEDERLEN                  0\n",
      "FEEDERTYPE              1380\n",
      "GISSTATIC               2389\n",
      "HT                         0\n",
      "INSTDATE                1185\n",
      "INTKEY                     0\n",
      "LOC                        0\n",
      "MAINKEY                    0\n",
      "MAPNO                   1867\n",
      "dtype: int64\n",
      "MFGKEY          0\n",
      "MODELNO       690\n",
      "OBST         2389\n",
      "OUTLSZ1         0\n",
      "OUTLSZ2         0\n",
      "OUTLSZ3         0\n",
      "OUTLSZ4         0\n",
      "OWN             0\n",
      "PACKING      2389\n",
      "PAINTTYPE    2389\n",
      "PRCLKEY         0\n",
      "PRESZONE        3\n",
      "SEGKEY          0\n",
      "SERNO        2388\n",
      "SERVSTAT        0\n",
      "SLKEY           0\n",
      "SPECINST     1517\n",
      "STKEY           0\n",
      "SUBAREA         2\n",
      "UNITID          0\n",
      "dtype: int64\n",
      "UNITTYPE                 39\n",
      "WVKEY                     0\n",
      "XCOORD                    0\n",
      "YCOORD                    0\n",
      "ZCOORD                   19\n",
      "BGTNO                  1294\n",
      "USGAREAKEY                0\n",
      "EXPBY                  2218\n",
      "EXPDATE                2218\n",
      "IMSRO_VARHY_COMPKEY       0\n",
      "ADDBY                     0\n",
      "ADDDTTM                   0\n",
      "MODBY                     0\n",
      "MODDTTM                   0\n",
      "LASTINSP                 80\n",
      "LASTWINT                 84\n",
      "OLDID                   827\n",
      "WMODID                 2388\n",
      "WATPLATT                 84\n",
      "FLSHFRE                   0\n",
      "dtype: int64\n",
      "MUNICIPAL       726\n",
      "LONGKEY           0\n",
      "PLUGGED           0\n",
      "COMMUN            0\n",
      "FLUDATE          54\n",
      "WWNUM             0\n",
      "LASTFREE         60\n",
      "LASTOTAL         61\n",
      "FLSHFRE_GIS     237\n",
      "NONSCHE        1113\n",
      "FZONENUM          0\n",
      "MINFLTM          18\n",
      "DECLREQD          3\n",
      "LSTFMAX1         61\n",
      "LSTFMAX2         95\n",
      "LSTFMAX3        114\n",
      "AVE3FMAX        119\n",
      "LSTTMAX1         60\n",
      "LSTTMAX2         92\n",
      "LSTTMAX3        112\n",
      "dtype: int64\n",
      "AVE3TMAX       113\n",
      "WARDID           0\n",
      "AVKCLIP       2092\n",
      "HYMARKER      1422\n",
      "ASUMDATE      2091\n",
      "PRESSMIN       414\n",
      "PRESSMAX       414\n",
      "FIRFLGPM       414\n",
      "OUTELEVN         0\n",
      "MDLRESRD       453\n",
      "MAINTBY        157\n",
      "REPLABY       2221\n",
      "REPLAFOR      2146\n",
      "FRFLWVLDDT     414\n",
      "ASSTGRPID      246\n",
      "EMDEPT        2389\n",
      "EMDIV         2389\n",
      "EMSERV        2389\n",
      "EMSERVCAT     2389\n",
      "EMCAMASTCL    2389\n",
      "dtype: int64\n",
      "EMASSTPRNT    2389\n",
      "EMPURCHDAT    2389\n",
      "EMESTSRVLF    2389\n",
      "EMRMGSRVLF    2389\n",
      "EMRMSRLFDT    2389\n",
      "EMREPLCOST    2389\n",
      "EMREPCOSDT    2389\n",
      "EMPURINCST    2389\n",
      "EMASSTCRTL    2389\n",
      "EMASSTCRDT    2389\n",
      "EMASSTRISK    2389\n",
      "EMASTRSKDT    2389\n",
      "EMDISTRICT    2389\n",
      "EMEQPMNTCL    2389\n",
      "EMEQPMNTTP    2389\n",
      "EMASSTDESC    2389\n",
      "EMCOND        2389\n",
      "EMCONDDATE    2389\n",
      "dtype: int64\n"
     ]
    }
   ],
   "source": [
    "#Item 1: Count the number of null values in each column\n",
    "\n",
    "for i in range(0, num_columns, window_size):\n",
    "    subset = copied_all_hydrants_df.iloc[:, i:i+window_size]\n",
    "    description = subset.isna().sum()\n",
    "    print(description)"
   ]
  },
  {
   "cell_type": "code",
   "execution_count": 16,
   "id": "94ae8673-f584-48d1-befa-4221233e433d",
   "metadata": {
    "collapsed": false,
    "jupyter": {
     "outputs_hidden": false,
     "source_hidden": false
    },
    "microsoft": {
     "language": "python",
     "language_group": "synapse_pyspark"
    },
    "nteract": {
     "transient": {
      "deleting": false
     }
    }
   },
   "outputs": [],
   "source": [
    "# Item 3: Clean data, replace nulls with values in some columns\n",
    "copied_all_hydrants_df['UNITTYPE'] = copied_all_hydrants_df['UNITTYPE'].fillna('STDHY')"
   ]
  },
  {
   "cell_type": "code",
   "execution_count": 17,
   "id": "fb8e0c89-0914-4ce5-9800-9b0e135e3f1c",
   "metadata": {
    "collapsed": false,
    "jupyter": {
     "outputs_hidden": false,
     "source_hidden": false
    },
    "microsoft": {
     "language": "python",
     "language_group": "synapse_pyspark"
    },
    "nteract": {
     "transient": {
      "deleting": false
     }
    }
   },
   "outputs": [
    {
     "data": {
      "text/plain": [
       "count       2389\n",
       "unique         2\n",
       "top       HYBLWF\n",
       "freq        2350\n",
       "Name: UNITTYPE, dtype: object"
      ]
     },
     "execution_count": 17,
     "metadata": {},
     "output_type": "execute_result"
    }
   ],
   "source": [
    "copied_all_hydrants_df['UNITTYPE'].describe()"
   ]
  },
  {
   "cell_type": "code",
   "execution_count": 18,
   "id": "90a0b9db",
   "metadata": {},
   "outputs": [],
   "source": [
    "copied_all_hydrants_df = copied_all_hydrants_df[copied_all_hydrants_df['OWN'].isin(['R', 'NAMP'])]\n",
    "copied_all_hydrants_df = copied_all_hydrants_df[copied_all_hydrants_df['SERVSTAT'].isin(['A', 'ANYR'])]\n",
    "copied_all_hydrants_df = copied_all_hydrants_df[copied_all_hydrants_df['EXPDATE'].isnull()]"
   ]
  },
  {
   "cell_type": "code",
   "execution_count": 99,
   "id": "121384ee",
   "metadata": {},
   "outputs": [],
   "source": [
    "copied_all_hydrants_df = copied_all_hydrants_df.drop(columns={'ADDRKEY', 'ADDRQUAL', 'AUXVALVE', 'BARRELSIZE', 'COMPLEXKEY', 'GISSTATIC', 'HT', 'INTKEY', 'MAPNO', 'OBST', 'OUTLSZ4', 'PACKING', 'PAINTTYPE', 'PRCLKEY', 'SEGKEY', 'SERNO', 'SLKEY', 'SPECINST', 'STKEY', 'WVKEY', 'BGTNO', 'USGAREAKEY', 'EXPBY', 'EXPDATE', 'ADDBY', 'MODBY', 'MODDTTM',\n",
    "                                                              'LASTINSP', 'LASTWINT', 'OLDID', 'WMODID', 'MUNICIPAL', 'FLUDATE', 'WWNUM', 'LASTFREE', 'LASTOTAL', 'FLSHFRE_GIS', 'MINFLTM', 'AVKCLIP', 'ASUMDATE', 'MAINTBY', 'REPLABY', 'REPLAFOR', 'FRFLWVLDDT', 'ASSTGRPID', 'EMDEPT', 'EMDIV', 'EMSERV', 'EMSERVCAT', 'EMCAMASTCL', 'EMASSTPRNT', 'EMPURCHDAT',\n",
    "                                                                  'EMESTSRVLF', 'EMRMGSRVLF', 'EMRMSRLFDT', 'EMREPLCOST', 'EMREPCOSDT', 'EMPURINCST', 'EMASSTCRTL', 'EMASSTCRDT', 'EMASSTRISK', 'EMASTRSKDT', 'EMDISTRICT', 'EMEQPMNTCL', 'EMEQPMNTTP', 'EMASSTDESC', 'EMCOND', 'EMCONDDATE', 'OWN', 'SERVSTAT', 'DISTRICT', 'ASBLT', 'WATPLATT'})"
   ]
  },
  {
   "cell_type": "code",
   "execution_count": 19,
   "id": "cab202d0",
   "metadata": {},
   "outputs": [],
   "source": [
    "copied_all_hydrants_df.to_csv('hydrantcheck.csv', index=False)"
   ]
  },
  {
   "cell_type": "code",
   "execution_count": null,
   "id": "127595b9",
   "metadata": {},
   "outputs": [],
   "source": [
    "#TODO: Ella to confirm whether these columns are necessary: LSTFMAX1\tLSTFMAX2\tLSTFMAX3\tAVE3FMAX\tLSTTMAX1\tLSTTMAX2\tLSTTMAX3\tAVE3TMAX ASBLT , 'ADDDTTM', LOC, ZCOORD, PRESSMIN\tPRESSMAX\tFIRFLGPM\tOUTELEVN\tMDLRESRD"
   ]
  },
  {
   "cell_type": "code",
   "execution_count": null,
   "id": "26244952",
   "metadata": {},
   "outputs": [],
   "source": [
    "#TODO: Ayan: Imputing the missing data for PRESZONE\n"
   ]
  },
  {
   "cell_type": "code",
   "execution_count": null,
   "id": "51192427",
   "metadata": {},
   "outputs": [],
   "source": [
    "#TODO: Jordan: Imputing the missing data for SUBAREA\n",
    "\n",
    "# Load the updated dataset\n",
    "df = pd.read_csv(\"hydrantcheck.csv\")\n",
    "\n",
    "# Fill missing values in SUBAREA with the mode (most frequent value)\n",
    "subarea_mode = df['SUBAREA'].mode()[0]\n",
    "df['SUBAREA'] = df['SUBAREA'].fillna(subarea_mode)\n",
    "\n",
    "# Verify the imputation\n",
    "print(df['SUBAREA'].isna().sum())\n",
    "\n",
    "# Print the updated DataFrame\n",
    "print(df[['SUBAREA']])"
   ]
  },
  {
   "cell_type": "code",
   "execution_count": null,
   "id": "e720ead3",
   "metadata": {},
   "outputs": [],
   "source": [
    "#TODO: Jordan: What are the differences between AREA, SUBAREA, COMMUN, WARDID. Which columns to keep and why?"
   ]
  },
  {
   "cell_type": "code",
   "execution_count": null,
   "id": "dd27cb5e",
   "metadata": {},
   "outputs": [],
   "source": [
    "#TODO: Ayan: Imputation for DECLREQD\n",
    "# Replacing blank values in the 'DECLREQD' column with the most commonly occuring value in the column\n",
    "copied_all_hy_df['DECLREQD'].fillna(copied_all_hy_df['DECLREQD'].value_counts().idxmax(), inplace=True)"
   ]
  },
  {
   "cell_type": "code",
   "execution_count": 20,
   "id": "19aba725",
   "metadata": {},
   "outputs": [],
   "source": [
    "#TODO: Ella: Convert null to N for HYMARKER\n",
    "copied_all_hydrants_df['HYMARKER'] = copied_all_hydrants_df['HYMARKER'].fillna('N')"
   ]
  },
  {
   "cell_type": "code",
   "execution_count": null,
   "id": "54ac1bc7",
   "metadata": {},
   "outputs": [],
   "source": [
    "#TODO: Ayan: Impute FEEDERTYPE\n"
   ]
  },
  {
   "cell_type": "code",
   "execution_count": 105,
   "id": "7afd2fb3",
   "metadata": {},
   "outputs": [],
   "source": [
    "#TODO: Ella + Jordan: For INSTDATE: Convert year 9999 to null, then see whether we can use the ADDDTTM and/or the first time a hydrant was flushed in the history table to fill this info in. After filling in the info, delete ADDTTM\n",
    "# Then calculate the age of the asset and delete INSTDATE column"
   ]
  },
  {
   "cell_type": "code",
   "execution_count": null,
   "id": "b1f22087",
   "metadata": {},
   "outputs": [],
   "source": [
    "#TODO: Jordan: Clean up the values in MODEL column (group those that are of similar values but in different forms) & fill the null value with UNKNOWN"
   ]
  },
  {
   "cell_type": "code",
   "execution_count": 104,
   "id": "e6206277",
   "metadata": {},
   "outputs": [],
   "source": [
    "#TODO: Ayan: Impute the missing value for NONSCHE\n",
    "# Replacing blank values in the 'NONSCHE' column with the most commonly occuring value in the column\n",
    "copied_all_hy_df['NONSCHE'].fillna(copied_all_hy_df['NONSCHE'].value_counts().idxmax(), inplace=True)"
   ]
  },
  {
   "cell_type": "code",
   "execution_count": 101,
   "id": "441783dd",
   "metadata": {},
   "outputs": [],
   "source": [
    "#TODO: Ella to cluster XCOORD and YCOORD, then delete these 2 columns from the dataset"
   ]
  },
  {
   "cell_type": "markdown",
   "id": "07486d97-3227-4fb0-9be5-05b02bb92372",
   "metadata": {},
   "source": [
    "#### Using the COMPKEY column from both datasets to merge the datasets together"
   ]
  },
  {
   "cell_type": "code",
   "execution_count": 102,
   "id": "8c015994",
   "metadata": {},
   "outputs": [],
   "source": [
    "#TODO: Ayan to find the right column to merge the 2 datasets. After merging, delete all the ...KEY columns (identification columns) in the merge df\n",
    "\n",
    "# Renaming the column so that the name is the same in both datasets\n",
    "copied_all_hydrants_df.rename(columns={'IMSRO_COMPHY_COMPKEY': 'COMPKEY'}, inplace=True)"
   ]
  },
  {
   "cell_type": "code",
   "execution_count": null,
   "id": "47627837-a485-441e-a615-7e95788e97ed",
   "metadata": {},
   "outputs": [],
   "source": [
    "# Merging the DataFrames based on the 'COMPKEY' column - similar to a SQL left outer join\n",
    "merged_df = pd.merge(copied_all_hy_df, copied_flushing_history_df, on='COMPKEY', how='left')\n",
    "\n",
    "merged_df.drop(['COMPKEY'], axis=1)\n",
    "\n",
    "# Save the result to a new Excel file\n",
    "result.to_excel('combined_spreadsheet.xlsx', index=False)"
   ]
  },
  {
   "cell_type": "code",
   "execution_count": 9,
   "id": "22084bb7-1a35-4ca8-9a9e-3c482a4167cb",
   "metadata": {
    "collapsed": false,
    "jupyter": {
     "outputs_hidden": false,
     "source_hidden": false
    },
    "microsoft": {
     "language": "python",
     "language_group": "synapse_pyspark"
    },
    "nteract": {
     "transient": {
      "deleting": false
     }
    }
   },
   "outputs": [
    {
     "data": {
      "text/html": [
       "<div>\n",
       "<style scoped>\n",
       "    .dataframe tbody tr th:only-of-type {\n",
       "        vertical-align: middle;\n",
       "    }\n",
       "\n",
       "    .dataframe tbody tr th {\n",
       "        vertical-align: top;\n",
       "    }\n",
       "\n",
       "    .dataframe thead th {\n",
       "        text-align: right;\n",
       "    }\n",
       "</style>\n",
       "<table border=\"1\" class=\"dataframe\">\n",
       "  <thead>\n",
       "    <tr style=\"text-align: right;\">\n",
       "      <th></th>\n",
       "      <th>ADDRKEY</th>\n",
       "      <th>AUXVALVE</th>\n",
       "      <th>BARRELSIZE</th>\n",
       "      <th>IMSRO_COMPHY_COMPKEY</th>\n",
       "      <th>COMPLEXKEY</th>\n",
       "      <th>FEEDERDIAM</th>\n",
       "      <th>FEEDERLEN</th>\n",
       "      <th>GISSTATIC</th>\n",
       "      <th>HT</th>\n",
       "      <th>INTKEY</th>\n",
       "      <th>...</th>\n",
       "      <th>EMASSTRISK</th>\n",
       "      <th>EMASTRSKDT</th>\n",
       "      <th>EMDISTRICT</th>\n",
       "      <th>EMEQPMNTCL</th>\n",
       "      <th>EMEQPMNTTP</th>\n",
       "      <th>EMASSTDESC</th>\n",
       "      <th>EMCOND</th>\n",
       "      <th>EMCONDDATE</th>\n",
       "      <th>XCOORD_float</th>\n",
       "      <th>YCOORD_float</th>\n",
       "    </tr>\n",
       "  </thead>\n",
       "  <tbody>\n",
       "    <tr>\n",
       "      <th>count</th>\n",
       "      <td>2389.000000</td>\n",
       "      <td>0.0</td>\n",
       "      <td>2389.0</td>\n",
       "      <td>2.389000e+03</td>\n",
       "      <td>2389.0</td>\n",
       "      <td>2389.000000</td>\n",
       "      <td>2389.000000</td>\n",
       "      <td>0.0</td>\n",
       "      <td>2389.0</td>\n",
       "      <td>2389.0</td>\n",
       "      <td>...</td>\n",
       "      <td>0.0</td>\n",
       "      <td>0.0</td>\n",
       "      <td>0.0</td>\n",
       "      <td>0.0</td>\n",
       "      <td>0.0</td>\n",
       "      <td>0.0</td>\n",
       "      <td>0.0</td>\n",
       "      <td>0.0</td>\n",
       "      <td>2389.000000</td>\n",
       "      <td>2.389000e+03</td>\n",
       "    </tr>\n",
       "    <tr>\n",
       "      <th>mean</th>\n",
       "      <td>81076.322729</td>\n",
       "      <td>NaN</td>\n",
       "      <td>0.0</td>\n",
       "      <td>3.362129e+05</td>\n",
       "      <td>1.0</td>\n",
       "      <td>63.729594</td>\n",
       "      <td>4.024884</td>\n",
       "      <td>NaN</td>\n",
       "      <td>0.0</td>\n",
       "      <td>1.0</td>\n",
       "      <td>...</td>\n",
       "      <td>NaN</td>\n",
       "      <td>NaN</td>\n",
       "      <td>NaN</td>\n",
       "      <td>NaN</td>\n",
       "      <td>NaN</td>\n",
       "      <td>NaN</td>\n",
       "      <td>NaN</td>\n",
       "      <td>NaN</td>\n",
       "      <td>603585.008429</td>\n",
       "      <td>4.835625e+06</td>\n",
       "    </tr>\n",
       "    <tr>\n",
       "      <th>min</th>\n",
       "      <td>1003.000000</td>\n",
       "      <td>NaN</td>\n",
       "      <td>0.0</td>\n",
       "      <td>1.002000e+03</td>\n",
       "      <td>1.0</td>\n",
       "      <td>0.000000</td>\n",
       "      <td>0.000000</td>\n",
       "      <td>NaN</td>\n",
       "      <td>0.0</td>\n",
       "      <td>1.0</td>\n",
       "      <td>...</td>\n",
       "      <td>NaN</td>\n",
       "      <td>NaN</td>\n",
       "      <td>NaN</td>\n",
       "      <td>NaN</td>\n",
       "      <td>NaN</td>\n",
       "      <td>NaN</td>\n",
       "      <td>NaN</td>\n",
       "      <td>NaN</td>\n",
       "      <td>574107.000000</td>\n",
       "      <td>4.817268e+06</td>\n",
       "    </tr>\n",
       "    <tr>\n",
       "      <th>25%</th>\n",
       "      <td>3243.000000</td>\n",
       "      <td>NaN</td>\n",
       "      <td>0.0</td>\n",
       "      <td>9.067000e+03</td>\n",
       "      <td>1.0</td>\n",
       "      <td>0.000000</td>\n",
       "      <td>1.200000</td>\n",
       "      <td>NaN</td>\n",
       "      <td>0.0</td>\n",
       "      <td>1.0</td>\n",
       "      <td>...</td>\n",
       "      <td>NaN</td>\n",
       "      <td>NaN</td>\n",
       "      <td>NaN</td>\n",
       "      <td>NaN</td>\n",
       "      <td>NaN</td>\n",
       "      <td>NaN</td>\n",
       "      <td>NaN</td>\n",
       "      <td>NaN</td>\n",
       "      <td>599879.840000</td>\n",
       "      <td>4.825955e+06</td>\n",
       "    </tr>\n",
       "    <tr>\n",
       "      <th>50%</th>\n",
       "      <td>5478.000000</td>\n",
       "      <td>NaN</td>\n",
       "      <td>0.0</td>\n",
       "      <td>1.939500e+04</td>\n",
       "      <td>1.0</td>\n",
       "      <td>0.000000</td>\n",
       "      <td>2.291000</td>\n",
       "      <td>NaN</td>\n",
       "      <td>0.0</td>\n",
       "      <td>1.0</td>\n",
       "      <td>...</td>\n",
       "      <td>NaN</td>\n",
       "      <td>NaN</td>\n",
       "      <td>NaN</td>\n",
       "      <td>NaN</td>\n",
       "      <td>NaN</td>\n",
       "      <td>NaN</td>\n",
       "      <td>NaN</td>\n",
       "      <td>NaN</td>\n",
       "      <td>603124.950000</td>\n",
       "      <td>4.833903e+06</td>\n",
       "    </tr>\n",
       "    <tr>\n",
       "      <th>75%</th>\n",
       "      <td>129011.000000</td>\n",
       "      <td>NaN</td>\n",
       "      <td>0.0</td>\n",
       "      <td>7.158620e+05</td>\n",
       "      <td>1.0</td>\n",
       "      <td>150.000000</td>\n",
       "      <td>3.500000</td>\n",
       "      <td>NaN</td>\n",
       "      <td>0.0</td>\n",
       "      <td>1.0</td>\n",
       "      <td>...</td>\n",
       "      <td>NaN</td>\n",
       "      <td>NaN</td>\n",
       "      <td>NaN</td>\n",
       "      <td>NaN</td>\n",
       "      <td>NaN</td>\n",
       "      <td>NaN</td>\n",
       "      <td>NaN</td>\n",
       "      <td>NaN</td>\n",
       "      <td>608432.340000</td>\n",
       "      <td>4.842763e+06</td>\n",
       "    </tr>\n",
       "    <tr>\n",
       "      <th>max</th>\n",
       "      <td>437401.000000</td>\n",
       "      <td>NaN</td>\n",
       "      <td>0.0</td>\n",
       "      <td>1.312755e+06</td>\n",
       "      <td>1.0</td>\n",
       "      <td>150.000000</td>\n",
       "      <td>1166.540000</td>\n",
       "      <td>NaN</td>\n",
       "      <td>0.0</td>\n",
       "      <td>1.0</td>\n",
       "      <td>...</td>\n",
       "      <td>NaN</td>\n",
       "      <td>NaN</td>\n",
       "      <td>NaN</td>\n",
       "      <td>NaN</td>\n",
       "      <td>NaN</td>\n",
       "      <td>NaN</td>\n",
       "      <td>NaN</td>\n",
       "      <td>NaN</td>\n",
       "      <td>616887.720000</td>\n",
       "      <td>4.869890e+06</td>\n",
       "    </tr>\n",
       "    <tr>\n",
       "      <th>std</th>\n",
       "      <td>122051.138142</td>\n",
       "      <td>NaN</td>\n",
       "      <td>0.0</td>\n",
       "      <td>4.165480e+05</td>\n",
       "      <td>0.0</td>\n",
       "      <td>74.163875</td>\n",
       "      <td>29.154112</td>\n",
       "      <td>NaN</td>\n",
       "      <td>0.0</td>\n",
       "      <td>0.0</td>\n",
       "      <td>...</td>\n",
       "      <td>NaN</td>\n",
       "      <td>NaN</td>\n",
       "      <td>NaN</td>\n",
       "      <td>NaN</td>\n",
       "      <td>NaN</td>\n",
       "      <td>NaN</td>\n",
       "      <td>NaN</td>\n",
       "      <td>NaN</td>\n",
       "      <td>6786.099251</td>\n",
       "      <td>1.158453e+04</td>\n",
       "    </tr>\n",
       "  </tbody>\n",
       "</table>\n",
       "<p>8 rows × 77 columns</p>\n",
       "</div>"
      ],
      "text/plain": [
       "             ADDRKEY  AUXVALVE  BARRELSIZE  IMSRO_COMPHY_COMPKEY  COMPLEXKEY  \\\n",
       "count    2389.000000       0.0      2389.0          2.389000e+03      2389.0   \n",
       "mean    81076.322729       NaN         0.0          3.362129e+05         1.0   \n",
       "min      1003.000000       NaN         0.0          1.002000e+03         1.0   \n",
       "25%      3243.000000       NaN         0.0          9.067000e+03         1.0   \n",
       "50%      5478.000000       NaN         0.0          1.939500e+04         1.0   \n",
       "75%    129011.000000       NaN         0.0          7.158620e+05         1.0   \n",
       "max    437401.000000       NaN         0.0          1.312755e+06         1.0   \n",
       "std    122051.138142       NaN         0.0          4.165480e+05         0.0   \n",
       "\n",
       "        FEEDERDIAM    FEEDERLEN  GISSTATIC      HT  INTKEY  ...  EMASSTRISK  \\\n",
       "count  2389.000000  2389.000000        0.0  2389.0  2389.0  ...         0.0   \n",
       "mean     63.729594     4.024884        NaN     0.0     1.0  ...         NaN   \n",
       "min       0.000000     0.000000        NaN     0.0     1.0  ...         NaN   \n",
       "25%       0.000000     1.200000        NaN     0.0     1.0  ...         NaN   \n",
       "50%       0.000000     2.291000        NaN     0.0     1.0  ...         NaN   \n",
       "75%     150.000000     3.500000        NaN     0.0     1.0  ...         NaN   \n",
       "max     150.000000  1166.540000        NaN     0.0     1.0  ...         NaN   \n",
       "std      74.163875    29.154112        NaN     0.0     0.0  ...         NaN   \n",
       "\n",
       "       EMASTRSKDT  EMDISTRICT  EMEQPMNTCL  EMEQPMNTTP  EMASSTDESC  EMCOND  \\\n",
       "count         0.0         0.0         0.0         0.0         0.0     0.0   \n",
       "mean          NaN         NaN         NaN         NaN         NaN     NaN   \n",
       "min           NaN         NaN         NaN         NaN         NaN     NaN   \n",
       "25%           NaN         NaN         NaN         NaN         NaN     NaN   \n",
       "50%           NaN         NaN         NaN         NaN         NaN     NaN   \n",
       "75%           NaN         NaN         NaN         NaN         NaN     NaN   \n",
       "max           NaN         NaN         NaN         NaN         NaN     NaN   \n",
       "std           NaN         NaN         NaN         NaN         NaN     NaN   \n",
       "\n",
       "       EMCONDDATE   XCOORD_float  YCOORD_float  \n",
       "count         0.0    2389.000000  2.389000e+03  \n",
       "mean          NaN  603585.008429  4.835625e+06  \n",
       "min           NaN  574107.000000  4.817268e+06  \n",
       "25%           NaN  599879.840000  4.825955e+06  \n",
       "50%           NaN  603124.950000  4.833903e+06  \n",
       "75%           NaN  608432.340000  4.842763e+06  \n",
       "max           NaN  616887.720000  4.869890e+06  \n",
       "std           NaN    6786.099251  1.158453e+04  \n",
       "\n",
       "[8 rows x 77 columns]"
      ]
     },
     "execution_count": 9,
     "metadata": {},
     "output_type": "execute_result"
    }
   ],
   "source": [
    "# Item 9: Formatting coordinates as numeric data\n",
    "copied_all_hydrants_df['XCOORD'].head()\n",
    "copied_all_hydrants_df['XCOORD_float'] = pd.to_numeric(copied_all_hydrants_df['XCOORD'], errors='coerce')\n",
    "copied_all_hydrants_df['YCOORD_float'] = pd.to_numeric(copied_all_hydrants_df['YCOORD'], errors='coerce')\n",
    "copied_all_hydrants_df['XCOORD_float'].head()\n",
    "copied_all_hydrants_df.describe()"
   ]
  },
  {
   "cell_type": "code",
   "execution_count": 10,
   "id": "6837cd9e-53a8-4312-b6ee-fd33eedd7acd",
   "metadata": {
    "collapsed": false,
    "jupyter": {
     "outputs_hidden": false,
     "source_hidden": false
    },
    "microsoft": {
     "language": "python",
     "language_group": "synapse_pyspark"
    },
    "nteract": {
     "transient": {
      "deleting": false
     }
    }
   },
   "outputs": [],
   "source": [
    "# Uses X and Y Coordinates to find the corresponding latitude and longitude ana adds this data to the given DataFrame\n",
    "def utm_to_latlon(df, xcoord, ycoord, utm_zone):\n",
    "    utm_proj = Proj(proj='utm', zone=utm_zone, ellps='WGS84')\n",
    "    lonlat = utm_proj(df[xcoord].values, df[ycoord].values, inverse=True)\n",
    "    df['Latitude'] = lonlat[1]\n",
    "    df['Longitude'] = lonlat[0]\n",
    "    return df"
   ]
  },
  {
   "cell_type": "code",
   "execution_count": 11,
   "id": "8718fe3a-136a-439a-af30-041148672c9f",
   "metadata": {
    "collapsed": false,
    "jupyter": {
     "outputs_hidden": false,
     "source_hidden": false
    },
    "microsoft": {
     "language": "python",
     "language_group": "synapse_pyspark"
    },
    "nteract": {
     "transient": {
      "deleting": false
     }
    }
   },
   "outputs": [
    {
     "data": {
      "text/html": [
       "<div>\n",
       "<style scoped>\n",
       "    .dataframe tbody tr th:only-of-type {\n",
       "        vertical-align: middle;\n",
       "    }\n",
       "\n",
       "    .dataframe tbody tr th {\n",
       "        vertical-align: top;\n",
       "    }\n",
       "\n",
       "    .dataframe thead th {\n",
       "        text-align: right;\n",
       "    }\n",
       "</style>\n",
       "<table border=\"1\" class=\"dataframe\">\n",
       "  <thead>\n",
       "    <tr style=\"text-align: right;\">\n",
       "      <th></th>\n",
       "      <th>ADDRKEY</th>\n",
       "      <th>AUXVALVE</th>\n",
       "      <th>BARRELSIZE</th>\n",
       "      <th>IMSRO_COMPHY_COMPKEY</th>\n",
       "      <th>COMPLEXKEY</th>\n",
       "      <th>FEEDERDIAM</th>\n",
       "      <th>FEEDERLEN</th>\n",
       "      <th>GISSTATIC</th>\n",
       "      <th>HT</th>\n",
       "      <th>INTKEY</th>\n",
       "      <th>...</th>\n",
       "      <th>EMDISTRICT</th>\n",
       "      <th>EMEQPMNTCL</th>\n",
       "      <th>EMEQPMNTTP</th>\n",
       "      <th>EMASSTDESC</th>\n",
       "      <th>EMCOND</th>\n",
       "      <th>EMCONDDATE</th>\n",
       "      <th>XCOORD_float</th>\n",
       "      <th>YCOORD_float</th>\n",
       "      <th>Latitude</th>\n",
       "      <th>Longitude</th>\n",
       "    </tr>\n",
       "  </thead>\n",
       "  <tbody>\n",
       "    <tr>\n",
       "      <th>count</th>\n",
       "      <td>2389.000000</td>\n",
       "      <td>0.0</td>\n",
       "      <td>2389.0</td>\n",
       "      <td>2.389000e+03</td>\n",
       "      <td>2389.0</td>\n",
       "      <td>2389.000000</td>\n",
       "      <td>2389.000000</td>\n",
       "      <td>0.0</td>\n",
       "      <td>2389.0</td>\n",
       "      <td>2389.0</td>\n",
       "      <td>...</td>\n",
       "      <td>0.0</td>\n",
       "      <td>0.0</td>\n",
       "      <td>0.0</td>\n",
       "      <td>0.0</td>\n",
       "      <td>0.0</td>\n",
       "      <td>0.0</td>\n",
       "      <td>2389.000000</td>\n",
       "      <td>2.389000e+03</td>\n",
       "      <td>2389.000000</td>\n",
       "      <td>2389.000000</td>\n",
       "    </tr>\n",
       "    <tr>\n",
       "      <th>mean</th>\n",
       "      <td>81076.322729</td>\n",
       "      <td>NaN</td>\n",
       "      <td>0.0</td>\n",
       "      <td>3.362129e+05</td>\n",
       "      <td>1.0</td>\n",
       "      <td>63.729594</td>\n",
       "      <td>4.024884</td>\n",
       "      <td>NaN</td>\n",
       "      <td>0.0</td>\n",
       "      <td>1.0</td>\n",
       "      <td>...</td>\n",
       "      <td>NaN</td>\n",
       "      <td>NaN</td>\n",
       "      <td>NaN</td>\n",
       "      <td>NaN</td>\n",
       "      <td>NaN</td>\n",
       "      <td>NaN</td>\n",
       "      <td>603585.008429</td>\n",
       "      <td>4.835625e+06</td>\n",
       "      <td>43.666383</td>\n",
       "      <td>-121.715269</td>\n",
       "    </tr>\n",
       "    <tr>\n",
       "      <th>min</th>\n",
       "      <td>1003.000000</td>\n",
       "      <td>NaN</td>\n",
       "      <td>0.0</td>\n",
       "      <td>1.002000e+03</td>\n",
       "      <td>1.0</td>\n",
       "      <td>0.000000</td>\n",
       "      <td>0.000000</td>\n",
       "      <td>NaN</td>\n",
       "      <td>0.0</td>\n",
       "      <td>1.0</td>\n",
       "      <td>...</td>\n",
       "      <td>NaN</td>\n",
       "      <td>NaN</td>\n",
       "      <td>NaN</td>\n",
       "      <td>NaN</td>\n",
       "      <td>NaN</td>\n",
       "      <td>NaN</td>\n",
       "      <td>574107.000000</td>\n",
       "      <td>4.817268e+06</td>\n",
       "      <td>43.500369</td>\n",
       "      <td>-122.077736</td>\n",
       "    </tr>\n",
       "    <tr>\n",
       "      <th>25%</th>\n",
       "      <td>3243.000000</td>\n",
       "      <td>NaN</td>\n",
       "      <td>0.0</td>\n",
       "      <td>9.067000e+03</td>\n",
       "      <td>1.0</td>\n",
       "      <td>0.000000</td>\n",
       "      <td>1.200000</td>\n",
       "      <td>NaN</td>\n",
       "      <td>0.0</td>\n",
       "      <td>1.0</td>\n",
       "      <td>...</td>\n",
       "      <td>NaN</td>\n",
       "      <td>NaN</td>\n",
       "      <td>NaN</td>\n",
       "      <td>NaN</td>\n",
       "      <td>NaN</td>\n",
       "      <td>NaN</td>\n",
       "      <td>599879.840000</td>\n",
       "      <td>4.825955e+06</td>\n",
       "      <td>43.578955</td>\n",
       "      <td>-121.760724</td>\n",
       "    </tr>\n",
       "    <tr>\n",
       "      <th>50%</th>\n",
       "      <td>5478.000000</td>\n",
       "      <td>NaN</td>\n",
       "      <td>0.0</td>\n",
       "      <td>1.939500e+04</td>\n",
       "      <td>1.0</td>\n",
       "      <td>0.000000</td>\n",
       "      <td>2.291000</td>\n",
       "      <td>NaN</td>\n",
       "      <td>0.0</td>\n",
       "      <td>1.0</td>\n",
       "      <td>...</td>\n",
       "      <td>NaN</td>\n",
       "      <td>NaN</td>\n",
       "      <td>NaN</td>\n",
       "      <td>NaN</td>\n",
       "      <td>NaN</td>\n",
       "      <td>NaN</td>\n",
       "      <td>603124.950000</td>\n",
       "      <td>4.833903e+06</td>\n",
       "      <td>43.651207</td>\n",
       "      <td>-121.719748</td>\n",
       "    </tr>\n",
       "    <tr>\n",
       "      <th>75%</th>\n",
       "      <td>129011.000000</td>\n",
       "      <td>NaN</td>\n",
       "      <td>0.0</td>\n",
       "      <td>7.158620e+05</td>\n",
       "      <td>1.0</td>\n",
       "      <td>150.000000</td>\n",
       "      <td>3.500000</td>\n",
       "      <td>NaN</td>\n",
       "      <td>0.0</td>\n",
       "      <td>1.0</td>\n",
       "      <td>...</td>\n",
       "      <td>NaN</td>\n",
       "      <td>NaN</td>\n",
       "      <td>NaN</td>\n",
       "      <td>NaN</td>\n",
       "      <td>NaN</td>\n",
       "      <td>NaN</td>\n",
       "      <td>608432.340000</td>\n",
       "      <td>4.842763e+06</td>\n",
       "      <td>43.731067</td>\n",
       "      <td>-121.655763</td>\n",
       "    </tr>\n",
       "    <tr>\n",
       "      <th>max</th>\n",
       "      <td>437401.000000</td>\n",
       "      <td>NaN</td>\n",
       "      <td>0.0</td>\n",
       "      <td>1.312755e+06</td>\n",
       "      <td>1.0</td>\n",
       "      <td>150.000000</td>\n",
       "      <td>1166.540000</td>\n",
       "      <td>NaN</td>\n",
       "      <td>0.0</td>\n",
       "      <td>1.0</td>\n",
       "      <td>...</td>\n",
       "      <td>NaN</td>\n",
       "      <td>NaN</td>\n",
       "      <td>NaN</td>\n",
       "      <td>NaN</td>\n",
       "      <td>NaN</td>\n",
       "      <td>NaN</td>\n",
       "      <td>616887.720000</td>\n",
       "      <td>4.869890e+06</td>\n",
       "      <td>43.976043</td>\n",
       "      <td>-121.552075</td>\n",
       "    </tr>\n",
       "    <tr>\n",
       "      <th>std</th>\n",
       "      <td>122051.138142</td>\n",
       "      <td>NaN</td>\n",
       "      <td>0.0</td>\n",
       "      <td>4.165480e+05</td>\n",
       "      <td>0.0</td>\n",
       "      <td>74.163875</td>\n",
       "      <td>29.154112</td>\n",
       "      <td>NaN</td>\n",
       "      <td>0.0</td>\n",
       "      <td>0.0</td>\n",
       "      <td>...</td>\n",
       "      <td>NaN</td>\n",
       "      <td>NaN</td>\n",
       "      <td>NaN</td>\n",
       "      <td>NaN</td>\n",
       "      <td>NaN</td>\n",
       "      <td>NaN</td>\n",
       "      <td>6786.099251</td>\n",
       "      <td>1.158453e+04</td>\n",
       "      <td>0.104866</td>\n",
       "      <td>0.082829</td>\n",
       "    </tr>\n",
       "  </tbody>\n",
       "</table>\n",
       "<p>8 rows × 79 columns</p>\n",
       "</div>"
      ],
      "text/plain": [
       "             ADDRKEY  AUXVALVE  BARRELSIZE  IMSRO_COMPHY_COMPKEY  COMPLEXKEY  \\\n",
       "count    2389.000000       0.0      2389.0          2.389000e+03      2389.0   \n",
       "mean    81076.322729       NaN         0.0          3.362129e+05         1.0   \n",
       "min      1003.000000       NaN         0.0          1.002000e+03         1.0   \n",
       "25%      3243.000000       NaN         0.0          9.067000e+03         1.0   \n",
       "50%      5478.000000       NaN         0.0          1.939500e+04         1.0   \n",
       "75%    129011.000000       NaN         0.0          7.158620e+05         1.0   \n",
       "max    437401.000000       NaN         0.0          1.312755e+06         1.0   \n",
       "std    122051.138142       NaN         0.0          4.165480e+05         0.0   \n",
       "\n",
       "        FEEDERDIAM    FEEDERLEN  GISSTATIC      HT  INTKEY  ...  EMDISTRICT  \\\n",
       "count  2389.000000  2389.000000        0.0  2389.0  2389.0  ...         0.0   \n",
       "mean     63.729594     4.024884        NaN     0.0     1.0  ...         NaN   \n",
       "min       0.000000     0.000000        NaN     0.0     1.0  ...         NaN   \n",
       "25%       0.000000     1.200000        NaN     0.0     1.0  ...         NaN   \n",
       "50%       0.000000     2.291000        NaN     0.0     1.0  ...         NaN   \n",
       "75%     150.000000     3.500000        NaN     0.0     1.0  ...         NaN   \n",
       "max     150.000000  1166.540000        NaN     0.0     1.0  ...         NaN   \n",
       "std      74.163875    29.154112        NaN     0.0     0.0  ...         NaN   \n",
       "\n",
       "       EMEQPMNTCL  EMEQPMNTTP  EMASSTDESC  EMCOND  EMCONDDATE   XCOORD_float  \\\n",
       "count         0.0         0.0         0.0     0.0         0.0    2389.000000   \n",
       "mean          NaN         NaN         NaN     NaN         NaN  603585.008429   \n",
       "min           NaN         NaN         NaN     NaN         NaN  574107.000000   \n",
       "25%           NaN         NaN         NaN     NaN         NaN  599879.840000   \n",
       "50%           NaN         NaN         NaN     NaN         NaN  603124.950000   \n",
       "75%           NaN         NaN         NaN     NaN         NaN  608432.340000   \n",
       "max           NaN         NaN         NaN     NaN         NaN  616887.720000   \n",
       "std           NaN         NaN         NaN     NaN         NaN    6786.099251   \n",
       "\n",
       "       YCOORD_float     Latitude    Longitude  \n",
       "count  2.389000e+03  2389.000000  2389.000000  \n",
       "mean   4.835625e+06    43.666383  -121.715269  \n",
       "min    4.817268e+06    43.500369  -122.077736  \n",
       "25%    4.825955e+06    43.578955  -121.760724  \n",
       "50%    4.833903e+06    43.651207  -121.719748  \n",
       "75%    4.842763e+06    43.731067  -121.655763  \n",
       "max    4.869890e+06    43.976043  -121.552075  \n",
       "std    1.158453e+04     0.104866     0.082829  \n",
       "\n",
       "[8 rows x 79 columns]"
      ]
     },
     "execution_count": 11,
     "metadata": {},
     "output_type": "execute_result"
    }
   ],
   "source": [
    "copied_all_hydrants_df = utm_to_latlon(copied_all_hydrants_df, 'XCOORD_float', 'YCOORD_float', utm_zone=10)\n",
    "copied_all_hydrants_df.head()\n",
    "copied_all_hydrants_df.describe()"
   ]
  },
  {
   "cell_type": "code",
   "execution_count": 12,
   "id": "626e8475-5657-4abf-a022-6f90744b3598",
   "metadata": {
    "collapsed": false,
    "jupyter": {
     "outputs_hidden": false,
     "source_hidden": false
    },
    "microsoft": {
     "language": "python",
     "language_group": "synapse_pyspark"
    },
    "nteract": {
     "transient": {
      "deleting": false
     }
    }
   },
   "outputs": [
    {
     "name": "stdout",
     "output_type": "stream",
     "text": [
      "count    2389.000000\n",
      "mean       43.666383\n",
      "std         0.104866\n",
      "min        43.500369\n",
      "25%        43.578955\n",
      "50%        43.651207\n",
      "75%        43.731067\n",
      "max        43.976043\n",
      "Name: Latitude, dtype: float64\n",
      "count    2389.000000\n",
      "mean     -121.715269\n",
      "std         0.082829\n",
      "min      -122.077736\n",
      "25%      -121.760724\n",
      "50%      -121.719748\n",
      "75%      -121.655763\n",
      "max      -121.552075\n",
      "Name: Longitude, dtype: float64\n",
      "0\n",
      "0\n"
     ]
    }
   ],
   "source": [
    "from sklearn.cluster import DBSCAN\n",
    "\n",
    "# Applies a DBSCAN algorithm to organize latitude and longitude data \n",
    "dbscan = DBSCAN(eps=0.1, min_samples=5)\n",
    "# Delete rows with empty longitude or latitude values\n",
    "copied_all_hydrants_df = copied_all_hydrants_df.dropna(subset=['Longitude', 'Latitude'])\n",
    "# Remove latitude/longitude values that are positive/negative infinity\n",
    "copied_all_hydrants_df['Latitude'] = copied_all_hydrants_df['Latitude'].replace([np.inf, -np.inf], np.nan).dropna()\n",
    "copied_all_hydrants_df['Longitude'] = copied_all_hydrants_df['Longitude'].replace([np.inf, -np.inf], np.nan).dropna()\n",
    "# print(copied_all_hydrants_df.sort_values(by=['Latitude'], ascending=False).head())\n",
    "# Remove any other blank values from the latitude/longitude columns\n",
    "copied_all_hydrants_df['Latitude'] = copied_all_hydrants_df['Latitude'].dropna()\n",
    "copied_all_hydrants_df['Longitude'] = copied_all_hydrants_df['Longitude'].dropna()\n",
    "copied_all_hydrants_df.dropna(subset=['Longitude', 'Latitude'], inplace=True)\n",
    "print(copied_all_hydrants_df['Latitude'].describe())\n",
    "print(copied_all_hydrants_df['Longitude'].describe())\n",
    "print(copied_all_hydrants_df['Latitude'].isna().sum())\n",
    "print(copied_all_hydrants_df['Longitude'].isna().sum())"
   ]
  },
  {
   "cell_type": "code",
   "execution_count": 13,
   "id": "494556ce-328c-418c-b97d-76002b11adfa",
   "metadata": {
    "collapsed": false,
    "jupyter": {
     "outputs_hidden": false,
     "source_hidden": false
    },
    "microsoft": {
     "language": "python",
     "language_group": "synapse_pyspark"
    },
    "nteract": {
     "transient": {
      "deleting": false
     }
    }
   },
   "outputs": [],
   "source": [
    "copied_all_hydrants_df['Geo_Cluster'] = dbscan.fit_predict(copied_all_hydrants_df[['Longitude', 'Latitude']])"
   ]
  },
  {
   "cell_type": "code",
   "execution_count": 14,
   "id": "74421e91-2819-4998-975f-7f34bf9f1a5b",
   "metadata": {
    "collapsed": false,
    "jupyter": {
     "outputs_hidden": false,
     "source_hidden": false
    },
    "microsoft": {
     "language": "python",
     "language_group": "synapse_pyspark"
    },
    "nteract": {
     "transient": {
      "deleting": false
     }
    }
   },
   "outputs": [
    {
     "data": {
      "text/html": [
       "<div>\n",
       "<style scoped>\n",
       "    .dataframe tbody tr th:only-of-type {\n",
       "        vertical-align: middle;\n",
       "    }\n",
       "\n",
       "    .dataframe tbody tr th {\n",
       "        vertical-align: top;\n",
       "    }\n",
       "\n",
       "    .dataframe thead th {\n",
       "        text-align: right;\n",
       "    }\n",
       "</style>\n",
       "<table border=\"1\" class=\"dataframe\">\n",
       "  <thead>\n",
       "    <tr style=\"text-align: right;\">\n",
       "      <th></th>\n",
       "      <th>ADDRKEY</th>\n",
       "      <th>ADDRQUAL</th>\n",
       "      <th>AREA</th>\n",
       "      <th>ASBLT</th>\n",
       "      <th>AUXVALVE</th>\n",
       "      <th>BARRELSIZE</th>\n",
       "      <th>COLOR</th>\n",
       "      <th>IMSRO_COMPHY_COMPKEY</th>\n",
       "      <th>COMPLEXKEY</th>\n",
       "      <th>DISTRICT</th>\n",
       "      <th>...</th>\n",
       "      <th>EMEQPMNTCL</th>\n",
       "      <th>EMEQPMNTTP</th>\n",
       "      <th>EMASSTDESC</th>\n",
       "      <th>EMCOND</th>\n",
       "      <th>EMCONDDATE</th>\n",
       "      <th>XCOORD_float</th>\n",
       "      <th>YCOORD_float</th>\n",
       "      <th>Latitude</th>\n",
       "      <th>Longitude</th>\n",
       "      <th>Geo_Cluster</th>\n",
       "    </tr>\n",
       "  </thead>\n",
       "  <tbody>\n",
       "    <tr>\n",
       "      <th>65</th>\n",
       "      <td>1494</td>\n",
       "      <td>20 - 22</td>\n",
       "      <td>B31</td>\n",
       "      <td>NaN</td>\n",
       "      <td>NaN</td>\n",
       "      <td>0</td>\n",
       "      <td>BLUE</td>\n",
       "      <td>1673</td>\n",
       "      <td>1</td>\n",
       "      <td>C</td>\n",
       "      <td>...</td>\n",
       "      <td>NaN</td>\n",
       "      <td>NaN</td>\n",
       "      <td>NaN</td>\n",
       "      <td>NaN</td>\n",
       "      <td>NaN</td>\n",
       "      <td>597828.69</td>\n",
       "      <td>4841977.83</td>\n",
       "      <td>43.724380</td>\n",
       "      <td>-121.785410</td>\n",
       "      <td>0</td>\n",
       "    </tr>\n",
       "    <tr>\n",
       "      <th>76</th>\n",
       "      <td>1509</td>\n",
       "      <td>16</td>\n",
       "      <td>B31</td>\n",
       "      <td>NaN</td>\n",
       "      <td>NaN</td>\n",
       "      <td>0</td>\n",
       "      <td>BLUE</td>\n",
       "      <td>1696</td>\n",
       "      <td>1</td>\n",
       "      <td>C</td>\n",
       "      <td>...</td>\n",
       "      <td>NaN</td>\n",
       "      <td>NaN</td>\n",
       "      <td>NaN</td>\n",
       "      <td>NaN</td>\n",
       "      <td>NaN</td>\n",
       "      <td>596099.18</td>\n",
       "      <td>4844170.61</td>\n",
       "      <td>43.744345</td>\n",
       "      <td>-121.806486</td>\n",
       "      <td>0</td>\n",
       "    </tr>\n",
       "    <tr>\n",
       "      <th>126</th>\n",
       "      <td>2226</td>\n",
       "      <td>56</td>\n",
       "      <td>B31</td>\n",
       "      <td>NaN</td>\n",
       "      <td>NaN</td>\n",
       "      <td>0</td>\n",
       "      <td>BLUE</td>\n",
       "      <td>2847</td>\n",
       "      <td>1</td>\n",
       "      <td>C</td>\n",
       "      <td>...</td>\n",
       "      <td>NaN</td>\n",
       "      <td>NaN</td>\n",
       "      <td>NaN</td>\n",
       "      <td>NaN</td>\n",
       "      <td>NaN</td>\n",
       "      <td>596309.85</td>\n",
       "      <td>4841454.28</td>\n",
       "      <td>43.719866</td>\n",
       "      <td>-121.804357</td>\n",
       "      <td>0</td>\n",
       "    </tr>\n",
       "    <tr>\n",
       "      <th>138</th>\n",
       "      <td>211559</td>\n",
       "      <td>NaN</td>\n",
       "      <td>B06</td>\n",
       "      <td>NaN</td>\n",
       "      <td>NaN</td>\n",
       "      <td>0</td>\n",
       "      <td>ORANGE</td>\n",
       "      <td>2863</td>\n",
       "      <td>1</td>\n",
       "      <td>C</td>\n",
       "      <td>...</td>\n",
       "      <td>NaN</td>\n",
       "      <td>NaN</td>\n",
       "      <td>NaN</td>\n",
       "      <td>NaN</td>\n",
       "      <td>NaN</td>\n",
       "      <td>602040.45</td>\n",
       "      <td>4833238.58</td>\n",
       "      <td>43.645143</td>\n",
       "      <td>-121.734786</td>\n",
       "      <td>0</td>\n",
       "    </tr>\n",
       "    <tr>\n",
       "      <th>139</th>\n",
       "      <td>2246</td>\n",
       "      <td>7</td>\n",
       "      <td>B12</td>\n",
       "      <td>NaN</td>\n",
       "      <td>NaN</td>\n",
       "      <td>0</td>\n",
       "      <td>BLUE</td>\n",
       "      <td>2864</td>\n",
       "      <td>1</td>\n",
       "      <td>C</td>\n",
       "      <td>...</td>\n",
       "      <td>NaN</td>\n",
       "      <td>NaN</td>\n",
       "      <td>NaN</td>\n",
       "      <td>NaN</td>\n",
       "      <td>NaN</td>\n",
       "      <td>603629.16</td>\n",
       "      <td>4841098.82</td>\n",
       "      <td>43.715680</td>\n",
       "      <td>-121.713581</td>\n",
       "      <td>0</td>\n",
       "    </tr>\n",
       "  </tbody>\n",
       "</table>\n",
       "<p>5 rows × 123 columns</p>\n",
       "</div>"
      ],
      "text/plain": [
       "     ADDRKEY ADDRQUAL AREA ASBLT  AUXVALVE  BARRELSIZE   COLOR  \\\n",
       "65      1494  20 - 22  B31   NaN       NaN           0    BLUE   \n",
       "76      1509       16  B31   NaN       NaN           0    BLUE   \n",
       "126     2226       56  B31   NaN       NaN           0    BLUE   \n",
       "138   211559      NaN  B06   NaN       NaN           0  ORANGE   \n",
       "139     2246        7  B12   NaN       NaN           0    BLUE   \n",
       "\n",
       "     IMSRO_COMPHY_COMPKEY  COMPLEXKEY DISTRICT  ...  EMEQPMNTCL  EMEQPMNTTP  \\\n",
       "65                   1673           1        C  ...         NaN         NaN   \n",
       "76                   1696           1        C  ...         NaN         NaN   \n",
       "126                  2847           1        C  ...         NaN         NaN   \n",
       "138                  2863           1        C  ...         NaN         NaN   \n",
       "139                  2864           1        C  ...         NaN         NaN   \n",
       "\n",
       "    EMASSTDESC  EMCOND  EMCONDDATE XCOORD_float  YCOORD_float   Latitude  \\\n",
       "65         NaN     NaN         NaN    597828.69    4841977.83  43.724380   \n",
       "76         NaN     NaN         NaN    596099.18    4844170.61  43.744345   \n",
       "126        NaN     NaN         NaN    596309.85    4841454.28  43.719866   \n",
       "138        NaN     NaN         NaN    602040.45    4833238.58  43.645143   \n",
       "139        NaN     NaN         NaN    603629.16    4841098.82  43.715680   \n",
       "\n",
       "      Longitude Geo_Cluster  \n",
       "65  -121.785410           0  \n",
       "76  -121.806486           0  \n",
       "126 -121.804357           0  \n",
       "138 -121.734786           0  \n",
       "139 -121.713581           0  \n",
       "\n",
       "[5 rows x 123 columns]"
      ]
     },
     "execution_count": 14,
     "metadata": {},
     "output_type": "execute_result"
    }
   ],
   "source": [
    "copied_all_hydrants_df.head()"
   ]
  },
  {
   "cell_type": "code",
   "execution_count": 15,
   "id": "a8c61d07-6f72-4204-98d8-f3a762012656",
   "metadata": {
    "collapsed": false,
    "jupyter": {
     "outputs_hidden": false,
     "source_hidden": false
    },
    "microsoft": {
     "language": "python",
     "language_group": "synapse_pyspark"
    },
    "nteract": {
     "transient": {
      "deleting": false
     }
    }
   },
   "outputs": [
    {
     "data": {
      "text/plain": [
       "count    2389.0\n",
       "mean        0.0\n",
       "std         0.0\n",
       "min         0.0\n",
       "25%         0.0\n",
       "50%         0.0\n",
       "75%         0.0\n",
       "max         0.0\n",
       "Name: Geo_Cluster, dtype: float64"
      ]
     },
     "execution_count": 15,
     "metadata": {},
     "output_type": "execute_result"
    }
   ],
   "source": [
    "copied_all_hydrants_df['Geo_Cluster'].describe()"
   ]
  },
  {
   "cell_type": "code",
   "execution_count": 16,
   "id": "c786e8ac-6ab5-4413-b43e-a960680e4ed8",
   "metadata": {
    "collapsed": false,
    "jupyter": {
     "outputs_hidden": false,
     "source_hidden": false
    },
    "microsoft": {
     "language": "python",
     "language_group": "synapse_pyspark"
    },
    "nteract": {
     "transient": {
      "deleting": false
     }
    }
   },
   "outputs": [
    {
     "name": "stdout",
     "output_type": "stream",
     "text": [
      "(2389, 123)\n"
     ]
    },
    {
     "data": {
      "text/plain": [
       "(2389, 123)"
      ]
     },
     "execution_count": 16,
     "metadata": {},
     "output_type": "execute_result"
    }
   ],
   "source": [
    "print(copied_all_hydrants_df.shape)\n",
    "na_copied_all_hydrants_df = copy.deepcopy(copied_all_hydrants_df)\n",
    "na_copied_all_hydrants_df.shape"
   ]
  },
  {
   "cell_type": "code",
   "execution_count": null,
   "id": "0b190491-1338-4bca-ba47-26ac885eb929",
   "metadata": {
    "collapsed": false,
    "jupyter": {
     "outputs_hidden": false,
     "source_hidden": false
    },
    "microsoft": {
     "language": "python",
     "language_group": "synapse_pyspark"
    },
    "nteract": {
     "transient": {
      "deleting": false
     }
    },
    "scrolled": true
   },
   "outputs": [],
   "source": [
    "# copied_all_hydrants_df = copied_all_hydrants_df.fillna('Unknown')\n",
    "# copied_all_hydrants_df"
   ]
  },
  {
   "cell_type": "code",
   "execution_count": 17,
   "id": "75d802b6-8656-4c71-a777-793bd2d90684",
   "metadata": {
    "collapsed": false,
    "jupyter": {
     "outputs_hidden": false,
     "source_hidden": false
    },
    "microsoft": {
     "language": "python",
     "language_group": "synapse_pyspark"
    },
    "nteract": {
     "transient": {
      "deleting": false
     }
    }
   },
   "outputs": [],
   "source": [
    "knn_copied_all_hydrants_df = copy.deepcopy(copied_all_hydrants_df)"
   ]
  },
  {
   "cell_type": "code",
   "execution_count": 18,
   "id": "f08868f9-fa32-4efd-9c08-e645fc1f1338",
   "metadata": {
    "collapsed": false,
    "jupyter": {
     "outputs_hidden": false,
     "source_hidden": false
    },
    "microsoft": {
     "language": "python",
     "language_group": "synapse_pyspark"
    },
    "nteract": {
     "transient": {
      "deleting": false
     }
    }
   },
   "outputs": [
    {
     "data": {
      "text/plain": [
       "count       2389\n",
       "unique        12\n",
       "top       1 YEAR\n",
       "freq        1221\n",
       "Name: FLSHFRE, dtype: object"
      ]
     },
     "execution_count": 18,
     "metadata": {},
     "output_type": "execute_result"
    }
   ],
   "source": [
    "copied_all_hydrants_df['FLSHFRE'].describe()"
   ]
  },
  {
   "cell_type": "code",
   "execution_count": 19,
   "id": "4007cffb-8bb8-45a8-bb1f-c6ce4c593958",
   "metadata": {
    "collapsed": false,
    "jupyter": {
     "outputs_hidden": false,
     "source_hidden": false
    },
    "microsoft": {
     "language": "python",
     "language_group": "synapse_pyspark"
    },
    "nteract": {
     "transient": {
      "deleting": false
     }
    }
   },
   "outputs": [
    {
     "data": {
      "text/plain": [
       "array(['1 YEAR', '3 MONTHS', '6 MONTHS', '3 DAYS', '1 WEEK', '4 MONTHS',\n",
       "       '2 WEEKS', '1 MONTH', '2 MONTHS', '3 WEEKS', '2 DAYS', 'DAILY'],\n",
       "      dtype=object)"
      ]
     },
     "execution_count": 19,
     "metadata": {},
     "output_type": "execute_result"
    }
   ],
   "source": [
    "copied_all_hydrants_df['FLSHFRE'].unique()"
   ]
  },
  {
   "cell_type": "code",
   "execution_count": 20,
   "id": "a8ca79e5-7126-477e-8752-89afc4ebe05c",
   "metadata": {},
   "outputs": [],
   "source": [
    "# Specifying columns in the dataset that we will clean for missing data and outliers\n",
    "all_hy_columns_to_adjust = ['PRESSMIN', 'PRESSMAX']\n",
    "flush_hist_columns_to_adjust = ['FLSHVOL', 'FLSHDUR']"
   ]
  },
  {
   "cell_type": "markdown",
   "id": "efb8ef3b-09f4-4e2d-8572-1837cef269a9",
   "metadata": {},
   "source": [
    "### Imputing Missing Values"
   ]
  },
  {
   "cell_type": "code",
   "execution_count": 21,
   "id": "7d7aec48-9022-446a-aeb7-fd0ed50da3ca",
   "metadata": {},
   "outputs": [
    {
     "name": "stdout",
     "output_type": "stream",
     "text": [
      "Column: PRESSMIN\n",
      "65     60.7656\n",
      "76     72.6852\n",
      "126    65.7167\n",
      "138    73.0940\n",
      "139    72.6360\n",
      "143    54.7469\n",
      "154    70.7205\n",
      "304    72.4360\n",
      "309    83.3325\n",
      "312    89.5256\n",
      "324    70.7652\n",
      "328    61.8132\n",
      "329    61.9111\n",
      "340    72.3439\n",
      "349    54.0032\n",
      "355    61.4530\n",
      "363    55.9765\n",
      "394        NaN\n",
      "402    70.9262\n",
      "403    67.7282\n",
      "413    77.3031\n",
      "449    58.9533\n",
      "459    80.5179\n",
      "469    72.5541\n",
      "475    65.7466\n",
      "480    49.2915\n",
      "486    75.6050\n",
      "595    62.5853\n",
      "636    77.2544\n",
      "639    73.1378\n",
      "679    41.6938\n",
      "693    74.2959\n",
      "696        NaN\n",
      "750    84.6836\n",
      "753    81.6176\n",
      "777    63.8080\n",
      "785    58.6898\n",
      "793    48.2959\n",
      "796    55.2642\n",
      "843    63.4781\n",
      "854    72.3948\n",
      "883    64.5949\n",
      "916    97.9277\n",
      "962    69.4346\n",
      "969    78.2441\n",
      "981    59.9541\n",
      "989    53.0359\n",
      "995    50.4947\n",
      "996    52.4633\n",
      "998    53.7308\n",
      "Name: PRESSMIN, dtype: float64\n",
      "---------------------------------------------------------------\n",
      "Column: PRESSMAX\n",
      "65      83.1983\n",
      "76      72.7167\n",
      "126     84.3747\n",
      "138    113.7570\n",
      "139    113.5766\n",
      "143     69.2250\n",
      "154    109.9626\n",
      "304    113.3136\n",
      "309    106.7703\n",
      "312     98.4802\n",
      "324    110.1236\n",
      "328    102.5844\n",
      "329    102.6738\n",
      "340    113.1311\n",
      "349     94.6702\n",
      "355    102.2258\n",
      "363     95.3719\n",
      "394         NaN\n",
      "402     93.4649\n",
      "403     90.2546\n",
      "413    100.6243\n",
      "449     98.3835\n",
      "459     80.5683\n",
      "469    111.9355\n",
      "475    106.2308\n",
      "480     67.9939\n",
      "486    116.5721\n",
      "595    101.9810\n",
      "636    118.2438\n",
      "639    114.0851\n",
      "679     64.0837\n",
      "693     98.2714\n",
      "696         NaN\n",
      "750     93.7454\n",
      "753     90.6709\n",
      "777    103.7923\n",
      "785     97.5264\n",
      "793     87.3731\n",
      "796     63.7800\n",
      "843    102.9543\n",
      "854    111.7620\n",
      "883    104.8197\n",
      "916    138.9084\n",
      "962    108.6768\n",
      "969    101.5263\n",
      "981    100.6065\n",
      "989     93.7520\n",
      "995     91.1943\n",
      "996     93.1712\n",
      "998     94.4526\n",
      "Name: PRESSMAX, dtype: float64\n",
      "---------------------------------------------------------------\n"
     ]
    }
   ],
   "source": [
    "for col in columns_to_adjust:\n",
    "    print(f\"Column: {col}\")\n",
    "    print(copied_all_hydrants_df[col].head(50))\n",
    "    print(\"---------------------------------------------------------------\")"
   ]
  },
  {
   "cell_type": "code",
   "execution_count": 22,
   "id": "98add807-2343-4664-b899-8ed26667a0aa",
   "metadata": {},
   "outputs": [],
   "source": [
    "# Replaces missing values in a given column with the median of that column\n",
    "def impute_missing_vals(column):\n",
    "    median = copied_all_hydrants_df[column].median()\n",
    "    return copied_all_hydrants_df[column].fillna(median)"
   ]
  },
  {
   "cell_type": "code",
   "execution_count": 23,
   "id": "a7bad3f6-62e5-40e5-9797-e4b25a41c8a9",
   "metadata": {},
   "outputs": [
    {
     "name": "stdout",
     "output_type": "stream",
     "text": [
      "Column: PRESSMIN_adjusted\n",
      "65     60.7656\n",
      "76     72.6852\n",
      "126    65.7167\n",
      "138    73.0940\n",
      "139    72.6360\n",
      "143    54.7469\n",
      "154    70.7205\n",
      "304    72.4360\n",
      "309    83.3325\n",
      "312    89.5256\n",
      "324    70.7652\n",
      "328    61.8132\n",
      "329    61.9111\n",
      "340    72.3439\n",
      "349    54.0032\n",
      "355    61.4530\n",
      "363    55.9765\n",
      "394    68.2433\n",
      "402    70.9262\n",
      "403    67.7282\n",
      "413    77.3031\n",
      "449    58.9533\n",
      "459    80.5179\n",
      "469    72.5541\n",
      "475    65.7466\n",
      "480    49.2915\n",
      "486    75.6050\n",
      "595    62.5853\n",
      "636    77.2544\n",
      "639    73.1378\n",
      "679    41.6938\n",
      "693    74.2959\n",
      "696    68.2433\n",
      "750    84.6836\n",
      "753    81.6176\n",
      "777    63.8080\n",
      "785    58.6898\n",
      "793    48.2959\n",
      "796    55.2642\n",
      "843    63.4781\n",
      "854    72.3948\n",
      "883    64.5949\n",
      "916    97.9277\n",
      "962    69.4346\n",
      "969    78.2441\n",
      "981    59.9541\n",
      "989    53.0359\n",
      "995    50.4947\n",
      "996    52.4633\n",
      "998    53.7308\n",
      "Name: PRESSMIN_adjusted, dtype: float64\n",
      "---------------------------------------------------------------\n",
      "Column: PRESSMAX_adjusted\n",
      "65      83.1983\n",
      "76      72.7167\n",
      "126     84.3747\n",
      "138    113.7570\n",
      "139    113.5766\n",
      "143     69.2250\n",
      "154    109.9626\n",
      "304    113.3136\n",
      "309    106.7703\n",
      "312     98.4802\n",
      "324    110.1236\n",
      "328    102.5844\n",
      "329    102.6738\n",
      "340    113.1311\n",
      "349     94.6702\n",
      "355    102.2258\n",
      "363     95.3719\n",
      "394     88.9342\n",
      "402     93.4649\n",
      "403     90.2546\n",
      "413    100.6243\n",
      "449     98.3835\n",
      "459     80.5683\n",
      "469    111.9355\n",
      "475    106.2308\n",
      "480     67.9939\n",
      "486    116.5721\n",
      "595    101.9810\n",
      "636    118.2438\n",
      "639    114.0851\n",
      "679     64.0837\n",
      "693     98.2714\n",
      "696     88.9342\n",
      "750     93.7454\n",
      "753     90.6709\n",
      "777    103.7923\n",
      "785     97.5264\n",
      "793     87.3731\n",
      "796     63.7800\n",
      "843    102.9543\n",
      "854    111.7620\n",
      "883    104.8197\n",
      "916    138.9084\n",
      "962    108.6768\n",
      "969    101.5263\n",
      "981    100.6065\n",
      "989     93.7520\n",
      "995     91.1943\n",
      "996     93.1712\n",
      "998     94.4526\n",
      "Name: PRESSMAX_adjusted, dtype: float64\n",
      "---------------------------------------------------------------\n"
     ]
    }
   ],
   "source": [
    "# Imputes missing values for each of the columns we want to clean\n",
    "for col in columns_to_adjust:\n",
    "    copied_all_hydrants_df[f'{col}_adjusted'] = impute_missing_vals(col)\n",
    "    print(f\"Column: {col}_adjusted\")\n",
    "    print(copied_all_hydrants_df[f'{col}_adjusted'].head(50))\n",
    "    print(\"---------------------------------------------------------------\")"
   ]
  },
  {
   "cell_type": "markdown",
   "id": "657ce2e7-f6f1-4f03-b019-dd51385ff0f1",
   "metadata": {},
   "source": [
    "### Detecting and Replacing Outliers\n",
    "To mitigate bias in the model"
   ]
  },
  {
   "cell_type": "code",
   "execution_count": 26,
   "id": "28fcde9e-c502-4067-832e-6316491abd10",
   "metadata": {},
   "outputs": [],
   "source": [
    "import seaborn as sns\n",
    "from matplotlib import pyplot as plt\n",
    "\n",
    "# Replaces all outliers within a given column with the median of that column\n",
    "def replace_outliers(column):\n",
    "    # Creates a box and whisker plot to visualize data points that are considered to be outliers\n",
    "    sns.boxplot(copied_all_hydrants_df[f'{column}_adjusted'])\n",
    "    plt.title(f\"Original Box and Whisker Plot for {column}_adjusted\")\n",
    "    plt.show()\n",
    "    \n",
    "    # Computing the first, second (median), and third quartiles\n",
    "    q1 = copied_all_hydrants_df[f'{column}_adjusted'].quantile(0.25)\n",
    "    q2 = copied_all_hydrants_df[f'{column}_adjusted'].quantile(0.5)\n",
    "    q3 = copied_all_hydrants_df[f'{column}_adjusted'].quantile(0.75)\n",
    "\n",
    "    print(f\"First quartile is {q1}\")\n",
    "    print(f\"Median is {q2}\")\n",
    "    print(f\"Third quartile is {q3}\")\n",
    "    \n",
    "    # Computing the interquartile range\n",
    "    iqr = q3 - q1\n",
    "\n",
    "    # Values that are lower than the lower fence or higher than the upper fence are considered to be outliers\n",
    "    lower_fence = q1 - (1.5 * iqr)\n",
    "    upper_fence = q3 + (1.5 * iqr)\n",
    "\n",
    "    print(f\"Lower fence is {lower_fence}\")\n",
    "    print(f\"Upper fence is {upper_fence}\")\n",
    "\n",
    "    # Replace outliers with the median\n",
    "    copied_all_hydrants_df[f'{column}_adjusted'] = [x if lower_fence <= x <= upper_fence else q2 for x in copied_all_hydrants_df[f'{column}_adjusted']]\n",
    "    \n",
    "    # Replace outliers with the nearest value\n",
    "    \"\"\"\n",
    "    return [x if lower_bound <= x <= upper_bound else \n",
    "            (lower_bound if x < lower_bound else upper_bound)\n",
    "    \"\"\"\n",
    "    \n",
    "    # New box and whisker plot with outliers adjusted\n",
    "    sns.boxplot(copied_all_hydrants_df[f'{col}_adjusted'])\n",
    "    plt.title(f\"New Box and Whisker Plot for {col}\")\n",
    "    plt.show()"
   ]
  },
  {
   "cell_type": "code",
   "execution_count": 27,
   "id": "bdac3fcf-d32f-4a45-b9bb-52df1724918b",
   "metadata": {},
   "outputs": [
    {
     "data": {
      "image/png": "iVBORw0KGgoAAAANSUhEUgAAAjsAAAGgCAYAAABMn6ZGAAAAOXRFWHRTb2Z0d2FyZQBNYXRwbG90bGliIHZlcnNpb24zLjkuMCwgaHR0cHM6Ly9tYXRwbG90bGliLm9yZy80BEi2AAAACXBIWXMAAA9hAAAPYQGoP6dpAABOzklEQVR4nO3deVhUZf8/8PewDZsMoMCAAgKuKKi54oL7hvuSGxqkZeJSrpVGouVSWqmVmva49QjWk1tZopILpIKVywOiuSACPrIlsggCwpzfH/7mfB0BZWBg8Ph+XddcNefcc+Zzxlne3Oe+z5EJgiCAiIiISKIM9F0AERERUU1i2CEiIiJJY9ghIiIiSWPYISIiIklj2CEiIiJJY9ghIiIiSWPYISIiIklj2CEiIiJJY9ghIiIiSWPYkYBly5ZBJpNV6bE7d+6ETCbD7du3dVvUE27fvg2ZTIadO3fW2HO86AIDA9G4ceMafx71v/dff/313La9evVCr169tNq++r34zz//VLHC2lGVfauqGzduYMCAAVAoFJDJZDh48GCtPC+9OBo3bozAwEDx/qlTpyCTyXDq1Cm91VRVtfnZ0gbDjh7Fx8dj8uTJaNiwIeRyOZycnODv74/4+Hh9l6YX6g/4kzdbW1t06dIFoaGh+i5P7/z8/GBjY4Onr/By8eJFyGQyuLq6lnnMiRMnIJPJsHXr1toqU68aN26s8f6xt7dHjx49cODAAZ1sv6CgAMuWLdPqRyggIABxcXFYuXIl/v3vf6NDhw46qaU86j8s1DdDQ0O4uLhg1KhRuHTpkkbbpz9rVlZW6NmzJ3799dcy21WH5IpuMTExYtsHDx4gJCQErVu3hoWFBerXr4+2bdvinXfewd27dzW2e/r0aQwePBgNGzaEqakpXFxcMGzYMISFhZVb6xtvvFHufn/wwQdimyeDdmBgICwtLTXa9urVCzKZDMOGDavw9fvss8/Kf4El4uzZs1i2bBmys7P1XUqtMdJ3AS+r/fv3Y+LEibC1tcW0adPg5uaG27dvY9u2bdi7dy++//57jBo1qlLbCg4Oxvvvv1+lOqZMmYIJEyZALpdX6fE14e2330bHjh0BAPfu3cMPP/yAyZMnIzs7G7NmzdJzdfrTvXt3hIeH4/Lly/Dy8hKXnzlzBkZGRkhOTsadO3fQqFEjjXXqx2rr2LFj1S9aD9q2bYsFCxYAAO7evYstW7Zg9OjR2Lx5M2bMmFGtbRcUFGD58uUAUKm/Xh8+fIjo6Gh88MEHmD17drWeWxsTJ06En58fSktLcfXqVWzevBnh4eGIiYlB27ZtxXb9+/fHa6+9BkEQkJSUhM2bN2PYsGEIDw/HwIEDy2z3o48+gpubW5nlTZo0AQA8evQIvr6++PvvvxEQEIA5c+bgwYMHiI+PR1hYGEaNGgUnJycAwI8//ojx48eLQcjGxgaJiYmIiorCt99+i0mTJmk8h6mpKfbt24dNmzbBxMREY92ePXtgamqKwsLCSr9Gv/zyC86fP4/27dtX+jG1xdfXFw8fPiyzn7py9uxZLF++HIGBgbC2tq6R56hrGHb0ICEhAVOmTIG7uzuioqJgZ2cnrnvnnXfQo0cPTJkyBbGxsXB3d69wO/n5+bCwsICRkRGMjKr2T2loaAhDQ8MqPbam9OjRA2PHjhXvBwUFwd3dHWFhYS992AEe/zX8dNjx8/PDiRMncPr0aUyYMEFcd/r0adSvXx8tW7bU+vlq6ou2OkpKSqBSqZ5ZW8OGDTF58mTx/muvvYYmTZpg3bp11Q472srMzAQAnf6gqD/3z/LKK69ovAbdunXD8OHDsXnzZmzZskVc3qxZM412Y8aMgaenJzZs2FBu2Bk8ePAze6YOHjyIixcvIjQ0tExYKSwsRHFxsXh/2bJl8PT0RExMTJl/z4yMjDLbHjRoEH7++WeEh4djxIgR4vKzZ88iMTERY8aMwb59+yqs7UkuLi7Iy8vD8uXL8fPPP1fqMbXJwMAApqam+i5DUngYSw/Wrl2LgoICbN26VSPoAECDBg2wZcsW5OfnY82aNeJy9ViIK1euYNKkSbCxsRF//Mobs/Pw4UO8/fbbaNCgAerVq4fhw4fjf//7H2QyGZYtWya2K2/MTuPGjTF06FCcPn0anTp1gqmpKdzd3fHdd99pPEdWVhYWLlwILy8vWFpawsrKCoMHD8Z///tfHb1Sj5mYmMDGxqZMoCspKcHHH38MDw8PyOVyNG7cGEuWLEFRUREAQBAE9O7dG3Z2dhpfnsXFxfDy8oKHhwfy8/MrfN7i4mIsXboU7du3h0KhgIWFBXr06IGTJ09qtHuy63vr1q1iPR07dsSff/5ZZrsHDx5E69atYWpqitatW1f6EEunTp1gYmIi9taonTlzBr6+vujUqZPGOpVKhZiYGHTt2rXM+6OoqAjz58+HnZ0dLCwsMGrUKPGHWa28Y+9fffUVWrVqBXNzc9jY2KBDhw5lDjk8LSkpCU2aNEHr1q2Rnp4OAMjOzsbcuXPh7OwMuVyOJk2a4NNPP4VKpRIf9+Trun79evF1vXLlSqVeLzWlUomWLVsiMTHxme0yMjIwbdo0ODg4wNTUFG3atMGuXbs06lF/XpcvXy4eNnny8/SkZcuWiYcWFy1aBJlMpjEu6+LFixg8eDCsrKxgaWmJvn37ahwOAv7v8xkZGYmZM2fC3t5eo+eusvr06QMAz30NWrZsiQYNGiAhIUHr5wAgPq5bt25l1pmamsLKykqjbceOHcsNrvb29mWWNWzYEL6+vmXeb6GhofDy8kLr1q0rXWe9evUwb948HDp0CBcuXKj04yqyY8cO9OnTB/b29pDL5fD09MTmzZvLtBMEAStWrECjRo1gbm6O3r17lztsobwxO0+P61HT9nO6bNkyLFq0CADg5uYmvo+f/A3YvXs32rdvDzMzM9ja2mLChAlISUkp89zq7zszMzN06tQJv//+eyVeLf1gz44eHDp0CI0bN0aPHj3KXe/r64vGjRuXe+z81VdfRdOmTbFq1aoyYzeeFBgYiP/85z+YMmUKunTpgsjISAwZMqTSNd68eRNjx47FtGnTEBAQgO3btyMwMBDt27dHq1atAAC3bt3CwYMH8eqrr8LNzQ3p6enYsmULevbsiStXrojd1drKy8sTj7tnZWUhLCwMly9fxrZt2zTavfHGG9i1axfGjh2LBQsW4Ny5c1i9ejWuXr2KAwcOQCaTYfv27fD29saMGTOwf/9+AEBISAji4+Nx6tSpZ/6FnJubi3/961+YOHEi3nzzTeTl5WHbtm0YOHAg/vjjD43DAQAQFhaGvLw8vPXWW5DJZFizZg1Gjx6NW7duwdjYGMDjQ0Pqv55Xr16Ne/fu4fXXX6/UD5ipqSnat2+P06dPi8tSUlKQkpKCrl27Ijs7W+M9ExcXh9zc3HIPYc2ZMwc2NjYICQnB7du3sX79esyePRs//PBDhc//7bff4u2338bYsWPxzjvvoLCwELGxsTh37lyZv+LVEhIS0KdPH9ja2iIiIgINGjRAQUEBevbsif/9739466234OLigrNnz2Lx4sVITU3F+vXrNbaxY8cOFBYWYvr06ZDL5bC1tX3ua/WkR48eISUlBfXr16+wzcOHD9GrVy/cvHkTs2fPhpubG3788UcEBgYiOzsb77zzDuzs7LB582YEBQVh1KhRGD16NADA29u73G2OHj0a1tbWmDdvnnhYST1+JD4+Hj169ICVlRXeffddGBsbY8uWLejVqxciIyPRuXNnjW3NnDkTdnZ2WLp06TMDekXUIeRZrwEA5OTk4P79+/Dw8Khw/dODz2Uymbhddbj77rvvEBwc/MyJE66urjh+/HiZQ6/PMmnSJLzzzjt48OABLC0tUVJSgh9//BHz58/X6hAW8LgXfd26dVi2bFm1e3c2b96MVq1aYfjw4TAyMsKhQ4cwc+ZMqFQqjd7opUuXYsWKFfDz84Ofnx8uXLiAAQMGaPR4VdfzPqejR4/G9evXsWfPHqxbtw4NGjQAADHIr1y5Eh9++CHGjRuHN954A5mZmfjqq6/g6+uLixcvir2U27Ztw1tvvYWuXbti7ty5uHXrFoYPHw5bW1s4OzvrbH90RqBalZ2dLQAQRowY8cx2w4cPFwAIubm5giAIQkhIiABAmDhxYpm26nVq58+fFwAIc+fO1WgXGBgoABBCQkLEZTt27BAACImJieIyV1dXAYAQFRUlLsvIyBDkcrmwYMECcVlhYaFQWlqq8RyJiYmCXC4XPvroI41lAIQdO3Y8c59PnjwpAChzMzAwEFauXKnR9tKlSwIA4Y033tBYvnDhQgGAcOLECXHZli1bBADC7t27hZiYGMHQ0LDMa1OekpISoaioSGPZ/fv3BQcHB2Hq1Kll9q9+/fpCVlaWuPynn34SAAiHDh0Sl7Vt21ZwdHQUsrOzxWXHjh0TAAiurq7PrWnRokUCAOHOnTuCIAjCnj17BFNTU6GoqEg4fPiwYGhoKL5nvv76awGAcObMGfHx6n/vfv36CSqVSlw+b948wdDQUKOunj17Cj179hTvjxgxQmjVqtUz61O/FzMzM4WrV68KTk5OQseOHTVel48//liwsLAQrl+/rvHY999/XzA0NBSSk5MFQfi/19XKykrIyMh47msjCI/fuwMGDBAyMzOFzMxM4b///a8wYcIEAYAwZ86cCvdt/fr14ntErbi4WPDx8REsLS3F1zQzM7PMZ+hZ1Puwdu1ajeUjR44UTExMhISEBHHZ3bt3hXr16gm+vr7iMvW/V/fu3YWSkpJKP9/y5cuFzMxMIS0tTTh16pTQrl07AYCwb98+sS0AYdq0aUJmZqaQkZEh/PXXX8KgQYPKrVddR3k3uVwutisoKBCaN28uvp8DAwOFbdu2Cenp6WVq3bZtmwBAMDExEXr37i18+OGHwu+//17mO0Vd66xZs4SsrCzBxMRE+Pe//y0IgiD8+uuvgkwmE27fvq3x3lMLCAgQLCwsNLbVs2dP8X28fPlyAYBw/vx5jdfv6f1/noKCgjLLBg4cKLi7u4v3MzIyBBMTE2HIkCEan70lS5YIAISAgABxmfq78OTJk+IyV1dXjTZP7o+2n9O1a9eW+d4XBEG4ffu2YGhoWOb7Ni4uTjAyMhKXFxcXC/b29kLbtm01viO3bt0qANCop67gYaxalpeXB+BxN+qzqNfn5uZqLK/MmIMjR44AePzX4JPmzJlT6To9PT01ep7s7OzQvHlz3Lp1S1wml8thYPD4LVRaWop79+7B0tISzZs3r1bX8NKlSxEREYGIiAj88MMPmDhxIj744ANs2LBBbHP48GEAwPz58zUeqx6Y+mQPx/Tp0zFw4EDMmTMHU6ZMgYeHB1atWvXcOgwNDcUudpVKhaysLJSUlKBDhw7l7t/48eNhY2Mj3le/furXLDU1FZcuXUJAQAAUCoXYrn///vD09HxuPcD/jdtRdxefOXMG7du3h4mJCXx8fMRDV+p1pqam5Y6xmD59usZf3T169EBpaSmSkpIqfG5ra2vcuXOn3ENzT7t8+TJ69uyJxo0b47ffftN4XX788Uf06NEDNjY2+Oeff8Rbv379UFpaiqioKI1tjRkzpszh3mc5duwY7OzsYGdnhzZt2uDHH3/ElClT8Omnn1b4mMOHD0OpVGLixIniMmNjY7z99tt48OABIiMjK/38z1NaWopjx45h5MiRGmPyHB0dMWnSJJw+fbrM5/7NN9/UamxdSEgI7OzsoFQq0atXLyQkJODTTz8Ve6PUtm3bBjs7O9jb26NDhw44fvw43n333TKfK7WNGzeKn031LTw8XFxvZmaGc+fOiYdJdu7ciWnTpsHR0RFz5swRDzEDwNSpU3HkyBH06tULp0+fxscff4wePXqgadOmOHv2bLnPb2Njg0GDBmHPnj0AHvemdu3atdyZiJWhHhitHnReVWZmZuL/q3u/evbsiVu3biEnJwcA8Ntvv6G4uBhz5szR+OzNnTu3Ws/9NG0+p0/bv38/VCoVxo0bp/HZVCqVaNq0qXgI/6+//kJGRgZmzJihcRgyMDBQ47utLuFhrFqmDjHq0FORikJReTMhnpaUlAQDA4MybdUzJirDxcWlzDIbGxvcv39fvK9SqbBhwwZs2rQJiYmJKC0tFdc9r7v8Wby8vNCvXz/x/rhx45CTk4P3338fkyZNgp2dnbiPT++TUqmEtbV1mR/tbdu2wcPDAzdu3MDZs2c1vpyeZdeuXfj888/x999/49GjR+Ly8v4dnn7N1D/w6tdMXVPTpk3LPLayAbFbt26QyWQ4c+YMJkyYgDNnzqB///4AHn/JeXp6isvOnDlT4ZiI59Vanvfeew+//fYbOnXqhCZNmmDAgAGYNGlSueMzhg0bBgcHBxw9erTM1N8bN24gNja2wgDz9ODUyrznn9S5c2esWLECMpkM5ubmaNmy5XMHCCclJaFp06ZieFdTD+x+VgjUVmZmJgoKCtC8efMy61q2bAmVSoWUlBTxcDGg/Wswffp0vPrqqzAwMIC1tTVatWpV7ozLESNGYPbs2SguLsaff/6JVatWoaCgoMzroNapU6fnTp1XKBRYs2YN1qxZg6SkJBw/fhyfffYZvv76aygUCqxYsUJsO3DgQAwcOBAFBQU4f/48fvjhB3zzzTcYOnQo/v7773LH7kyaNAlTpkxBcnIyDh48qDG2UVsKhQJz585FSEgILl68qBHKtXHmzBmEhIQgOjoaBQUFGutycnKgUCgq/Pzb2dlV+XnLo83n9Gk3btyAIAjlfkcBEA/HV7QvxsbGz5xUo0/s2allCoUCjo6OiI2NfWa72NhYNGzYUGNAH4BK/0hXV0V/RQpPjBNatWoV5s+fD19fX+zevRtHjx5FREQEWrVqpTHQVBf69u2LwsJC/PHHHxrLK3syxVOnTol/VcbFxVXqMbt370ZgYCA8PDywbds2HDlyBBEREejTp0+5+1eZ16y66tevjxYtWuD06dN48OABYmNj0bVrV3F9165dcfr0ady5cwfJyckVTjmvSq0tW7bEtWvX8P3336N79+7Yt28funfvjpCQkDJtx4wZg4SEhHLPj6RSqdC/f/8yPQTq25gxYzTaa/ueb9CgAfr164e+ffvCx8dHElNrtX0NmjZtin79+qFPnz545ZVXKjy1RKNGjdCvXz/4+fkhJCQEX3zxBb7++mtxfFt1ubq6YurUqThz5gysra0rPF+Wubk5evToga+//hrBwcG4f/++Ro/Rk4YPHw65XI6AgAAUFRVh3Lhx1arxnXfegbW1dZV7dxISEtC3b1/8888/+OKLL/Drr78iIiIC8+bNAwCdfRdW9F335B+ZgHaf06epVCrIZDLxu+7p25Mz+V407NnRg6FDh+Lbb7/F6dOny/0x+v3333H79m289dZbVdq+q6srVCoVEhMTNZL3zZs3q1xzefbu3YvevXuXGTicnZ0tDnrTlZKSEgCPT1gG/N8+3rhxQ2NadXp6OrKzszW6tVNTUzFnzhwMGDAAJiYmWLhwIQYOHPjcru+9e/fC3d0d+/fv1/iiqcyXRnnUz3fjxo0y665du1bp7XTv3h3bt2/HsWPHUFpaWibs7NmzR5zFUZXz6zyLhYUFxo8fj/Hjx6O4uBijR4/GypUrsXjxYo2psmvXroWRkRFmzpyJevXqaQxg9vDwwIMHDzR67/TN1dUVsbGxUKlUGr0af//9t7geqHy4fhY7OzuYm5uX+2/+999/w8DAQG8DPN966y2sW7cOwcHBGDVqlE72F3jcc+jh4YHLly8/t6265yg1NbXc9WZmZhg5ciR2796NwYMHV/u7Rt27s2zZMgQEBGj9+EOHDqGoqAg///yzRo/p07M2n/z8P9n7kZmZ+cweVTUbG5tyTwKYlJRUpjfleZ/Tiv5dPTw8IAgC3Nzc0KxZswpreXJf1DP9gMeTARITE9GmTZvn7k9tY8+OHixatAhmZmZ46623cO/ePY11WVlZmDFjBszNzcXj3tpSnx9j06ZNGsu/+uqrqhVcAUNDwzI9AT/++CP+97//6fR5gMcnAAMgfoj8/PwAoMzMnS+++AIANGaevfnmm1CpVNi2bRu2bt0KIyMjTJs27bk9LurejyfbnTt3DtHR0VXaB0dHR7Rt2xa7du0Sj+MDQEREhFbTqbt3747S0lJ89tlnaNq0qcbhoK5du+LBgwfYtGkTDAwMNIJQdT39XjUxMYGnpycEQdA4xAdAPGvz2LFjERAQoDHbZdy4cYiOjsbRo0fLPEd2drYYbGuTn58f0tLSNGajlZSU4KuvvoKlpSV69uwJ4HEPhLrOqjI0NMSAAQPw008/aUz3TU9PR1hYGLp3716mR7e2GBkZYcGCBbh69Sp++uknrR//3//+t9xLhSQlJeHKlSsah+6OHz9e7jbU4/HKO8yntnDhQoSEhODDDz/UusbyzJ07F9bW1vjoo4+0fmx53xM5OTnYsWOHRrt+/frB2NgYX331lUbbp7/DKuLh4YGYmBiNmVu//PJLmSnhlfmcqmehPv0+Hj16NAwNDbF8+fIy34+CIIjb7tChA+zs7PDNN99o1LNz5846e1Zm9uzoQdOmTbFr1y74+/vDy8urzBmU//nnH+zZs6fC6Z/P0759e4wZMwbr16/HvXv3xKnn169fB6Cbv06Bxz1UH330EV5//XV07doVcXFxCA0NrfYx299//12cRpqVlYWff/4ZkZGRmDBhAlq0aAHgcegJCAjA1q1bkZ2djZ49e+KPP/7Arl27MHLkSPTu3RvA42nLv/76K3bu3ClOb/3qq68wefJkbN68ucwg7qf3b//+/Rg1ahSGDBmCxMREfPPNN/D09BR7mLS1evVqDBkyBN27d8fUqVORlZUlnhOjsttU99ZER0eXOe9Gs2bN0KBBA0RHR8PLy0unh3AGDBgApVKJbt26wcHBAVevXsXXX3+NIUOGlDvg3sDAALt378bIkSMxbtw4HD58GH369MGiRYvw888/Y+jQoeLpDPLz8xEXF4e9e/fi9u3bOu8ZfJ7p06djy5YtCAwMxPnz59G4cWPs3bsXZ86cwfr168X9MzMzg6enJ3744Qc0a9YMtra2aN26tVbneAGAFStWICIiAt27d8fMmTNhZGSELVu2oKioqFpjUHQhMDAQS5cuxaeffoqRI0dqrAsPDxd7u57UtWtXuLu7IyIiAiEhIRg+fDi6dOkCS0tL3Lp1C9u3b0dRUZHGOYlGjBgBNzc3DBs2TDzn1W+//YZDhw6hY8eO5V7OQa1NmzY67T1QKBR45513qnQoS91jPGzYMLz11lt48OABvv32W9jb22v0TtnZ2WHhwoVYvXo1hg4dCj8/P1y8eBHh4eGVer+/8cYb2Lt3LwYNGoRx48YhISEBu3fvLvM7UZnPqfqs0R988AEmTJgAY2Nj8d9hxYoVWLx4MW7fvo2RI0eiXr16SExMxIEDBzB9+nQsXLgQxsbGWLFiBd566y306dMH48ePR2JiInbs2FFnx+xw6rkexcbGChMnThQcHR0FY2NjQalUChMnThTi4uLKtC1vWuXT656Un58vzJo1S7C1tRUsLS2FkSNHCteuXRMACJ988onYrqKp50OGDCnzPE9PcSwsLBQWLFggODo6CmZmZkK3bt2E6OjoMu2qM/XcxMREaNGihbBy5UqhuLhYo/2jR4+E5cuXC25uboKxsbHg7OwsLF68WCgsLBQEQRBSUlIEhUIhDBs2rMxzjRo1SrCwsBBu3bpVYT0qlUpYtWqV4OrqKsjlcqFdu3bCL7/8IgQEBGhME3/WdFWUM0153759QsuWLQW5XC54enoK+/fvL7PN53FychIACFu3bi2zTn3agqCgoDLr1P/ef/75p8by8qa6Pv3vuGXLFsHX11eoX7++IJfLBQ8PD2HRokVCTk6O2Ka892lBQYHQs2dPwdLSUoiJiREEQRDy8vKExYsXC02aNBFMTEyEBg0aCF27dhU+++wz8d+5KtOAK3rvPu3pfRMEQUhPTxdef/11oUGDBoKJiYng5eVV7nv27NmzQvv27QUTE5PnTkN/1j5cuHBBGDhwoGBpaSmYm5sLvXv3Fs6ePavRpqJ/r6o839Pw/6dzl2fZsmUa74dnTT1/8rN969YtYenSpUKXLl0Ee3t7wcjISLCzsxOGDBmicToIQXh82oQJEyYIHh4egpmZmWBqaip4enoKH3zwgTjVvzK1qlVl6vmT7t+/LygUiipNPf/5558Fb29vwdTUVGjcuLHw6aefCtu3by/z3VpaWiosX75c/M7s1auXcPny5TLTysv7PAqCIHz++edCw4YNBblcLnTr1k3466+/qvQ5FYTHp4Bo2LChYGBgUKbOffv2Cd27dxcsLCwECwsLoUWLFsKsWbOEa9euaWxj06ZNgpubmyCXy4UOHToIUVFR5X626gKZIOhw9CTVaZcuXUK7du2we/du+Pv767scIiIqx/Hjx9GvXz/8/vvvOh9397LimB2JevjwYZll69evh4GBAXx9ffVQERERVYb68FdtH86VMo7Zkag1a9bg/Pnz6N27N4yMjBAeHo7w8HBMnz69bp7Km4iojklLS3vmejMzM52eRC8/Px+hoaHYsGEDGjVq9MwZUaQdHsaSqIiICCxfvhxXrlzBgwcP4OLigilTpuCDDz6o8hXSiYheJs+bzBEQEICdO3fq7Plu376N5s2bw8vLC5s2bUKnTp10tu2XHcMOERFROX777bdnrndycqr0pV5Ivxh2iIiISNI4QJmIiIgkjYM38Ph6IHfv3kW9evV0dsI9IiIiqlmCICAvLw9OTk4VXsAWYNgBANy9e5czlIiIiF5QKSkp4lnyy8OwA4in0E5JSdHbNWmIiIhIO7m5uXB2di73kjVPYtjB/00vtLKyYtghIiJ6wTxvCAoHKBMREZGkMewQERGRpDHsEBERkaQx7BAREZGkMewQERGRpDHsEBERkaQx7BAREZGkMewQERGRpPGkgkQkWaWlpYiNjUVWVhZsbW3h7e0NQ0NDfZdFRLWMYYeIJCkqKgqbNm1CWlqauEypVGLmzJnw9fXVY2VEVNt4GIuIJCcqKgohISFwd3fHxo0bcfjwYWzcuBHu7u4ICQlBVFSUvkskolokEwRB0HcR+pabmwuFQoGcnBxeG4voBVdaWgp/f3+4u7tjxYoVMDD4v7/pVCoVgoODkZiYiN27d/OQFtELrrK/33rt2dm8eTO8vb3FC3D6+PggPDxcXN+rVy/IZDKN24wZMzS2kZycjCFDhsDc3Bz29vZYtGgRSkpKantXiKiOiI2NRVpaGvz9/TWCDgAYGBjA398fqampiI2N1VOFRFTb9Dpmp1GjRvjkk0/QtGlTCIKAXbt2YcSIEbh48SJatWoFAHjzzTfx0UcfiY8xNzcX/7+0tBRDhgyBUqnE2bNnkZqaitdeew3GxsZYtWpVre8PEelfVlYWAMDNza3c9erl6nZEJH167dkZNmwY/Pz80LRpUzRr1gwrV66EpaUlYmJixDbm5uZQKpXi7cluqmPHjuHKlSvYvXs32rZti8GDB+Pjjz/Gxo0bUVxcrI9dIiI9s7W1BQAkJiaWu169XN2OiKSvzgxQLi0txffff4/8/Hz4+PiIy0NDQ9GgQQO0bt0aixcvRkFBgbguOjoaXl5ecHBwEJcNHDgQubm5iI+Pr/C5ioqKkJubq3EjImnw9vaGUqlEaGgoVCqVxjqVSoXQ0FA4OjrC29tbTxUSUW3Te9iJi4uDpaUl5HI5ZsyYgQMHDsDT0xMAMGnSJOzevRsnT57E4sWL8e9//xuTJ08WH5uWlqYRdACI95+cbvq01atXQ6FQiDdnZ+ca2DMi0gdDQ0PMnDkT0dHRCA4ORnx8PAoKChAfH4/g4GBER0cjKCiIg5OJXiJ6n41VXFyM5ORk5OTkYO/evfjXv/6FyMhIMfA86cSJE+jbty9u3rwJDw8PTJ8+HUlJSTh69KjYpqCgABYWFjh8+DAGDx5c7nMWFRWhqKhIvJ+bmwtnZ2fOxiKSkPLOs+Po6IigoCCeZ4dIIio7G0vvJxU0MTFBkyZNAADt27fHn3/+iQ0bNmDLli1l2nbu3BkAxLCjVCrxxx9/aLRJT08H8PjkYRWRy+WQy+W62gUiqoN8fX3RrVs3nkGZiPQfdp6mUqk0el2edOnSJQCP/zoDAB8fH6xcuRIZGRmwt7cHAERERMDKyqrcniEierkYGhqiXbt2+i6DiPRMr2Fn8eLFGDx4MFxcXJCXl4ewsDCcOnUKR48eRUJCAsLCwuDn54f69esjNjYW8+bNg6+vrziwcMCAAfD09MSUKVOwZs0apKWlITg4GLNmzWLPDREREQHQc9jJyMjAa6+9htTUVCgUCnh7e+Po0aPo378/UlJS8Ntvv2H9+vXIz8+Hs7MzxowZg+DgYPHxhoaG+OWXXxAUFAQfHx9YWFggICBA47w8RERE9HLT+wDluoCXiyAiInrxvBCXiyAiIiKqaQw7REREJGkMO0RERCRpDDtEREQkaQw7REREJGkMO0RERCRpDDtEREQkaQw7REREJGkMO0RERCRpDDtEREQkaXXuqudERLpSWlqK2NhYZGVlwdbWFt7e3jA0NNR3WURUyxh2iEiSoqKisGnTJqSlpYnLlEolZs6cCV9fXz1WRkS1jYexiEhyoqKiEBISAnd3d2zcuBGHDx/Gxo0b4e7ujpCQEERFRem7RCKqRbzqOXjVcyIpKS0thb+/P9zd3bFixQoYGPzf33QqlQrBwcFITEzE7t27eUiL6AXHq54T0UspNjYWaWlp8Pf31wg6AGBgYAB/f3+kpqYiNjZWTxUSUW1j2CEiScnKygIAuLm5lbtevVzdjoikj2GHiCTF1tYWAJCYmFjuevVydTsikj6GHSKSFG9vbyiVSoSGhkKlUmmsU6lUCA0NhaOjI7y9vfVUIRHVNoYdIpIUQ0NDzJw5E9HR0QgODkZ8fDwKCgoQHx+P4OBgREdHIygoiIOTiV4inI0FzsYikqLyzrPj6OiIoKAgnmeHSCIq+/vNsAOGHSKp4hmUiaStsr/fPIMyEUmWoaEh2rVrp+8yiEjPOGaHiIiIJI1hh4iIiCSNYYeIiIgkjWGHiIiIJI1hh4iIiCSNYYeIiIgkjWGHiIiIJI1hh4iIiCSNYYeIiIgkjWGHiIiIJI1hh4iIiCSNYYeIiIgkjWGHiIiIJI1hh4iIiCSNYYeIiIgkjWGHiIiIJI1hh4iIiCSNYYeIiIgkjWGHiIiIJE2vYWfz5s3w9vaGlZUVrKys4OPjg/DwcHF9YWEhZs2ahfr168PS0hJjxoxBenq6xjaSk5MxZMgQmJubw97eHosWLUJJSUlt7woRERHVUXoNO40aNcInn3yC8+fP46+//kKfPn0wYsQIxMfHAwDmzZuHQ4cO4ccff0RkZCTu3r2L0aNHi48vLS3FkCFDUFxcjLNnz2LXrl3YuXMnli5dqq9dIiIiojpGJgiCoO8inmRra4u1a9di7NixsLOzQ1hYGMaOHQsA+Pvvv9GyZUtER0ejS5cuCA8Px9ChQ3H37l04ODgAAL755hu89957yMzMhImJSbnPUVRUhKKiIvF+bm4unJ2dkZOTAysrq5rfSSIiIqq23NxcKBSK5/5+15kxO6Wlpfj++++Rn58PHx8fnD9/Ho8ePUK/fv3ENi1atICLiwuio6MBANHR0fDy8hKDDgAMHDgQubm5Yu9QeVavXg2FQiHenJ2da27HiIiISK/0Hnbi4uJgaWkJuVyOGTNm4MCBA/D09ERaWhpMTExgbW2t0d7BwQFpaWkAgLS0NI2go16vXleRxYsXIycnR7ylpKTodqeIiIiozjDSdwHNmzfHpUuXkJOTg7179yIgIACRkZE1+pxyuRxyubxGn4OIiIjqBr2HHRMTEzRp0gQA0L59e/z555/YsGEDxo8fj+LiYmRnZ2v07qSnp0OpVAIAlEol/vjjD43tqWdrqdsQERHRy03vh7GeplKpUFRUhPbt28PY2BjHjx8X1127dg3Jycnw8fEBAPj4+CAuLg4ZGRlim4iICFhZWcHT07PWayciIqK6R689O4sXL8bgwYPh4uKCvLw8hIWF4dSpUzh69CgUCgWmTZuG+fPnw9bWFlZWVpgzZw58fHzQpUsXAMCAAQPg6emJKVOmYM2aNUhLS0NwcDBmzZrFw1REREQEQM9hJyMjA6+99hpSU1OhUCjg7e2No0ePon///gCAdevWwcDAAGPGjEFRUREGDhyITZs2iY83NDTEL7/8gqCgIPj4+MDCwgIBAQH46KOP9LVLREREVMfUufPs6ENl5+kTERFR3fHCnWeHiIiIqCYw7BAREZGkMewQERGRpDHsEBERkaQx7BAREZGkMewQERGRpDHsEBERkaQx7BAREZGkMewQERGRpDHsEBERkaQx7BAREZGkMewQERGRpDHsEBERkaQx7BAREZGkMewQERGRpDHsEBERkaQx7BAREZGkMewQERGRpDHsEBERkaQx7BAREZGkMewQERGRpDHsEBERkaQx7BAREZGkMewQERGRpDHsEBERkaQx7BAREZGkMewQERGRpDHsEBERkaQx7BAREZGkMewQERGRpDHsEBERkaQx7BAREZGkMewQERGRpDHsEBERkaQx7BAREZGkMewQERGRpDHsEBERkaQx7BAREZGkMewQERGRpDHsEBERkaTpNeysXr0aHTt2RL169WBvb4+RI0fi2rVrGm169eoFmUymcZsxY4ZGm+TkZAwZMgTm5uawt7fHokWLUFJSUpu7QkRERHWUkT6fPDIyErNmzULHjh1RUlKCJUuWYMCAAbhy5QosLCzEdm+++SY++ugj8b65ubn4/6WlpRgyZAiUSiXOnj2L1NRUvPbaazA2NsaqVatqdX+IiIio7pEJgiBUtvH8+fMrveEvvvhC62IyMzNhb2+PyMhI+Pr6Anjcs9O2bVusX7++3MeEh4dj6NChuHv3LhwcHAAA33zzDd577z1kZmbCxMTkuc+bm5sLhUKBnJwcWFlZaV03ERER1b7K/n5r1bNz8eJFjfsXLlxASUkJmjdvDgC4fv06DA0N0b59+yqUDOTk5AAAbG1tNZaHhoZi9+7dUCqVGDZsGD788EOxdyc6OhpeXl5i0AGAgQMHIigoCPHx8WjXrl2Z5ykqKkJRUZF4Pzc3t0r1EhERUd2nVdg5efKk+P9ffPEF6tWrh127dsHGxgYAcP/+fbz++uvo0aOH1oWoVCrMnTsX3bp1Q+vWrcXlkyZNgqurK5ycnBAbG4v33nsP165dw/79+wEAaWlpGkEHgHg/LS2t3OdavXo1li9frnWNRERE9OLR6jDWkxo2bIhjx46hVatWGssvX76MAQMG4O7du1ptLygoCOHh4Th9+jQaNWpUYbsTJ06gb9++uHnzJjw8PDB9+nQkJSXh6NGjYpuCggJYWFjg8OHDGDx4cJltlNez4+zszMNYREREL5DKHsaq8mys3NxcZGZmllmemZmJvLw8rbY1e/Zs/PLLLzh58uQzgw4AdO7cGQBw8+ZNAIBSqUR6erpGG/V9pVJZ7jbkcjmsrKw0bkRERCRNVQ47o0aNwuuvv479+/fjzp07uHPnDvbt24dp06Zh9OjRldqGIAiYPXs2Dhw4gBMnTsDNze25j7l06RIAwNHREQDg4+ODuLg4ZGRkiG0iIiJgZWUFT09P7XeMiIiIJKXKh7EKCgqwcOFCbN++HY8ePQIAGBkZYdq0aVi7dq3G1PGKzJw5E2FhYfjpp5/EQc4AoFAoYGZmhoSEBISFhcHPzw/169dHbGws5s2bh0aNGiEyMhLA46nnbdu2hZOTE9asWYO0tDRMmTIFb7zxRqWnnnM2FhER0Yunsr/fVQ47avn5+UhISAAAeHh4VCrkiE8uk5W7fMeOHQgMDERKSgomT56My5cvIz8/H87Ozhg1ahSCg4M1diopKQlBQUE4deoULCwsEBAQgE8++QRGRpUbf82wQ0RE9OKptbBz8+ZNJCQkwNfXF2ZmZhAEocIQU1cx7BAREb14anyA8r1799C3b180a9YMfn5+SE1NBQBMmzYNCxYsqOpmiYiIiHSqymFn3rx5MDY2RnJyssblG8aPH48jR47opDgiIiKi6qrytbGOHTuGo0ePlpkq3rRpUyQlJVW7MCIiIiJdqHLPTn5+vkaPjlpWVhbkcnm1iiIiIiLSlSqHnR49euC7774T78tkMqhUKqxZswa9e/fWSXFERERE1VXlw1hr1qxB37598ddff6G4uBjvvvsu4uPjkZWVhTNnzuiyRiIiIqIqq3LPTuvWrXH9+nV0794dI0aMQH5+PkaPHo2LFy/Cw8NDlzUSERERVVmVz7OTnJwMZ2fncs+pk5ycDBcXl2oXV1t4nh0iIqIXT42fZ8fNza3cC4Heu3evUte4IiIiIqoNVQ47FZ0p+cGDBzA1Na1WUURERES6ovUA5fnz5wN4PPvqww8/1Jh+XlpainPnzqFt27Y6K5CIiIioOrQOOxcvXgTwuGcnLi4OJiYm4joTExO0adMGCxcu1F2FRERERNWgddg5efIkAOD111/Hhg0bOKCXiIiI6rQqj9nZsWOHRtDJzc3FwYMH8ffff+ukMCIiIiJdqHLYGTduHL7++msAwMOHD9GhQweMGzcOXl5e2Ldvn84KJCIiIqqOKoedqKgo9OjRAwBw4MABCIKA7OxsfPnll1ixYoXOCiQiIiKqjiqHnZycHNja2gIAjhw5gjFjxsDc3BxDhgzBjRs3dFYgERERUXVUOew4OzsjOjoa+fn5OHLkCAYMGAAAuH//Ps+zQ0RERHVGlS8EOnfuXPj7+8PS0hKurq7o1asXgMeHt7y8vHRVHxEREVG1VDnszJw5E506dUJKSgr69+8PA4PHnUTu7u4cs0NERER1RpUvBColvBAoERHRi6eyv99V7tmZOnXqM9dv3769qpsmIiIi0pkqh5379+9r3H/06BEuX76M7Oxs9OnTp9qFEREREelClcPOgQMHyixTqVQICgqCh4dHtYoiIiIi0pUqTz0vd2MGBpg/fz7WrVuny80SERERVZlOww4AJCQkoKSkRNebJSIiIqqSKh/Gmj9/vsZ9QRCQmpqKX3/9FQEBAdUujIiIiEgXqhx2Ll68qHHfwMAAdnZ2+Pzzz587U4uIiIiotlQ57Jw8eVKXdRARERHVCJ2P2SEiIiKqS7Tq2XnllVdw/Phx2NjYoF27dpDJZBW2tbS0RKtWrbBkyRI4OztXu1AiIiKiqtAq7IwYMQJyuRwAMHLkyGe2LSoqwvHjxzF58mRERkZWuUAiIiKi6qjRa2MlJCSgVatWKCwsrKmn0AleG4uIiOjFU9nf7xods+Ph4YH09PSafAoiIiKiZ9LqMNbzxuk86cKFCwAAhUKhfVVEREREOqJV2HlynE5hYSE2bdoET09P+Pj4AABiYmIQHx+PmTNn6rRIIiIioqrSKuyEhISI///GG2/g7bffxscff1ymTUpKim6qIyIiIqqmKg9QVigU+Ouvv9C0aVON5Tdu3ECHDh2Qk5OjkwJrAwcoExERvXhqfICymZkZzpw5U2b5mTNnYGpqWtXNEhEREelUlS8XMXfuXAQFBeHChQvo1KkTAODcuXPYvn07PvzwQ50VSERERFQdVe7Zef/997Fr1y6cP38eb7/9Nt5++21cuHABO3bswPvvv1+pbaxevRodO3ZEvXr1YG9vj5EjR+LatWsabQoLCzFr1izUr18flpaWGDNmTJnp7MnJyRgyZAjMzc1hb2+PRYsWoaSkpKq7RkRERBJSoycVfJ5BgwZhwoQJ6NixI0pKSrBkyRJcvnwZV65cgYWFBQAgKCgIv/76K3bu3AmFQoHZs2fDwMBAPIRWWlqKtm3bQqlUYu3atUhNTcVrr72GN998E6tWrapUHRyzQ0RE9OKp7O+3XsPO0zIzM2Fvb4/IyEj4+voiJycHdnZ2CAsLw9ixYwEAf//9N1q2bIno6Gh06dIF4eHhGDp0KO7evQsHBwcAwDfffIP33nsPmZmZMDExee7zMuwQERG9eGp8gHJpaSk+++wzdOrUCUqlEra2thq3qlDP4FI//vz583j06BH69esntmnRogVcXFwQHR0NAIiOjoaXl5cYdABg4MCByM3NRXx8fLnPU1RUhNzcXI0bERERSVOVw87y5cvxxRdfYPz48cjJycH8+fMxevRoGBgYYNmyZVpvT6VSYe7cuejWrRtat24NAEhLS4OJiQmsra012jo4OCAtLU1s82TQUa9XryvP6tWroVAoxBuvyk5ERCRdVQ47oaGh+Pbbb7FgwQIYGRlh4sSJ+Ne//oWlS5ciJiZG6+3NmjULly9fxvfff1/Vkipt8eLFyMnJEW88CSIREZF0VTnspKWlwcvLCwBgaWkpHoIaOnQofv31V622NXv2bPzyyy84efIkGjVqJC5XKpUoLi5Gdna2Rvv09HQolUqxzdOzs9T31W2eJpfLYWVlpXEjIiIiaapy2GnUqBFSU1MBPL66+bFjxwAAf/75J+RyeaW2IQgCZs+ejQMHDuDEiRNwc3PTWN++fXsYGxvj+PHj4rJr164hOTlZvB6Xj48P4uLikJGRIbaJiIiAlZUVPD09q7p7REREJBFVPqngqFGjcPz4cXTu3Blz5szB5MmTsW3bNiQnJ2PevHmV2sasWbMQFhaGn376CfXq1RPH2CgUCpiZmUGhUGDatGmYP38+bG1tYWVlhTlz5sDHxwddunQBAAwYMACenp6YMmUK1qxZg7S0NAQHB2PWrFmVDl1EREQkXTqbeh4TE4OzZ8+iadOmGDZsWOWeXCYrd/mOHTsQGBgI4PFJBRcsWIA9e/agqKgIAwcOxKZNmzQOUSUlJSEoKAinTp2ChYUFAgIC8Mknn8DIqHJZjlPPiYiIXjx15jw7Q4YMwb/+9S84OjrW5NNUC8MOERHRi6fGz7NTWVFRUXj48GFNPw0RERFRuWo87BARERHpE8MOERERSRrDDhEREUkaww4RERFJGsMOERERSVqNh50lS5ZU+SroRERERNWl9Xl2oqKiKtXO19e3SgXpA8+zQ0RE9OKp7O+31peL6NWrV4Xr1GdElslkKCkp0XbTRERERDqnddi5f/9+ucsLCgqwYcMGfPnll3B3d692YURERES6oHXYUSgUGvdVKhW2b9+O5cuXw8DAABs3bkRAQIDOCiQiIiKqjipf9RwA9u/fjyVLliAzMxOLFy/GnDlzeKVxIiIiqlOqNBsrMjISXbp0wZQpUzB69GjcunULCxcuZNAhIiKiOkfrnh0/Pz/89ttvmDp1Kg4ePAilUlkTdRERERHphNZTzw0MDGBkZAQLCwtx9lV5srKyql1cbeHUcyIiohdPjU0937FjR7UKIyIiIqpNWocdzrQiIiKiFwmvjUVERESSpnXPjo2NzTPH6qi9SGN2iIiISLq0Djvr16+vgTKIiIiIagbH7BAREZGkccwOERERSZrWPTuVvcjnrVu3tC6GiIiISNe0Dju3b9+Gq6srJk2aBHt7+5qoiYiIiEhntA47P/zwA7Zv344vvvgCgwcPxtSpU+Hn5wcDAx4RIyIiorpH64Ty6quvIjw8HDdv3kT79u0xb948ODs74/3338eNGzdqokYiIiKiKqtyd0zDhg3xwQcf4MaNGwgLC8O5c+fQokUL3L9/X5f1EREREVWL1oexnlRYWIi9e/di+/btOHfuHF599VWYm5vrqjYiIiKiaqtS2Dl37hy2bduG//znP3B3d8fUqVOxb98+2NjY6Lo+IiIiomrROuy0atUKGRkZmDRpEiIjI9GmTZuaqIuIiIhIJ2SCIAjaPMDAwAAWFhYwMjJ65jWyXqRrY+Xm5kKhUCAnJwdWVlb6LoeIiIgqobK/31r37OzYsaNahRERERHVJl4bi4iIiCStWrOx1AoLC/HDDz8gPz8f/fv3R9OmTXWxWSIiIqJq0zrszJ8/H48ePcJXX30FACguLoaPjw/i4+Nhbm6Od999FxEREfDx8dF5sURERETa0vqkgseOHUP//v3F+6GhoUhKSsKNGzdw//59vPrqq1ixYoVOiyQiIiKqKq3DTnJyMjw9PcX7x44dw9ixY+Hq6gqZTIZ33nkHFy9e1GmRRERERFWlddgxMDDAk7PVY2Ji0KVLF/G+tbU1LxlBREREdYbWYadly5Y4dOgQACA+Ph7Jycno3bu3uD4pKQkODg66q5CIiIioGrQeoPzuu+9iwoQJ+PXXXxEfHw8/Pz+4ubmJ6w8fPoxOnTrptEgiIiKiqtK6Z2fUqFE4fPgwvL29MW/ePPzwww8a683NzTFz5kydFUhERERUHVqHHQDo27cv1q1bh/fee6/MVc5DQkLQq1evSm0nKioKw4YNg5OTE2QyGQ4ePKixPjAwEDKZTOM2aNAgjTZZWVnw9/eHlZUVrK2tMW3aNDx48KAqu0VEREQSpHXY+eeff5CUlKSxLD4+Hq+//jrGjRuHsLCwSm8rPz8fbdq0wcaNGytsM2jQIKSmpoq3PXv2aKz39/dHfHw8IiIi8MsvvyAqKgrTp0/XbqeIiIhIsrQeszNnzhw4OTnh888/BwBkZGSgR48ecHJygoeHBwIDA1FaWoopU6Y8d1uDBw/G4MGDn9lGLpdDqVSWu+7q1as4cuQI/vzzT3To0AEA8NVXX8HPzw+fffYZnJycyn1cUVERioqKxPu5ubnPrZWIiIheTFr37MTExGD48OHi/e+++w62tra4dOkSfvrpJ6xateqZPTXaOnXqFOzt7dG8eXMEBQXh3r174rro6GhYW1uLQQcA+vXrBwMDA5w7d67Cba5evRoKhUK8OTs766xeIiIiqlu0DjtpaWlo3LixeP/EiRMYPXo0jIwedxINHz4cN27c0ElxgwYNwnfffYfjx4/j008/RWRkJAYPHozS0lKxFnt7e43HGBkZwdbWFmlpaRVud/HixcjJyRFvKSkpOqmXiIiI6h6tD2NZWVkhOzsbrq6uAIA//vgD06ZNE9fLZDKNQ0TVMWHCBPH/vby84O3tDQ8PD5w6dQp9+/at8nblcjnkcrkuSiQiIqI6TuuenS5duuDLL7+ESqXC3r17kZeXhz59+ojrr1+/XmOHhdzd3dGgQQPcvHkTAKBUKpGRkaHRpqSkBFlZWRWO8yEiIqKXi9Zh5+OPP8bPP/8MMzMzjB8/Hu+++y5sbGzE9d9//z169uyp0yLV7ty5g3v37sHR0REA4OPjg+zsbJw/f15sc+LECahUKnTu3LlGaiAiIqIXi9aHsby9vXH16lWcOXMGSqWyTKiYMGGCxoVCn+XBgwdiLw0AJCYm4tKlS7C1tYWtrS2WL1+OMWPGQKlUIiEhAe+++y6aNGmCgQMHAnh86YpBgwbhzTffxDfffINHjx5h9uzZmDBhQoUzsYiIiOjlIhOevKpnLTt16pTGdbXUAgICsHnzZowcORIXL15EdnY2nJycMGDAAHz88cca197KysrC7NmzcejQIRgYGGDMmDH48ssvYWlpWek6cnNzoVAokJOTAysrK53sGxEREdWsyv5+ax12/Pz8sGfPHigUCgDAJ598ghkzZsDa2hoAcO/ePfTo0QNXrlypevW1jGGHiIjoxVPZ32+tx+wcPXpUY7bVqlWrkJWVJd4vKSnBtWvXtN0sERERUY3QOuw83RGkx6NgRERERM9VpQuBEhEREb0otA476quPP72MiIiIqC7Seuq5IAgIDAwUz0BcWFiIGTNmwMLCAgB0dvZkIiIiIl3QOuwEBARo3J88eXKZNq+99lrVKyIiIiLSIa3Dzo4dO2qiDiIiIqIaUSMDlPfu3VsTmyUiIiLSWpXCTklJCS5fvozr169rLP/pp5/Qpk0b+Pv766Q4IiIiourSOuxcvnwZTZo0QZs2bdCyZUuMHj0a6enp6NmzJ6ZOnYrBgwcjISGhJmolIiIi0prWY3bee+89NGnSBF9//TX27NmDPXv24OrVq5g2bRqOHDkCMzOzmqiTiIiIqEq0vjaWvb09jh07hrZt2yInJwc2NjbYtWsXpkyZUlM11jheG4uIiOjFU2PXxvrnn3/g5OQEAFAoFLCwsECXLl2qXikRERFRDdL6MJZMJkNeXh5MTU0hCAJkMhkePnyI3NxcjXbsISEiIqK6oEpnUG7WrJnG/Xbt2mncl8lkKC0t1U2FRERERNWgddg5efJkTdRBREREVCO0Djvdu3fHZ599hp9//hnFxcXo27cvQkJCOAuLiIiI6iStByivWrUKS5YsgaWlJRo2bIgNGzZg1qxZNVEbERERUbVpHXa+++47bNq0CUePHsXBgwdx6NAhhIaGQqVS1UR9RERERNWiddhJTk6Gn5+feL9fv36QyWS4e/euTgsjIiIi0gWtw05JSQlMTU01lhkbG+PRo0c6K4qIiIhIV6o09TwwMBByuVxcVlhYiBkzZsDCwkJctn//ft1USERERFQNWoedgICAMssmT56sk2KIiIiIdE3rsLNjx46aqIOIiIioRmg9ZoeIiIjoRcKwQ0RERJLGsENERESSxrBDREREksawQ0RERJLGsENERESSxrBDREREksawQ0RERJKm9UkFiYheFKWlpYiNjUVWVhZsbW3h7e0NQ0NDfZdFRLWMYYeIJCkqKgqbNm1CWlqauEypVGLmzJnw9fXVY2VEVNt4GIuIJCcqKgohISG4f/++xvL79+8jJCQEUVFReqqMiPSBYYeIJKW0tBRffPEFBEHAK6+8go0bN+Lw4cPYuHEjXnnlFQiCgHXr1qG0tFTfpRJRLWHYISJJuXTpErKzs+Hl5YWVK1eiVatWMDc3R6tWrbBy5Up4eXnh/v37uHTpkr5LJaJawrBDRJKiDjGBgYEwMND8ijMwMEBgYKBGOyKSPoYdIpIkmUym7xKIqI5g2CEiSWnbti0AYMeOHVCpVBrrVCoVdu7cqdGOiKRPr1PPo6KisHbtWpw/fx6pqak4cOAARo4cKa4XBAEhISH49ttvkZ2djW7dumHz5s1o2rSp2CYrKwtz5szBoUOHYGBggDFjxmDDhg2wtLTUwx4RPVZYWIjk5GR9l/FSsrCwgKWlJeLi4jB37lwMHjwYDRs2xP/+9z+Eh4cjLi4O9erVg4WFBa5fv67vcl9KLi4uMDU11XcZ9BLRa9jJz89HmzZtMHXqVIwePbrM+jVr1uDLL7/Erl274Obmhg8//BADBw7ElStXxA+Kv78/UlNTERERgUePHuH111/H9OnTERYWVtu7QyRKTk7G9OnT9V3GSy82NhaxsbFllufl5WHGjBl6qIgAYOvWrWjWrJm+y6CXiEwQBEHfRQCPj68/2bMjCAKcnJywYMECLFy4EACQk5MDBwcH7Ny5ExMmTMDVq1fh6emJP//8Ex06dAAAHDlyBH5+frhz5w6cnJwq9dy5ublQKBTIycmBlZVVjewfvVzYs6N/Fy5cwH/+8x9kZWWJy+rXr49XX30Vr7zyih4rI/bskK5U9ve7zp5BOTExEWlpaejXr5+4TKFQoHPnzoiOjsaECRMQHR0Na2trMegAQL9+/WBgYIBz585h1KhR5W67qKgIRUVF4v3c3Nya2xF6KZmamvIvVz1r1qwZXn31VRw+fBiff/45FixYAD8/P14uguglVGcHKKtP8e7g4KCx3MHBQVyXlpYGe3t7jfVGRkawtbXVOEX801avXg2FQiHenJ2ddVw9EdUFhoaGaN68OQCgefPmDDpEL6k6G3Zq0uLFi5GTkyPeUlJS9F0SERER1ZA6G3aUSiUAID09XWN5enq6uE6pVCIjI0NjfUlJCbKyssQ25ZHL5bCystK4ERERkTTV2bDj5uYGpVKJ48ePi8tyc3Nx7tw5+Pj4AAB8fHyQnZ2N8+fPi21OnDgBlUqFzp0713rNREREVPfodYDygwcPcPPmTfF+YmIiLl26BFtbW7i4uGDu3LlYsWIFmjZtKk49d3JyEmdstWzZEoMGDcKbb76Jb775Bo8ePcLs2bMxYcKESs/EIiIiImnTa9j566+/0Lt3b/H+/PnzAQABAQHYuXMn3n33XeTn52P69OnIzs5G9+7dceTIEY0pi6GhoZg9ezb69u0rnlTwyy+/rPV9ISIiorqpzpxnR594nh0i6bp+/TqmT5/OE9kRSVBlf7/r7JgdIiIiIl1g2CEiIiJJY9ghIiIiSWPYISIiIklj2CEiIiJJY9ghIiIiSWPYISIiIklj2CEiIiJJY9ghIiIiSWPYISIiIklj2CEiIiJJY9ghIiIiSWPYISIiIklj2CEiIiJJY9ghIiIiSTPSdwGkO+np6cjJydF3GUR1SlJSksZ/iegxhUIBBwcHfZdRK2SCIAj6LkLfcnNzoVAokJOTAysrK32XUyXp6emYPOU1PCou0ncpRET0AjA2kWP3v797oQNPZX+/2bMjETk5OXhUXISH7j2hMlXouxwiIqrDDApzgFuRyMnJeaHDTmUx7EiMylQBlUUDfZdBRERUZ3CAMhEREUkaww4RERFJGsMOERERSRrDDhEREUkaww4RERFJGmdjSYzBw2x9l0BERHXcy/ZbwbAjMWaJUfougYiIqE5h2JGYh26+UJlZ67sMIiKqwwweZr9Ufxwz7EiMysyaJxUkIiJ6AgcoExERkaQx7BAREZGkMewQERGRpDHsEBERkaQx7BAREZGkcTaWxBgU5ui7BCIiquNett8Khh2JUCgUMDaRA7ci9V0KERG9AIxN5FAoFPouo1Yw7EiEg4MDdv/7O+TkvFxpneh5kpKSsHLlSnzwwQdwdXXVdzlEdYZCoYCDg4O+y6gVDDsS4uDg8NK8cYm05erqimbNmum7DCLSAw5QJiIiIklj2CEiIiJJY9ghIiIiSWPYISIiIkmr82Fn2bJlkMlkGrcWLVqI6wsLCzFr1izUr18flpaWGDNmDNLT0/VYMREREdUldT7sAECrVq2Qmpoq3k6fPi2umzdvHg4dOoQff/wRkZGRuHv3LkaPHq3HaomIiKgueSGmnhsZGUGpVJZZnpOTg23btiEsLAx9+vQBAOzYsQMtW7ZETEwMunTpUu72ioqKUFRUJN7Pzc2tmcKJiIhI716Inp0bN27AyckJ7u7u8Pf3R3JyMgDg/PnzePToEfr16ye2bdGiBVxcXBAdHV3h9lavXg2FQiHenJ2da3wfiIiISD/qfNjp3Lkzdu7ciSNHjmDz5s1ITExEjx49kJeXh7S0NJiYmMDa2lrjMQ4ODkhLS6twm4sXL0ZOTo54S0lJqeG9ICIiIn2p84exBg8eLP6/t7c3OnfuDFdXV/znP/+BmZlZlbYpl8shl8t1VSIRERHVYXW+Z+dp1tbWaNasGW7evAmlUoni4mJkZ2drtElPTy93jA8RERG9fF64sPPgwQMkJCTA0dER7du3h7GxMY4fPy6uv3btGpKTk+Hj46PHKomIiKiuqPOHsRYuXIhhw4bB1dUVd+/eRUhICAwNDTFx4kQoFApMmzYN8+fPh62tLaysrDBnzhz4+PhUOBOLiIiIXi51PuzcuXMHEydOxL1792BnZ4fu3bsjJiYGdnZ2AIB169bBwMAAY8aMQVFREQYOHIhNmzbpuWoiIiKqK+p82Pn++++fud7U1BQbN27Exo0ba6kiIiIiepG8cGN2iIiIiLTBsENERESSxrBDREREksawQ0RERJLGsENEklVaWopr164BeHwOrtLSUj1XRET6IBMEQdB3EfqWm5sLhUKBnJwcWFlZ6bscItKBqKgobNy4Eenp6eIyBwcHzJo1C76+vnqsjIh0pbK/3+zZISLJiYqKwtKlS8tcSiY7OxtLly5FVFSUfgojIr2o8+fZIXoRFRYWIjk5Wd9lvJRUKhXWrFkDAGjevDleeeUV7Ny5E4GBgbhw4QJiY2Oxdu1a2Nvbw8CAf+/pg4uLC0xNTfVdBr1EeBgLPIxFunf9+nVMnz5d32UQ1Ulbt25Fs2bN9F0GSUBlf7/Zs0NUA1xcXLB161Z9l/FSOnjwIA4fPox58+ahZcuWZdZfvXoV69atg5+fH0aOHFn7BRJcXFz0XQK9ZBh2iGqAqakp/3LVk/r16wMAGjVqVO6/QV5entiO/0ZELwcesCYiSWnbti0AYOfOnVCpVBrrVCoVdu7cqdGOiKSPPTtEJClt27aFtbU14uLisGTJEnTu3BlyuRxFRUU4d+4c4uLiYGNjw7BD9BJh2CEiSTE0NMT8+fOxdOlSxMTEICYmpkybefPmwdDQUA/VEZE+8DAWEUmSTCaDXC7XWCaXyyGTyfRUERHpC3t2iEhSSktLsWnTJvj4+GD58uW4fPkysrKyYGtri9atWyMkJASbN29Gt27d2LtD9JJgzw4RSUpsbCzS0tLg7+8PY2NjtGvXDn379kW7du1gbGwMf39/pKamIjY2Vt+lElEtYdghIknJysoCALi5uZW7Xr1c3Y6IpI9hh4gkxdbWFgCQmJhY7nr1cnU7IpI+hh0ikhRvb28olUqEhoaWe56d0NBQODo6wtvbW08VElFtY9ghIkkxNDTEzJkzER0djeDgYMTHx6OgoADx8fEIDg5GdHQ0goKCODiZ6CXCC4GCFwIlkqKoqChs2rQJaWlp4jJHR0cEBQXB19dXj5URka5U9vebYQcMO0RSVVpaitjYWHHqube3N3t0iCSEVz0nopeeoaEh2rVrp+8yiEjPOGaHiIiIJI1hh4iIiCSNYYeIiIgkjWGHiIiIJI1hh4iIiCSNYYeIiIgkjWGHiIiIJI1hh4iIiCSNYYeIiIgkjWdQBqC+YkZubq6eKyEiIqLKUv9uP+/KVww7APLy8gAAzs7Oeq6EiIiItJWXlweFQlHhel4IFIBKpcLdu3dRr149yGQyfZdDRDqUm5sLZ2dnpKSk8EK/RBIjCALy8vLg5OQEA4OKR+Yw7BCRpFX2qshEJF0coExERESSxrBDREREksawQ0SSJpfLERISArlcru9SiEhPOGaHiIiIJI09O0RERCRpDDtEREQkaQw7REREJGkMO0RERCRpDDtEREQkaQw7REREJGkMO0RERCRpDDtEREQkaf8PJucE2koQw9UAAAAASUVORK5CYII=",
      "text/plain": [
       "<Figure size 640x480 with 1 Axes>"
      ]
     },
     "metadata": {},
     "output_type": "display_data"
    },
    {
     "name": "stdout",
     "output_type": "stream",
     "text": [
      "First quartile is 60.0837\n",
      "Median is 68.2433\n",
      "Third quartile is 77.3243\n",
      "Lower fence is 34.22280000000001\n",
      "Upper fence is 103.18519999999998\n"
     ]
    },
    {
     "data": {
      "image/png": "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",
      "text/plain": [
       "<Figure size 640x480 with 1 Axes>"
      ]
     },
     "metadata": {},
     "output_type": "display_data"
    }
   ],
   "source": [
    "replace_outliers('PRESSMIN')"
   ]
  },
  {
   "cell_type": "code",
   "execution_count": 34,
   "id": "f865de2d-a58e-4faf-8f69-775e1b481f68",
   "metadata": {},
   "outputs": [
    {
     "data": {
      "image/png": "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",
      "text/plain": [
       "<Figure size 640x480 with 1 Axes>"
      ]
     },
     "metadata": {},
     "output_type": "display_data"
    },
    {
     "name": "stdout",
     "output_type": "stream",
     "text": [
      "First quartile is 77.7497\n",
      "Median is 88.9342\n",
      "Third quartile is 98.2124\n",
      "Lower fence is 47.05565000000001\n",
      "Upper fence is 128.90645\n"
     ]
    },
    {
     "data": {
      "image/png": "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",
      "text/plain": [
       "<Figure size 640x480 with 1 Axes>"
      ]
     },
     "metadata": {},
     "output_type": "display_data"
    }
   ],
   "source": [
    "replace_outliers('PRESSMAX')"
   ]
  },
  {
   "cell_type": "markdown",
   "id": "b28034ae-f5cb-4774-9798-b529eec9c7f2",
   "metadata": {},
   "source": [
    "### Log Transformations\n",
    "To normalize the data"
   ]
  },
  {
   "cell_type": "code",
   "execution_count": 47,
   "id": "cd57316b-1c1a-447c-82ad-3c37edfa040a",
   "metadata": {},
   "outputs": [
    {
     "data": {
      "text/plain": [
       "5         15.0\n",
       "6          1.0\n",
       "7         18.0\n",
       "8         10.0\n",
       "9          6.0\n",
       "          ... \n",
       "116803    13.0\n",
       "116804     1.0\n",
       "116805    26.0\n",
       "116806    20.0\n",
       "116807     7.0\n",
       "Name: FLSHVOL, Length: 113727, dtype: float64"
      ]
     },
     "execution_count": 47,
     "metadata": {},
     "output_type": "execute_result"
    }
   ],
   "source": [
    "import numpy as np\n",
    "copied_flushing_history_df['FLSHVOL_log'] = (copied_flushing_history_df['FLSHVOL']+1).transform(np.log)"
   ]
  },
  {
   "cell_type": "code",
   "execution_count": 48,
   "id": "f0049dc0-3fe9-4ebc-b7e3-f4c0190bbcb3",
   "metadata": {},
   "outputs": [],
   "source": [
    "copied_flushing_history_df['FLSHDUR_log'] = (copied_flushing_history_df['FLSHDUR']+1).transform(np.log)"
   ]
  },
  {
   "cell_type": "markdown",
   "id": "a73a54a8-22e7-44d1-838a-c77575cc3a9c",
   "metadata": {},
   "source": [
    "### Binning"
   ]
  },
  {
   "cell_type": "code",
   "execution_count": null,
   "id": "219d41de-4600-4ec4-ab3a-32333497be0c",
   "metadata": {},
   "outputs": [],
   "source": []
  },
  {
   "cell_type": "markdown",
   "id": "1fec542d-fb92-4a3d-b0e3-65472cb21008",
   "metadata": {},
   "source": [
    "### One Hot Encoding\n",
    "\n",
    "Extracting the letter from AREA"
   ]
  },
  {
   "cell_type": "code",
   "execution_count": 14,
   "id": "938bb69f-8097-4637-be99-9f4d7345fd0e",
   "metadata": {},
   "outputs": [
    {
     "name": "stdout",
     "output_type": "stream",
     "text": [
      "      AREA Letters\n",
      "0      B21       B\n",
      "1      B21       B\n",
      "2      B21       B\n",
      "3      B21       B\n",
      "4      B20       B\n",
      "...    ...     ...\n",
      "40539  S35       S\n",
      "40540  S35       S\n",
      "40541  S35       S\n",
      "40542  S35       S\n",
      "40543  B34       B\n",
      "\n",
      "[40544 rows x 2 columns]\n"
     ]
    },
    {
     "name": "stderr",
     "output_type": "stream",
     "text": [
      "/tmp/ipykernel_6250/4014954066.py:2: DtypeWarning: Columns (33,50,57,91) have mixed types. Specify dtype option on import or set low_memory=False.\n",
      "  df = pd.read_csv(\"Qry_AllHY.csv\")\n"
     ]
    }
   ],
   "source": [
    "# Loading your data into a DataFrame\n",
    "df = pd.read_csv(\"Qry_AllHY.csv\")\n",
    "\n",
    "# Extracting only the letters from the AREA column\n",
    "df['Letters'] = df['AREA'].str.extract(r'([A-Za-z]+)', expand=False)\n",
    "\n",
    "# Displaying the resulting DataFrame with only the letters\n",
    "print(df[['AREA', 'Letters']])"
   ]
  },
  {
   "cell_type": "markdown",
   "id": "d0d34731",
   "metadata": {},
   "source": [
    "One-hot encoding the letters"
   ]
  },
  {
   "cell_type": "code",
   "execution_count": 16,
   "id": "3c79b9ff",
   "metadata": {},
   "outputs": [
    {
     "name": "stdout",
     "output_type": "stream",
     "text": [
      "Original DataFrame with extracted letters and one-hot encoded columns:\n",
      "   ADDRKEY            ADDRQUAL AREA ASBLT  AUXVALVE  BARRELSIZE COLOR  \\\n",
      "0     1893   1ST W BRAMALEA RD  B21   NaN       NaN           0  BLUE   \n",
      "1     1893  1ST E  HILLDALE CR  B21   NaN       NaN           0  BLUE   \n",
      "2     3430     CENTRAL PARK DR  B21   NaN       NaN           0  BLUE   \n",
      "3     1893          500-CHURCH  B21   NaN       NaN           0  BLUE   \n",
      "4     1893   1ST E BRAMALEA RD  B20   NaN       NaN           0  BLUE   \n",
      "\n",
      "   IMSRO_COMPHY_COMPKEY  COMPLEXKEY DISTRICT  ...  EMEQPMNTTP  EMASSTDESC  \\\n",
      "0                  2237           1        C  ...         NaN         NaN   \n",
      "1                  2240           1        C  ...         NaN         NaN   \n",
      "2                  2241           1        C  ...         NaN         NaN   \n",
      "3                  2243           1        C  ...         NaN         NaN   \n",
      "4                  2244           1        C  ...         NaN         NaN   \n",
      "\n",
      "  EMCOND  EMCONDDATE  Letters Letters_AAAA  Letters_B Letters_C  Letters_S  \\\n",
      "0    NaN         NaN        B          0.0        1.0       0.0        0.0   \n",
      "1    NaN         NaN        B          0.0        1.0       0.0        0.0   \n",
      "2    NaN         NaN        B          0.0        1.0       0.0        0.0   \n",
      "3    NaN         NaN        B          0.0        1.0       0.0        0.0   \n",
      "4    NaN         NaN        B          0.0        1.0       0.0        0.0   \n",
      "\n",
      "  Letters_nan  \n",
      "0         0.0  \n",
      "1         0.0  \n",
      "2         0.0  \n",
      "3         0.0  \n",
      "4         0.0  \n",
      "\n",
      "[5 rows x 124 columns]\n"
     ]
    }
   ],
   "source": [
    "import pandas as pd\n",
    "from sklearn.preprocessing import OneHotEncoder\n",
    "from sklearn.decomposition import PCA\n",
    "\n",
    "# One-hot encoding the letters\n",
    "encoder = OneHotEncoder(sparse_output=False)\n",
    "encoded_letters = encoder.fit_transform(df[['Letters']])\n",
    "encoded_letters_df = pd.DataFrame(encoded_letters, columns=encoder.get_feature_names_out(['Letters']))\n",
    "\n",
    "# Combining the original DataFrame with the encoded letters\n",
    "df_combined = pd.concat([df, encoded_letters_df], axis=1)\n",
    "\n",
    "# Displaying the resulting DataFrame to ensure the columns are included\n",
    "print(\"Original DataFrame with extracted letters and one-hot encoded columns:\")\n",
    "print(df_combined.head())"
   ]
  },
  {
   "cell_type": "markdown",
   "id": "0961565d",
   "metadata": {},
   "source": [
    "Performing PCA on the one-hot encoded letters"
   ]
  },
  {
   "cell_type": "code",
   "execution_count": 17,
   "id": "ea00ad4f",
   "metadata": {},
   "outputs": [
    {
     "name": "stdout",
     "output_type": "stream",
     "text": [
      "    ADDRKEY                                           ADDRQUAL AREA  \\\n",
      "0      1893                                  1ST W BRAMALEA RD  B21   \n",
      "1      1893                                 1ST E  HILLDALE CR  B21   \n",
      "2      3430                                    CENTRAL PARK DR  B21   \n",
      "3      1893                                         500-CHURCH  B21   \n",
      "4      1893                                  1ST E BRAMALEA RD  B20   \n",
      "5      1893                                1ST W GLENFOREST DR  B20   \n",
      "6      1893                                          900-UNIT3  B20   \n",
      "7      1893                                          980-PLAZA  B20   \n",
      "8      1893                                        1000-CHURCH  B20   \n",
      "9      1893                                       1020-UNIT 30  B20   \n",
      "10     1893                                        1100- ARENA  B20   \n",
      "11     1893                                                150  B12   \n",
      "12     1893                                  1ST S HOWDEN BLVD  B21   \n",
      "13     1893  ACROSS FROM 185 CENTRAL PARK DR AT POLICE STATION  B12   \n",
      "14     1893                                      900 - UNIT 26  B20   \n",
      "15     1893                                       900- UNIT 83  B20   \n",
      "16     1893                                    900- UNIT 73-74  B20   \n",
      "17     1893                                       14 GRAHAM CT  B20   \n",
      "18     1893                                      1020- UNIT 14  B20   \n",
      "19     1893                                   1020- UNIT 60-61  B20   \n",
      "20     1893                                      1020- UNIT 78  B20   \n",
      "21     1893                                       31 GRAHAM CT  B20   \n",
      "22     1893                                         115 SCHOOL  B20   \n",
      "23     1893                                                 1A  B12   \n",
      "24     1895                                 1RST S VODDEN ST E  B22   \n",
      "25     1895                                      37 ASHFORD CR  B22   \n",
      "26     1895                                2ND N WILLIAMS PKWY  B22   \n",
      "27     1895                                            128-130  B22   \n",
      "28     1895                                            322-324  B22   \n",
      "29     1895                                                250  B22   \n",
      "30     5816  ON SERVICE LINE APPROXIMATELY 150 METRES WEST ...  B15   \n",
      "31   307814                                                NaN  B28   \n",
      "32     2362                                                 12  B11   \n",
      "33     2362                                                 38  B11   \n",
      "34     2369  3 DOWLING CR.  RMVD AS PER PROJECT 09-1375S, D...  B11   \n",
      "35     2373                                               7311  S48   \n",
      "36     2373                                               7261  S48   \n",
      "37     2374                                          7205-7209  S48   \n",
      "38   200227                                                NaN  S52   \n",
      "39     2021    NW CORNER OF BRAM EAST CORRIDOR AND CLARKWAY DR  B18   \n",
      "40     1473                                                NaN  B05   \n",
      "41     1473                                                165  B05   \n",
      "42     1473                                                165  B05   \n",
      "43     1473                                                300  B05   \n",
      "44     1473                                                NaN  B05   \n",
      "45     1473                                                NaN  B05   \n",
      "46     1473                                                100  B05   \n",
      "47     1473                                                100  B05   \n",
      "48     1474       7 - RMVD CAP PROJ 09-1375S / DRAWING 39108-D  B12   \n",
      "49   219832                                              20-22  B29   \n",
      "\n",
      "         ASBLT  AUXVALVE  BARRELSIZE COLOR  IMSRO_COMPHY_COMPKEY  COMPLEXKEY  \\\n",
      "0          NaN       NaN           0  BLUE                  2237           1   \n",
      "1          NaN       NaN           0  BLUE                  2240           1   \n",
      "2          NaN       NaN           0  BLUE                  2241           1   \n",
      "3          NaN       NaN           0  BLUE                  2243           1   \n",
      "4          NaN       NaN           0  BLUE                  2244           1   \n",
      "5          NaN       NaN           0  BLUE                  2245           1   \n",
      "6          NaN       NaN           0  BLUE                  2246           1   \n",
      "7          NaN       NaN           0  BLUE                  2247           1   \n",
      "8          NaN       NaN           0  BLUE                  2248           1   \n",
      "9          NaN       NaN           0  BLUE                  2249           1   \n",
      "10         NaN       NaN           0  BLUE                  2251           1   \n",
      "11         NaN       NaN           0  BLUE                  2252           1   \n",
      "12         NaN       NaN           0  BLUE                  2255           1   \n",
      "13   CF-439090       NaN           0  BLUE                  2258           1   \n",
      "14         NaN       NaN           0   NaN                  2259           1   \n",
      "15         NaN       NaN           0   NaN                  2260           1   \n",
      "16         NaN       NaN           0   NaN                  2261           1   \n",
      "17         NaN       NaN           0   NaN                  2262           1   \n",
      "18         NaN       NaN           0   NaN                  2263           1   \n",
      "19         NaN       NaN           0   NaN                  2264           1   \n",
      "20         NaN       NaN           0   NaN                  2265           1   \n",
      "21         NaN       NaN           0   NaN                  2266           1   \n",
      "22         NaN       NaN           0   NaN                  2267           1   \n",
      "23         NaN       NaN           0   NaN                  2268           1   \n",
      "24         NaN       NaN           0  BLUE                  2269           1   \n",
      "25         NaN       NaN           0  BLUE                  2272           1   \n",
      "26         NaN       NaN           0   NaN                  2275           1   \n",
      "27         NaN       NaN           0  BLUE                  2276           1   \n",
      "28         NaN       NaN           0  BLUE                  2278           1   \n",
      "29         NaN       NaN           0  BLUE                  2280           1   \n",
      "30     26612-D       NaN           0  BLUE                653736           1   \n",
      "31         P12       NaN           0  BLUE                657297           1   \n",
      "32         NaN       NaN           0   NaN                  3030           1   \n",
      "33         NaN       NaN           0   NaN                  3031           1   \n",
      "34  SEECOMMENT       NaN           0   NaN                  3032           1   \n",
      "35         NaN       NaN           0   NaN                  3033           1   \n",
      "36         NaN       NaN           0   NaN                  3034           1   \n",
      "37         NaN       NaN           0   NaN                  3036           1   \n",
      "38         NaN       NaN           0  BLUE                488790           1   \n",
      "39     32698-D       NaN           0  BLUE                664740           1   \n",
      "40         NaN       NaN           0   NaN                  1640           1   \n",
      "41         NaN       NaN           0   NaN                  1641           1   \n",
      "42         NaN       NaN           0   NaN                  1642           1   \n",
      "43         NaN       NaN           0   NaN                  1643           1   \n",
      "44     14977-D       NaN           0  BLUE                  1644           1   \n",
      "45     14977-D       NaN           0  BLUE                  1645           1   \n",
      "46         NaN       NaN           0   NaN                  1647           1   \n",
      "47         NaN       NaN           0   NaN                  1648           1   \n",
      "48         NaN       NaN           0   NaN                  1649           1   \n",
      "49         NaN       NaN           0  BLUE                  1650           1   \n",
      "\n",
      "   DISTRICT  ...  EMASTRSKDT  EMDISTRICT EMEQPMNTCL  EMEQPMNTTP  EMASSTDESC  \\\n",
      "0         C  ...         NaN         NaN        NaN         NaN         NaN   \n",
      "1         C  ...         NaN         NaN        NaN         NaN         NaN   \n",
      "2         C  ...         NaN         NaN        NaN         NaN         NaN   \n",
      "3         C  ...         NaN         NaN        NaN         NaN         NaN   \n",
      "4         C  ...         NaN         NaN        NaN         NaN         NaN   \n",
      "5         C  ...         NaN         NaN        NaN         NaN         NaN   \n",
      "6         C  ...         NaN         NaN        NaN         NaN         NaN   \n",
      "7         C  ...         NaN         NaN        NaN         NaN         NaN   \n",
      "8         C  ...         NaN         NaN        NaN         NaN         NaN   \n",
      "9         C  ...         NaN         NaN        NaN         NaN         NaN   \n",
      "10        C  ...         NaN         NaN        NaN         NaN         NaN   \n",
      "11        C  ...         NaN         NaN        NaN         NaN         NaN   \n",
      "12        C  ...         NaN         NaN        NaN         NaN         NaN   \n",
      "13        C  ...         NaN         NaN        NaN         NaN         NaN   \n",
      "14        C  ...         NaN         NaN        NaN         NaN         NaN   \n",
      "15        C  ...         NaN         NaN        NaN         NaN         NaN   \n",
      "16        C  ...         NaN         NaN        NaN         NaN         NaN   \n",
      "17        C  ...         NaN         NaN        NaN         NaN         NaN   \n",
      "18        C  ...         NaN         NaN        NaN         NaN         NaN   \n",
      "19        C  ...         NaN         NaN        NaN         NaN         NaN   \n",
      "20        C  ...         NaN         NaN        NaN         NaN         NaN   \n",
      "21        C  ...         NaN         NaN        NaN         NaN         NaN   \n",
      "22        C  ...         NaN         NaN        NaN         NaN         NaN   \n",
      "23        C  ...         NaN         NaN        NaN         NaN         NaN   \n",
      "24        C  ...         NaN         NaN        NaN         NaN         NaN   \n",
      "25        C  ...         NaN         NaN        NaN         NaN         NaN   \n",
      "26        C  ...         NaN         NaN        NaN         NaN         NaN   \n",
      "27        C  ...         NaN         NaN        NaN         NaN         NaN   \n",
      "28        C  ...         NaN         NaN        NaN         NaN         NaN   \n",
      "29        C  ...         NaN         NaN        NaN         NaN         NaN   \n",
      "30        C  ...         NaN         NaN        NaN         NaN         NaN   \n",
      "31        C  ...         NaN         NaN        NaN         NaN         NaN   \n",
      "32        C  ...         NaN         NaN        NaN         NaN         NaN   \n",
      "33        C  ...         NaN         NaN        NaN         NaN         NaN   \n",
      "34        C  ...         NaN         NaN        NaN         NaN         NaN   \n",
      "35        C  ...         NaN         NaN        NaN         NaN         NaN   \n",
      "36        C  ...         NaN         NaN        NaN         NaN         NaN   \n",
      "37        C  ...         NaN         NaN        NaN         NaN         NaN   \n",
      "38        W  ...         NaN         NaN        NaN         NaN         NaN   \n",
      "39        C  ...         NaN         NaN        NaN         NaN         NaN   \n",
      "40        C  ...         NaN         NaN        NaN         NaN         NaN   \n",
      "41        C  ...         NaN         NaN        NaN         NaN         NaN   \n",
      "42        C  ...         NaN         NaN        NaN         NaN         NaN   \n",
      "43        C  ...         NaN         NaN        NaN         NaN         NaN   \n",
      "44        C  ...         NaN         NaN        NaN         NaN         NaN   \n",
      "45        C  ...         NaN         NaN        NaN         NaN         NaN   \n",
      "46        C  ...         NaN         NaN        NaN         NaN         NaN   \n",
      "47        C  ...         NaN         NaN        NaN         NaN         NaN   \n",
      "48        C  ...         NaN         NaN        NaN         NaN         NaN   \n",
      "49        C  ...         NaN         NaN        NaN         NaN         NaN   \n",
      "\n",
      "   EMCOND  EMCONDDATE Letters  Principal Component 1 Principal Component 2  \n",
      "0     NaN         NaN       B              -0.792883             -0.132181  \n",
      "1     NaN         NaN       B              -0.792883             -0.132181  \n",
      "2     NaN         NaN       B              -0.792883             -0.132181  \n",
      "3     NaN         NaN       B              -0.792883             -0.132181  \n",
      "4     NaN         NaN       B              -0.792883             -0.132181  \n",
      "5     NaN         NaN       B              -0.792883             -0.132181  \n",
      "6     NaN         NaN       B              -0.792883             -0.132181  \n",
      "7     NaN         NaN       B              -0.792883             -0.132181  \n",
      "8     NaN         NaN       B              -0.792883             -0.132181  \n",
      "9     NaN         NaN       B              -0.792883             -0.132181  \n",
      "10    NaN         NaN       B              -0.792883             -0.132181  \n",
      "11    NaN         NaN       B              -0.792883             -0.132181  \n",
      "12    NaN         NaN       B              -0.792883             -0.132181  \n",
      "13    NaN         NaN       B              -0.792883             -0.132181  \n",
      "14    NaN         NaN       B              -0.792883             -0.132181  \n",
      "15    NaN         NaN       B              -0.792883             -0.132181  \n",
      "16    NaN         NaN       B              -0.792883             -0.132181  \n",
      "17    NaN         NaN       B              -0.792883             -0.132181  \n",
      "18    NaN         NaN       B              -0.792883             -0.132181  \n",
      "19    NaN         NaN       B              -0.792883             -0.132181  \n",
      "20    NaN         NaN       B              -0.792883             -0.132181  \n",
      "21    NaN         NaN       B              -0.792883             -0.132181  \n",
      "22    NaN         NaN       B              -0.792883             -0.132181  \n",
      "23    NaN         NaN       B              -0.792883             -0.132181  \n",
      "24    NaN         NaN       B              -0.792883             -0.132181  \n",
      "25    NaN         NaN       B              -0.792883             -0.132181  \n",
      "26    NaN         NaN       B              -0.792883             -0.132181  \n",
      "27    NaN         NaN       B              -0.792883             -0.132181  \n",
      "28    NaN         NaN       B              -0.792883             -0.132181  \n",
      "29    NaN         NaN       B              -0.792883             -0.132181  \n",
      "30    NaN         NaN       B              -0.792883             -0.132181  \n",
      "31    NaN         NaN       B              -0.792883             -0.132181  \n",
      "32    NaN         NaN       B              -0.792883             -0.132181  \n",
      "33    NaN         NaN       B              -0.792883             -0.132181  \n",
      "34    NaN         NaN       B              -0.792883             -0.132181  \n",
      "35    NaN         NaN       S               0.620707             -0.090247  \n",
      "36    NaN         NaN       S               0.620707             -0.090247  \n",
      "37    NaN         NaN       S               0.620707             -0.090247  \n",
      "38    NaN         NaN       S               0.620707             -0.090247  \n",
      "39    NaN         NaN       B              -0.792883             -0.132181  \n",
      "40    NaN         NaN       B              -0.792883             -0.132181  \n",
      "41    NaN         NaN       B              -0.792883             -0.132181  \n",
      "42    NaN         NaN       B              -0.792883             -0.132181  \n",
      "43    NaN         NaN       B              -0.792883             -0.132181  \n",
      "44    NaN         NaN       B              -0.792883             -0.132181  \n",
      "45    NaN         NaN       B              -0.792883             -0.132181  \n",
      "46    NaN         NaN       B              -0.792883             -0.132181  \n",
      "47    NaN         NaN       B              -0.792883             -0.132181  \n",
      "48    NaN         NaN       B              -0.792883             -0.132181  \n",
      "49    NaN         NaN       B              -0.792883             -0.132181  \n",
      "\n",
      "[50 rows x 121 columns]\n"
     ]
    }
   ],
   "source": [
    "# Performing PCA on the one-hot encoded letters\n",
    "pca = PCA(n_components=2)  # Number of components to keep\n",
    "principal_components = pca.fit_transform(encoded_letters_df)\n",
    "\n",
    "# Creating a DataFrame with the principal components\n",
    "principal_df = pd.DataFrame(data=principal_components, columns=['Principal Component 1', 'Principal Component 2'])\n",
    "\n",
    "# Combining the original DataFrame with the principal components\n",
    "df_combined = pd.concat([df, principal_df], axis=1)\n",
    "\n",
    "# Displaying the resulting DataFrame\n",
    "print(df_combined.head(50))"
   ]
  },
  {
   "cell_type": "markdown",
   "id": "2255ee6c-b475-40ef-9644-7bb4cb0bfea1",
   "metadata": {},
   "source": [
    "### Scaling"
   ]
  },
  {
   "cell_type": "code",
   "execution_count": null,
   "id": "f6da83a1-49c6-4df6-9611-fd3e79a8bb08",
   "metadata": {},
   "outputs": [],
   "source": []
  },
  {
   "cell_type": "markdown",
   "id": "941d3c8d-8e8d-40ec-a64d-f5daed7ee355",
   "metadata": {},
   "source": [
    "### Extracting Dates\n",
    "Converting date columns to datetime and extracting the year"
   ]
  },
  {
   "cell_type": "code",
   "execution_count": 11,
   "id": "648995b5",
   "metadata": {},
   "outputs": [
    {
     "name": "stdout",
     "output_type": "stream",
     "text": [
      "   INSTDATE  EXPDATE  ADDDTTM  MODDTTM  LASTINSP  LASTWINT\n",
      "0       NaN   2017.0     2003   2017.0    2017.0    2017.0\n",
      "1       NaN   2017.0     2003   2017.0    2017.0    2017.0\n",
      "2       NaN   2017.0     2003   2017.0    2017.0    2015.0\n",
      "3       NaN   2017.0     2003   2017.0    2017.0    2015.0\n",
      "4       NaN      NaN     2003   2024.0    2022.0    2022.0\n"
     ]
    },
    {
     "name": "stderr",
     "output_type": "stream",
     "text": [
      "/tmp/ipykernel_6250/3747961017.py:3: DtypeWarning: Columns (33,50,57,91) have mixed types. Specify dtype option on import or set low_memory=False.\n",
      "  df = pd.read_csv(\"Qry_AllHY.csv\")\n"
     ]
    }
   ],
   "source": [
    "import pandas as pd\n",
    "\n",
    "df = pd.read_csv(\"Qry_AllHY.csv\")\n",
    "\n",
    "\n",
    "# List of date columns\n",
    "date_columns = ['INSTDATE', 'EXPDATE', 'ADDDTTM', 'MODDTTM', 'LASTINSP', 'LASTWINT']\n",
    "\n",
    "# Converting date columns to datetime and extracting the year\n",
    "for column in date_columns:\n",
    "    df[column] = pd.to_datetime(df[column], errors='coerce').dt.year\n",
    "\n",
    "# Displaying the resulting DataFrame\n",
    "print(df[date_columns].head())"
   ]
  },
  {
   "cell_type": "markdown",
   "id": "61739fc2",
   "metadata": {},
   "source": [
    "Converting installation date into an age\n"
   ]
  },
  {
   "cell_type": "code",
   "execution_count": 12,
   "id": "1ef5f7a7-f603-4a80-8708-f94c12b36952",
   "metadata": {},
   "outputs": [
    {
     "name": "stdout",
     "output_type": "stream",
     "text": [
      "    INSTDATE   AGE\n",
      "0        NaN  -1.0\n",
      "1        NaN  -1.0\n",
      "2        NaN  -1.0\n",
      "3        NaN  -1.0\n",
      "4        NaN  -1.0\n",
      "..       ...   ...\n",
      "95       NaN  -1.0\n",
      "96    1989.0  35.0\n",
      "97       NaN  -1.0\n",
      "98       NaN  -1.0\n",
      "99    1979.0  45.0\n",
      "\n",
      "[100 rows x 2 columns]\n"
     ]
    }
   ],
   "source": [
    "\n",
    "from datetime import datetime\n",
    "\n",
    "# Get the current year\n",
    "current_year = datetime.now().year\n",
    "\n",
    "# Calculate the age\n",
    "df['AGE'] = current_year - df['INSTDATE']\n",
    "\n",
    "# If INSTDATE was missing, AGE will be NaN\n",
    "df['AGE'] = df['AGE'].fillna(-1)  # Filling with -1 to indicate missing ages, you can choose other strategies\n",
    "\n",
    "print(df[['INSTDATE', 'AGE']].head(100))"
   ]
  },
  {
   "cell_type": "markdown",
   "id": "c1d2f098",
   "metadata": {},
   "source": [
    "Converting Flushing Frequency"
   ]
  },
  {
   "cell_type": "code",
   "execution_count": 13,
   "id": "94ddc6bf",
   "metadata": {},
   "outputs": [
    {
     "name": "stdout",
     "output_type": "stream",
     "text": [
      "  FLSHFRE  FLSHFRE_DAYS\n",
      "0     NaN           NaN\n",
      "1     NaN           NaN\n",
      "2     NaN           NaN\n",
      "3     NaN           NaN\n",
      "4     NaN           NaN\n",
      "[ nan 365.  90. 180.   3.   7. 120.  14.  30.  60.  21.   2.   1.]\n",
      "[nan '1 YEAR' '3 MONTHS' '6 MONTHS' '3 DAYS' '1 WEEK' '4 MONTHS' '2 WEEKS'\n",
      " '1 MONTH' '2 MONTHS' '3 WEEKS' '2 DAYS' 'DAILY']\n"
     ]
    }
   ],
   "source": [
    "def convert_to_days(frequency):\n",
    "    if pd.isna(frequency):\n",
    "        return None\n",
    "    frequency = frequency.upper().strip()\n",
    "    if 'DAY' in frequency:\n",
    "        return int(frequency.split()[0])\n",
    "    elif 'DAILY' in frequency:\n",
    "        return 1\n",
    "    elif 'WEEK' in frequency:\n",
    "        return int(frequency.split()[0]) * 7\n",
    "    elif 'MONTH' in frequency:\n",
    "        return int(frequency.split()[0]) * 30\n",
    "    elif 'YEAR' in frequency:\n",
    "        return int(frequency.split()[0]) * 365\n",
    "    else:\n",
    "        return None  # For any unknown frequency format\n",
    "\n",
    "# Apply the conversion function\n",
    "df['FLSHFRE_DAYS'] = df['FLSHFRE'].apply(convert_to_days)\n",
    "print(df[['FLSHFRE', 'FLSHFRE_DAYS']].head())\n",
    "\n",
    "\n",
    "print(df['FLSHFRE_DAYS'].unique())\n",
    "print(df['FLSHFRE'].unique())"
   ]
  },
  {
   "cell_type": "markdown",
   "id": "2aeb5ef3",
   "metadata": {},
   "source": [
    "# PCA to reduce dimensions"
   ]
  },
  {
   "cell_type": "markdown",
   "id": "9ab9ce51",
   "metadata": {},
   "source": [
    "# Split the data into train, test"
   ]
  },
  {
   "cell_type": "markdown",
   "id": "b684b1eb-5933-4af9-8f1c-0f45773e3376",
   "metadata": {
    "jp-MarkdownHeadingCollapsed": true
   },
   "source": [
    "# Training the Model"
   ]
  },
  {
   "cell_type": "markdown",
   "id": "efa356e2",
   "metadata": {},
   "source": [
    "### Model 1: Linear Regression"
   ]
  },
  {
   "cell_type": "markdown",
   "id": "7e8debb8",
   "metadata": {},
   "source": [
    "### Model 2: "
   ]
  },
  {
   "cell_type": "markdown",
   "id": "544c7749",
   "metadata": {},
   "source": [
    "### Model 3: "
   ]
  },
  {
   "cell_type": "markdown",
   "id": "1e980389",
   "metadata": {},
   "source": [
    "# Result Comparison"
   ]
  },
  {
   "cell_type": "markdown",
   "id": "04269648-2d54-432a-a049-14da4abe0776",
   "metadata": {
    "jp-MarkdownHeadingCollapsed": true
   },
   "source": [
    "# Testing the Model"
   ]
  }
 ],
 "metadata": {
  "dependencies": {
   "lakehouse": {
    "default_lakehouse": "2580adb5-704c-444f-8038-daf0f6595eb6",
    "default_lakehouse_name": "EllaTesting",
    "default_lakehouse_workspace_id": "a8f3554f-0417-4db4-bf3d-627a7a3da2c5"
   }
  },
  "kernel_info": {
   "name": "synapse_pyspark"
  },
  "kernelspec": {
   "display_name": "Python 3 (ipykernel)",
   "language": "python",
   "name": "python3"
  },
  "language_info": {
   "codemirror_mode": {
    "name": "ipython",
    "version": 3
   },
   "file_extension": ".py",
   "mimetype": "text/x-python",
   "name": "python",
   "nbconvert_exporter": "python",
   "pygments_lexer": "ipython3",
   "version": "3.10.11"
  },
  "microsoft": {
   "language": "python",
   "language_group": "synapse_pyspark",
   "ms_spell_check": {
    "ms_spell_check_language": "en"
   }
  },
  "nteract": {
   "version": "nteract-front-end@1.0.0"
  },
  "spark_compute": {
   "compute_id": "/trident/default"
  },
  "widgets": {}
 },
 "nbformat": 4,
 "nbformat_minor": 5
}
