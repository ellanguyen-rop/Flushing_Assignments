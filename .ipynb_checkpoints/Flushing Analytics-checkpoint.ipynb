{
 "cells": [
  {
   "cell_type": "markdown",
   "id": "6d9b011a-a83b-4b45-8f8e-a0c8e2d6ff0b",
   "metadata": {
    "jp-MarkdownHeadingCollapsed": true,
    "nteract": {
     "transient": {
      "deleting": false
     }
    }
   },
   "source": [
    "# ****FLUSHING ANALYTICS****\n"
   ]
  },
  {
   "cell_type": "markdown",
   "id": "a53669f1-b6c4-4b27-9160-af4070c835f4",
   "metadata": {
    "jp-MarkdownHeadingCollapsed": true
   },
   "source": [
    "# Installing Dependencies"
   ]
  },
  {
   "cell_type": "code",
   "execution_count": 1,
   "id": "f1ab0c63-1cd9-4a7b-81c3-e133a0dd98bd",
   "metadata": {
    "collapsed": false,
    "jupyter": {
     "outputs_hidden": false,
     "source_hidden": false
    },
    "microsoft": {
     "language": "python",
     "language_group": "synapse_pyspark"
    },
    "nteract": {
     "transient": {
      "deleting": false
     }
    },
    "scrolled": true
   },
   "outputs": [],
   "source": [
    "# %pip install pandas\n",
    "# %pip install pyproj\n",
    "# %pip install scikit-learn\n",
    "# %pip install openpyxl\n",
    "# %pip install matplotlib\n",
    "# %pip install xgboost\n",
    "# %pip install optuna"
   ]
  },
  {
   "cell_type": "code",
   "execution_count": 2,
   "id": "c8a29292-94e8-45d4-b23c-657292cb967b",
   "metadata": {
    "collapsed": false,
    "jupyter": {
     "outputs_hidden": false,
     "source_hidden": false
    },
    "microsoft": {
     "language": "python",
     "language_group": "synapse_pyspark"
    },
    "nteract": {
     "transient": {
      "deleting": false
     }
    }
   },
   "outputs": [],
   "source": [
    "# Importing dependencies\n",
    "import pandas as pd\n",
    "import matplotlib.pyplot as plt\n",
    "import numpy as np\n",
    "import copy\n",
    "\n",
    "from pyproj import Proj, transform"
   ]
  },
  {
   "cell_type": "markdown",
   "id": "e5b8b28a-96d6-4a59-93b3-05d6ca472c0f",
   "metadata": {},
   "source": [
    "# Preparing the Data"
   ]
  },
  {
   "cell_type": "markdown",
   "id": "cee90e9b-f835-4faa-93b7-af6c4d81243c",
   "metadata": {},
   "source": [
    "## Loading and exploring the datasets"
   ]
  },
  {
   "cell_type": "code",
   "execution_count": 3,
   "id": "a6145fcc-c571-4267-a991-41b6a8d6f55c",
   "metadata": {},
   "outputs": [
    {
     "name": "stderr",
     "output_type": "stream",
     "text": [
      "C:\\Users\\26154\\AppData\\Local\\Temp\\1\\ipykernel_24036\\2574944327.py:9: DtypeWarning: Columns (33,50,57,91) have mixed types. Specify dtype option on import or set low_memory=False.\n",
      "  all_hydrants_df = pd.read_csv(all_hydrants_filepath)\n",
      "C:\\Users\\26154\\AppData\\Local\\Temp\\1\\ipykernel_24036\\2574944327.py:10: DtypeWarning: Columns (0,4,5,15,23,24,63,64,65,66) have mixed types. Specify dtype option on import or set low_memory=False.\n",
      "  flushing_history_df = pd.read_csv(flushing_history_filepath)\n"
     ]
    }
   ],
   "source": [
    "# file_path = '/EllaTesting/Files/Repairs_2018_2023.xlsx'\n",
    "\n",
    "# print(file_path)\n",
    "\n",
    "# Creating DataFrames from spreadsheets\n",
    "all_hydrants_filepath = \"Qry_AllHY.csv\"\n",
    "flushing_history_filepath = \"Qry_FlushHistory.csv\"\n",
    "\n",
    "all_hydrants_df = pd.read_csv(all_hydrants_filepath)\n",
    "flushing_history_df = pd.read_csv(flushing_history_filepath)"
   ]
  },
  {
   "cell_type": "markdown",
   "id": "cf8127dc",
   "metadata": {},
   "source": [
    "## Data Cleaning and Preprocessing"
   ]
  },
  {
   "cell_type": "markdown",
   "id": "591c3da6",
   "metadata": {},
   "source": [
    "### Data Cleaning - History Table"
   ]
  },
  {
   "cell_type": "code",
   "execution_count": 4,
   "id": "069a26ac-5e98-4c5b-91ff-451e1fce419d",
   "metadata": {
    "collapsed": false,
    "jupyter": {
     "outputs_hidden": false,
     "source_hidden": false
    },
    "microsoft": {
     "language": "python",
     "language_group": "synapse_pyspark"
    },
    "nteract": {
     "transient": {
      "deleting": false
     }
    }
   },
   "outputs": [],
   "source": [
    "# Creating a copy of the Flushing History DataFrame\n",
    "copied_flushing_history_df = copy.deepcopy(flushing_history_df)"
   ]
  },
  {
   "cell_type": "code",
   "execution_count": 5,
   "id": "c431e8b0",
   "metadata": {},
   "outputs": [],
   "source": [
    "#delete all unnecessary columns\n",
    "copied_flushing_history_df = copied_flushing_history_df.drop(columns={'FLSHTIME3', 'FLSHTIME4', 'FLSHTIME5', 'FLSHTIME6', 'FLSHTIME7', 'FLSHTIME8', 'FLSHTIME9', 'FLSHTIME10', 'FLSHTIME11', 'FLSHVOL1', 'FLSHVOL2', 'FLSHVOL3', 'FLSHVOL4', 'FLSHVOL5', 'FLSHVOL6', 'FLSHVOL7', 'FLSHVOL8', 'FLSHVOL9', 'FLSHVOL10', 'FLSHVOL11', 'CLFREE3', \n",
    "                                                                      'CLFREE4', 'CLFREE5', 'CLFREE6', 'CLFREE7', 'CLFREE8', 'CLFREE9', 'CLFREE10', 'CLFREE11', 'CLTOTL3', 'CLTOTL4', 'CLTOTL5', 'CLTOTL6', 'CLTOTL7', 'CLTOTL8', 'CLTOTL9', 'CLTOTL10', 'CLTOTL11', 'ADDBY', 'ADDDTTM', 'MODBY', 'MODDTTM', 'REMARKS', 'FLSHTIME', 'FLUSHNC', 'NFREASON' })"
   ]
  },
  {
   "cell_type": "code",
   "execution_count": 6,
   "id": "e807a4ff",
   "metadata": {},
   "outputs": [
    {
     "data": {
      "text/plain": [
       "(116808, 21)"
      ]
     },
     "execution_count": 6,
     "metadata": {},
     "output_type": "execute_result"
    }
   ],
   "source": [
    "copied_flushing_history_df.shape"
   ]
  },
  {
   "cell_type": "code",
   "execution_count": 7,
   "id": "0f81e1cb",
   "metadata": {},
   "outputs": [],
   "source": [
    "# Removing rows that have missing data for any of the given columns\n",
    "copied_flushing_history_df = copied_flushing_history_df.dropna(subset=['FLSHFRE', 'FLSHDATE', 'CLFREE', 'CLTOTL', 'PHREAD', 'FLSHVOL', 'FLSHDUR', 'COMPKEY'])"
   ]
  },
  {
   "cell_type": "code",
   "execution_count": 8,
   "id": "116290fc",
   "metadata": {},
   "outputs": [
    {
     "data": {
      "text/plain": [
       "(112582, 21)"
      ]
     },
     "execution_count": 8,
     "metadata": {},
     "output_type": "execute_result"
    }
   ],
   "source": [
    "copied_flushing_history_df.shape"
   ]
  },
  {
   "cell_type": "code",
   "execution_count": 9,
   "id": "563090c3",
   "metadata": {
    "scrolled": true
   },
   "outputs": [
    {
     "data": {
      "text/html": [
       "<div>\n",
       "<style scoped>\n",
       "    .dataframe tbody tr th:only-of-type {\n",
       "        vertical-align: middle;\n",
       "    }\n",
       "\n",
       "    .dataframe tbody tr th {\n",
       "        vertical-align: top;\n",
       "    }\n",
       "\n",
       "    .dataframe thead th {\n",
       "        text-align: right;\n",
       "    }\n",
       "</style>\n",
       "<table border=\"1\" class=\"dataframe\">\n",
       "  <thead>\n",
       "    <tr style=\"text-align: right;\">\n",
       "      <th></th>\n",
       "      <th>INSPKEY</th>\n",
       "      <th>GRIDKEY</th>\n",
       "      <th>FLSHFRE</th>\n",
       "      <th>FLSHDATE</th>\n",
       "      <th>CLFREE</th>\n",
       "      <th>CLTOTL</th>\n",
       "      <th>PHREAD</th>\n",
       "      <th>FLSHVOL</th>\n",
       "      <th>FLSHDUR</th>\n",
       "      <th>INSPBY</th>\n",
       "      <th>...</th>\n",
       "      <th>CLFREE2</th>\n",
       "      <th>CLTOTL1</th>\n",
       "      <th>CLTOTL2</th>\n",
       "      <th>WWNUM</th>\n",
       "      <th>COMMUN</th>\n",
       "      <th>COMPKEY</th>\n",
       "      <th>FLSHTIME1</th>\n",
       "      <th>FLSHTIME2</th>\n",
       "      <th>UNSCEHDLD</th>\n",
       "      <th>ALTERNATE</th>\n",
       "    </tr>\n",
       "  </thead>\n",
       "  <tbody>\n",
       "    <tr>\n",
       "      <th>6</th>\n",
       "      <td>965966</td>\n",
       "      <td>19046430</td>\n",
       "      <td>1 WEEK</td>\n",
       "      <td>2019-04-23</td>\n",
       "      <td>1.18</td>\n",
       "      <td>1.27</td>\n",
       "      <td>7.92</td>\n",
       "      <td>1.000</td>\n",
       "      <td>5.0</td>\n",
       "      <td>61535</td>\n",
       "      <td>...</td>\n",
       "      <td>NaN</td>\n",
       "      <td>NaN</td>\n",
       "      <td>NaN</td>\n",
       "      <td>WW220003993</td>\n",
       "      <td>CD</td>\n",
       "      <td>805425.0</td>\n",
       "      <td>NaN</td>\n",
       "      <td>NaN</td>\n",
       "      <td>N</td>\n",
       "      <td>N</td>\n",
       "    </tr>\n",
       "    <tr>\n",
       "      <th>7</th>\n",
       "      <td>972209</td>\n",
       "      <td>19048814</td>\n",
       "      <td>1 MONTH</td>\n",
       "      <td>2019-04-25</td>\n",
       "      <td>1.66</td>\n",
       "      <td>1.90</td>\n",
       "      <td>7.90</td>\n",
       "      <td>18.000</td>\n",
       "      <td>10.0</td>\n",
       "      <td>65673</td>\n",
       "      <td>...</td>\n",
       "      <td>NaN</td>\n",
       "      <td>1.85</td>\n",
       "      <td>NaN</td>\n",
       "      <td>WW220003993</td>\n",
       "      <td>CV</td>\n",
       "      <td>9876.0</td>\n",
       "      <td>15:05</td>\n",
       "      <td>NaN</td>\n",
       "      <td>N</td>\n",
       "      <td>N</td>\n",
       "    </tr>\n",
       "    <tr>\n",
       "      <th>8</th>\n",
       "      <td>972253</td>\n",
       "      <td>19048815</td>\n",
       "      <td>1 MONTH</td>\n",
       "      <td>2019-04-25</td>\n",
       "      <td>1.33</td>\n",
       "      <td>1.54</td>\n",
       "      <td>7.51</td>\n",
       "      <td>10.000</td>\n",
       "      <td>10.0</td>\n",
       "      <td>65673</td>\n",
       "      <td>...</td>\n",
       "      <td>NaN</td>\n",
       "      <td>1.49</td>\n",
       "      <td>NaN</td>\n",
       "      <td>WW260002590</td>\n",
       "      <td>CR</td>\n",
       "      <td>540642.0</td>\n",
       "      <td>09:55</td>\n",
       "      <td>NaN</td>\n",
       "      <td>N</td>\n",
       "      <td>N</td>\n",
       "    </tr>\n",
       "    <tr>\n",
       "      <th>9</th>\n",
       "      <td>965951</td>\n",
       "      <td>19048816</td>\n",
       "      <td>1 WEEK</td>\n",
       "      <td>2019-04-29</td>\n",
       "      <td>1.69</td>\n",
       "      <td>1.92</td>\n",
       "      <td>7.50</td>\n",
       "      <td>6.000</td>\n",
       "      <td>5.0</td>\n",
       "      <td>65673</td>\n",
       "      <td>...</td>\n",
       "      <td>NaN</td>\n",
       "      <td>NaN</td>\n",
       "      <td>NaN</td>\n",
       "      <td>WW260002590</td>\n",
       "      <td>CT</td>\n",
       "      <td>531455.0</td>\n",
       "      <td>NaN</td>\n",
       "      <td>NaN</td>\n",
       "      <td>N</td>\n",
       "      <td>N</td>\n",
       "    </tr>\n",
       "    <tr>\n",
       "      <th>10</th>\n",
       "      <td>965955</td>\n",
       "      <td>19048817</td>\n",
       "      <td>2 WEEKS</td>\n",
       "      <td>2019-04-30</td>\n",
       "      <td>1.67</td>\n",
       "      <td>1.78</td>\n",
       "      <td>7.86</td>\n",
       "      <td>10.000</td>\n",
       "      <td>10.0</td>\n",
       "      <td>65673</td>\n",
       "      <td>...</td>\n",
       "      <td>NaN</td>\n",
       "      <td>1.82</td>\n",
       "      <td>NaN</td>\n",
       "      <td>WW220003993</td>\n",
       "      <td>CV</td>\n",
       "      <td>541072.0</td>\n",
       "      <td>10:50</td>\n",
       "      <td>NaN</td>\n",
       "      <td>N</td>\n",
       "      <td>N</td>\n",
       "    </tr>\n",
       "    <tr>\n",
       "      <th>11</th>\n",
       "      <td>965950</td>\n",
       "      <td>19048818</td>\n",
       "      <td>1 WEEK</td>\n",
       "      <td>2019-04-30</td>\n",
       "      <td>0.72</td>\n",
       "      <td>0.94</td>\n",
       "      <td>8.09</td>\n",
       "      <td>23.000</td>\n",
       "      <td>15.0</td>\n",
       "      <td>65673</td>\n",
       "      <td>...</td>\n",
       "      <td>0.82</td>\n",
       "      <td>0.98</td>\n",
       "      <td>1.03</td>\n",
       "      <td>WW260094120</td>\n",
       "      <td>CB</td>\n",
       "      <td>528297.0</td>\n",
       "      <td>09:40</td>\n",
       "      <td>09:45</td>\n",
       "      <td>N</td>\n",
       "      <td>N</td>\n",
       "    </tr>\n",
       "    <tr>\n",
       "      <th>12</th>\n",
       "      <td>970581</td>\n",
       "      <td>19048819</td>\n",
       "      <td>2 WEEKS</td>\n",
       "      <td>2019-05-01</td>\n",
       "      <td>1.09</td>\n",
       "      <td>1.20</td>\n",
       "      <td>8.21</td>\n",
       "      <td>1.000</td>\n",
       "      <td>5.0</td>\n",
       "      <td>61535</td>\n",
       "      <td>...</td>\n",
       "      <td>NaN</td>\n",
       "      <td>NaN</td>\n",
       "      <td>NaN</td>\n",
       "      <td>WW260094120</td>\n",
       "      <td>CB</td>\n",
       "      <td>9986.0</td>\n",
       "      <td>NaN</td>\n",
       "      <td>NaN</td>\n",
       "      <td>N</td>\n",
       "      <td>N</td>\n",
       "    </tr>\n",
       "    <tr>\n",
       "      <th>13</th>\n",
       "      <td>970575</td>\n",
       "      <td>19048820</td>\n",
       "      <td>2 WEEKS</td>\n",
       "      <td>2019-05-01</td>\n",
       "      <td>1.11</td>\n",
       "      <td>1.26</td>\n",
       "      <td>8.31</td>\n",
       "      <td>1.000</td>\n",
       "      <td>5.0</td>\n",
       "      <td>61535</td>\n",
       "      <td>...</td>\n",
       "      <td>NaN</td>\n",
       "      <td>NaN</td>\n",
       "      <td>NaN</td>\n",
       "      <td>WW260094120</td>\n",
       "      <td>CCC</td>\n",
       "      <td>9263.0</td>\n",
       "      <td>NaN</td>\n",
       "      <td>NaN</td>\n",
       "      <td>N</td>\n",
       "      <td>N</td>\n",
       "    </tr>\n",
       "    <tr>\n",
       "      <th>14</th>\n",
       "      <td>965730</td>\n",
       "      <td>19048821</td>\n",
       "      <td>3 DAYS</td>\n",
       "      <td>2019-03-01</td>\n",
       "      <td>0.92</td>\n",
       "      <td>1.12</td>\n",
       "      <td>7.69</td>\n",
       "      <td>1.194</td>\n",
       "      <td>20.0</td>\n",
       "      <td>35832</td>\n",
       "      <td>...</td>\n",
       "      <td>NaN</td>\n",
       "      <td>NaN</td>\n",
       "      <td>NaN</td>\n",
       "      <td>WW260094120</td>\n",
       "      <td>B</td>\n",
       "      <td>7781.0</td>\n",
       "      <td>NaN</td>\n",
       "      <td>NaN</td>\n",
       "      <td>N</td>\n",
       "      <td>N</td>\n",
       "    </tr>\n",
       "    <tr>\n",
       "      <th>15</th>\n",
       "      <td>965730</td>\n",
       "      <td>19048822</td>\n",
       "      <td>3 DAYS</td>\n",
       "      <td>2019-04-30</td>\n",
       "      <td>0.42</td>\n",
       "      <td>0.65</td>\n",
       "      <td>7.89</td>\n",
       "      <td>5.000</td>\n",
       "      <td>13.0</td>\n",
       "      <td>68527</td>\n",
       "      <td>...</td>\n",
       "      <td>NaN</td>\n",
       "      <td>0.97</td>\n",
       "      <td>NaN</td>\n",
       "      <td>WW260094120</td>\n",
       "      <td>B</td>\n",
       "      <td>7781.0</td>\n",
       "      <td>07:40</td>\n",
       "      <td>NaN</td>\n",
       "      <td>N</td>\n",
       "      <td>N</td>\n",
       "    </tr>\n",
       "  </tbody>\n",
       "</table>\n",
       "<p>10 rows × 21 columns</p>\n",
       "</div>"
      ],
      "text/plain": [
       "    INSPKEY   GRIDKEY  FLSHFRE    FLSHDATE  CLFREE  CLTOTL  PHREAD  FLSHVOL  \\\n",
       "6    965966  19046430   1 WEEK  2019-04-23    1.18    1.27    7.92    1.000   \n",
       "7    972209  19048814  1 MONTH  2019-04-25    1.66    1.90    7.90   18.000   \n",
       "8    972253  19048815  1 MONTH  2019-04-25    1.33    1.54    7.51   10.000   \n",
       "9    965951  19048816   1 WEEK  2019-04-29    1.69    1.92    7.50    6.000   \n",
       "10   965955  19048817  2 WEEKS  2019-04-30    1.67    1.78    7.86   10.000   \n",
       "11   965950  19048818   1 WEEK  2019-04-30    0.72    0.94    8.09   23.000   \n",
       "12   970581  19048819  2 WEEKS  2019-05-01    1.09    1.20    8.21    1.000   \n",
       "13   970575  19048820  2 WEEKS  2019-05-01    1.11    1.26    8.31    1.000   \n",
       "14   965730  19048821   3 DAYS  2019-03-01    0.92    1.12    7.69    1.194   \n",
       "15   965730  19048822   3 DAYS  2019-04-30    0.42    0.65    7.89    5.000   \n",
       "\n",
       "    FLSHDUR INSPBY  ...  CLFREE2  CLTOTL1  CLTOTL2        WWNUM COMMUN  \\\n",
       "6       5.0  61535  ...      NaN      NaN      NaN  WW220003993     CD   \n",
       "7      10.0  65673  ...      NaN     1.85      NaN  WW220003993     CV   \n",
       "8      10.0  65673  ...      NaN     1.49      NaN  WW260002590     CR   \n",
       "9       5.0  65673  ...      NaN      NaN      NaN  WW260002590     CT   \n",
       "10     10.0  65673  ...      NaN     1.82      NaN  WW220003993     CV   \n",
       "11     15.0  65673  ...     0.82     0.98     1.03  WW260094120     CB   \n",
       "12      5.0  61535  ...      NaN      NaN      NaN  WW260094120     CB   \n",
       "13      5.0  61535  ...      NaN      NaN      NaN  WW260094120    CCC   \n",
       "14     20.0  35832  ...      NaN      NaN      NaN  WW260094120      B   \n",
       "15     13.0  68527  ...      NaN     0.97      NaN  WW260094120      B   \n",
       "\n",
       "     COMPKEY  FLSHTIME1 FLSHTIME2 UNSCEHDLD ALTERNATE  \n",
       "6   805425.0        NaN       NaN         N         N  \n",
       "7     9876.0      15:05       NaN         N         N  \n",
       "8   540642.0      09:55       NaN         N         N  \n",
       "9   531455.0        NaN       NaN         N         N  \n",
       "10  541072.0      10:50       NaN         N         N  \n",
       "11  528297.0      09:40     09:45         N         N  \n",
       "12    9986.0        NaN       NaN         N         N  \n",
       "13    9263.0        NaN       NaN         N         N  \n",
       "14    7781.0        NaN       NaN         N         N  \n",
       "15    7781.0      07:40       NaN         N         N  \n",
       "\n",
       "[10 rows x 21 columns]"
      ]
     },
     "execution_count": 9,
     "metadata": {},
     "output_type": "execute_result"
    }
   ],
   "source": [
    "copied_flushing_history_df.head(10)"
   ]
  },
  {
   "cell_type": "code",
   "execution_count": 10,
   "id": "5faca8c1",
   "metadata": {},
   "outputs": [],
   "source": [
    "copied_flushing_history_df.to_csv('historycheck.csv', index=False)"
   ]
  },
  {
   "cell_type": "markdown",
   "id": "29c641a9-f2e4-445a-ae6a-fd635f562f35",
   "metadata": {},
   "source": [
    "#### Imputing Missing Categorical Data"
   ]
  },
  {
   "cell_type": "code",
   "execution_count": 11,
   "id": "4d1c2199",
   "metadata": {},
   "outputs": [],
   "source": [
    "#TODO: Ayan: Use the COMPKEY to fill out the missing values in COMMUN\n",
    "\n",
    "# Sorting the DataFrame by COMPKEY, as there is a pattern between COMPKEY values and COMMUN values\n",
    "copied_flushing_history_df = copied_flushing_history_df.sort_values('COMPKEY')\n",
    "\n",
    "# Imputing every missing value with the value that came before it in the sorted DataFrame\n",
    "copied_flushing_history_df['COMMUN'] = copied_flushing_history_df['COMMUN'].ffill()"
   ]
  },
  {
   "cell_type": "markdown",
   "id": "5e97091b-a4eb-4df6-8e4d-ca00e647b6e1",
   "metadata": {},
   "source": [
    "#### Imputing Missing Numerical Data"
   ]
  },
  {
   "cell_type": "code",
   "execution_count": 12,
   "id": "5e1d9ea2-5d79-4414-85ca-14674f4dbb5a",
   "metadata": {
    "scrolled": true
   },
   "outputs": [
    {
     "name": "stdout",
     "output_type": "stream",
     "text": [
      "FLSHVOL:\n",
      "15528        4.000\n",
      "85374       12.000\n",
      "111638      14.500\n",
      "36450        1.100\n",
      "98795        7.140\n",
      "62794        2.000\n",
      "21057       10.000\n",
      "44781        6.000\n",
      "9037         9.000\n",
      "111377       3.500\n",
      "98799       12.000\n",
      "33272        7.000\n",
      "84325        8.500\n",
      "61630        2.900\n",
      "24985       12.000\n",
      "5205        14.000\n",
      "29042     1042.000\n",
      "19950       15.000\n",
      "106943       4.800\n",
      "85657       10.000\n",
      "73921        9.790\n",
      "58135        1.300\n",
      "55712        4.000\n",
      "95868       10.030\n",
      "7422         6.000\n",
      "89826        4.700\n",
      "35048        8.000\n",
      "103160       6.600\n",
      "115272       8.000\n",
      "109251       3.500\n",
      "37673       11.000\n",
      "16418       14.000\n",
      "81697       20.000\n",
      "53860        0.966\n",
      "7616         2.000\n",
      "95110        4.900\n",
      "39027        4.000\n",
      "17948       17.000\n",
      "33208       15.000\n",
      "7011         8.000\n",
      "66264        1.000\n",
      "103520       2.000\n",
      "109036       3.000\n",
      "88252        3.800\n",
      "19997       18.000\n",
      "5526         2.000\n",
      "85846        7.330\n",
      "1210         1.000\n",
      "104196      10.900\n",
      "28922        4.000\n",
      "Name: FLSHVOL, dtype: float64\n"
     ]
    }
   ],
   "source": [
    "print(\"FLSHVOL:\")\n",
    "print(copied_flushing_history_df['FLSHVOL'].head(50))"
   ]
  },
  {
   "cell_type": "code",
   "execution_count": 13,
   "id": "99540a86-c2f7-4d7a-a04d-3036a4b1648f",
   "metadata": {
    "scrolled": true
   },
   "outputs": [
    {
     "name": "stdout",
     "output_type": "stream",
     "text": [
      "FLSHDUR:\n",
      "15528      8.0\n",
      "85374     15.0\n",
      "111638    15.0\n",
      "36450      5.0\n",
      "98795     10.0\n",
      "62794     14.0\n",
      "21057     20.0\n",
      "44781     10.0\n",
      "9037      13.0\n",
      "111377     9.0\n",
      "98799     20.0\n",
      "33272     10.0\n",
      "84325     13.0\n",
      "61630      9.0\n",
      "24985     12.0\n",
      "5205      16.0\n",
      "29042     10.0\n",
      "19950     18.0\n",
      "106943     6.0\n",
      "85657     15.0\n",
      "73921     15.0\n",
      "58135     20.0\n",
      "55712     25.0\n",
      "95868     14.0\n",
      "7422       8.0\n",
      "89826     10.0\n",
      "35048     20.0\n",
      "103160    12.0\n",
      "115272    10.0\n",
      "109251    10.0\n",
      "37673     15.0\n",
      "16418     17.0\n",
      "81697     20.0\n",
      "53860     15.0\n",
      "7616       8.0\n",
      "95110     10.0\n",
      "39027     10.0\n",
      "17948     20.0\n",
      "33208     19.0\n",
      "7011      10.0\n",
      "66264      3.0\n",
      "103520    10.0\n",
      "109036     6.0\n",
      "88252      9.0\n",
      "19997     20.0\n",
      "5526      10.0\n",
      "85846     10.0\n",
      "1210       0.0\n",
      "104196    10.0\n",
      "28922      8.0\n",
      "Name: FLSHDUR, dtype: float64\n"
     ]
    }
   ],
   "source": [
    "print(\"FLSHDUR:\")\n",
    "print(copied_flushing_history_df['FLSHDUR'].head(50))"
   ]
  },
  {
   "cell_type": "code",
   "execution_count": 14,
   "id": "ccd9039c-4e22-4d9c-add0-7a7d5162c6fa",
   "metadata": {},
   "outputs": [
    {
     "data": {
      "text/html": [
       "<div>\n",
       "<style scoped>\n",
       "    .dataframe tbody tr th:only-of-type {\n",
       "        vertical-align: middle;\n",
       "    }\n",
       "\n",
       "    .dataframe tbody tr th {\n",
       "        vertical-align: top;\n",
       "    }\n",
       "\n",
       "    .dataframe thead th {\n",
       "        text-align: right;\n",
       "    }\n",
       "</style>\n",
       "<table border=\"1\" class=\"dataframe\">\n",
       "  <thead>\n",
       "    <tr style=\"text-align: right;\">\n",
       "      <th></th>\n",
       "      <th>INSPKEY</th>\n",
       "      <th>GRIDKEY</th>\n",
       "      <th>FLSHFRE</th>\n",
       "      <th>FLSHDATE</th>\n",
       "      <th>CLFREE</th>\n",
       "      <th>CLTOTL</th>\n",
       "      <th>PHREAD</th>\n",
       "      <th>FLSHVOL</th>\n",
       "      <th>FLSHDUR</th>\n",
       "      <th>INSPBY</th>\n",
       "      <th>...</th>\n",
       "      <th>CLFREE2</th>\n",
       "      <th>CLTOTL1</th>\n",
       "      <th>CLTOTL2</th>\n",
       "      <th>WWNUM</th>\n",
       "      <th>COMMUN</th>\n",
       "      <th>COMPKEY</th>\n",
       "      <th>FLSHTIME1</th>\n",
       "      <th>FLSHTIME2</th>\n",
       "      <th>UNSCEHDLD</th>\n",
       "      <th>ALTERNATE</th>\n",
       "    </tr>\n",
       "  </thead>\n",
       "  <tbody>\n",
       "    <tr>\n",
       "      <th>15528</th>\n",
       "      <td>750335</td>\n",
       "      <td>1826244</td>\n",
       "      <td>1 YEAR</td>\n",
       "      <td>2015-11-30</td>\n",
       "      <td>0.67</td>\n",
       "      <td>0.89</td>\n",
       "      <td>0.00</td>\n",
       "      <td>4.00</td>\n",
       "      <td>8.0</td>\n",
       "      <td>68297.0</td>\n",
       "      <td>...</td>\n",
       "      <td>0.0</td>\n",
       "      <td>0.96</td>\n",
       "      <td>0.0</td>\n",
       "      <td>WW260094120</td>\n",
       "      <td>B</td>\n",
       "      <td>1002.0</td>\n",
       "      <td>NaN</td>\n",
       "      <td>NaN</td>\n",
       "      <td>NaN</td>\n",
       "      <td>NaN</td>\n",
       "    </tr>\n",
       "    <tr>\n",
       "      <th>85374</th>\n",
       "      <td>1125503</td>\n",
       "      <td>19410183</td>\n",
       "      <td>1 YEAR</td>\n",
       "      <td>2021-11-24</td>\n",
       "      <td>0.87</td>\n",
       "      <td>1.17</td>\n",
       "      <td>8.02</td>\n",
       "      <td>12.00</td>\n",
       "      <td>15.0</td>\n",
       "      <td>15591</td>\n",
       "      <td>...</td>\n",
       "      <td>NaN</td>\n",
       "      <td>1.39</td>\n",
       "      <td>NaN</td>\n",
       "      <td>WW260094120</td>\n",
       "      <td>B</td>\n",
       "      <td>1002.0</td>\n",
       "      <td>10:30</td>\n",
       "      <td>NaN</td>\n",
       "      <td>N</td>\n",
       "      <td>N</td>\n",
       "    </tr>\n",
       "    <tr>\n",
       "      <th>111638</th>\n",
       "      <td>1219812</td>\n",
       "      <td>19498664</td>\n",
       "      <td>1 YEAR</td>\n",
       "      <td>2023-11-24</td>\n",
       "      <td>1.08</td>\n",
       "      <td>1.31</td>\n",
       "      <td>7.78</td>\n",
       "      <td>14.50</td>\n",
       "      <td>15.0</td>\n",
       "      <td>17886</td>\n",
       "      <td>...</td>\n",
       "      <td>NaN</td>\n",
       "      <td>1.26</td>\n",
       "      <td>NaN</td>\n",
       "      <td>WW260094120</td>\n",
       "      <td>B</td>\n",
       "      <td>1002.0</td>\n",
       "      <td>08:25</td>\n",
       "      <td>NaN</td>\n",
       "      <td>N</td>\n",
       "      <td>N</td>\n",
       "    </tr>\n",
       "    <tr>\n",
       "      <th>36450</th>\n",
       "      <td>910232</td>\n",
       "      <td>18645943</td>\n",
       "      <td>1 YEAR</td>\n",
       "      <td>2017-11-30</td>\n",
       "      <td>0.94</td>\n",
       "      <td>1.08</td>\n",
       "      <td>7.82</td>\n",
       "      <td>1.10</td>\n",
       "      <td>5.0</td>\n",
       "      <td>68739</td>\n",
       "      <td>...</td>\n",
       "      <td>NaN</td>\n",
       "      <td>NaN</td>\n",
       "      <td>NaN</td>\n",
       "      <td>WW260094120</td>\n",
       "      <td>B</td>\n",
       "      <td>1002.0</td>\n",
       "      <td>09:35</td>\n",
       "      <td>NaN</td>\n",
       "      <td>N</td>\n",
       "      <td>N</td>\n",
       "    </tr>\n",
       "    <tr>\n",
       "      <th>98795</th>\n",
       "      <td>1178642</td>\n",
       "      <td>19463429</td>\n",
       "      <td>1 YEAR</td>\n",
       "      <td>2022-11-24</td>\n",
       "      <td>0.92</td>\n",
       "      <td>1.16</td>\n",
       "      <td>8.06</td>\n",
       "      <td>7.14</td>\n",
       "      <td>10.0</td>\n",
       "      <td>68739</td>\n",
       "      <td>...</td>\n",
       "      <td>NaN</td>\n",
       "      <td>1.17</td>\n",
       "      <td>NaN</td>\n",
       "      <td>WW260094120</td>\n",
       "      <td>B</td>\n",
       "      <td>1002.0</td>\n",
       "      <td>08:56</td>\n",
       "      <td>NaN</td>\n",
       "      <td>N</td>\n",
       "      <td>N</td>\n",
       "    </tr>\n",
       "    <tr>\n",
       "      <th>...</th>\n",
       "      <td>...</td>\n",
       "      <td>...</td>\n",
       "      <td>...</td>\n",
       "      <td>...</td>\n",
       "      <td>...</td>\n",
       "      <td>...</td>\n",
       "      <td>...</td>\n",
       "      <td>...</td>\n",
       "      <td>...</td>\n",
       "      <td>...</td>\n",
       "      <td>...</td>\n",
       "      <td>...</td>\n",
       "      <td>...</td>\n",
       "      <td>...</td>\n",
       "      <td>...</td>\n",
       "      <td>...</td>\n",
       "      <td>...</td>\n",
       "      <td>...</td>\n",
       "      <td>...</td>\n",
       "      <td>...</td>\n",
       "      <td>...</td>\n",
       "    </tr>\n",
       "    <tr>\n",
       "      <th>115140</th>\n",
       "      <td>1253375</td>\n",
       "      <td>19517454</td>\n",
       "      <td>1 WEEK</td>\n",
       "      <td>2024-05-30</td>\n",
       "      <td>1.00</td>\n",
       "      <td>1.16</td>\n",
       "      <td>7.68</td>\n",
       "      <td>20.00</td>\n",
       "      <td>20.0</td>\n",
       "      <td>69695</td>\n",
       "      <td>...</td>\n",
       "      <td>NaN</td>\n",
       "      <td>1.34</td>\n",
       "      <td>NaN</td>\n",
       "      <td>WW220003993</td>\n",
       "      <td>C</td>\n",
       "      <td>1307858.0</td>\n",
       "      <td>09:00</td>\n",
       "      <td>NaN</td>\n",
       "      <td>N</td>\n",
       "      <td>N</td>\n",
       "    </tr>\n",
       "    <tr>\n",
       "      <th>115009</th>\n",
       "      <td>1253375</td>\n",
       "      <td>19518464</td>\n",
       "      <td>1 WEEK</td>\n",
       "      <td>2024-06-17</td>\n",
       "      <td>0.97</td>\n",
       "      <td>1.10</td>\n",
       "      <td>7.54</td>\n",
       "      <td>20.00</td>\n",
       "      <td>17.0</td>\n",
       "      <td>22506</td>\n",
       "      <td>...</td>\n",
       "      <td>NaN</td>\n",
       "      <td>1.43</td>\n",
       "      <td>NaN</td>\n",
       "      <td>WW220003993</td>\n",
       "      <td>C</td>\n",
       "      <td>1307858.0</td>\n",
       "      <td>12:26</td>\n",
       "      <td>NaN</td>\n",
       "      <td>N</td>\n",
       "      <td>N</td>\n",
       "    </tr>\n",
       "    <tr>\n",
       "      <th>115821</th>\n",
       "      <td>1253375</td>\n",
       "      <td>19517764</td>\n",
       "      <td>1 WEEK</td>\n",
       "      <td>2024-06-14</td>\n",
       "      <td>0.69</td>\n",
       "      <td>0.76</td>\n",
       "      <td>7.71</td>\n",
       "      <td>12.00</td>\n",
       "      <td>15.0</td>\n",
       "      <td>24289</td>\n",
       "      <td>...</td>\n",
       "      <td>NaN</td>\n",
       "      <td>1.11</td>\n",
       "      <td>NaN</td>\n",
       "      <td>WW220003993</td>\n",
       "      <td>C</td>\n",
       "      <td>1307858.0</td>\n",
       "      <td>14:00</td>\n",
       "      <td>NaN</td>\n",
       "      <td>N</td>\n",
       "      <td>N</td>\n",
       "    </tr>\n",
       "    <tr>\n",
       "      <th>116406</th>\n",
       "      <td>1253375</td>\n",
       "      <td>19515396</td>\n",
       "      <td>1 WEEK</td>\n",
       "      <td>2024-05-14</td>\n",
       "      <td>1.15</td>\n",
       "      <td>1.26</td>\n",
       "      <td>7.64</td>\n",
       "      <td>15.00</td>\n",
       "      <td>15.0</td>\n",
       "      <td>69695</td>\n",
       "      <td>...</td>\n",
       "      <td>NaN</td>\n",
       "      <td>1.41</td>\n",
       "      <td>NaN</td>\n",
       "      <td>WW220003993</td>\n",
       "      <td>C</td>\n",
       "      <td>1307858.0</td>\n",
       "      <td>12:50</td>\n",
       "      <td>NaN</td>\n",
       "      <td>N</td>\n",
       "      <td>N</td>\n",
       "    </tr>\n",
       "    <tr>\n",
       "      <th>116030</th>\n",
       "      <td>1253375</td>\n",
       "      <td>19514711</td>\n",
       "      <td>1 WEEK</td>\n",
       "      <td>2024-05-07</td>\n",
       "      <td>1.27</td>\n",
       "      <td>1.47</td>\n",
       "      <td>7.51</td>\n",
       "      <td>30.00</td>\n",
       "      <td>20.0</td>\n",
       "      <td>22506</td>\n",
       "      <td>...</td>\n",
       "      <td>NaN</td>\n",
       "      <td>1.64</td>\n",
       "      <td>NaN</td>\n",
       "      <td>WW220003993</td>\n",
       "      <td>C</td>\n",
       "      <td>1307858.0</td>\n",
       "      <td>12:28</td>\n",
       "      <td>NaN</td>\n",
       "      <td>N</td>\n",
       "      <td>N</td>\n",
       "    </tr>\n",
       "  </tbody>\n",
       "</table>\n",
       "<p>112582 rows × 21 columns</p>\n",
       "</div>"
      ],
      "text/plain": [
       "        INSPKEY   GRIDKEY FLSHFRE    FLSHDATE  CLFREE  CLTOTL  PHREAD  \\\n",
       "15528    750335   1826244  1 YEAR  2015-11-30    0.67    0.89    0.00   \n",
       "85374   1125503  19410183  1 YEAR  2021-11-24    0.87    1.17    8.02   \n",
       "111638  1219812  19498664  1 YEAR  2023-11-24    1.08    1.31    7.78   \n",
       "36450    910232  18645943  1 YEAR  2017-11-30    0.94    1.08    7.82   \n",
       "98795   1178642  19463429  1 YEAR  2022-11-24    0.92    1.16    8.06   \n",
       "...         ...       ...     ...         ...     ...     ...     ...   \n",
       "115140  1253375  19517454  1 WEEK  2024-05-30    1.00    1.16    7.68   \n",
       "115009  1253375  19518464  1 WEEK  2024-06-17    0.97    1.10    7.54   \n",
       "115821  1253375  19517764  1 WEEK  2024-06-14    0.69    0.76    7.71   \n",
       "116406  1253375  19515396  1 WEEK  2024-05-14    1.15    1.26    7.64   \n",
       "116030  1253375  19514711  1 WEEK  2024-05-07    1.27    1.47    7.51   \n",
       "\n",
       "        FLSHVOL  FLSHDUR   INSPBY  ...  CLFREE2  CLTOTL1  CLTOTL2  \\\n",
       "15528      4.00      8.0  68297.0  ...      0.0     0.96      0.0   \n",
       "85374     12.00     15.0    15591  ...      NaN     1.39      NaN   \n",
       "111638    14.50     15.0    17886  ...      NaN     1.26      NaN   \n",
       "36450      1.10      5.0    68739  ...      NaN      NaN      NaN   \n",
       "98795      7.14     10.0    68739  ...      NaN     1.17      NaN   \n",
       "...         ...      ...      ...  ...      ...      ...      ...   \n",
       "115140    20.00     20.0    69695  ...      NaN     1.34      NaN   \n",
       "115009    20.00     17.0    22506  ...      NaN     1.43      NaN   \n",
       "115821    12.00     15.0    24289  ...      NaN     1.11      NaN   \n",
       "116406    15.00     15.0    69695  ...      NaN     1.41      NaN   \n",
       "116030    30.00     20.0    22506  ...      NaN     1.64      NaN   \n",
       "\n",
       "              WWNUM COMMUN    COMPKEY  FLSHTIME1 FLSHTIME2 UNSCEHDLD ALTERNATE  \n",
       "15528   WW260094120      B     1002.0        NaN       NaN       NaN       NaN  \n",
       "85374   WW260094120      B     1002.0      10:30       NaN         N         N  \n",
       "111638  WW260094120      B     1002.0      08:25       NaN         N         N  \n",
       "36450   WW260094120      B     1002.0      09:35       NaN         N         N  \n",
       "98795   WW260094120      B     1002.0      08:56       NaN         N         N  \n",
       "...             ...    ...        ...        ...       ...       ...       ...  \n",
       "115140  WW220003993      C  1307858.0      09:00       NaN         N         N  \n",
       "115009  WW220003993      C  1307858.0      12:26       NaN         N         N  \n",
       "115821  WW220003993      C  1307858.0      14:00       NaN         N         N  \n",
       "116406  WW220003993      C  1307858.0      12:50       NaN         N         N  \n",
       "116030  WW220003993      C  1307858.0      12:28       NaN         N         N  \n",
       "\n",
       "[112582 rows x 21 columns]"
      ]
     },
     "execution_count": 14,
     "metadata": {},
     "output_type": "execute_result"
    }
   ],
   "source": [
    "copied_flushing_history_df"
   ]
  },
  {
   "cell_type": "code",
   "execution_count": 15,
   "id": "a6c603e8-dfb3-4305-aaea-b2a05b06683a",
   "metadata": {},
   "outputs": [],
   "source": [
    "# Replaces missing values in a given column with the median of that column\n",
    "def impute_missing_vals(df, column):\n",
    "    median = df[column].median()\n",
    "    return df[column].fillna(median)"
   ]
  },
  {
   "cell_type": "code",
   "execution_count": 16,
   "id": "caa4c7a3-2b58-4958-918f-fc95e37dd8ec",
   "metadata": {
    "scrolled": true
   },
   "outputs": [
    {
     "name": "stdout",
     "output_type": "stream",
     "text": [
      "FLSHVOL (imputed):\n",
      "15528        4.000\n",
      "85374       12.000\n",
      "111638      14.500\n",
      "36450        1.100\n",
      "98795        7.140\n",
      "62794        2.000\n",
      "21057       10.000\n",
      "44781        6.000\n",
      "9037         9.000\n",
      "111377       3.500\n",
      "98799       12.000\n",
      "33272        7.000\n",
      "84325        8.500\n",
      "61630        2.900\n",
      "24985       12.000\n",
      "5205        14.000\n",
      "29042     1042.000\n",
      "19950       15.000\n",
      "106943       4.800\n",
      "85657       10.000\n",
      "73921        9.790\n",
      "58135        1.300\n",
      "55712        4.000\n",
      "95868       10.030\n",
      "7422         6.000\n",
      "89826        4.700\n",
      "35048        8.000\n",
      "103160       6.600\n",
      "115272       8.000\n",
      "109251       3.500\n",
      "37673       11.000\n",
      "16418       14.000\n",
      "81697       20.000\n",
      "53860        0.966\n",
      "7616         2.000\n",
      "95110        4.900\n",
      "39027        4.000\n",
      "17948       17.000\n",
      "33208       15.000\n",
      "7011         8.000\n",
      "66264        1.000\n",
      "103520       2.000\n",
      "109036       3.000\n",
      "88252        3.800\n",
      "19997       18.000\n",
      "5526         2.000\n",
      "85846        7.330\n",
      "1210         1.000\n",
      "104196      10.900\n",
      "28922        4.000\n",
      "Name: FLSHVOL, dtype: float64\n"
     ]
    }
   ],
   "source": [
    "# Imputing missing values in the FLSHVOL column\n",
    "copied_flushing_history_df['FLSHVOL'] = impute_missing_vals(copied_flushing_history_df, 'FLSHVOL')\n",
    "print(\"FLSHVOL (imputed):\")\n",
    "print(copied_flushing_history_df['FLSHVOL'].head(50))"
   ]
  },
  {
   "cell_type": "code",
   "execution_count": 17,
   "id": "e27124da-6830-483f-ae58-9f1d52e0e963",
   "metadata": {
    "scrolled": true
   },
   "outputs": [
    {
     "name": "stdout",
     "output_type": "stream",
     "text": [
      "FLSHDUR (imputed):\n",
      "15528      8.0\n",
      "85374     15.0\n",
      "111638    15.0\n",
      "36450      5.0\n",
      "98795     10.0\n",
      "62794     14.0\n",
      "21057     20.0\n",
      "44781     10.0\n",
      "9037      13.0\n",
      "111377     9.0\n",
      "98799     20.0\n",
      "33272     10.0\n",
      "84325     13.0\n",
      "61630      9.0\n",
      "24985     12.0\n",
      "5205      16.0\n",
      "29042     10.0\n",
      "19950     18.0\n",
      "106943     6.0\n",
      "85657     15.0\n",
      "73921     15.0\n",
      "58135     20.0\n",
      "55712     25.0\n",
      "95868     14.0\n",
      "7422       8.0\n",
      "89826     10.0\n",
      "35048     20.0\n",
      "103160    12.0\n",
      "115272    10.0\n",
      "109251    10.0\n",
      "37673     15.0\n",
      "16418     17.0\n",
      "81697     20.0\n",
      "53860     15.0\n",
      "7616       8.0\n",
      "95110     10.0\n",
      "39027     10.0\n",
      "17948     20.0\n",
      "33208     19.0\n",
      "7011      10.0\n",
      "66264      3.0\n",
      "103520    10.0\n",
      "109036     6.0\n",
      "88252      9.0\n",
      "19997     20.0\n",
      "5526      10.0\n",
      "85846     10.0\n",
      "1210       0.0\n",
      "104196    10.0\n",
      "28922      8.0\n",
      "Name: FLSHDUR, dtype: float64\n"
     ]
    }
   ],
   "source": [
    "# Imputing missing values in the FLSHDUR column\n",
    "copied_flushing_history_df['FLSHDUR'] = impute_missing_vals(copied_flushing_history_df, 'FLSHDUR')\n",
    "print(\"FLSHDUR (imputed):\")\n",
    "print(copied_flushing_history_df['FLSHDUR'].head(50))"
   ]
  },
  {
   "cell_type": "code",
   "execution_count": 18,
   "id": "fe42a44d-d25e-428c-bb40-4f128283125b",
   "metadata": {},
   "outputs": [
    {
     "data": {
      "text/html": [
       "<div>\n",
       "<style scoped>\n",
       "    .dataframe tbody tr th:only-of-type {\n",
       "        vertical-align: middle;\n",
       "    }\n",
       "\n",
       "    .dataframe tbody tr th {\n",
       "        vertical-align: top;\n",
       "    }\n",
       "\n",
       "    .dataframe thead th {\n",
       "        text-align: right;\n",
       "    }\n",
       "</style>\n",
       "<table border=\"1\" class=\"dataframe\">\n",
       "  <thead>\n",
       "    <tr style=\"text-align: right;\">\n",
       "      <th></th>\n",
       "      <th>INSPKEY</th>\n",
       "      <th>GRIDKEY</th>\n",
       "      <th>FLSHFRE</th>\n",
       "      <th>FLSHDATE</th>\n",
       "      <th>CLFREE</th>\n",
       "      <th>CLTOTL</th>\n",
       "      <th>PHREAD</th>\n",
       "      <th>FLSHVOL</th>\n",
       "      <th>FLSHDUR</th>\n",
       "      <th>INSPBY</th>\n",
       "      <th>...</th>\n",
       "      <th>CLFREE2</th>\n",
       "      <th>CLTOTL1</th>\n",
       "      <th>CLTOTL2</th>\n",
       "      <th>WWNUM</th>\n",
       "      <th>COMMUN</th>\n",
       "      <th>COMPKEY</th>\n",
       "      <th>FLSHTIME1</th>\n",
       "      <th>FLSHTIME2</th>\n",
       "      <th>UNSCEHDLD</th>\n",
       "      <th>ALTERNATE</th>\n",
       "    </tr>\n",
       "  </thead>\n",
       "  <tbody>\n",
       "  </tbody>\n",
       "</table>\n",
       "<p>0 rows × 21 columns</p>\n",
       "</div>"
      ],
      "text/plain": [
       "Empty DataFrame\n",
       "Columns: [INSPKEY, GRIDKEY, FLSHFRE, FLSHDATE, CLFREE, CLTOTL, PHREAD, FLSHVOL, FLSHDUR, INSPBY, CLFREE1, CLFREE2, CLTOTL1, CLTOTL2, WWNUM, COMMUN, COMPKEY, FLSHTIME1, FLSHTIME2, UNSCEHDLD, ALTERNATE]\n",
       "Index: []\n",
       "\n",
       "[0 rows x 21 columns]"
      ]
     },
     "execution_count": 18,
     "metadata": {},
     "output_type": "execute_result"
    }
   ],
   "source": [
    "copied_flushing_history_df[copied_flushing_history_df['FLSHVOL'].isnull()]"
   ]
  },
  {
   "cell_type": "code",
   "execution_count": 19,
   "id": "57aae178-70ba-41cc-a27f-1a9d2a39f59b",
   "metadata": {},
   "outputs": [
    {
     "data": {
      "text/html": [
       "<div>\n",
       "<style scoped>\n",
       "    .dataframe tbody tr th:only-of-type {\n",
       "        vertical-align: middle;\n",
       "    }\n",
       "\n",
       "    .dataframe tbody tr th {\n",
       "        vertical-align: top;\n",
       "    }\n",
       "\n",
       "    .dataframe thead th {\n",
       "        text-align: right;\n",
       "    }\n",
       "</style>\n",
       "<table border=\"1\" class=\"dataframe\">\n",
       "  <thead>\n",
       "    <tr style=\"text-align: right;\">\n",
       "      <th></th>\n",
       "      <th>INSPKEY</th>\n",
       "      <th>GRIDKEY</th>\n",
       "      <th>FLSHFRE</th>\n",
       "      <th>FLSHDATE</th>\n",
       "      <th>CLFREE</th>\n",
       "      <th>CLTOTL</th>\n",
       "      <th>PHREAD</th>\n",
       "      <th>FLSHVOL</th>\n",
       "      <th>FLSHDUR</th>\n",
       "      <th>INSPBY</th>\n",
       "      <th>...</th>\n",
       "      <th>CLFREE2</th>\n",
       "      <th>CLTOTL1</th>\n",
       "      <th>CLTOTL2</th>\n",
       "      <th>WWNUM</th>\n",
       "      <th>COMMUN</th>\n",
       "      <th>COMPKEY</th>\n",
       "      <th>FLSHTIME1</th>\n",
       "      <th>FLSHTIME2</th>\n",
       "      <th>UNSCEHDLD</th>\n",
       "      <th>ALTERNATE</th>\n",
       "    </tr>\n",
       "  </thead>\n",
       "  <tbody>\n",
       "  </tbody>\n",
       "</table>\n",
       "<p>0 rows × 21 columns</p>\n",
       "</div>"
      ],
      "text/plain": [
       "Empty DataFrame\n",
       "Columns: [INSPKEY, GRIDKEY, FLSHFRE, FLSHDATE, CLFREE, CLTOTL, PHREAD, FLSHVOL, FLSHDUR, INSPBY, CLFREE1, CLFREE2, CLTOTL1, CLTOTL2, WWNUM, COMMUN, COMPKEY, FLSHTIME1, FLSHTIME2, UNSCEHDLD, ALTERNATE]\n",
       "Index: []\n",
       "\n",
       "[0 rows x 21 columns]"
      ]
     },
     "execution_count": 19,
     "metadata": {},
     "output_type": "execute_result"
    }
   ],
   "source": [
    "copied_flushing_history_df[copied_flushing_history_df['FLSHDUR'].isnull()]"
   ]
  },
  {
   "cell_type": "code",
   "execution_count": 20,
   "id": "8a34c279",
   "metadata": {},
   "outputs": [],
   "source": [
    "#TODO: Ella to verify the meaning of CLFREE1, CLFREE2, CLTOTL1, CLTOTL2 in relation to CLFREE, CLTOTL and decide whether the UNSCEHDLD and ALTERNATE are useful"
   ]
  },
  {
   "cell_type": "markdown",
   "id": "3c672668-8a35-430a-b4e5-bdd74432b969",
   "metadata": {},
   "source": [
    "#### Detecting and Removing Outliers\n",
    "To mitigate bias in the model"
   ]
  },
  {
   "cell_type": "code",
   "execution_count": 21,
   "id": "7732f542-541e-475e-8029-01ad6881362b",
   "metadata": {},
   "outputs": [],
   "source": [
    "# For visualizing the box and whisker plot\n",
    "import seaborn as sns\n",
    "\n",
    "# Replaces all outliers within a given column with the median of that column\n",
    "def replace_outliers(df, column):\n",
    "    # Creates a box and whisker plot to visualize data points that are considered to be outliers\n",
    "    sns.boxplot(df[column])\n",
    "    plt.title(f\"Original Box and Whisker Plot for {column}\")\n",
    "    plt.show()\n",
    "    \n",
    "    # Computing the first, second (median), and third quartiles\n",
    "    q1 = df[column].quantile(0.25)\n",
    "    q2 = df[column].quantile(0.5)\n",
    "    q3 = df[column].quantile(0.75)\n",
    "\n",
    "    print(f\"First quartile is {q1}\")\n",
    "    print(f\"Median is {q2}\")\n",
    "    print(f\"Third quartile is {q3}\")\n",
    "    \n",
    "    # Computing the interquartile range\n",
    "    iqr = q3 - q1\n",
    "\n",
    "    # Values that are lower than the lower fence or higher than the upper fence are considered to be outliers\n",
    "    lower_fence = q1 - (1.5 * iqr)\n",
    "    upper_fence = q3 + (1.5 * iqr)\n",
    "\n",
    "    print(f\"Lower fence is {lower_fence}\")\n",
    "    print(f\"Upper fence is {upper_fence}\")\n",
    "\n",
    "    # Replace outliers with the median\n",
    "    adjusted_column = [x if lower_fence <= x <= upper_fence else q2 for x in df[column]]\n",
    "    \n",
    "    # New box and whisker plot with outliers adjusted\n",
    "    sns.boxplot(adjusted_column)\n",
    "    plt.title(f\"New Box and Whisker Plot for {column}\")\n",
    "    plt.show()\n",
    "\n",
    "    return adjusted_column"
   ]
  },
  {
   "cell_type": "code",
   "execution_count": 22,
   "id": "3b540030-b373-48e2-adee-dc7003912fbc",
   "metadata": {},
   "outputs": [
    {
     "data": {
      "image/png": "[encoded data removed]",
      "text/plain": [
       "<Figure size 640x480 with 1 Axes>"
      ]
     },
     "metadata": {},
     "output_type": "display_data"
    },
    {
     "name": "stdout",
     "output_type": "stream",
     "text": [
      "First quartile is 5.0\n",
      "Median is 10.0\n",
      "Third quartile is 18.0\n",
      "Lower fence is -14.5\n",
      "Upper fence is 37.5\n"
     ]
    },
    {
     "data": {
      "image/png": "[encoded data removed]",
      "text/plain": [
       "<Figure size 640x480 with 1 Axes>"
      ]
     },
     "metadata": {},
     "output_type": "display_data"
    }
   ],
   "source": [
    "# Replacing outliers in the FLSHVOL column\n",
    "copied_flushing_history_df['FLSHVOL'] = replace_outliers(copied_flushing_history_df, 'FLSHVOL')"
   ]
  },
  {
   "cell_type": "code",
   "execution_count": 23,
   "id": "c726563f-0530-4d21-b209-8ea15dbd7cb1",
   "metadata": {},
   "outputs": [
    {
     "data": {
      "image/png": "[encoded data removed]",
      "text/plain": [
       "<Figure size 640x480 with 1 Axes>"
      ]
     },
     "metadata": {},
     "output_type": "display_data"
    },
    {
     "name": "stdout",
     "output_type": "stream",
     "text": [
      "First quartile is 10.0\n",
      "Median is 15.0\n",
      "Third quartile is 23.0\n",
      "Lower fence is -9.5\n",
      "Upper fence is 42.5\n"
     ]
    },
    {
     "data": {
      "image/png": "[encoded data removed]",
      "text/plain": [
       "<Figure size 640x480 with 1 Axes>"
      ]
     },
     "metadata": {},
     "output_type": "display_data"
    }
   ],
   "source": [
    "# Replacing outliers in the FLSHDUR column\n",
    "copied_flushing_history_df['FLSHDUR'] = replace_outliers(copied_flushing_history_df, 'FLSHDUR')"
   ]
  },
  {
   "cell_type": "markdown",
   "id": "1bbfb53d",
   "metadata": {},
   "source": [
    "### Data Cleaning - Hydrant Table"
   ]
  },
  {
   "cell_type": "code",
   "execution_count": 24,
   "id": "839c23eb-6269-4dd4-86ce-5c331080bbfa",
   "metadata": {
    "collapsed": false,
    "jupyter": {
     "outputs_hidden": false,
     "source_hidden": false
    },
    "microsoft": {
     "language": "python",
     "language_group": "synapse_pyspark"
    },
    "nteract": {
     "transient": {
      "deleting": false
     }
    }
   },
   "outputs": [],
   "source": [
    "# Creating a copy of the All Hydrants DataFrame\n",
    "copied_all_hydrants_df = copy.deepcopy(all_hydrants_df)"
   ]
  },
  {
   "cell_type": "code",
   "execution_count": 25,
   "id": "eadad797-41d2-49db-a2c9-6eb77e338458",
   "metadata": {
    "collapsed": false,
    "jupyter": {
     "outputs_hidden": false,
     "source_hidden": false
    },
    "microsoft": {
     "language": "python",
     "language_group": "synapse_pyspark"
    },
    "nteract": {
     "transient": {
      "deleting": false
     }
    },
    "scrolled": true
   },
   "outputs": [
    {
     "name": "stdout",
     "output_type": "stream",
     "text": [
      "              ADDRKEY ADDRQUAL   AREA       ASBLT  AUXVALVE  BARRELSIZE  \\\n",
      "count    40544.000000    28325  40082       21387       0.0     40544.0   \n",
      "unique            NaN    18114    149       11809       NaN         NaN   \n",
      "top               NaN       10    B33  SEECOMMENT       NaN         NaN   \n",
      "freq              NaN       91   1245         833       NaN         NaN   \n",
      "mean    102529.138393      NaN    NaN         NaN       NaN         0.0   \n",
      "std     142214.592750      NaN    NaN         NaN       NaN         0.0   \n",
      "min          1.000000      NaN    NaN         NaN       NaN         0.0   \n",
      "25%       3228.000000      NaN    NaN         NaN       NaN         0.0   \n",
      "50%       5721.000000      NaN    NaN         NaN       NaN         0.0   \n",
      "75%     217228.500000      NaN    NaN         NaN       NaN         0.0   \n",
      "max     437401.000000      NaN    NaN         NaN       NaN         0.0   \n",
      "\n",
      "        COLOR  IMSRO_COMPHY_COMPKEY  COMPLEXKEY DISTRICT    FEEDERDIAM  \\\n",
      "count   25949          4.054400e+04     40544.0    40535  40541.000000   \n",
      "unique      3                   NaN         NaN        3           NaN   \n",
      "top      BLUE                   NaN         NaN        W           NaN   \n",
      "freq    24997                   NaN         NaN    19629           NaN   \n",
      "mean      NaN          3.879137e+05         1.0      NaN     68.937619   \n",
      "std       NaN          4.304154e+05         0.0      NaN     74.755504   \n",
      "min       NaN          1.000000e+03         1.0      NaN      0.000000   \n",
      "25%       NaN          1.130475e+04         1.0      NaN      0.000000   \n",
      "50%       NaN          2.165350e+04         1.0      NaN      0.000000   \n",
      "75%       NaN          7.529305e+05         1.0      NaN    150.000000   \n",
      "max       NaN          1.312755e+06         1.0      NaN    150.000000   \n",
      "\n",
      "           FEEDERLEN FEEDERTYPE  GISSTATIC       HT    INSTDATE   INTKEY  \\\n",
      "count   40497.000000      18580        1.0  40544.0       20334  40544.0   \n",
      "unique           NaN          5        NaN      NaN        1723      NaN   \n",
      "top              NaN        PVC        NaN      NaN  2011-03-01      NaN   \n",
      "freq             NaN      18370        NaN      NaN         146      NaN   \n",
      "mean        2.030451        NaN        0.0      0.0         NaN      1.0   \n",
      "std        12.778269        NaN        NaN      0.0         NaN      0.0   \n",
      "min         0.000000        NaN        0.0      0.0         NaN      1.0   \n",
      "25%         0.000000        NaN        0.0      0.0         NaN      1.0   \n",
      "50%         0.000000        NaN        0.0      0.0         NaN      1.0   \n",
      "75%         2.983000        NaN        0.0      0.0         NaN      1.0   \n",
      "max      1354.810000        NaN        0.0      0.0         NaN      1.0   \n",
      "\n",
      "          LOC       MAINKEY  MAPNO  \n",
      "count   40535  4.054400e+04  10734  \n",
      "unique   1524           NaN    967  \n",
      "top      0771           NaN  M-N/A  \n",
      "freq       88           NaN   1285  \n",
      "mean      NaN  6.785502e+05    NaN  \n",
      "std       NaN  3.408857e+05    NaN  \n",
      "min       NaN  1.000000e+00    NaN  \n",
      "25%       NaN  5.154460e+05    NaN  \n",
      "50%       NaN  6.679450e+05    NaN  \n",
      "75%       NaN  8.850965e+05    NaN  \n",
      "max       NaN  1.312464e+06    NaN  \n",
      "              MFGKEY MODELNO  OBST       OUTLSZ1       OUTLSZ2       OUTLSZ3  \\\n",
      "count   40544.000000   23603   0.0  40544.000000  40544.000000  40544.000000   \n",
      "unique           NaN     160   NaN           NaN           NaN           NaN   \n",
      "top              NaN     M67   NaN           NaN           NaN           NaN   \n",
      "freq             NaN    8266   NaN           NaN           NaN           NaN   \n",
      "mean      957.699980     NaN   NaN     49.933529    106.919988     41.328951   \n",
      "std       414.291412     NaN   NaN     25.543514     62.065605     30.018924   \n",
      "min         1.000000     NaN   NaN      0.000000      0.000000      0.000000   \n",
      "25%      1001.000000     NaN   NaN     63.000000     63.000000      0.000000   \n",
      "50%      1012.000000     NaN   NaN     63.000000    150.000000     63.000000   \n",
      "75%      1022.000000     NaN   NaN     63.000000    150.000000     63.000000   \n",
      "max      2198.000000     NaN   NaN     63.000000    150.000000    150.000000   \n",
      "\n",
      "        OUTLSZ4    OWN  PACKING  PAINTTYPE  PRCLKEY PRESZONE   SEGKEY SERNO  \\\n",
      "count   40544.0  40543      0.0        0.0  40544.0    36032  40544.0     4   \n",
      "unique      NaN      8      NaN        NaN      NaN       27      NaN     4   \n",
      "top         NaN      R      NaN        NaN      NaN        5      NaN   AVK   \n",
      "freq        NaN  34306      NaN        NaN      NaN     8034      NaN     1   \n",
      "mean        0.0    NaN      NaN        NaN      1.0      NaN      1.0   NaN   \n",
      "std         0.0    NaN      NaN        NaN      0.0      NaN      0.0   NaN   \n",
      "min         0.0    NaN      NaN        NaN      1.0      NaN      1.0   NaN   \n",
      "25%         0.0    NaN      NaN        NaN      1.0      NaN      1.0   NaN   \n",
      "50%         0.0    NaN      NaN        NaN      1.0      NaN      1.0   NaN   \n",
      "75%         0.0    NaN      NaN        NaN      1.0      NaN      1.0   NaN   \n",
      "max         0.0    NaN      NaN        NaN      1.0      NaN      1.0   NaN   \n",
      "\n",
      "       SERVSTAT         SLKEY SPECINST    STKEY SUBAREA   UNITID  \n",
      "count     40544  4.054400e+04    14919  40544.0   40056    40544  \n",
      "unique        9           NaN     4667      NaN     166    40544  \n",
      "top           A           NaN  PRIVATE      NaN     C03  2016234  \n",
      "freq      33944           NaN     4032      NaN     982        1  \n",
      "mean        NaN  2.439542e+03      NaN      1.0     NaN      NaN  \n",
      "std         NaN  4.784585e+04      NaN      0.0     NaN      NaN  \n",
      "min         NaN  1.000000e+00      NaN      1.0     NaN      NaN  \n",
      "25%         NaN  1.000000e+00      NaN      1.0     NaN      NaN  \n",
      "50%         NaN  1.000000e+00      NaN      1.0     NaN      NaN  \n",
      "75%         NaN  1.000000e+00      NaN      1.0     NaN      NaN  \n",
      "max         NaN  1.307546e+06      NaN      1.0     NaN      NaN  \n",
      "       UNITTYPE    WVKEY        XCOORD        YCOORD        ZCOORD    BGTNO  \\\n",
      "count      2432  40544.0  4.005700e+04  4.005700e+04  32892.000000    19364   \n",
      "unique        2      NaN           NaN           NaN           NaN     2233   \n",
      "top      HYBLWF      NaN           NaN           NaN           NaN  11-1345   \n",
      "freq       2430      NaN           NaN           NaN           NaN      254   \n",
      "mean        NaN      1.0  6.054417e+05  4.835092e+06    145.343148      NaN   \n",
      "std         NaN      0.0  2.989218e+05  2.842446e+04     94.139300      NaN   \n",
      "min         NaN      1.0  3.033035e+05  4.827410e+05      0.000000      NaN   \n",
      "25%         NaN      1.0  5.999383e+05  4.826777e+06     85.150841      NaN   \n",
      "50%         NaN      1.0  6.039435e+05  4.834862e+06    172.483344      NaN   \n",
      "75%         NaN      1.0  6.089235e+05  4.841709e+06    212.795707      NaN   \n",
      "max         NaN      1.0  6.041630e+07  4.870022e+06    478.141327      NaN   \n",
      "\n",
      "        USGAREAKEY    EXPBY     EXPDATE  IMSRO_VARHY_COMPKEY  ADDBY  \\\n",
      "count      40544.0     6235        6235         4.054400e+04  40544   \n",
      "unique         NaN       19        1578                  NaN     43   \n",
      "top            NaN  GISDATA  2006-06-28                  NaN  27870   \n",
      "freq           NaN     3943         333                  NaN  22951   \n",
      "mean           1.0      NaN         NaN         3.879137e+05    NaN   \n",
      "std            0.0      NaN         NaN         4.304154e+05    NaN   \n",
      "min            1.0      NaN         NaN         1.000000e+03    NaN   \n",
      "25%            1.0      NaN         NaN         1.130475e+04    NaN   \n",
      "50%            1.0      NaN         NaN         2.165350e+04    NaN   \n",
      "75%            1.0      NaN         NaN         7.529305e+05    NaN   \n",
      "max            1.0      NaN         NaN         1.312755e+06    NaN   \n",
      "\n",
      "           ADDDTTM  MODBY     MODDTTM    LASTINSP    LASTWINT    OLDID WMODID  \\\n",
      "count        40544  36374       36374       33530       33249    23895      1   \n",
      "unique        3078     30        2156        1747        1884    23895      1   \n",
      "top     2003-03-01  01776  2024-01-16  2023-01-12  2023-01-12  H21-026      W   \n",
      "freq         23605  28230       27858         283         264        1      1   \n",
      "mean           NaN    NaN         NaN         NaN         NaN      NaN    NaN   \n",
      "std            NaN    NaN         NaN         NaN         NaN      NaN    NaN   \n",
      "min            NaN    NaN         NaN         NaN         NaN      NaN    NaN   \n",
      "25%            NaN    NaN         NaN         NaN         NaN      NaN    NaN   \n",
      "50%            NaN    NaN         NaN         NaN         NaN      NaN    NaN   \n",
      "75%            NaN    NaN         NaN         NaN         NaN      NaN    NaN   \n",
      "max            NaN    NaN         NaN         NaN         NaN      NaN    NaN   \n",
      "\n",
      "       WATPLATT FLSHFRE  \n",
      "count     38177    2389  \n",
      "unique      373      12  \n",
      "top         H19  1 YEAR  \n",
      "freq        333    1221  \n",
      "mean        NaN     NaN  \n",
      "std         NaN     NaN  \n",
      "min         NaN     NaN  \n",
      "25%         NaN     NaN  \n",
      "50%         NaN     NaN  \n",
      "75%         NaN     NaN  \n",
      "max         NaN     NaN  \n",
      "       MUNICIPAL LONGKEY PLUGGED COMMUN     FLUDATE        WWNUM     LASTFREE  \\\n",
      "count      24794   40544   40544  40529        2888        40060  2881.000000   \n",
      "unique        23       3       3     39         864            5          NaN   \n",
      "top            M       N       N      M  2024-06-13  WW260094120          NaN   \n",
      "freq       13016   40321   40211  18519          44        38704          NaN   \n",
      "mean         NaN     NaN     NaN    NaN         NaN          NaN     1.116443   \n",
      "std          NaN     NaN     NaN    NaN         NaN          NaN     0.258155   \n",
      "min          NaN     NaN     NaN    NaN         NaN          NaN     0.000000   \n",
      "25%          NaN     NaN     NaN    NaN         NaN          NaN     0.980000   \n",
      "50%          NaN     NaN     NaN    NaN         NaN          NaN     1.120000   \n",
      "75%          NaN     NaN     NaN    NaN         NaN          NaN     1.280000   \n",
      "max          NaN     NaN     NaN    NaN         NaN          NaN     1.940000   \n",
      "\n",
      "           LASTOTAL   FLSHFRE_GIS NONSCHE FZONENUM  MINFLTM DECLREQD  \\\n",
      "count   2882.000000  33066.000000   22833    40062  40304.0    40494   \n",
      "unique          NaN           NaN       4       14      NaN        2   \n",
      "top             NaN           NaN       N   FZ-C03      NaN        N   \n",
      "freq            NaN           NaN   22258     7641      NaN    35495   \n",
      "mean       1.319330     18.448285     NaN      NaN      8.0      NaN   \n",
      "std        0.268443     73.554184     NaN      NaN      0.0      NaN   \n",
      "min        0.000000      0.000000     NaN      NaN      8.0      NaN   \n",
      "25%        1.180000      0.000000     NaN      NaN      8.0      NaN   \n",
      "50%        1.320000      0.000000     NaN      NaN      8.0      NaN   \n",
      "75%        1.480000      0.000000     NaN      NaN      8.0      NaN   \n",
      "max        2.190000    365.000000     NaN      NaN      8.0      NaN   \n",
      "\n",
      "           LSTFMAX1     LSTFMAX2     LSTFMAX3     AVE3FMAX     LSTTMAX1  \\\n",
      "count   2865.000000  2816.000000  2791.000000  2786.000000  2866.000000   \n",
      "unique          NaN          NaN          NaN          NaN          NaN   \n",
      "top             NaN          NaN          NaN          NaN          NaN   \n",
      "freq            NaN          NaN          NaN          NaN          NaN   \n",
      "mean       1.288377     1.255437     1.689563     1.412353     1.154048   \n",
      "std        0.300164     0.307452    19.470250     6.499163     0.226073   \n",
      "min        0.000000     0.000000     0.000000     0.000000     0.000000   \n",
      "25%        1.130000     1.110000     1.110000     1.166667     1.020000   \n",
      "50%        1.310000     1.260000     1.250000     1.310000     1.150000   \n",
      "75%        1.480000     1.420000     1.410000     1.413333     1.290000   \n",
      "max        2.190000     7.670000  1018.000000   340.130000     2.060000   \n",
      "\n",
      "           LSTTMAX2     LSTTMAX3  \n",
      "count   2819.000000  2794.000000  \n",
      "unique          NaN          NaN  \n",
      "top             NaN          NaN  \n",
      "freq            NaN          NaN  \n",
      "mean       1.132682     1.131589  \n",
      "std        0.212361     0.196615  \n",
      "min        0.000000     0.000000  \n",
      "25%        1.010000     1.010000  \n",
      "50%        1.110000     1.120000  \n",
      "75%        1.250000     1.250000  \n",
      "max        2.160000     1.910000  \n",
      "           AVE3TMAX WARDID AVKCLIP HYMARKER    ASUMDATE     PRESSMIN  \\\n",
      "count   2791.000000  40061    5541    11624        5545  26187.00000   \n",
      "unique          NaN     27       3        3         314          NaN   \n",
      "top             NaN    M05       Y        Y  2006-12-13          NaN   \n",
      "freq            NaN   5068    4200     8134         228          NaN   \n",
      "mean       1.140063    NaN     NaN      NaN         NaN     68.20510   \n",
      "std        0.160143    NaN     NaN      NaN         NaN     17.61648   \n",
      "min        0.000000    NaN     NaN      NaN         NaN      0.00000   \n",
      "25%        1.050000    NaN     NaN      NaN         NaN     58.11235   \n",
      "50%        1.140000    NaN     NaN      NaN         NaN     68.42380   \n",
      "75%        1.226667    NaN     NaN      NaN         NaN     80.30965   \n",
      "max        1.786667    NaN     NaN      NaN         NaN    413.35220   \n",
      "\n",
      "            PRESSMAX      FIRFLGPM      OUTELEVN      MDLRESRD MAINTBY  \\\n",
      "count   26187.000000  26187.000000  40063.000000  24902.000000   37319   \n",
      "unique           NaN           NaN           NaN           NaN       1   \n",
      "top              NaN           NaN           NaN           NaN       R   \n",
      "freq             NaN           NaN           NaN           NaN   37319   \n",
      "mean       86.587322   2692.902086    119.949877      0.993442     NaN   \n",
      "std        21.624994    814.043925    102.274978      0.170572     NaN   \n",
      "min         0.000000      0.000000      0.000000      0.000000     NaN   \n",
      "25%        73.651200   2296.900000      0.000000      0.930500     NaN   \n",
      "50%        87.595000   2740.430000    150.663783      1.005900     NaN   \n",
      "75%        99.578700   3176.890000    204.291261      1.077700     NaN   \n",
      "max       424.121900  31320.200000    479.055727      1.870100     NaN   \n",
      "\n",
      "          REPLABY      REPLAFOR  FRFLWVLDDT   ASSTGRPID  EMDEPT  EMDIV  \\\n",
      "count      2714.0  2.718000e+03     25704.0       28005     0.0    0.0   \n",
      "unique     2712.0           NaN         NaN        1383     NaN    NaN   \n",
      "top     6564804.0           NaN         NaN  C-HYD-0970     NaN    NaN   \n",
      "freq          2.0           NaN         NaN          72     NaN    NaN   \n",
      "mean          NaN  2.119237e+06  20150923.0         NaN     NaN    NaN   \n",
      "std           NaN  8.499016e+05         0.0         NaN     NaN    NaN   \n",
      "min           NaN  3.482790e+05  20150923.0         NaN     NaN    NaN   \n",
      "25%           NaN  2.015834e+06  20150923.0         NaN     NaN    NaN   \n",
      "50%           NaN  2.019866e+06  20150923.0         NaN     NaN    NaN   \n",
      "75%           NaN  2.022990e+06  20150923.0         NaN     NaN    NaN   \n",
      "max           NaN  6.589628e+06  20150923.0         NaN     NaN    NaN   \n",
      "\n",
      "        EMSERV  EMSERVCAT  EMCAMASTCL  \n",
      "count      0.0        0.0         0.0  \n",
      "unique     NaN        NaN         NaN  \n",
      "top        NaN        NaN         NaN  \n",
      "freq       NaN        NaN         NaN  \n",
      "mean       NaN        NaN         NaN  \n",
      "std        NaN        NaN         NaN  \n",
      "min        NaN        NaN         NaN  \n",
      "25%        NaN        NaN         NaN  \n",
      "50%        NaN        NaN         NaN  \n",
      "75%        NaN        NaN         NaN  \n",
      "max        NaN        NaN         NaN  \n",
      "       EMASSTPRNT  EMPURCHDAT  EMESTSRVLF  EMRMGSRVLF  EMRMSRLFDT  EMREPLCOST  \\\n",
      "count         0.0         0.0         0.0         0.0         0.0         0.0   \n",
      "mean          NaN         NaN         NaN         NaN         NaN         NaN   \n",
      "std           NaN         NaN         NaN         NaN         NaN         NaN   \n",
      "min           NaN         NaN         NaN         NaN         NaN         NaN   \n",
      "25%           NaN         NaN         NaN         NaN         NaN         NaN   \n",
      "50%           NaN         NaN         NaN         NaN         NaN         NaN   \n",
      "75%           NaN         NaN         NaN         NaN         NaN         NaN   \n",
      "max           NaN         NaN         NaN         NaN         NaN         NaN   \n",
      "\n",
      "       EMREPCOSDT  EMPURINCST  EMASSTCRTL  EMASSTCRDT  EMASSTRISK  EMASTRSKDT  \\\n",
      "count         0.0         0.0         0.0         0.0         0.0         0.0   \n",
      "mean          NaN         NaN         NaN         NaN         NaN         NaN   \n",
      "std           NaN         NaN         NaN         NaN         NaN         NaN   \n",
      "min           NaN         NaN         NaN         NaN         NaN         NaN   \n",
      "25%           NaN         NaN         NaN         NaN         NaN         NaN   \n",
      "50%           NaN         NaN         NaN         NaN         NaN         NaN   \n",
      "75%           NaN         NaN         NaN         NaN         NaN         NaN   \n",
      "max           NaN         NaN         NaN         NaN         NaN         NaN   \n",
      "\n",
      "       EMDISTRICT  EMEQPMNTCL  EMEQPMNTTP  EMASSTDESC  EMCOND  EMCONDDATE  \n",
      "count         0.0         0.0         0.0         0.0     0.0         0.0  \n",
      "mean          NaN         NaN         NaN         NaN     NaN         NaN  \n",
      "std           NaN         NaN         NaN         NaN     NaN         NaN  \n",
      "min           NaN         NaN         NaN         NaN     NaN         NaN  \n",
      "25%           NaN         NaN         NaN         NaN     NaN         NaN  \n",
      "50%           NaN         NaN         NaN         NaN     NaN         NaN  \n",
      "75%           NaN         NaN         NaN         NaN     NaN         NaN  \n",
      "max           NaN         NaN         NaN         NaN     NaN         NaN  \n"
     ]
    }
   ],
   "source": [
    "#Item 1: Show the description of each column in the df\n",
    "\n",
    "num_columns = copied_all_hydrants_df.shape[1]\n",
    "window_size = 20\n",
    "\n",
    "for i in range(0, num_columns, window_size):\n",
    "    subset = copied_all_hydrants_df.iloc[:, i:i+window_size]\n",
    "    description = subset.describe(include='all')\n",
    "    print(description)"
   ]
  },
  {
   "cell_type": "code",
   "execution_count": 26,
   "id": "13d73105-14d9-4dd3-b45f-b2385183f7b3",
   "metadata": {
    "collapsed": false,
    "jupyter": {
     "outputs_hidden": false,
     "source_hidden": false
    },
    "microsoft": {
     "language": "python",
     "language_group": "synapse_pyspark"
    },
    "nteract": {
     "transient": {
      "deleting": false
     }
    }
   },
   "outputs": [
    {
     "data": {
      "text/html": [
       "<div>\n",
       "<style scoped>\n",
       "    .dataframe tbody tr th:only-of-type {\n",
       "        vertical-align: middle;\n",
       "    }\n",
       "\n",
       "    .dataframe tbody tr th {\n",
       "        vertical-align: top;\n",
       "    }\n",
       "\n",
       "    .dataframe thead th {\n",
       "        text-align: right;\n",
       "    }\n",
       "</style>\n",
       "<table border=\"1\" class=\"dataframe\">\n",
       "  <thead>\n",
       "    <tr style=\"text-align: right;\">\n",
       "      <th></th>\n",
       "      <th>ADDRKEY</th>\n",
       "      <th>AUXVALVE</th>\n",
       "      <th>BARRELSIZE</th>\n",
       "      <th>IMSRO_COMPHY_COMPKEY</th>\n",
       "      <th>COMPLEXKEY</th>\n",
       "      <th>FEEDERDIAM</th>\n",
       "      <th>FEEDERLEN</th>\n",
       "      <th>GISSTATIC</th>\n",
       "      <th>HT</th>\n",
       "      <th>INTKEY</th>\n",
       "      <th>...</th>\n",
       "      <th>EMASSTCRTL</th>\n",
       "      <th>EMASSTCRDT</th>\n",
       "      <th>EMASSTRISK</th>\n",
       "      <th>EMASTRSKDT</th>\n",
       "      <th>EMDISTRICT</th>\n",
       "      <th>EMEQPMNTCL</th>\n",
       "      <th>EMEQPMNTTP</th>\n",
       "      <th>EMASSTDESC</th>\n",
       "      <th>EMCOND</th>\n",
       "      <th>EMCONDDATE</th>\n",
       "    </tr>\n",
       "  </thead>\n",
       "  <tbody>\n",
       "    <tr>\n",
       "      <th>count</th>\n",
       "      <td>2389.000000</td>\n",
       "      <td>0.0</td>\n",
       "      <td>2389.0</td>\n",
       "      <td>2.389000e+03</td>\n",
       "      <td>2389.0</td>\n",
       "      <td>2389.000000</td>\n",
       "      <td>2389.000000</td>\n",
       "      <td>0.0</td>\n",
       "      <td>2389.0</td>\n",
       "      <td>2389.0</td>\n",
       "      <td>...</td>\n",
       "      <td>0.0</td>\n",
       "      <td>0.0</td>\n",
       "      <td>0.0</td>\n",
       "      <td>0.0</td>\n",
       "      <td>0.0</td>\n",
       "      <td>0.0</td>\n",
       "      <td>0.0</td>\n",
       "      <td>0.0</td>\n",
       "      <td>0.0</td>\n",
       "      <td>0.0</td>\n",
       "    </tr>\n",
       "    <tr>\n",
       "      <th>mean</th>\n",
       "      <td>81076.322729</td>\n",
       "      <td>NaN</td>\n",
       "      <td>0.0</td>\n",
       "      <td>3.362129e+05</td>\n",
       "      <td>1.0</td>\n",
       "      <td>63.729594</td>\n",
       "      <td>4.024884</td>\n",
       "      <td>NaN</td>\n",
       "      <td>0.0</td>\n",
       "      <td>1.0</td>\n",
       "      <td>...</td>\n",
       "      <td>NaN</td>\n",
       "      <td>NaN</td>\n",
       "      <td>NaN</td>\n",
       "      <td>NaN</td>\n",
       "      <td>NaN</td>\n",
       "      <td>NaN</td>\n",
       "      <td>NaN</td>\n",
       "      <td>NaN</td>\n",
       "      <td>NaN</td>\n",
       "      <td>NaN</td>\n",
       "    </tr>\n",
       "    <tr>\n",
       "      <th>std</th>\n",
       "      <td>122051.138142</td>\n",
       "      <td>NaN</td>\n",
       "      <td>0.0</td>\n",
       "      <td>4.165480e+05</td>\n",
       "      <td>0.0</td>\n",
       "      <td>74.163875</td>\n",
       "      <td>29.154112</td>\n",
       "      <td>NaN</td>\n",
       "      <td>0.0</td>\n",
       "      <td>0.0</td>\n",
       "      <td>...</td>\n",
       "      <td>NaN</td>\n",
       "      <td>NaN</td>\n",
       "      <td>NaN</td>\n",
       "      <td>NaN</td>\n",
       "      <td>NaN</td>\n",
       "      <td>NaN</td>\n",
       "      <td>NaN</td>\n",
       "      <td>NaN</td>\n",
       "      <td>NaN</td>\n",
       "      <td>NaN</td>\n",
       "    </tr>\n",
       "    <tr>\n",
       "      <th>min</th>\n",
       "      <td>1003.000000</td>\n",
       "      <td>NaN</td>\n",
       "      <td>0.0</td>\n",
       "      <td>1.002000e+03</td>\n",
       "      <td>1.0</td>\n",
       "      <td>0.000000</td>\n",
       "      <td>0.000000</td>\n",
       "      <td>NaN</td>\n",
       "      <td>0.0</td>\n",
       "      <td>1.0</td>\n",
       "      <td>...</td>\n",
       "      <td>NaN</td>\n",
       "      <td>NaN</td>\n",
       "      <td>NaN</td>\n",
       "      <td>NaN</td>\n",
       "      <td>NaN</td>\n",
       "      <td>NaN</td>\n",
       "      <td>NaN</td>\n",
       "      <td>NaN</td>\n",
       "      <td>NaN</td>\n",
       "      <td>NaN</td>\n",
       "    </tr>\n",
       "    <tr>\n",
       "      <th>25%</th>\n",
       "      <td>3243.000000</td>\n",
       "      <td>NaN</td>\n",
       "      <td>0.0</td>\n",
       "      <td>9.067000e+03</td>\n",
       "      <td>1.0</td>\n",
       "      <td>0.000000</td>\n",
       "      <td>1.200000</td>\n",
       "      <td>NaN</td>\n",
       "      <td>0.0</td>\n",
       "      <td>1.0</td>\n",
       "      <td>...</td>\n",
       "      <td>NaN</td>\n",
       "      <td>NaN</td>\n",
       "      <td>NaN</td>\n",
       "      <td>NaN</td>\n",
       "      <td>NaN</td>\n",
       "      <td>NaN</td>\n",
       "      <td>NaN</td>\n",
       "      <td>NaN</td>\n",
       "      <td>NaN</td>\n",
       "      <td>NaN</td>\n",
       "    </tr>\n",
       "    <tr>\n",
       "      <th>50%</th>\n",
       "      <td>5478.000000</td>\n",
       "      <td>NaN</td>\n",
       "      <td>0.0</td>\n",
       "      <td>1.939500e+04</td>\n",
       "      <td>1.0</td>\n",
       "      <td>0.000000</td>\n",
       "      <td>2.291000</td>\n",
       "      <td>NaN</td>\n",
       "      <td>0.0</td>\n",
       "      <td>1.0</td>\n",
       "      <td>...</td>\n",
       "      <td>NaN</td>\n",
       "      <td>NaN</td>\n",
       "      <td>NaN</td>\n",
       "      <td>NaN</td>\n",
       "      <td>NaN</td>\n",
       "      <td>NaN</td>\n",
       "      <td>NaN</td>\n",
       "      <td>NaN</td>\n",
       "      <td>NaN</td>\n",
       "      <td>NaN</td>\n",
       "    </tr>\n",
       "    <tr>\n",
       "      <th>75%</th>\n",
       "      <td>129011.000000</td>\n",
       "      <td>NaN</td>\n",
       "      <td>0.0</td>\n",
       "      <td>7.158620e+05</td>\n",
       "      <td>1.0</td>\n",
       "      <td>150.000000</td>\n",
       "      <td>3.500000</td>\n",
       "      <td>NaN</td>\n",
       "      <td>0.0</td>\n",
       "      <td>1.0</td>\n",
       "      <td>...</td>\n",
       "      <td>NaN</td>\n",
       "      <td>NaN</td>\n",
       "      <td>NaN</td>\n",
       "      <td>NaN</td>\n",
       "      <td>NaN</td>\n",
       "      <td>NaN</td>\n",
       "      <td>NaN</td>\n",
       "      <td>NaN</td>\n",
       "      <td>NaN</td>\n",
       "      <td>NaN</td>\n",
       "    </tr>\n",
       "    <tr>\n",
       "      <th>max</th>\n",
       "      <td>437401.000000</td>\n",
       "      <td>NaN</td>\n",
       "      <td>0.0</td>\n",
       "      <td>1.312755e+06</td>\n",
       "      <td>1.0</td>\n",
       "      <td>150.000000</td>\n",
       "      <td>1166.540000</td>\n",
       "      <td>NaN</td>\n",
       "      <td>0.0</td>\n",
       "      <td>1.0</td>\n",
       "      <td>...</td>\n",
       "      <td>NaN</td>\n",
       "      <td>NaN</td>\n",
       "      <td>NaN</td>\n",
       "      <td>NaN</td>\n",
       "      <td>NaN</td>\n",
       "      <td>NaN</td>\n",
       "      <td>NaN</td>\n",
       "      <td>NaN</td>\n",
       "      <td>NaN</td>\n",
       "      <td>NaN</td>\n",
       "    </tr>\n",
       "  </tbody>\n",
       "</table>\n",
       "<p>8 rows × 71 columns</p>\n",
       "</div>"
      ],
      "text/plain": [
       "             ADDRKEY  AUXVALVE  BARRELSIZE  IMSRO_COMPHY_COMPKEY  COMPLEXKEY  \\\n",
       "count    2389.000000       0.0      2389.0          2.389000e+03      2389.0   \n",
       "mean    81076.322729       NaN         0.0          3.362129e+05         1.0   \n",
       "std    122051.138142       NaN         0.0          4.165480e+05         0.0   \n",
       "min      1003.000000       NaN         0.0          1.002000e+03         1.0   \n",
       "25%      3243.000000       NaN         0.0          9.067000e+03         1.0   \n",
       "50%      5478.000000       NaN         0.0          1.939500e+04         1.0   \n",
       "75%    129011.000000       NaN         0.0          7.158620e+05         1.0   \n",
       "max    437401.000000       NaN         0.0          1.312755e+06         1.0   \n",
       "\n",
       "        FEEDERDIAM    FEEDERLEN  GISSTATIC      HT  INTKEY  ...  EMASSTCRTL  \\\n",
       "count  2389.000000  2389.000000        0.0  2389.0  2389.0  ...         0.0   \n",
       "mean     63.729594     4.024884        NaN     0.0     1.0  ...         NaN   \n",
       "std      74.163875    29.154112        NaN     0.0     0.0  ...         NaN   \n",
       "min       0.000000     0.000000        NaN     0.0     1.0  ...         NaN   \n",
       "25%       0.000000     1.200000        NaN     0.0     1.0  ...         NaN   \n",
       "50%       0.000000     2.291000        NaN     0.0     1.0  ...         NaN   \n",
       "75%     150.000000     3.500000        NaN     0.0     1.0  ...         NaN   \n",
       "max     150.000000  1166.540000        NaN     0.0     1.0  ...         NaN   \n",
       "\n",
       "       EMASSTCRDT  EMASSTRISK  EMASTRSKDT  EMDISTRICT  EMEQPMNTCL  EMEQPMNTTP  \\\n",
       "count         0.0         0.0         0.0         0.0         0.0         0.0   \n",
       "mean          NaN         NaN         NaN         NaN         NaN         NaN   \n",
       "std           NaN         NaN         NaN         NaN         NaN         NaN   \n",
       "min           NaN         NaN         NaN         NaN         NaN         NaN   \n",
       "25%           NaN         NaN         NaN         NaN         NaN         NaN   \n",
       "50%           NaN         NaN         NaN         NaN         NaN         NaN   \n",
       "75%           NaN         NaN         NaN         NaN         NaN         NaN   \n",
       "max           NaN         NaN         NaN         NaN         NaN         NaN   \n",
       "\n",
       "       EMASSTDESC  EMCOND  EMCONDDATE  \n",
       "count         0.0     0.0         0.0  \n",
       "mean          NaN     NaN         NaN  \n",
       "std           NaN     NaN         NaN  \n",
       "min           NaN     NaN         NaN  \n",
       "25%           NaN     NaN         NaN  \n",
       "50%           NaN     NaN         NaN  \n",
       "75%           NaN     NaN         NaN  \n",
       "max           NaN     NaN         NaN  \n",
       "\n",
       "[8 rows x 71 columns]"
      ]
     },
     "execution_count": 26,
     "metadata": {},
     "output_type": "execute_result"
    }
   ],
   "source": [
    "# Filters rows where flushing frequency is blank\n",
    "copied_all_hydrants_df = copied_all_hydrants_df[copied_all_hydrants_df['FLSHFRE'].notnull()]\n",
    "copied_all_hydrants_df.describe()"
   ]
  },
  {
   "cell_type": "code",
   "execution_count": 27,
   "id": "127595b9",
   "metadata": {},
   "outputs": [],
   "source": [
    "#TODO: Ella to confirm whether these columns are necessary: LSTFMAX1\tLSTFMAX2\tLSTFMAX3\tAVE3FMAX\tLSTTMAX1\tLSTTMAX2\tLSTTMAX3\tAVE3TMAX ASBLT , 'ADDDTTM', LOC, ZCOORD, PRESSMIN\tPRESSMAX\tFIRFLGPM\tOUTELEVN\tMDLRESRD"
   ]
  },
  {
   "cell_type": "markdown",
   "id": "89dce40e-2ad1-470b-a762-698b6fb025b8",
   "metadata": {},
   "source": [
    "#### Imputing Missing Categorical Values"
   ]
  },
  {
   "cell_type": "code",
   "execution_count": 28,
   "id": "0305a76f-1c74-4177-abe3-c9ce52f5836f",
   "metadata": {
    "collapsed": false,
    "jupyter": {
     "outputs_hidden": false,
     "source_hidden": false
    },
    "microsoft": {
     "language": "python",
     "language_group": "synapse_pyspark"
    },
    "nteract": {
     "transient": {
      "deleting": false
     }
    },
    "scrolled": true
   },
   "outputs": [
    {
     "name": "stdout",
     "output_type": "stream",
     "text": [
      "ADDRKEY                    0\n",
      "ADDRQUAL                 809\n",
      "AREA                       2\n",
      "ASBLT                   1152\n",
      "AUXVALVE                2389\n",
      "BARRELSIZE                 0\n",
      "COLOR                    400\n",
      "IMSRO_COMPHY_COMPKEY       0\n",
      "COMPLEXKEY                 0\n",
      "DISTRICT                   0\n",
      "FEEDERDIAM                 0\n",
      "FEEDERLEN                  0\n",
      "FEEDERTYPE              1380\n",
      "GISSTATIC               2389\n",
      "HT                         0\n",
      "INSTDATE                1185\n",
      "INTKEY                     0\n",
      "LOC                        0\n",
      "MAINKEY                    0\n",
      "MAPNO                   1867\n",
      "dtype: int64\n",
      "MFGKEY          0\n",
      "MODELNO       690\n",
      "OBST         2389\n",
      "OUTLSZ1         0\n",
      "OUTLSZ2         0\n",
      "OUTLSZ3         0\n",
      "OUTLSZ4         0\n",
      "OWN             0\n",
      "PACKING      2389\n",
      "PAINTTYPE    2389\n",
      "PRCLKEY         0\n",
      "PRESZONE        3\n",
      "SEGKEY          0\n",
      "SERNO        2388\n",
      "SERVSTAT        0\n",
      "SLKEY           0\n",
      "SPECINST     1517\n",
      "STKEY           0\n",
      "SUBAREA         2\n",
      "UNITID          0\n",
      "dtype: int64\n",
      "UNITTYPE                 39\n",
      "WVKEY                     0\n",
      "XCOORD                    0\n",
      "YCOORD                    0\n",
      "ZCOORD                   19\n",
      "BGTNO                  1294\n",
      "USGAREAKEY                0\n",
      "EXPBY                  2218\n",
      "EXPDATE                2218\n",
      "IMSRO_VARHY_COMPKEY       0\n",
      "ADDBY                     0\n",
      "ADDDTTM                   0\n",
      "MODBY                     0\n",
      "MODDTTM                   0\n",
      "LASTINSP                 80\n",
      "LASTWINT                 84\n",
      "OLDID                   827\n",
      "WMODID                 2388\n",
      "WATPLATT                 84\n",
      "FLSHFRE                   0\n",
      "dtype: int64\n",
      "MUNICIPAL       726\n",
      "LONGKEY           0\n",
      "PLUGGED           0\n",
      "COMMUN            0\n",
      "FLUDATE          54\n",
      "WWNUM             0\n",
      "LASTFREE         60\n",
      "LASTOTAL         61\n",
      "FLSHFRE_GIS     237\n",
      "NONSCHE        1113\n",
      "FZONENUM          0\n",
      "MINFLTM          18\n",
      "DECLREQD          3\n",
      "LSTFMAX1         61\n",
      "LSTFMAX2         95\n",
      "LSTFMAX3        114\n",
      "AVE3FMAX        119\n",
      "LSTTMAX1         60\n",
      "LSTTMAX2         92\n",
      "LSTTMAX3        112\n",
      "dtype: int64\n",
      "AVE3TMAX       113\n",
      "WARDID           0\n",
      "AVKCLIP       2092\n",
      "HYMARKER      1422\n",
      "ASUMDATE      2091\n",
      "PRESSMIN       414\n",
      "PRESSMAX       414\n",
      "FIRFLGPM       414\n",
      "OUTELEVN         0\n",
      "MDLRESRD       453\n",
      "MAINTBY        157\n",
      "REPLABY       2221\n",
      "REPLAFOR      2146\n",
      "FRFLWVLDDT     414\n",
      "ASSTGRPID      246\n",
      "EMDEPT        2389\n",
      "EMDIV         2389\n",
      "EMSERV        2389\n",
      "EMSERVCAT     2389\n",
      "EMCAMASTCL    2389\n",
      "dtype: int64\n",
      "EMASSTPRNT    2389\n",
      "EMPURCHDAT    2389\n",
      "EMESTSRVLF    2389\n",
      "EMRMGSRVLF    2389\n",
      "EMRMSRLFDT    2389\n",
      "EMREPLCOST    2389\n",
      "EMREPCOSDT    2389\n",
      "EMPURINCST    2389\n",
      "EMASSTCRTL    2389\n",
      "EMASSTCRDT    2389\n",
      "EMASSTRISK    2389\n",
      "EMASTRSKDT    2389\n",
      "EMDISTRICT    2389\n",
      "EMEQPMNTCL    2389\n",
      "EMEQPMNTTP    2389\n",
      "EMASSTDESC    2389\n",
      "EMCOND        2389\n",
      "EMCONDDATE    2389\n",
      "dtype: int64\n"
     ]
    }
   ],
   "source": [
    "#Item 1: Count the number of null values in each column\n",
    "for i in range(0, num_columns, window_size):\n",
    "    subset = copied_all_hydrants_df.iloc[:, i:i+window_size]\n",
    "    description = subset.isna().sum()\n",
    "    print(description)"
   ]
  },
  {
   "cell_type": "code",
   "execution_count": 29,
   "id": "94ae8673-f584-48d1-befa-4221233e433d",
   "metadata": {
    "collapsed": false,
    "jupyter": {
     "outputs_hidden": false,
     "source_hidden": false
    },
    "microsoft": {
     "language": "python",
     "language_group": "synapse_pyspark"
    },
    "nteract": {
     "transient": {
      "deleting": false
     }
    }
   },
   "outputs": [],
   "source": [
    "# Imputing missing values in the UNITTYPE column with STDHY (standard hydrant; the \"default\" option)\n",
    "copied_all_hydrants_df['UNITTYPE'] = copied_all_hydrants_df['UNITTYPE'].fillna('STDHY')"
   ]
  },
  {
   "cell_type": "code",
   "execution_count": 30,
   "id": "fb8e0c89-0914-4ce5-9800-9b0e135e3f1c",
   "metadata": {
    "collapsed": false,
    "jupyter": {
     "outputs_hidden": false,
     "source_hidden": false
    },
    "microsoft": {
     "language": "python",
     "language_group": "synapse_pyspark"
    },
    "nteract": {
     "transient": {
      "deleting": false
     }
    }
   },
   "outputs": [
    {
     "data": {
      "text/plain": [
       "count       2389\n",
       "unique         2\n",
       "top       HYBLWF\n",
       "freq        2350\n",
       "Name: UNITTYPE, dtype: object"
      ]
     },
     "execution_count": 30,
     "metadata": {},
     "output_type": "execute_result"
    }
   ],
   "source": [
    "copied_all_hydrants_df['UNITTYPE'].describe()"
   ]
  },
  {
   "cell_type": "code",
   "execution_count": 31,
   "id": "90a0b9db",
   "metadata": {},
   "outputs": [],
   "source": [
    "# Filtering out invalid values\n",
    "copied_all_hydrants_df = copied_all_hydrants_df[copied_all_hydrants_df['OWN'].isin(['R', 'NAMP'])]\n",
    "copied_all_hydrants_df = copied_all_hydrants_df[copied_all_hydrants_df['SERVSTAT'].isin(['A', 'ANYR'])]\n",
    "copied_all_hydrants_df = copied_all_hydrants_df[copied_all_hydrants_df['EXPDATE'].isnull()]"
   ]
  },
  {
   "cell_type": "code",
   "execution_count": 32,
   "id": "121384ee",
   "metadata": {},
   "outputs": [],
   "source": [
    "copied_all_hydrants_df = copied_all_hydrants_df.drop(columns={'ADDRKEY', 'ADDRQUAL', 'AUXVALVE', 'BARRELSIZE', 'COMPLEXKEY', 'GISSTATIC', 'HT', 'INTKEY', 'MAPNO', 'OBST', 'OUTLSZ4', 'PACKING', 'PAINTTYPE', 'PRCLKEY', 'SEGKEY', 'SERNO', 'SLKEY', 'SPECINST', 'STKEY', 'WVKEY', 'BGTNO', 'USGAREAKEY', 'EXPBY', 'EXPDATE', 'ADDBY', 'MODBY', 'MODDTTM',\n",
    "                                                              'LASTINSP', 'LASTWINT', 'OLDID', 'WMODID', 'MUNICIPAL', 'FLUDATE', 'WWNUM', 'LASTFREE', 'LASTOTAL', 'FLSHFRE_GIS', 'MINFLTM', 'AVKCLIP', 'ASUMDATE', 'MAINTBY', 'REPLABY', 'REPLAFOR', 'FRFLWVLDDT', 'ASSTGRPID', 'EMDEPT', 'EMDIV', 'EMSERV', 'EMSERVCAT', 'EMCAMASTCL', 'EMASSTPRNT', 'EMPURCHDAT',\n",
    "                                                                  'EMESTSRVLF', 'EMRMGSRVLF', 'EMRMSRLFDT', 'EMREPLCOST', 'EMREPCOSDT', 'EMPURINCST', 'EMASSTCRTL', 'EMASSTCRDT', 'EMASSTRISK', 'EMASTRSKDT', 'EMDISTRICT', 'EMEQPMNTCL', 'EMEQPMNTTP', 'EMASSTDESC', 'EMCOND', 'EMCONDDATE', 'OWN', 'SERVSTAT', 'DISTRICT', 'ASBLT', 'WATPLATT'})"
   ]
  },
  {
   "cell_type": "code",
   "execution_count": 33,
   "id": "cab202d0",
   "metadata": {},
   "outputs": [],
   "source": [
    "copied_all_hydrants_df.to_csv('hydrantcheck.csv', index=False)"
   ]
  },
  {
   "cell_type": "code",
   "execution_count": 34,
   "id": "26244952",
   "metadata": {},
   "outputs": [],
   "source": [
    "#TODO: Ayan: Imputing the missing data for PRESZONE\n",
    "# Based on other rows with similar data as the missing rows in PRESZONE, PG8 is the most suitable value to impute here\n",
    "copied_all_hydrants_df['PRESZONE'] = copied_all_hydrants_df['PRESZONE'].fillna(\"PG8\")"
   ]
  },
  {
   "cell_type": "code",
   "execution_count": 35,
   "id": "51192427",
   "metadata": {
    "jupyter": {
     "source_hidden": true
    }
   },
   "outputs": [],
   "source": [
    "#TODO: Jordan: Imputing the missing data for SUBAREA"
   ]
  },
  {
   "cell_type": "code",
   "execution_count": 36,
   "id": "e720ead3",
   "metadata": {},
   "outputs": [],
   "source": [
    "#TODO: Jordan: What are the differences between AREA, SUBAREA, COMMUN, WARDID. Which columns to keep and why?"
   ]
  },
  {
   "cell_type": "code",
   "execution_count": 37,
   "id": "dd27cb5e",
   "metadata": {},
   "outputs": [],
   "source": [
    "#TODO: Ayan: Imputation for DECLREQD\n",
    "# Replacing blank values in the 'DECLREQD' column with the mode of the column\n",
    "copied_all_hydrants_df['DECLREQD'] = copied_all_hydrants_df['DECLREQD'].fillna(copied_all_hydrants_df['DECLREQD'].mode().iloc[0])"
   ]
  },
  {
   "cell_type": "code",
   "execution_count": 38,
   "id": "19aba725",
   "metadata": {},
   "outputs": [],
   "source": [
    "#TODO: Ella: Convert null to N for HYMARKER"
   ]
  },
  {
   "cell_type": "code",
   "execution_count": 39,
   "id": "54ac1bc7",
   "metadata": {},
   "outputs": [],
   "source": [
    "#TODO: Ayan: Impute FEEDERTYPE - waiting to hear back from Ella"
   ]
  },
  {
   "cell_type": "code",
   "execution_count": 40,
   "id": "e6206277",
   "metadata": {},
   "outputs": [],
   "source": [
    "#TODO: Ayan: Impute the missing value for NONSCHE\n",
    "# Replacing blank values in the 'NONSCHE' column with the mode of the column\n",
    "copied_all_hydrants_df['NONSCHE'] = copied_all_hydrants_df['NONSCHE'].fillna(copied_all_hydrants_df['NONSCHE'].mode().iloc[0])"
   ]
  },
  {
   "cell_type": "markdown",
   "id": "efb8ef3b-09f4-4e2d-8572-1837cef269a9",
   "metadata": {},
   "source": [
    "#### Imputing Missing Numeric Values"
   ]
  },
  {
   "cell_type": "code",
   "execution_count": 41,
   "id": "e8eee88c-3261-4dd5-87bd-207012f5ae7a",
   "metadata": {
    "scrolled": true
   },
   "outputs": [
    {
     "name": "stdout",
     "output_type": "stream",
     "text": [
      "PRESSMIN:\n",
      "65      60.7656\n",
      "76      72.6852\n",
      "126     65.7167\n",
      "138     73.0940\n",
      "139     72.6360\n",
      "143     54.7469\n",
      "154     70.7205\n",
      "304     72.4360\n",
      "309     83.3325\n",
      "324     70.7652\n",
      "329     61.9111\n",
      "340     72.3439\n",
      "349     54.0032\n",
      "355     61.4530\n",
      "402     70.9262\n",
      "403     67.7282\n",
      "413     77.3031\n",
      "449     58.9533\n",
      "459     80.5179\n",
      "469     72.5541\n",
      "475     65.7466\n",
      "480     49.2915\n",
      "486     75.6050\n",
      "595     62.5853\n",
      "636     77.2544\n",
      "639     73.1378\n",
      "693     74.2959\n",
      "750     84.6836\n",
      "753     81.6176\n",
      "777     63.8080\n",
      "785     58.6898\n",
      "793     48.2959\n",
      "796     55.2642\n",
      "843     63.4781\n",
      "854     72.3948\n",
      "883     64.5949\n",
      "916     97.9277\n",
      "962     69.4346\n",
      "969     78.2441\n",
      "981     59.9541\n",
      "989     53.0359\n",
      "995     50.4947\n",
      "996     52.4633\n",
      "998     53.7308\n",
      "1033    71.4094\n",
      "1073    69.7798\n",
      "1074    62.0977\n",
      "1103    70.8363\n",
      "1104    64.7657\n",
      "1117    67.9014\n",
      "Name: PRESSMIN, dtype: float64\n"
     ]
    }
   ],
   "source": [
    "print(\"PRESSMIN:\")\n",
    "print(copied_all_hydrants_df['PRESSMIN'].head(50))"
   ]
  },
  {
   "cell_type": "code",
   "execution_count": 42,
   "id": "2d03fd16-9650-44d7-a6c0-f5b0862ee4b3",
   "metadata": {
    "scrolled": true
   },
   "outputs": [
    {
     "name": "stdout",
     "output_type": "stream",
     "text": [
      "PRESSMAX:\n",
      "65       83.1983\n",
      "76       72.7167\n",
      "126      84.3747\n",
      "138     113.7570\n",
      "139     113.5766\n",
      "143      69.2250\n",
      "154     109.9626\n",
      "304     113.3136\n",
      "309     106.7703\n",
      "324     110.1236\n",
      "329     102.6738\n",
      "340     113.1311\n",
      "349      94.6702\n",
      "355     102.2258\n",
      "402      93.4649\n",
      "403      90.2546\n",
      "413     100.6243\n",
      "449      98.3835\n",
      "459      80.5683\n",
      "469     111.9355\n",
      "475     106.2308\n",
      "480      67.9939\n",
      "486     116.5721\n",
      "595     101.9810\n",
      "636     118.2438\n",
      "639     114.0851\n",
      "693      98.2714\n",
      "750      93.7454\n",
      "753      90.6709\n",
      "777     103.7923\n",
      "785      97.5264\n",
      "793      87.3731\n",
      "796      63.7800\n",
      "843     102.9543\n",
      "854     111.7620\n",
      "883     104.8197\n",
      "916     138.9084\n",
      "962     108.6768\n",
      "969     101.5263\n",
      "981     100.6065\n",
      "989      93.7520\n",
      "995      91.1943\n",
      "996      93.1712\n",
      "998      94.4526\n",
      "1033    112.0553\n",
      "1073    109.0326\n",
      "1074     70.1505\n",
      "1103    111.4058\n",
      "1104     88.0697\n",
      "1117    107.1974\n",
      "Name: PRESSMAX, dtype: float64\n"
     ]
    }
   ],
   "source": [
    "print(\"PRESSMAX:\")\n",
    "print(copied_all_hydrants_df['PRESSMAX'].head(50))"
   ]
  },
  {
   "cell_type": "code",
   "execution_count": 43,
   "id": "9f2e7e5a-76ef-4eb1-8525-771ecb719d89",
   "metadata": {},
   "outputs": [
    {
     "name": "stdout",
     "output_type": "stream",
     "text": [
      "FEEDERLEN:\n",
      "65       1.40\n",
      "76       1.10\n",
      "126      1.10\n",
      "138      3.00\n",
      "139      1.00\n",
      "143      2.00\n",
      "154      1.20\n",
      "304      1.00\n",
      "309      3.30\n",
      "324      1.20\n",
      "329      1.00\n",
      "340      1.40\n",
      "349      1.10\n",
      "355      1.10\n",
      "402      1.20\n",
      "403      1.20\n",
      "413      1.40\n",
      "449      1.20\n",
      "459      1.20\n",
      "469      1.20\n",
      "475      1.60\n",
      "480      1.00\n",
      "486      1.20\n",
      "595      5.40\n",
      "636      1.00\n",
      "639      1.20\n",
      "693      1.10\n",
      "750      1.00\n",
      "753      1.00\n",
      "777      1.40\n",
      "785      2.50\n",
      "793      1.20\n",
      "796      4.15\n",
      "843     10.50\n",
      "854      1.30\n",
      "883      1.90\n",
      "916      1.00\n",
      "962      1.00\n",
      "969      1.50\n",
      "981      1.00\n",
      "989      2.90\n",
      "995      1.00\n",
      "996      1.00\n",
      "998      1.20\n",
      "1033     1.50\n",
      "1073     1.20\n",
      "1074     0.90\n",
      "1103     1.20\n",
      "1104     2.00\n",
      "1117     1.40\n",
      "Name: FEEDERLEN, dtype: float64\n"
     ]
    }
   ],
   "source": [
    "print(\"FEEDERLEN:\")\n",
    "print(copied_all_hydrants_df['FEEDERLEN'].head(50))"
   ]
  },
  {
   "cell_type": "code",
   "execution_count": 44,
   "id": "980c2dfb-f088-478b-ab87-6a537bcc6162",
   "metadata": {
    "scrolled": true
   },
   "outputs": [
    {
     "name": "stdout",
     "output_type": "stream",
     "text": [
      "PRESSMIN (imputed):\n",
      "65      60.7656\n",
      "76      72.6852\n",
      "126     65.7167\n",
      "138     73.0940\n",
      "139     72.6360\n",
      "143     54.7469\n",
      "154     70.7205\n",
      "304     72.4360\n",
      "309     83.3325\n",
      "324     70.7652\n",
      "329     61.9111\n",
      "340     72.3439\n",
      "349     54.0032\n",
      "355     61.4530\n",
      "402     70.9262\n",
      "403     67.7282\n",
      "413     77.3031\n",
      "449     58.9533\n",
      "459     80.5179\n",
      "469     72.5541\n",
      "475     65.7466\n",
      "480     49.2915\n",
      "486     75.6050\n",
      "595     62.5853\n",
      "636     77.2544\n",
      "639     73.1378\n",
      "693     74.2959\n",
      "750     84.6836\n",
      "753     81.6176\n",
      "777     63.8080\n",
      "785     58.6898\n",
      "793     48.2959\n",
      "796     55.2642\n",
      "843     63.4781\n",
      "854     72.3948\n",
      "883     64.5949\n",
      "916     97.9277\n",
      "962     69.4346\n",
      "969     78.2441\n",
      "981     59.9541\n",
      "989     53.0359\n",
      "995     50.4947\n",
      "996     52.4633\n",
      "998     53.7308\n",
      "1033    71.4094\n",
      "1073    69.7798\n",
      "1074    62.0977\n",
      "1103    70.8363\n",
      "1104    64.7657\n",
      "1117    67.9014\n",
      "Name: PRESSMIN, dtype: float64\n"
     ]
    }
   ],
   "source": [
    "copied_all_hydrants_df['PRESSMIN'] = impute_missing_vals(copied_all_hydrants_df, 'PRESSMIN')\n",
    "print(\"PRESSMIN (imputed):\")\n",
    "print(copied_all_hydrants_df['PRESSMIN'].head(50))"
   ]
  },
  {
   "cell_type": "code",
   "execution_count": 45,
   "id": "e4885c8e-9d8b-4c27-8ca8-5d5c3df0744c",
   "metadata": {
    "scrolled": true
   },
   "outputs": [
    {
     "name": "stdout",
     "output_type": "stream",
     "text": [
      "PRESSMAX (imputed):\n",
      "65       83.1983\n",
      "76       72.7167\n",
      "126      84.3747\n",
      "138     113.7570\n",
      "139     113.5766\n",
      "143      69.2250\n",
      "154     109.9626\n",
      "304     113.3136\n",
      "309     106.7703\n",
      "324     110.1236\n",
      "329     102.6738\n",
      "340     113.1311\n",
      "349      94.6702\n",
      "355     102.2258\n",
      "402      93.4649\n",
      "403      90.2546\n",
      "413     100.6243\n",
      "449      98.3835\n",
      "459      80.5683\n",
      "469     111.9355\n",
      "475     106.2308\n",
      "480      67.9939\n",
      "486     116.5721\n",
      "595     101.9810\n",
      "636     118.2438\n",
      "639     114.0851\n",
      "693      98.2714\n",
      "750      93.7454\n",
      "753      90.6709\n",
      "777     103.7923\n",
      "785      97.5264\n",
      "793      87.3731\n",
      "796      63.7800\n",
      "843     102.9543\n",
      "854     111.7620\n",
      "883     104.8197\n",
      "916     138.9084\n",
      "962     108.6768\n",
      "969     101.5263\n",
      "981     100.6065\n",
      "989      93.7520\n",
      "995      91.1943\n",
      "996      93.1712\n",
      "998      94.4526\n",
      "1033    112.0553\n",
      "1073    109.0326\n",
      "1074     70.1505\n",
      "1103    111.4058\n",
      "1104     88.0697\n",
      "1117    107.1974\n",
      "Name: PRESSMAX, dtype: float64\n"
     ]
    }
   ],
   "source": [
    "copied_all_hydrants_df['PRESSMAX'] = impute_missing_vals(copied_all_hydrants_df, 'PRESSMAX')\n",
    "print(\"PRESSMAX (imputed):\")\n",
    "print(copied_all_hydrants_df['PRESSMAX'].head(50))"
   ]
  },
  {
   "cell_type": "code",
   "execution_count": 46,
   "id": "4faafed3-215b-4f87-bfb1-3dfdf98517f9",
   "metadata": {},
   "outputs": [
    {
     "name": "stdout",
     "output_type": "stream",
     "text": [
      "FEEDERLEN (imputed):\n",
      "65       1.40\n",
      "76       1.10\n",
      "126      1.10\n",
      "138      3.00\n",
      "139      1.00\n",
      "143      2.00\n",
      "154      1.20\n",
      "304      1.00\n",
      "309      3.30\n",
      "324      1.20\n",
      "329      1.00\n",
      "340      1.40\n",
      "349      1.10\n",
      "355      1.10\n",
      "402      1.20\n",
      "403      1.20\n",
      "413      1.40\n",
      "449      1.20\n",
      "459      1.20\n",
      "469      1.20\n",
      "475      1.60\n",
      "480      1.00\n",
      "486      1.20\n",
      "595      5.40\n",
      "636      1.00\n",
      "639      1.20\n",
      "693      1.10\n",
      "750      1.00\n",
      "753      1.00\n",
      "777      1.40\n",
      "785      2.50\n",
      "793      1.20\n",
      "796      4.15\n",
      "843     10.50\n",
      "854      1.30\n",
      "883      1.90\n",
      "916      1.00\n",
      "962      1.00\n",
      "969      1.50\n",
      "981      1.00\n",
      "989      2.90\n",
      "995      1.00\n",
      "996      1.00\n",
      "998      1.20\n",
      "1033     1.50\n",
      "1073     1.20\n",
      "1074     0.90\n",
      "1103     1.20\n",
      "1104     2.00\n",
      "1117     1.40\n",
      "Name: FEEDERLEN, dtype: float64\n"
     ]
    }
   ],
   "source": [
    "copied_all_hydrants_df['FEEDERLEN'] = impute_missing_vals(copied_all_hydrants_df, 'FEEDERLEN')\n",
    "print(\"FEEDERLEN (imputed):\")\n",
    "print(copied_all_hydrants_df['FEEDERLEN'].head(50))"
   ]
  },
  {
   "cell_type": "code",
   "execution_count": 47,
   "id": "02a9457c-28ff-498c-ab78-619536b7b70f",
   "metadata": {},
   "outputs": [
    {
     "data": {
      "text/html": [
       "<div>\n",
       "<style scoped>\n",
       "    .dataframe tbody tr th:only-of-type {\n",
       "        vertical-align: middle;\n",
       "    }\n",
       "\n",
       "    .dataframe tbody tr th {\n",
       "        vertical-align: top;\n",
       "    }\n",
       "\n",
       "    .dataframe thead th {\n",
       "        text-align: right;\n",
       "    }\n",
       "</style>\n",
       "<table border=\"1\" class=\"dataframe\">\n",
       "  <thead>\n",
       "    <tr style=\"text-align: right;\">\n",
       "      <th></th>\n",
       "      <th>AREA</th>\n",
       "      <th>COLOR</th>\n",
       "      <th>IMSRO_COMPHY_COMPKEY</th>\n",
       "      <th>FEEDERDIAM</th>\n",
       "      <th>FEEDERLEN</th>\n",
       "      <th>FEEDERTYPE</th>\n",
       "      <th>INSTDATE</th>\n",
       "      <th>LOC</th>\n",
       "      <th>MAINKEY</th>\n",
       "      <th>MFGKEY</th>\n",
       "      <th>...</th>\n",
       "      <th>LSTTMAX2</th>\n",
       "      <th>LSTTMAX3</th>\n",
       "      <th>AVE3TMAX</th>\n",
       "      <th>WARDID</th>\n",
       "      <th>HYMARKER</th>\n",
       "      <th>PRESSMIN</th>\n",
       "      <th>PRESSMAX</th>\n",
       "      <th>FIRFLGPM</th>\n",
       "      <th>OUTELEVN</th>\n",
       "      <th>MDLRESRD</th>\n",
       "    </tr>\n",
       "  </thead>\n",
       "  <tbody>\n",
       "  </tbody>\n",
       "</table>\n",
       "<p>0 rows × 45 columns</p>\n",
       "</div>"
      ],
      "text/plain": [
       "Empty DataFrame\n",
       "Columns: [AREA, COLOR, IMSRO_COMPHY_COMPKEY, FEEDERDIAM, FEEDERLEN, FEEDERTYPE, INSTDATE, LOC, MAINKEY, MFGKEY, MODELNO, OUTLSZ1, OUTLSZ2, OUTLSZ3, PRESZONE, SUBAREA, UNITID, UNITTYPE, XCOORD, YCOORD, ZCOORD, IMSRO_VARHY_COMPKEY, ADDDTTM, FLSHFRE, LONGKEY, PLUGGED, COMMUN, NONSCHE, FZONENUM, DECLREQD, LSTFMAX1, LSTFMAX2, LSTFMAX3, AVE3FMAX, LSTTMAX1, LSTTMAX2, LSTTMAX3, AVE3TMAX, WARDID, HYMARKER, PRESSMIN, PRESSMAX, FIRFLGPM, OUTELEVN, MDLRESRD]\n",
       "Index: []\n",
       "\n",
       "[0 rows x 45 columns]"
      ]
     },
     "execution_count": 47,
     "metadata": {},
     "output_type": "execute_result"
    }
   ],
   "source": [
    "copied_all_hydrants_df[copied_all_hydrants_df['PRESSMIN'].isnull()]"
   ]
  },
  {
   "cell_type": "code",
   "execution_count": 48,
   "id": "b0bf68de-dc31-418b-be29-f8e0214c37bf",
   "metadata": {},
   "outputs": [
    {
     "data": {
      "text/html": [
       "<div>\n",
       "<style scoped>\n",
       "    .dataframe tbody tr th:only-of-type {\n",
       "        vertical-align: middle;\n",
       "    }\n",
       "\n",
       "    .dataframe tbody tr th {\n",
       "        vertical-align: top;\n",
       "    }\n",
       "\n",
       "    .dataframe thead th {\n",
       "        text-align: right;\n",
       "    }\n",
       "</style>\n",
       "<table border=\"1\" class=\"dataframe\">\n",
       "  <thead>\n",
       "    <tr style=\"text-align: right;\">\n",
       "      <th></th>\n",
       "      <th>AREA</th>\n",
       "      <th>COLOR</th>\n",
       "      <th>IMSRO_COMPHY_COMPKEY</th>\n",
       "      <th>FEEDERDIAM</th>\n",
       "      <th>FEEDERLEN</th>\n",
       "      <th>FEEDERTYPE</th>\n",
       "      <th>INSTDATE</th>\n",
       "      <th>LOC</th>\n",
       "      <th>MAINKEY</th>\n",
       "      <th>MFGKEY</th>\n",
       "      <th>...</th>\n",
       "      <th>LSTTMAX2</th>\n",
       "      <th>LSTTMAX3</th>\n",
       "      <th>AVE3TMAX</th>\n",
       "      <th>WARDID</th>\n",
       "      <th>HYMARKER</th>\n",
       "      <th>PRESSMIN</th>\n",
       "      <th>PRESSMAX</th>\n",
       "      <th>FIRFLGPM</th>\n",
       "      <th>OUTELEVN</th>\n",
       "      <th>MDLRESRD</th>\n",
       "    </tr>\n",
       "  </thead>\n",
       "  <tbody>\n",
       "  </tbody>\n",
       "</table>\n",
       "<p>0 rows × 45 columns</p>\n",
       "</div>"
      ],
      "text/plain": [
       "Empty DataFrame\n",
       "Columns: [AREA, COLOR, IMSRO_COMPHY_COMPKEY, FEEDERDIAM, FEEDERLEN, FEEDERTYPE, INSTDATE, LOC, MAINKEY, MFGKEY, MODELNO, OUTLSZ1, OUTLSZ2, OUTLSZ3, PRESZONE, SUBAREA, UNITID, UNITTYPE, XCOORD, YCOORD, ZCOORD, IMSRO_VARHY_COMPKEY, ADDDTTM, FLSHFRE, LONGKEY, PLUGGED, COMMUN, NONSCHE, FZONENUM, DECLREQD, LSTFMAX1, LSTFMAX2, LSTFMAX3, AVE3FMAX, LSTTMAX1, LSTTMAX2, LSTTMAX3, AVE3TMAX, WARDID, HYMARKER, PRESSMIN, PRESSMAX, FIRFLGPM, OUTELEVN, MDLRESRD]\n",
       "Index: []\n",
       "\n",
       "[0 rows x 45 columns]"
      ]
     },
     "execution_count": 48,
     "metadata": {},
     "output_type": "execute_result"
    }
   ],
   "source": [
    "copied_all_hydrants_df[copied_all_hydrants_df['PRESSMAX'].isnull()]"
   ]
  },
  {
   "cell_type": "code",
   "execution_count": 49,
   "id": "92423005-9ecd-413b-8f18-5052e24df425",
   "metadata": {},
   "outputs": [
    {
     "data": {
      "text/html": [
       "<div>\n",
       "<style scoped>\n",
       "    .dataframe tbody tr th:only-of-type {\n",
       "        vertical-align: middle;\n",
       "    }\n",
       "\n",
       "    .dataframe tbody tr th {\n",
       "        vertical-align: top;\n",
       "    }\n",
       "\n",
       "    .dataframe thead th {\n",
       "        text-align: right;\n",
       "    }\n",
       "</style>\n",
       "<table border=\"1\" class=\"dataframe\">\n",
       "  <thead>\n",
       "    <tr style=\"text-align: right;\">\n",
       "      <th></th>\n",
       "      <th>AREA</th>\n",
       "      <th>COLOR</th>\n",
       "      <th>IMSRO_COMPHY_COMPKEY</th>\n",
       "      <th>FEEDERDIAM</th>\n",
       "      <th>FEEDERLEN</th>\n",
       "      <th>FEEDERTYPE</th>\n",
       "      <th>INSTDATE</th>\n",
       "      <th>LOC</th>\n",
       "      <th>MAINKEY</th>\n",
       "      <th>MFGKEY</th>\n",
       "      <th>...</th>\n",
       "      <th>LSTTMAX2</th>\n",
       "      <th>LSTTMAX3</th>\n",
       "      <th>AVE3TMAX</th>\n",
       "      <th>WARDID</th>\n",
       "      <th>HYMARKER</th>\n",
       "      <th>PRESSMIN</th>\n",
       "      <th>PRESSMAX</th>\n",
       "      <th>FIRFLGPM</th>\n",
       "      <th>OUTELEVN</th>\n",
       "      <th>MDLRESRD</th>\n",
       "    </tr>\n",
       "  </thead>\n",
       "  <tbody>\n",
       "  </tbody>\n",
       "</table>\n",
       "<p>0 rows × 45 columns</p>\n",
       "</div>"
      ],
      "text/plain": [
       "Empty DataFrame\n",
       "Columns: [AREA, COLOR, IMSRO_COMPHY_COMPKEY, FEEDERDIAM, FEEDERLEN, FEEDERTYPE, INSTDATE, LOC, MAINKEY, MFGKEY, MODELNO, OUTLSZ1, OUTLSZ2, OUTLSZ3, PRESZONE, SUBAREA, UNITID, UNITTYPE, XCOORD, YCOORD, ZCOORD, IMSRO_VARHY_COMPKEY, ADDDTTM, FLSHFRE, LONGKEY, PLUGGED, COMMUN, NONSCHE, FZONENUM, DECLREQD, LSTFMAX1, LSTFMAX2, LSTFMAX3, AVE3FMAX, LSTTMAX1, LSTTMAX2, LSTTMAX3, AVE3TMAX, WARDID, HYMARKER, PRESSMIN, PRESSMAX, FIRFLGPM, OUTELEVN, MDLRESRD]\n",
       "Index: []\n",
       "\n",
       "[0 rows x 45 columns]"
      ]
     },
     "execution_count": 49,
     "metadata": {},
     "output_type": "execute_result"
    }
   ],
   "source": [
    "copied_all_hydrants_df[copied_all_hydrants_df['FEEDERLEN'].isnull()]"
   ]
  },
  {
   "cell_type": "markdown",
   "id": "657ce2e7-f6f1-4f03-b019-dd51385ff0f1",
   "metadata": {},
   "source": [
    "#### Detecting and Replacing Outliers\n",
    "To mitigate bias in the model"
   ]
  },
  {
   "cell_type": "code",
   "execution_count": 50,
   "id": "bdac3fcf-d32f-4a45-b9bb-52df1724918b",
   "metadata": {},
   "outputs": [
    {
     "data": {
      "image/png": "[encoded data removed]",
      "text/plain": [
       "<Figure size 640x480 with 1 Axes>"
      ]
     },
     "metadata": {},
     "output_type": "display_data"
    },
    {
     "name": "stdout",
     "output_type": "stream",
     "text": [
      "First quartile is 59.907650000000004\n",
      "Median is 68.29265\n",
      "Third quartile is 77.4062\n",
      "Lower fence is 33.65982500000001\n",
      "Upper fence is 103.65402499999999\n"
     ]
    },
    {
     "data": {
      "image/png": "[encoded data removed]",
      "text/plain": [
       "<Figure size 640x480 with 1 Axes>"
      ]
     },
     "metadata": {},
     "output_type": "display_data"
    }
   ],
   "source": [
    "copied_all_hydrants_df['PRESSMIN'] = replace_outliers(copied_all_hydrants_df, 'PRESSMIN')"
   ]
  },
  {
   "cell_type": "code",
   "execution_count": 51,
   "id": "f865de2d-a58e-4faf-8f69-775e1b481f68",
   "metadata": {},
   "outputs": [
    {
     "data": {
      "image/png": "[encoded data removed]",
      "text/plain": [
       "<Figure size 640x480 with 1 Axes>"
      ]
     },
     "metadata": {},
     "output_type": "display_data"
    },
    {
     "name": "stdout",
     "output_type": "stream",
     "text": [
      "First quartile is 77.56604999999999\n",
      "Median is 88.98725\n",
      "Third quartile is 98.55215000000001\n",
      "Lower fence is 46.08689999999996\n",
      "Upper fence is 130.03130000000004\n"
     ]
    },
    {
     "data": {
      "image/png": "[encoded data removed]",
      "text/plain": [
       "<Figure size 640x480 with 1 Axes>"
      ]
     },
     "metadata": {},
     "output_type": "display_data"
    }
   ],
   "source": [
    "copied_all_hydrants_df['PRESSMAX'] = replace_outliers(copied_all_hydrants_df, 'PRESSMAX')"
   ]
  },
  {
   "cell_type": "code",
   "execution_count": 70,
   "id": "f78ad81e-a4c0-4a1e-b762-935829bc7e22",
   "metadata": {},
   "outputs": [
    {
     "data": {
      "image/png": "[encoded data removed]",
      "text/plain": [
       "<Figure size 640x480 with 1 Axes>"
      ]
     },
     "metadata": {},
     "output_type": "display_data"
    },
    {
     "name": "stdout",
     "output_type": "stream",
     "text": [
      "First quartile is 1.2\n",
      "Median is 2.452\n",
      "Third quartile is 3.5\n",
      "Lower fence is -2.25\n",
      "Upper fence is 6.949999999999999\n"
     ]
    },
    {
     "data": {
      "image/png": "[encoded data removed]",
      "text/plain": [
       "<Figure size 640x480 with 1 Axes>"
      ]
     },
     "metadata": {},
     "output_type": "display_data"
    }
   ],
   "source": [
    "copied_all_hydrants_df['FEEDERLEN'] = replace_outliers(copied_all_hydrants_df, 'FEEDERLEN')"
   ]
  },
  {
   "cell_type": "markdown",
   "id": "65416aff-96bc-4c8f-98e7-547ad199c7fc",
   "metadata": {},
   "source": [
    "#### Formatting Coordinates"
   ]
  },
  {
   "cell_type": "code",
   "execution_count": 52,
   "id": "22084bb7-1a35-4ca8-9a9e-3c482a4167cb",
   "metadata": {
    "collapsed": false,
    "jupyter": {
     "outputs_hidden": false,
     "source_hidden": false
    },
    "microsoft": {
     "language": "python",
     "language_group": "synapse_pyspark"
    },
    "nteract": {
     "transient": {
      "deleting": false
     }
    }
   },
   "outputs": [
    {
     "data": {
      "text/html": [
       "<div>\n",
       "<style scoped>\n",
       "    .dataframe tbody tr th:only-of-type {\n",
       "        vertical-align: middle;\n",
       "    }\n",
       "\n",
       "    .dataframe tbody tr th {\n",
       "        vertical-align: top;\n",
       "    }\n",
       "\n",
       "    .dataframe thead th {\n",
       "        text-align: right;\n",
       "    }\n",
       "</style>\n",
       "<table border=\"1\" class=\"dataframe\">\n",
       "  <thead>\n",
       "    <tr style=\"text-align: right;\">\n",
       "      <th></th>\n",
       "      <th>IMSRO_COMPHY_COMPKEY</th>\n",
       "      <th>FEEDERDIAM</th>\n",
       "      <th>FEEDERLEN</th>\n",
       "      <th>MAINKEY</th>\n",
       "      <th>MFGKEY</th>\n",
       "      <th>OUTLSZ1</th>\n",
       "      <th>OUTLSZ2</th>\n",
       "      <th>OUTLSZ3</th>\n",
       "      <th>XCOORD</th>\n",
       "      <th>YCOORD</th>\n",
       "      <th>...</th>\n",
       "      <th>LSTTMAX2</th>\n",
       "      <th>LSTTMAX3</th>\n",
       "      <th>AVE3TMAX</th>\n",
       "      <th>PRESSMIN</th>\n",
       "      <th>PRESSMAX</th>\n",
       "      <th>FIRFLGPM</th>\n",
       "      <th>OUTELEVN</th>\n",
       "      <th>MDLRESRD</th>\n",
       "      <th>XCOORD_float</th>\n",
       "      <th>YCOORD_float</th>\n",
       "    </tr>\n",
       "  </thead>\n",
       "  <tbody>\n",
       "    <tr>\n",
       "      <th>count</th>\n",
       "      <td>2.211000e+03</td>\n",
       "      <td>2211.000000</td>\n",
       "      <td>2211.000000</td>\n",
       "      <td>2.211000e+03</td>\n",
       "      <td>2211.000000</td>\n",
       "      <td>2211.000000</td>\n",
       "      <td>2211.000000</td>\n",
       "      <td>2211.000000</td>\n",
       "      <td>2211.000000</td>\n",
       "      <td>2.211000e+03</td>\n",
       "      <td>...</td>\n",
       "      <td>2140.000000</td>\n",
       "      <td>2121.000000</td>\n",
       "      <td>2120.000000</td>\n",
       "      <td>2211.000000</td>\n",
       "      <td>2211.000000</td>\n",
       "      <td>1850.000000</td>\n",
       "      <td>2211.000000</td>\n",
       "      <td>1772.000000</td>\n",
       "      <td>2211.000000</td>\n",
       "      <td>2.211000e+03</td>\n",
       "    </tr>\n",
       "    <tr>\n",
       "      <th>mean</th>\n",
       "      <td>3.550840e+05</td>\n",
       "      <td>67.367707</td>\n",
       "      <td>4.112182</td>\n",
       "      <td>7.223463e+05</td>\n",
       "      <td>1061.638173</td>\n",
       "      <td>57.044776</td>\n",
       "      <td>117.917232</td>\n",
       "      <td>44.080054</td>\n",
       "      <td>603407.686662</td>\n",
       "      <td>4.835862e+06</td>\n",
       "      <td>...</td>\n",
       "      <td>1.156566</td>\n",
       "      <td>1.145455</td>\n",
       "      <td>1.163461</td>\n",
       "      <td>68.750113</td>\n",
       "      <td>88.251723</td>\n",
       "      <td>2066.033935</td>\n",
       "      <td>156.270046</td>\n",
       "      <td>0.939633</td>\n",
       "      <td>603407.686662</td>\n",
       "      <td>4.835862e+06</td>\n",
       "    </tr>\n",
       "    <tr>\n",
       "      <th>std</th>\n",
       "      <td>4.196743e+05</td>\n",
       "      <td>74.627522</td>\n",
       "      <td>30.037856</td>\n",
       "      <td>2.324559e+05</td>\n",
       "      <td>295.473583</td>\n",
       "      <td>18.435513</td>\n",
       "      <td>51.540099</td>\n",
       "      <td>28.885457</td>\n",
       "      <td>6834.731679</td>\n",
       "      <td>1.167953e+04</td>\n",
       "      <td>...</td>\n",
       "      <td>0.202752</td>\n",
       "      <td>0.187178</td>\n",
       "      <td>0.139884</td>\n",
       "      <td>13.295824</td>\n",
       "      <td>15.471526</td>\n",
       "      <td>683.370889</td>\n",
       "      <td>94.688608</td>\n",
       "      <td>0.254306</td>\n",
       "      <td>6834.731679</td>\n",
       "      <td>1.167953e+04</td>\n",
       "    </tr>\n",
       "    <tr>\n",
       "      <th>min</th>\n",
       "      <td>1.002000e+03</td>\n",
       "      <td>0.000000</td>\n",
       "      <td>0.000000</td>\n",
       "      <td>1.000000e+00</td>\n",
       "      <td>1.000000</td>\n",
       "      <td>0.000000</td>\n",
       "      <td>0.000000</td>\n",
       "      <td>0.000000</td>\n",
       "      <td>574107.000000</td>\n",
       "      <td>4.817284e+06</td>\n",
       "      <td>...</td>\n",
       "      <td>0.390000</td>\n",
       "      <td>0.000000</td>\n",
       "      <td>0.673333</td>\n",
       "      <td>34.101000</td>\n",
       "      <td>47.632100</td>\n",
       "      <td>499.460000</td>\n",
       "      <td>0.000000</td>\n",
       "      <td>0.000000</td>\n",
       "      <td>574107.000000</td>\n",
       "      <td>4.817284e+06</td>\n",
       "    </tr>\n",
       "    <tr>\n",
       "      <th>25%</th>\n",
       "      <td>9.215000e+03</td>\n",
       "      <td>0.000000</td>\n",
       "      <td>1.200000</td>\n",
       "      <td>5.217380e+05</td>\n",
       "      <td>1009.000000</td>\n",
       "      <td>63.000000</td>\n",
       "      <td>63.000000</td>\n",
       "      <td>0.000000</td>\n",
       "      <td>599733.570000</td>\n",
       "      <td>4.826070e+06</td>\n",
       "      <td>...</td>\n",
       "      <td>1.020000</td>\n",
       "      <td>1.020000</td>\n",
       "      <td>1.076667</td>\n",
       "      <td>59.944800</td>\n",
       "      <td>77.593350</td>\n",
       "      <td>1627.880000</td>\n",
       "      <td>96.876431</td>\n",
       "      <td>0.899475</td>\n",
       "      <td>599733.570000</td>\n",
       "      <td>4.826070e+06</td>\n",
       "    </tr>\n",
       "    <tr>\n",
       "      <th>50%</th>\n",
       "      <td>2.012500e+04</td>\n",
       "      <td>0.000000</td>\n",
       "      <td>2.452000</td>\n",
       "      <td>6.894670e+05</td>\n",
       "      <td>1012.000000</td>\n",
       "      <td>63.000000</td>\n",
       "      <td>150.000000</td>\n",
       "      <td>63.000000</td>\n",
       "      <td>602988.590000</td>\n",
       "      <td>4.834043e+06</td>\n",
       "      <td>...</td>\n",
       "      <td>1.120000</td>\n",
       "      <td>1.120000</td>\n",
       "      <td>1.156667</td>\n",
       "      <td>68.292650</td>\n",
       "      <td>88.987250</td>\n",
       "      <td>2005.025000</td>\n",
       "      <td>175.589389</td>\n",
       "      <td>0.980950</td>\n",
       "      <td>602988.590000</td>\n",
       "      <td>4.834043e+06</td>\n",
       "    </tr>\n",
       "    <tr>\n",
       "      <th>75%</th>\n",
       "      <td>7.439430e+05</td>\n",
       "      <td>150.000000</td>\n",
       "      <td>3.500000</td>\n",
       "      <td>8.641980e+05</td>\n",
       "      <td>1022.000000</td>\n",
       "      <td>63.000000</td>\n",
       "      <td>150.000000</td>\n",
       "      <td>63.000000</td>\n",
       "      <td>608234.055000</td>\n",
       "      <td>4.842871e+06</td>\n",
       "      <td>...</td>\n",
       "      <td>1.270000</td>\n",
       "      <td>1.250000</td>\n",
       "      <td>1.240000</td>\n",
       "      <td>77.327500</td>\n",
       "      <td>98.035500</td>\n",
       "      <td>2429.015000</td>\n",
       "      <td>222.592847</td>\n",
       "      <td>1.061250</td>\n",
       "      <td>608234.055000</td>\n",
       "      <td>4.842871e+06</td>\n",
       "    </tr>\n",
       "    <tr>\n",
       "      <th>max</th>\n",
       "      <td>1.312755e+06</td>\n",
       "      <td>150.000000</td>\n",
       "      <td>1166.540000</td>\n",
       "      <td>1.310672e+06</td>\n",
       "      <td>1881.000000</td>\n",
       "      <td>63.000000</td>\n",
       "      <td>150.000000</td>\n",
       "      <td>63.000000</td>\n",
       "      <td>616887.720000</td>\n",
       "      <td>4.869890e+06</td>\n",
       "      <td>...</td>\n",
       "      <td>2.160000</td>\n",
       "      <td>1.910000</td>\n",
       "      <td>1.786667</td>\n",
       "      <td>102.737000</td>\n",
       "      <td>129.541200</td>\n",
       "      <td>7558.700000</td>\n",
       "      <td>461.064592</td>\n",
       "      <td>1.628700</td>\n",
       "      <td>616887.720000</td>\n",
       "      <td>4.869890e+06</td>\n",
       "    </tr>\n",
       "  </tbody>\n",
       "</table>\n",
       "<p>8 rows × 27 columns</p>\n",
       "</div>"
      ],
      "text/plain": [
       "       IMSRO_COMPHY_COMPKEY   FEEDERDIAM    FEEDERLEN       MAINKEY  \\\n",
       "count          2.211000e+03  2211.000000  2211.000000  2.211000e+03   \n",
       "mean           3.550840e+05    67.367707     4.112182  7.223463e+05   \n",
       "std            4.196743e+05    74.627522    30.037856  2.324559e+05   \n",
       "min            1.002000e+03     0.000000     0.000000  1.000000e+00   \n",
       "25%            9.215000e+03     0.000000     1.200000  5.217380e+05   \n",
       "50%            2.012500e+04     0.000000     2.452000  6.894670e+05   \n",
       "75%            7.439430e+05   150.000000     3.500000  8.641980e+05   \n",
       "max            1.312755e+06   150.000000  1166.540000  1.310672e+06   \n",
       "\n",
       "            MFGKEY      OUTLSZ1      OUTLSZ2      OUTLSZ3         XCOORD  \\\n",
       "count  2211.000000  2211.000000  2211.000000  2211.000000    2211.000000   \n",
       "mean   1061.638173    57.044776   117.917232    44.080054  603407.686662   \n",
       "std     295.473583    18.435513    51.540099    28.885457    6834.731679   \n",
       "min       1.000000     0.000000     0.000000     0.000000  574107.000000   \n",
       "25%    1009.000000    63.000000    63.000000     0.000000  599733.570000   \n",
       "50%    1012.000000    63.000000   150.000000    63.000000  602988.590000   \n",
       "75%    1022.000000    63.000000   150.000000    63.000000  608234.055000   \n",
       "max    1881.000000    63.000000   150.000000    63.000000  616887.720000   \n",
       "\n",
       "             YCOORD  ...     LSTTMAX2     LSTTMAX3     AVE3TMAX     PRESSMIN  \\\n",
       "count  2.211000e+03  ...  2140.000000  2121.000000  2120.000000  2211.000000   \n",
       "mean   4.835862e+06  ...     1.156566     1.145455     1.163461    68.750113   \n",
       "std    1.167953e+04  ...     0.202752     0.187178     0.139884    13.295824   \n",
       "min    4.817284e+06  ...     0.390000     0.000000     0.673333    34.101000   \n",
       "25%    4.826070e+06  ...     1.020000     1.020000     1.076667    59.944800   \n",
       "50%    4.834043e+06  ...     1.120000     1.120000     1.156667    68.292650   \n",
       "75%    4.842871e+06  ...     1.270000     1.250000     1.240000    77.327500   \n",
       "max    4.869890e+06  ...     2.160000     1.910000     1.786667   102.737000   \n",
       "\n",
       "          PRESSMAX     FIRFLGPM     OUTELEVN     MDLRESRD   XCOORD_float  \\\n",
       "count  2211.000000  1850.000000  2211.000000  1772.000000    2211.000000   \n",
       "mean     88.251723  2066.033935   156.270046     0.939633  603407.686662   \n",
       "std      15.471526   683.370889    94.688608     0.254306    6834.731679   \n",
       "min      47.632100   499.460000     0.000000     0.000000  574107.000000   \n",
       "25%      77.593350  1627.880000    96.876431     0.899475  599733.570000   \n",
       "50%      88.987250  2005.025000   175.589389     0.980950  602988.590000   \n",
       "75%      98.035500  2429.015000   222.592847     1.061250  608234.055000   \n",
       "max     129.541200  7558.700000   461.064592     1.628700  616887.720000   \n",
       "\n",
       "       YCOORD_float  \n",
       "count  2.211000e+03  \n",
       "mean   4.835862e+06  \n",
       "std    1.167953e+04  \n",
       "min    4.817284e+06  \n",
       "25%    4.826070e+06  \n",
       "50%    4.834043e+06  \n",
       "75%    4.842871e+06  \n",
       "max    4.869890e+06  \n",
       "\n",
       "[8 rows x 27 columns]"
      ]
     },
     "execution_count": 52,
     "metadata": {},
     "output_type": "execute_result"
    }
   ],
   "source": [
    "# Item 9: Formatting coordinates as numeric data\n",
    "copied_all_hydrants_df['XCOORD'].head()\n",
    "copied_all_hydrants_df['XCOORD_float'] = pd.to_numeric(copied_all_hydrants_df['XCOORD'], errors='coerce')\n",
    "copied_all_hydrants_df['YCOORD_float'] = pd.to_numeric(copied_all_hydrants_df['YCOORD'], errors='coerce')\n",
    "copied_all_hydrants_df['XCOORD_float'].head()\n",
    "copied_all_hydrants_df.describe()"
   ]
  },
  {
   "cell_type": "code",
   "execution_count": 53,
   "id": "6837cd9e-53a8-4312-b6ee-fd33eedd7acd",
   "metadata": {
    "collapsed": false,
    "jupyter": {
     "outputs_hidden": false,
     "source_hidden": false
    },
    "microsoft": {
     "language": "python",
     "language_group": "synapse_pyspark"
    },
    "nteract": {
     "transient": {
      "deleting": false
     }
    }
   },
   "outputs": [],
   "source": [
    "# Uses X and Y Coordinates to find the corresponding latitude and longitude ana adds this data to the given DataFrame\n",
    "def utm_to_latlon(df, xcoord, ycoord, utm_zone):\n",
    "    utm_proj = Proj(proj='utm', zone=utm_zone, ellps='WGS84')\n",
    "    lonlat = utm_proj(df[xcoord].values, df[ycoord].values, inverse=True)\n",
    "    df['Latitude'] = lonlat[1]\n",
    "    df['Longitude'] = lonlat[0]\n",
    "    return df"
   ]
  },
  {
   "cell_type": "code",
   "execution_count": 54,
   "id": "8718fe3a-136a-439a-af30-041148672c9f",
   "metadata": {
    "collapsed": false,
    "jupyter": {
     "outputs_hidden": false,
     "source_hidden": false
    },
    "microsoft": {
     "language": "python",
     "language_group": "synapse_pyspark"
    },
    "nteract": {
     "transient": {
      "deleting": false
     }
    }
   },
   "outputs": [
    {
     "data": {
      "text/html": [
       "<div>\n",
       "<style scoped>\n",
       "    .dataframe tbody tr th:only-of-type {\n",
       "        vertical-align: middle;\n",
       "    }\n",
       "\n",
       "    .dataframe tbody tr th {\n",
       "        vertical-align: top;\n",
       "    }\n",
       "\n",
       "    .dataframe thead th {\n",
       "        text-align: right;\n",
       "    }\n",
       "</style>\n",
       "<table border=\"1\" class=\"dataframe\">\n",
       "  <thead>\n",
       "    <tr style=\"text-align: right;\">\n",
       "      <th></th>\n",
       "      <th>IMSRO_COMPHY_COMPKEY</th>\n",
       "      <th>FEEDERDIAM</th>\n",
       "      <th>FEEDERLEN</th>\n",
       "      <th>MAINKEY</th>\n",
       "      <th>MFGKEY</th>\n",
       "      <th>OUTLSZ1</th>\n",
       "      <th>OUTLSZ2</th>\n",
       "      <th>OUTLSZ3</th>\n",
       "      <th>XCOORD</th>\n",
       "      <th>YCOORD</th>\n",
       "      <th>...</th>\n",
       "      <th>AVE3TMAX</th>\n",
       "      <th>PRESSMIN</th>\n",
       "      <th>PRESSMAX</th>\n",
       "      <th>FIRFLGPM</th>\n",
       "      <th>OUTELEVN</th>\n",
       "      <th>MDLRESRD</th>\n",
       "      <th>XCOORD_float</th>\n",
       "      <th>YCOORD_float</th>\n",
       "      <th>Latitude</th>\n",
       "      <th>Longitude</th>\n",
       "    </tr>\n",
       "  </thead>\n",
       "  <tbody>\n",
       "    <tr>\n",
       "      <th>count</th>\n",
       "      <td>2.211000e+03</td>\n",
       "      <td>2211.000000</td>\n",
       "      <td>2211.000000</td>\n",
       "      <td>2.211000e+03</td>\n",
       "      <td>2211.000000</td>\n",
       "      <td>2211.000000</td>\n",
       "      <td>2211.000000</td>\n",
       "      <td>2211.000000</td>\n",
       "      <td>2211.000000</td>\n",
       "      <td>2.211000e+03</td>\n",
       "      <td>...</td>\n",
       "      <td>2120.000000</td>\n",
       "      <td>2211.000000</td>\n",
       "      <td>2211.000000</td>\n",
       "      <td>1850.000000</td>\n",
       "      <td>2211.000000</td>\n",
       "      <td>1772.000000</td>\n",
       "      <td>2211.000000</td>\n",
       "      <td>2.211000e+03</td>\n",
       "      <td>2211.000000</td>\n",
       "      <td>2211.000000</td>\n",
       "    </tr>\n",
       "    <tr>\n",
       "      <th>mean</th>\n",
       "      <td>3.550840e+05</td>\n",
       "      <td>67.367707</td>\n",
       "      <td>4.112182</td>\n",
       "      <td>7.223463e+05</td>\n",
       "      <td>1061.638173</td>\n",
       "      <td>57.044776</td>\n",
       "      <td>117.917232</td>\n",
       "      <td>44.080054</td>\n",
       "      <td>603407.686662</td>\n",
       "      <td>4.835862e+06</td>\n",
       "      <td>...</td>\n",
       "      <td>1.163461</td>\n",
       "      <td>68.750113</td>\n",
       "      <td>88.251723</td>\n",
       "      <td>2066.033935</td>\n",
       "      <td>156.270046</td>\n",
       "      <td>0.939633</td>\n",
       "      <td>603407.686662</td>\n",
       "      <td>4.835862e+06</td>\n",
       "      <td>43.668543</td>\n",
       "      <td>-121.717423</td>\n",
       "    </tr>\n",
       "    <tr>\n",
       "      <th>std</th>\n",
       "      <td>4.196743e+05</td>\n",
       "      <td>74.627522</td>\n",
       "      <td>30.037856</td>\n",
       "      <td>2.324559e+05</td>\n",
       "      <td>295.473583</td>\n",
       "      <td>18.435513</td>\n",
       "      <td>51.540099</td>\n",
       "      <td>28.885457</td>\n",
       "      <td>6834.731679</td>\n",
       "      <td>1.167953e+04</td>\n",
       "      <td>...</td>\n",
       "      <td>0.139884</td>\n",
       "      <td>13.295824</td>\n",
       "      <td>15.471526</td>\n",
       "      <td>683.370889</td>\n",
       "      <td>94.688608</td>\n",
       "      <td>0.254306</td>\n",
       "      <td>6834.731679</td>\n",
       "      <td>1.167953e+04</td>\n",
       "      <td>0.105722</td>\n",
       "      <td>0.083432</td>\n",
       "    </tr>\n",
       "    <tr>\n",
       "      <th>min</th>\n",
       "      <td>1.002000e+03</td>\n",
       "      <td>0.000000</td>\n",
       "      <td>0.000000</td>\n",
       "      <td>1.000000e+00</td>\n",
       "      <td>1.000000</td>\n",
       "      <td>0.000000</td>\n",
       "      <td>0.000000</td>\n",
       "      <td>0.000000</td>\n",
       "      <td>574107.000000</td>\n",
       "      <td>4.817284e+06</td>\n",
       "      <td>...</td>\n",
       "      <td>0.673333</td>\n",
       "      <td>34.101000</td>\n",
       "      <td>47.632100</td>\n",
       "      <td>499.460000</td>\n",
       "      <td>0.000000</td>\n",
       "      <td>0.000000</td>\n",
       "      <td>574107.000000</td>\n",
       "      <td>4.817284e+06</td>\n",
       "      <td>43.500510</td>\n",
       "      <td>-122.077736</td>\n",
       "    </tr>\n",
       "    <tr>\n",
       "      <th>25%</th>\n",
       "      <td>9.215000e+03</td>\n",
       "      <td>0.000000</td>\n",
       "      <td>1.200000</td>\n",
       "      <td>5.217380e+05</td>\n",
       "      <td>1009.000000</td>\n",
       "      <td>63.000000</td>\n",
       "      <td>63.000000</td>\n",
       "      <td>0.000000</td>\n",
       "      <td>599733.570000</td>\n",
       "      <td>4.826070e+06</td>\n",
       "      <td>...</td>\n",
       "      <td>1.076667</td>\n",
       "      <td>59.944800</td>\n",
       "      <td>77.593350</td>\n",
       "      <td>1627.880000</td>\n",
       "      <td>96.876431</td>\n",
       "      <td>0.899475</td>\n",
       "      <td>599733.570000</td>\n",
       "      <td>4.826070e+06</td>\n",
       "      <td>43.579952</td>\n",
       "      <td>-121.762565</td>\n",
       "    </tr>\n",
       "    <tr>\n",
       "      <th>50%</th>\n",
       "      <td>2.012500e+04</td>\n",
       "      <td>0.000000</td>\n",
       "      <td>2.452000</td>\n",
       "      <td>6.894670e+05</td>\n",
       "      <td>1012.000000</td>\n",
       "      <td>63.000000</td>\n",
       "      <td>150.000000</td>\n",
       "      <td>63.000000</td>\n",
       "      <td>602988.590000</td>\n",
       "      <td>4.834043e+06</td>\n",
       "      <td>...</td>\n",
       "      <td>1.156667</td>\n",
       "      <td>68.292650</td>\n",
       "      <td>88.987250</td>\n",
       "      <td>2005.025000</td>\n",
       "      <td>175.589389</td>\n",
       "      <td>0.980950</td>\n",
       "      <td>602988.590000</td>\n",
       "      <td>4.834043e+06</td>\n",
       "      <td>43.652646</td>\n",
       "      <td>-121.722146</td>\n",
       "    </tr>\n",
       "    <tr>\n",
       "      <th>75%</th>\n",
       "      <td>7.439430e+05</td>\n",
       "      <td>150.000000</td>\n",
       "      <td>3.500000</td>\n",
       "      <td>8.641980e+05</td>\n",
       "      <td>1022.000000</td>\n",
       "      <td>63.000000</td>\n",
       "      <td>150.000000</td>\n",
       "      <td>63.000000</td>\n",
       "      <td>608234.055000</td>\n",
       "      <td>4.842871e+06</td>\n",
       "      <td>...</td>\n",
       "      <td>1.240000</td>\n",
       "      <td>77.327500</td>\n",
       "      <td>98.035500</td>\n",
       "      <td>2429.015000</td>\n",
       "      <td>222.592847</td>\n",
       "      <td>1.061250</td>\n",
       "      <td>608234.055000</td>\n",
       "      <td>4.842871e+06</td>\n",
       "      <td>43.732287</td>\n",
       "      <td>-121.658838</td>\n",
       "    </tr>\n",
       "    <tr>\n",
       "      <th>max</th>\n",
       "      <td>1.312755e+06</td>\n",
       "      <td>150.000000</td>\n",
       "      <td>1166.540000</td>\n",
       "      <td>1.310672e+06</td>\n",
       "      <td>1881.000000</td>\n",
       "      <td>63.000000</td>\n",
       "      <td>150.000000</td>\n",
       "      <td>63.000000</td>\n",
       "      <td>616887.720000</td>\n",
       "      <td>4.869890e+06</td>\n",
       "      <td>...</td>\n",
       "      <td>1.786667</td>\n",
       "      <td>102.737000</td>\n",
       "      <td>129.541200</td>\n",
       "      <td>7558.700000</td>\n",
       "      <td>461.064592</td>\n",
       "      <td>1.628700</td>\n",
       "      <td>616887.720000</td>\n",
       "      <td>4.869890e+06</td>\n",
       "      <td>43.976043</td>\n",
       "      <td>-121.552075</td>\n",
       "    </tr>\n",
       "  </tbody>\n",
       "</table>\n",
       "<p>8 rows × 29 columns</p>\n",
       "</div>"
      ],
      "text/plain": [
       "       IMSRO_COMPHY_COMPKEY   FEEDERDIAM    FEEDERLEN       MAINKEY  \\\n",
       "count          2.211000e+03  2211.000000  2211.000000  2.211000e+03   \n",
       "mean           3.550840e+05    67.367707     4.112182  7.223463e+05   \n",
       "std            4.196743e+05    74.627522    30.037856  2.324559e+05   \n",
       "min            1.002000e+03     0.000000     0.000000  1.000000e+00   \n",
       "25%            9.215000e+03     0.000000     1.200000  5.217380e+05   \n",
       "50%            2.012500e+04     0.000000     2.452000  6.894670e+05   \n",
       "75%            7.439430e+05   150.000000     3.500000  8.641980e+05   \n",
       "max            1.312755e+06   150.000000  1166.540000  1.310672e+06   \n",
       "\n",
       "            MFGKEY      OUTLSZ1      OUTLSZ2      OUTLSZ3         XCOORD  \\\n",
       "count  2211.000000  2211.000000  2211.000000  2211.000000    2211.000000   \n",
       "mean   1061.638173    57.044776   117.917232    44.080054  603407.686662   \n",
       "std     295.473583    18.435513    51.540099    28.885457    6834.731679   \n",
       "min       1.000000     0.000000     0.000000     0.000000  574107.000000   \n",
       "25%    1009.000000    63.000000    63.000000     0.000000  599733.570000   \n",
       "50%    1012.000000    63.000000   150.000000    63.000000  602988.590000   \n",
       "75%    1022.000000    63.000000   150.000000    63.000000  608234.055000   \n",
       "max    1881.000000    63.000000   150.000000    63.000000  616887.720000   \n",
       "\n",
       "             YCOORD  ...     AVE3TMAX     PRESSMIN     PRESSMAX     FIRFLGPM  \\\n",
       "count  2.211000e+03  ...  2120.000000  2211.000000  2211.000000  1850.000000   \n",
       "mean   4.835862e+06  ...     1.163461    68.750113    88.251723  2066.033935   \n",
       "std    1.167953e+04  ...     0.139884    13.295824    15.471526   683.370889   \n",
       "min    4.817284e+06  ...     0.673333    34.101000    47.632100   499.460000   \n",
       "25%    4.826070e+06  ...     1.076667    59.944800    77.593350  1627.880000   \n",
       "50%    4.834043e+06  ...     1.156667    68.292650    88.987250  2005.025000   \n",
       "75%    4.842871e+06  ...     1.240000    77.327500    98.035500  2429.015000   \n",
       "max    4.869890e+06  ...     1.786667   102.737000   129.541200  7558.700000   \n",
       "\n",
       "          OUTELEVN     MDLRESRD   XCOORD_float  YCOORD_float     Latitude  \\\n",
       "count  2211.000000  1772.000000    2211.000000  2.211000e+03  2211.000000   \n",
       "mean    156.270046     0.939633  603407.686662  4.835862e+06    43.668543   \n",
       "std      94.688608     0.254306    6834.731679  1.167953e+04     0.105722   \n",
       "min       0.000000     0.000000  574107.000000  4.817284e+06    43.500510   \n",
       "25%      96.876431     0.899475  599733.570000  4.826070e+06    43.579952   \n",
       "50%     175.589389     0.980950  602988.590000  4.834043e+06    43.652646   \n",
       "75%     222.592847     1.061250  608234.055000  4.842871e+06    43.732287   \n",
       "max     461.064592     1.628700  616887.720000  4.869890e+06    43.976043   \n",
       "\n",
       "         Longitude  \n",
       "count  2211.000000  \n",
       "mean   -121.717423  \n",
       "std       0.083432  \n",
       "min    -122.077736  \n",
       "25%    -121.762565  \n",
       "50%    -121.722146  \n",
       "75%    -121.658838  \n",
       "max    -121.552075  \n",
       "\n",
       "[8 rows x 29 columns]"
      ]
     },
     "execution_count": 54,
     "metadata": {},
     "output_type": "execute_result"
    }
   ],
   "source": [
    "copied_all_hydrants_df = utm_to_latlon(copied_all_hydrants_df, 'XCOORD_float', 'YCOORD_float', utm_zone=10)\n",
    "copied_all_hydrants_df.head()\n",
    "copied_all_hydrants_df.describe()"
   ]
  },
  {
   "cell_type": "code",
   "execution_count": 55,
   "id": "626e8475-5657-4abf-a022-6f90744b3598",
   "metadata": {
    "collapsed": false,
    "jupyter": {
     "outputs_hidden": false,
     "source_hidden": false
    },
    "microsoft": {
     "language": "python",
     "language_group": "synapse_pyspark"
    },
    "nteract": {
     "transient": {
      "deleting": false
     }
    }
   },
   "outputs": [
    {
     "name": "stdout",
     "output_type": "stream",
     "text": [
      "count    2211.000000\n",
      "mean       43.668543\n",
      "std         0.105722\n",
      "min        43.500510\n",
      "25%        43.579952\n",
      "50%        43.652646\n",
      "75%        43.732287\n",
      "max        43.976043\n",
      "Name: Latitude, dtype: float64\n",
      "count    2211.000000\n",
      "mean     -121.717423\n",
      "std         0.083432\n",
      "min      -122.077736\n",
      "25%      -121.762565\n",
      "50%      -121.722146\n",
      "75%      -121.658838\n",
      "max      -121.552075\n",
      "Name: Longitude, dtype: float64\n",
      "0\n",
      "0\n"
     ]
    }
   ],
   "source": [
    "from sklearn.cluster import DBSCAN\n",
    "\n",
    "# Applies a DBSCAN algorithm to organize latitude and longitude data \n",
    "dbscan = DBSCAN(eps=0.1, min_samples=5)\n",
    "# Delete rows with empty longitude or latitude values\n",
    "copied_all_hydrants_df = copied_all_hydrants_df.dropna(subset=['Longitude', 'Latitude'])\n",
    "# Remove latitude/longitude values that are positive/negative infinity\n",
    "copied_all_hydrants_df['Latitude'] = copied_all_hydrants_df['Latitude'].replace([np.inf, -np.inf], np.nan).dropna()\n",
    "copied_all_hydrants_df['Longitude'] = copied_all_hydrants_df['Longitude'].replace([np.inf, -np.inf], np.nan).dropna()\n",
    "# print(copied_all_hydrants_df.sort_values(by=['Latitude'], ascending=False).head())\n",
    "# Remove any other blank values from the latitude/longitude columns\n",
    "copied_all_hydrants_df['Latitude'] = copied_all_hydrants_df['Latitude'].dropna()\n",
    "copied_all_hydrants_df['Longitude'] = copied_all_hydrants_df['Longitude'].dropna()\n",
    "copied_all_hydrants_df.dropna(subset=['Longitude', 'Latitude'], inplace=True)\n",
    "print(copied_all_hydrants_df['Latitude'].describe())\n",
    "print(copied_all_hydrants_df['Longitude'].describe())\n",
    "print(copied_all_hydrants_df['Latitude'].isna().sum())\n",
    "print(copied_all_hydrants_df['Longitude'].isna().sum())"
   ]
  },
  {
   "cell_type": "code",
   "execution_count": 56,
   "id": "494556ce-328c-418c-b97d-76002b11adfa",
   "metadata": {
    "collapsed": false,
    "jupyter": {
     "outputs_hidden": false,
     "source_hidden": false
    },
    "microsoft": {
     "language": "python",
     "language_group": "synapse_pyspark"
    },
    "nteract": {
     "transient": {
      "deleting": false
     }
    }
   },
   "outputs": [],
   "source": [
    "copied_all_hydrants_df['Geo_Cluster'] = dbscan.fit_predict(copied_all_hydrants_df[['Longitude', 'Latitude']])"
   ]
  },
  {
   "cell_type": "code",
   "execution_count": 57,
   "id": "74421e91-2819-4998-975f-7f34bf9f1a5b",
   "metadata": {
    "collapsed": false,
    "jupyter": {
     "outputs_hidden": false,
     "source_hidden": false
    },
    "microsoft": {
     "language": "python",
     "language_group": "synapse_pyspark"
    },
    "nteract": {
     "transient": {
      "deleting": false
     }
    }
   },
   "outputs": [
    {
     "data": {
      "text/html": [
       "<div>\n",
       "<style scoped>\n",
       "    .dataframe tbody tr th:only-of-type {\n",
       "        vertical-align: middle;\n",
       "    }\n",
       "\n",
       "    .dataframe tbody tr th {\n",
       "        vertical-align: top;\n",
       "    }\n",
       "\n",
       "    .dataframe thead th {\n",
       "        text-align: right;\n",
       "    }\n",
       "</style>\n",
       "<table border=\"1\" class=\"dataframe\">\n",
       "  <thead>\n",
       "    <tr style=\"text-align: right;\">\n",
       "      <th></th>\n",
       "      <th>AREA</th>\n",
       "      <th>COLOR</th>\n",
       "      <th>IMSRO_COMPHY_COMPKEY</th>\n",
       "      <th>FEEDERDIAM</th>\n",
       "      <th>FEEDERLEN</th>\n",
       "      <th>FEEDERTYPE</th>\n",
       "      <th>INSTDATE</th>\n",
       "      <th>LOC</th>\n",
       "      <th>MAINKEY</th>\n",
       "      <th>MFGKEY</th>\n",
       "      <th>...</th>\n",
       "      <th>PRESSMIN</th>\n",
       "      <th>PRESSMAX</th>\n",
       "      <th>FIRFLGPM</th>\n",
       "      <th>OUTELEVN</th>\n",
       "      <th>MDLRESRD</th>\n",
       "      <th>XCOORD_float</th>\n",
       "      <th>YCOORD_float</th>\n",
       "      <th>Latitude</th>\n",
       "      <th>Longitude</th>\n",
       "      <th>Geo_Cluster</th>\n",
       "    </tr>\n",
       "  </thead>\n",
       "  <tbody>\n",
       "    <tr>\n",
       "      <th>65</th>\n",
       "      <td>B31</td>\n",
       "      <td>BLUE</td>\n",
       "      <td>1673</td>\n",
       "      <td>0.0</td>\n",
       "      <td>1.4</td>\n",
       "      <td>NaN</td>\n",
       "      <td>NaN</td>\n",
       "      <td>1031</td>\n",
       "      <td>526297</td>\n",
       "      <td>1012</td>\n",
       "      <td>...</td>\n",
       "      <td>60.7656</td>\n",
       "      <td>83.1983</td>\n",
       "      <td>2190.85</td>\n",
       "      <td>243.448203</td>\n",
       "      <td>1.1133</td>\n",
       "      <td>597828.69</td>\n",
       "      <td>4841977.83</td>\n",
       "      <td>43.724380</td>\n",
       "      <td>-121.785410</td>\n",
       "      <td>0</td>\n",
       "    </tr>\n",
       "    <tr>\n",
       "      <th>76</th>\n",
       "      <td>B31</td>\n",
       "      <td>BLUE</td>\n",
       "      <td>1696</td>\n",
       "      <td>0.0</td>\n",
       "      <td>1.1</td>\n",
       "      <td>NaN</td>\n",
       "      <td>NaN</td>\n",
       "      <td>1145</td>\n",
       "      <td>754390</td>\n",
       "      <td>1022</td>\n",
       "      <td>...</td>\n",
       "      <td>72.6852</td>\n",
       "      <td>72.7167</td>\n",
       "      <td>1762.80</td>\n",
       "      <td>263.569672</td>\n",
       "      <td>1.2633</td>\n",
       "      <td>596099.18</td>\n",
       "      <td>4844170.61</td>\n",
       "      <td>43.744345</td>\n",
       "      <td>-121.806486</td>\n",
       "      <td>0</td>\n",
       "    </tr>\n",
       "    <tr>\n",
       "      <th>126</th>\n",
       "      <td>B31</td>\n",
       "      <td>BLUE</td>\n",
       "      <td>2847</td>\n",
       "      <td>0.0</td>\n",
       "      <td>1.1</td>\n",
       "      <td>NaN</td>\n",
       "      <td>NaN</td>\n",
       "      <td>1058</td>\n",
       "      <td>762853</td>\n",
       "      <td>1012</td>\n",
       "      <td>...</td>\n",
       "      <td>65.7167</td>\n",
       "      <td>84.3747</td>\n",
       "      <td>2184.13</td>\n",
       "      <td>241.497865</td>\n",
       "      <td>1.1568</td>\n",
       "      <td>596309.85</td>\n",
       "      <td>4841454.28</td>\n",
       "      <td>43.719866</td>\n",
       "      <td>-121.804357</td>\n",
       "      <td>0</td>\n",
       "    </tr>\n",
       "    <tr>\n",
       "      <th>138</th>\n",
       "      <td>B06</td>\n",
       "      <td>ORANGE</td>\n",
       "      <td>2863</td>\n",
       "      <td>0.0</td>\n",
       "      <td>3.0</td>\n",
       "      <td>NaN</td>\n",
       "      <td>NaN</td>\n",
       "      <td>0641</td>\n",
       "      <td>512055</td>\n",
       "      <td>1009</td>\n",
       "      <td>...</td>\n",
       "      <td>73.0940</td>\n",
       "      <td>113.7570</td>\n",
       "      <td>685.66</td>\n",
       "      <td>205.708433</td>\n",
       "      <td>0.7842</td>\n",
       "      <td>602040.45</td>\n",
       "      <td>4833238.58</td>\n",
       "      <td>43.645143</td>\n",
       "      <td>-121.734786</td>\n",
       "      <td>0</td>\n",
       "    </tr>\n",
       "    <tr>\n",
       "      <th>139</th>\n",
       "      <td>B12</td>\n",
       "      <td>BLUE</td>\n",
       "      <td>2864</td>\n",
       "      <td>0.0</td>\n",
       "      <td>1.0</td>\n",
       "      <td>NaN</td>\n",
       "      <td>NaN</td>\n",
       "      <td>0821</td>\n",
       "      <td>716655</td>\n",
       "      <td>1022</td>\n",
       "      <td>...</td>\n",
       "      <td>72.6360</td>\n",
       "      <td>113.5766</td>\n",
       "      <td>1963.67</td>\n",
       "      <td>206.064103</td>\n",
       "      <td>1.0406</td>\n",
       "      <td>603629.16</td>\n",
       "      <td>4841098.82</td>\n",
       "      <td>43.715680</td>\n",
       "      <td>-121.713581</td>\n",
       "      <td>0</td>\n",
       "    </tr>\n",
       "  </tbody>\n",
       "</table>\n",
       "<p>5 rows × 50 columns</p>\n",
       "</div>"
      ],
      "text/plain": [
       "    AREA   COLOR  IMSRO_COMPHY_COMPKEY  FEEDERDIAM  FEEDERLEN FEEDERTYPE  \\\n",
       "65   B31    BLUE                  1673         0.0        1.4        NaN   \n",
       "76   B31    BLUE                  1696         0.0        1.1        NaN   \n",
       "126  B31    BLUE                  2847         0.0        1.1        NaN   \n",
       "138  B06  ORANGE                  2863         0.0        3.0        NaN   \n",
       "139  B12    BLUE                  2864         0.0        1.0        NaN   \n",
       "\n",
       "    INSTDATE   LOC  MAINKEY  MFGKEY  ... PRESSMIN  PRESSMAX  FIRFLGPM  \\\n",
       "65       NaN  1031   526297    1012  ...  60.7656   83.1983   2190.85   \n",
       "76       NaN  1145   754390    1022  ...  72.6852   72.7167   1762.80   \n",
       "126      NaN  1058   762853    1012  ...  65.7167   84.3747   2184.13   \n",
       "138      NaN  0641   512055    1009  ...  73.0940  113.7570    685.66   \n",
       "139      NaN  0821   716655    1022  ...  72.6360  113.5766   1963.67   \n",
       "\n",
       "       OUTELEVN MDLRESRD XCOORD_float YCOORD_float   Latitude   Longitude  \\\n",
       "65   243.448203   1.1133    597828.69   4841977.83  43.724380 -121.785410   \n",
       "76   263.569672   1.2633    596099.18   4844170.61  43.744345 -121.806486   \n",
       "126  241.497865   1.1568    596309.85   4841454.28  43.719866 -121.804357   \n",
       "138  205.708433   0.7842    602040.45   4833238.58  43.645143 -121.734786   \n",
       "139  206.064103   1.0406    603629.16   4841098.82  43.715680 -121.713581   \n",
       "\n",
       "     Geo_Cluster  \n",
       "65             0  \n",
       "76             0  \n",
       "126            0  \n",
       "138            0  \n",
       "139            0  \n",
       "\n",
       "[5 rows x 50 columns]"
      ]
     },
     "execution_count": 57,
     "metadata": {},
     "output_type": "execute_result"
    }
   ],
   "source": [
    "copied_all_hydrants_df.head()"
   ]
  },
  {
   "cell_type": "code",
   "execution_count": 58,
   "id": "a8c61d07-6f72-4204-98d8-f3a762012656",
   "metadata": {
    "collapsed": false,
    "jupyter": {
     "outputs_hidden": false,
     "source_hidden": false
    },
    "microsoft": {
     "language": "python",
     "language_group": "synapse_pyspark"
    },
    "nteract": {
     "transient": {
      "deleting": false
     }
    }
   },
   "outputs": [
    {
     "data": {
      "text/plain": [
       "count    2211.0\n",
       "mean        0.0\n",
       "std         0.0\n",
       "min         0.0\n",
       "25%         0.0\n",
       "50%         0.0\n",
       "75%         0.0\n",
       "max         0.0\n",
       "Name: Geo_Cluster, dtype: float64"
      ]
     },
     "execution_count": 58,
     "metadata": {},
     "output_type": "execute_result"
    }
   ],
   "source": [
    "copied_all_hydrants_df['Geo_Cluster'].describe()"
   ]
  },
  {
   "cell_type": "code",
   "execution_count": 59,
   "id": "c786e8ac-6ab5-4413-b43e-a960680e4ed8",
   "metadata": {
    "collapsed": false,
    "jupyter": {
     "outputs_hidden": false,
     "source_hidden": false
    },
    "microsoft": {
     "language": "python",
     "language_group": "synapse_pyspark"
    },
    "nteract": {
     "transient": {
      "deleting": false
     }
    }
   },
   "outputs": [
    {
     "name": "stdout",
     "output_type": "stream",
     "text": [
      "(2211, 50)\n"
     ]
    },
    {
     "data": {
      "text/plain": [
       "(2211, 50)"
      ]
     },
     "execution_count": 59,
     "metadata": {},
     "output_type": "execute_result"
    }
   ],
   "source": [
    "print(copied_all_hydrants_df.shape)\n",
    "na_copied_all_hydrants_df = copy.deepcopy(copied_all_hydrants_df)\n",
    "na_copied_all_hydrants_df.shape"
   ]
  },
  {
   "cell_type": "code",
   "execution_count": 60,
   "id": "0b190491-1338-4bca-ba47-26ac885eb929",
   "metadata": {
    "collapsed": false,
    "jupyter": {
     "outputs_hidden": false,
     "source_hidden": false
    },
    "microsoft": {
     "language": "python",
     "language_group": "synapse_pyspark"
    },
    "nteract": {
     "transient": {
      "deleting": false
     }
    },
    "scrolled": true
   },
   "outputs": [],
   "source": [
    "# copied_all_hydrants_df = copied_all_hydrants_df.fillna('Unknown')\n",
    "# copied_all_hydrants_df"
   ]
  },
  {
   "cell_type": "code",
   "execution_count": 61,
   "id": "75d802b6-8656-4c71-a777-793bd2d90684",
   "metadata": {
    "collapsed": false,
    "jupyter": {
     "outputs_hidden": false,
     "source_hidden": false
    },
    "microsoft": {
     "language": "python",
     "language_group": "synapse_pyspark"
    },
    "nteract": {
     "transient": {
      "deleting": false
     }
    }
   },
   "outputs": [],
   "source": [
    "knn_copied_all_hydrants_df = copy.deepcopy(copied_all_hydrants_df)"
   ]
  },
  {
   "cell_type": "code",
   "execution_count": 62,
   "id": "f08868f9-fa32-4efd-9c08-e645fc1f1338",
   "metadata": {
    "collapsed": false,
    "jupyter": {
     "outputs_hidden": false,
     "source_hidden": false
    },
    "microsoft": {
     "language": "python",
     "language_group": "synapse_pyspark"
    },
    "nteract": {
     "transient": {
      "deleting": false
     }
    }
   },
   "outputs": [
    {
     "data": {
      "text/plain": [
       "count       2211\n",
       "unique        12\n",
       "top       1 YEAR\n",
       "freq        1152\n",
       "Name: FLSHFRE, dtype: object"
      ]
     },
     "execution_count": 62,
     "metadata": {},
     "output_type": "execute_result"
    }
   ],
   "source": [
    "copied_all_hydrants_df['FLSHFRE'].describe()"
   ]
  },
  {
   "cell_type": "code",
   "execution_count": 63,
   "id": "4007cffb-8bb8-45a8-bb1f-c6ce4c593958",
   "metadata": {
    "collapsed": false,
    "jupyter": {
     "outputs_hidden": false,
     "source_hidden": false
    },
    "microsoft": {
     "language": "python",
     "language_group": "synapse_pyspark"
    },
    "nteract": {
     "transient": {
      "deleting": false
     }
    }
   },
   "outputs": [
    {
     "data": {
      "text/plain": [
       "array(['1 YEAR', '3 MONTHS', '6 MONTHS', '3 DAYS', '1 WEEK', '4 MONTHS',\n",
       "       '2 WEEKS', '1 MONTH', '2 MONTHS', '3 WEEKS', '2 DAYS', 'DAILY'],\n",
       "      dtype=object)"
      ]
     },
     "execution_count": 63,
     "metadata": {},
     "output_type": "execute_result"
    }
   ],
   "source": [
    "copied_all_hydrants_df['FLSHFRE'].unique()"
   ]
  },
  {
   "cell_type": "code",
   "execution_count": 64,
   "id": "441783dd",
   "metadata": {},
   "outputs": [],
   "source": [
    "#TODO: Ella to cluster XCOORD and YCOORD, then delete these 2 columns from the dataset"
   ]
  },
  {
   "cell_type": "markdown",
   "id": "b28034ae-f5cb-4774-9798-b529eec9c7f2",
   "metadata": {
    "jp-MarkdownHeadingCollapsed": true
   },
   "source": [
    "#### Log Transformations\n",
    "To normalize the data"
   ]
  },
  {
   "cell_type": "code",
   "execution_count": 65,
   "id": "cd57316b-1c1a-447c-82ad-3c37edfa040a",
   "metadata": {},
   "outputs": [],
   "source": [
    "# import numpy as np\n",
    "# copied_flushing_history_df['FLSHVOL_log'] = (copied_flushing_history_df['FLSHVOL']+1).transform(np.log)"
   ]
  },
  {
   "cell_type": "code",
   "execution_count": 66,
   "id": "f0049dc0-3fe9-4ebc-b7e3-f4c0190bbcb3",
   "metadata": {},
   "outputs": [],
   "source": [
    "# copied_flushing_history_df['FLSHDUR_log'] = (copied_flushing_history_df['FLSHDUR']+1).transform(np.log)"
   ]
  },
  {
   "cell_type": "markdown",
   "id": "a73a54a8-22e7-44d1-838a-c77575cc3a9c",
   "metadata": {},
   "source": [
    "#### Binning"
   ]
  },
  {
   "cell_type": "code",
   "execution_count": 67,
   "id": "b1f22087",
   "metadata": {},
   "outputs": [],
   "source": [
    "#TODO: Jordan: Clean up the values in MODEL column (group those that are of similar values but in different forms) & fill the null value with UNKNOWN"
   ]
  },
  {
   "cell_type": "code",
   "execution_count": 68,
   "id": "938bb69f-8097-4637-be99-9f4d7345fd0e",
   "metadata": {},
   "outputs": [
    {
     "name": "stdout",
     "output_type": "stream",
     "text": [
      "      AREA Letters\n",
      "65     B31       B\n",
      "76     B31       B\n",
      "126    B31       B\n",
      "138    B06       B\n",
      "139    B12       B\n",
      "...    ...     ...\n",
      "40336  C36       C\n",
      "40502  B34       B\n",
      "40503  B34       B\n",
      "40504  B34       B\n",
      "40543  B34       B\n",
      "\n",
      "[2211 rows x 2 columns]\n"
     ]
    }
   ],
   "source": [
    "# Loading your data into a DataFrame\n",
    "# df = pd.read_csv(\"Qry_AllHY.csv\")\n",
    "\n",
    "# Extracting only the letters from the AREA column\n",
    "copied_all_hydrants_df['Letters'] = copied_all_hydrants_df['AREA'].str.extract(r'([A-Za-z]+)', expand=False)\n",
    "\n",
    "# Displaying the resulting DataFrame with only the letters\n",
    "print(copied_all_hydrants_df[['AREA', 'Letters']])"
   ]
  },
  {
   "cell_type": "code",
   "execution_count": 69,
   "id": "1cbdddf4-d5a9-4986-b749-29293a599caa",
   "metadata": {},
   "outputs": [
    {
     "data": {
      "text/html": [
       "<div>\n",
       "<style scoped>\n",
       "    .dataframe tbody tr th:only-of-type {\n",
       "        vertical-align: middle;\n",
       "    }\n",
       "\n",
       "    .dataframe tbody tr th {\n",
       "        vertical-align: top;\n",
       "    }\n",
       "\n",
       "    .dataframe thead th {\n",
       "        text-align: right;\n",
       "    }\n",
       "</style>\n",
       "<table border=\"1\" class=\"dataframe\">\n",
       "  <thead>\n",
       "    <tr style=\"text-align: right;\">\n",
       "      <th></th>\n",
       "      <th>AREA</th>\n",
       "      <th>COLOR</th>\n",
       "      <th>IMSRO_COMPHY_COMPKEY</th>\n",
       "      <th>FEEDERDIAM</th>\n",
       "      <th>FEEDERLEN</th>\n",
       "      <th>FEEDERTYPE</th>\n",
       "      <th>INSTDATE</th>\n",
       "      <th>LOC</th>\n",
       "      <th>MAINKEY</th>\n",
       "      <th>MFGKEY</th>\n",
       "      <th>...</th>\n",
       "      <th>PRESSMAX</th>\n",
       "      <th>FIRFLGPM</th>\n",
       "      <th>OUTELEVN</th>\n",
       "      <th>MDLRESRD</th>\n",
       "      <th>XCOORD_float</th>\n",
       "      <th>YCOORD_float</th>\n",
       "      <th>Latitude</th>\n",
       "      <th>Longitude</th>\n",
       "      <th>Geo_Cluster</th>\n",
       "      <th>Letters</th>\n",
       "    </tr>\n",
       "  </thead>\n",
       "  <tbody>\n",
       "    <tr>\n",
       "      <th>35891</th>\n",
       "      <td>NaN</td>\n",
       "      <td>BLUE</td>\n",
       "      <td>943278</td>\n",
       "      <td>150.0</td>\n",
       "      <td>2.0</td>\n",
       "      <td>PVC</td>\n",
       "      <td>2015-03-21</td>\n",
       "      <td>0168</td>\n",
       "      <td>518558</td>\n",
       "      <td>1012</td>\n",
       "      <td>...</td>\n",
       "      <td>88.98725</td>\n",
       "      <td>3516.72</td>\n",
       "      <td>0.0</td>\n",
       "      <td>NaN</td>\n",
       "      <td>604425.0</td>\n",
       "      <td>4818923.4</td>\n",
       "      <td>43.515949</td>\n",
       "      <td>-121.707986</td>\n",
       "      <td>0</td>\n",
       "      <td>NaN</td>\n",
       "    </tr>\n",
       "  </tbody>\n",
       "</table>\n",
       "<p>1 rows × 51 columns</p>\n",
       "</div>"
      ],
      "text/plain": [
       "      AREA COLOR  IMSRO_COMPHY_COMPKEY  FEEDERDIAM  FEEDERLEN FEEDERTYPE  \\\n",
       "35891  NaN  BLUE                943278       150.0        2.0        PVC   \n",
       "\n",
       "         INSTDATE   LOC  MAINKEY  MFGKEY  ...  PRESSMAX  FIRFLGPM  OUTELEVN  \\\n",
       "35891  2015-03-21  0168   518558    1012  ...  88.98725   3516.72       0.0   \n",
       "\n",
       "       MDLRESRD XCOORD_float YCOORD_float   Latitude   Longitude  Geo_Cluster  \\\n",
       "35891       NaN     604425.0    4818923.4  43.515949 -121.707986            0   \n",
       "\n",
       "       Letters  \n",
       "35891      NaN  \n",
       "\n",
       "[1 rows x 51 columns]"
      ]
     },
     "execution_count": 69,
     "metadata": {},
     "output_type": "execute_result"
    }
   ],
   "source": [
    "copied_all_hydrants_df[copied_all_hydrants_df['Letters'].isnull()]"
   ]
  },
  {
   "cell_type": "code",
   "execution_count": 71,
   "id": "47e586d3-0078-44fb-8b78-77b2e74c0f62",
   "metadata": {},
   "outputs": [],
   "source": [
    "# Imputing the missing value with the most suitable value based on \n",
    "copied_all_hydrants_df['Letters'] = copied_all_hydrants_df['Letters'].fillna(\"S\")"
   ]
  },
  {
   "cell_type": "markdown",
   "id": "1fec542d-fb92-4a3d-b0e3-65472cb21008",
   "metadata": {},
   "source": [
    "#### One Hot Encoding"
   ]
  },
  {
   "cell_type": "markdown",
   "id": "d0d34731",
   "metadata": {},
   "source": [
    "One-hot encoding the letters"
   ]
  },
  {
   "cell_type": "code",
   "execution_count": 72,
   "id": "3c79b9ff",
   "metadata": {},
   "outputs": [
    {
     "name": "stdout",
     "output_type": "stream",
     "text": [
      "Original DataFrame with extracted letters and one-hot encoded columns:\n",
      "    AREA   COLOR  IMSRO_COMPHY_COMPKEY  FEEDERDIAM  FEEDERLEN FEEDERTYPE  \\\n",
      "65   B31    BLUE                1673.0         0.0        1.4        NaN   \n",
      "76   B31    BLUE                1696.0         0.0        1.1        NaN   \n",
      "126  B31    BLUE                2847.0         0.0        1.1        NaN   \n",
      "138  B06  ORANGE                2863.0         0.0        3.0        NaN   \n",
      "139  B12    BLUE                2864.0         0.0        1.0        NaN   \n",
      "\n",
      "    INSTDATE   LOC   MAINKEY  MFGKEY  ... MDLRESRD  XCOORD_float  \\\n",
      "65       NaN  1031  526297.0  1012.0  ...   1.1133     597828.69   \n",
      "76       NaN  1145  754390.0  1022.0  ...   1.2633     596099.18   \n",
      "126      NaN  1058  762853.0  1012.0  ...   1.1568     596309.85   \n",
      "138      NaN  0641  512055.0  1009.0  ...   0.7842     602040.45   \n",
      "139      NaN  0821  716655.0  1022.0  ...   1.0406     603629.16   \n",
      "\n",
      "     YCOORD_float   Latitude   Longitude Geo_Cluster Letters Letters_B  \\\n",
      "65     4841977.83  43.724380 -121.785410         0.0       B       1.0   \n",
      "76     4844170.61  43.744345 -121.806486         0.0       B       1.0   \n",
      "126    4841454.28  43.719866 -121.804357         0.0       B       1.0   \n",
      "138    4833238.58  43.645143 -121.734786         0.0       B       1.0   \n",
      "139    4841098.82  43.715680 -121.713581         0.0       B       1.0   \n",
      "\n",
      "     Letters_C  Letters_S  \n",
      "65         0.0        0.0  \n",
      "76         0.0        0.0  \n",
      "126        0.0        0.0  \n",
      "138        0.0        0.0  \n",
      "139        0.0        0.0  \n",
      "\n",
      "[5 rows x 54 columns]\n"
     ]
    }
   ],
   "source": [
    "from sklearn.preprocessing import OneHotEncoder\n",
    "from sklearn.decomposition import PCA\n",
    "\n",
    "# One-hot encoding the letters\n",
    "encoder = OneHotEncoder(sparse_output=False)\n",
    "encoded_letters = encoder.fit_transform(copied_all_hydrants_df[['Letters']])\n",
    "encoded_letters_df = pd.DataFrame(encoded_letters, columns=encoder.get_feature_names_out(['Letters']))\n",
    "\n",
    "# Combining the original DataFrame with the encoded letters\n",
    "copied_all_hydrants_df = pd.concat([copied_all_hydrants_df, encoded_letters_df], axis=1)\n",
    "\n",
    "# Displaying the resulting DataFrame to ensure the columns are included\n",
    "print(\"Original DataFrame with extracted letters and one-hot encoded columns:\\n\")\n",
    "print(copied_all_hydrants_df.head())"
   ]
  },
  {
   "cell_type": "markdown",
   "id": "2aeb5ef3",
   "metadata": {},
   "source": [
    "#### PCA to reduce dimensions"
   ]
  },
  {
   "cell_type": "markdown",
   "id": "0961565d",
   "metadata": {},
   "source": [
    "Performing PCA on the one-hot encoded letters"
   ]
  },
  {
   "cell_type": "code",
   "execution_count": null,
   "id": "ea00ad4f",
   "metadata": {},
   "outputs": [],
   "source": [
    "# Performing PCA on the one-hot encoded letters\n",
    "pca = PCA(n_components=2)  # Number of components to keep\n",
    "principal_components = pca.fit_transform(encoded_letters_df)\n",
    "\n",
    "# Creating a DataFrame with the principal components\n",
    "principal_df = pd.DataFrame(data=principal_components, columns=['Principal Component 1', 'Principal Component 2'])\n",
    "\n",
    "# Combining the original DataFrame with the principal components\n",
    "df_combined = pd.concat([df, principal_df], axis=1)\n",
    "\n",
    "# Displaying the resulting DataFrame\n",
    "print(df_combined.head(50))"
   ]
  },
  {
   "cell_type": "markdown",
   "id": "941d3c8d-8e8d-40ec-a64d-f5daed7ee355",
   "metadata": {},
   "source": [
    "#### Extracting Dates\n",
    "Converting date columns to datetime and extracting the year"
   ]
  },
  {
   "cell_type": "code",
   "execution_count": null,
   "id": "648995b5",
   "metadata": {},
   "outputs": [],
   "source": [
    "# List of date columns\n",
    "date_columns = ['INSTDATE', 'EXPDATE', 'ADDDTTM', 'MODDTTM', 'LASTINSP', 'LASTWINT']\n",
    "\n",
    "# Converting date columns to datetime and extracting the year\n",
    "for column in date_columns:\n",
    "    copied_all_hy_df[column] = pd.to_datetime(copied_all_hy_df[column], errors='coerce').dt.year\n",
    "\n",
    "# Displaying the resulting DataFrame\n",
    "print(copied_all_hy_df[date_columns].head())"
   ]
  },
  {
   "cell_type": "markdown",
   "id": "61739fc2",
   "metadata": {},
   "source": [
    "Converting installation date into an age\n"
   ]
  },
  {
   "cell_type": "code",
   "execution_count": null,
   "id": "1ef5f7a7-f603-4a80-8708-f94c12b36952",
   "metadata": {},
   "outputs": [],
   "source": [
    "from datetime import datetime\n",
    "\n",
    "# Get the current year\n",
    "current_year = datetime.now().year\n",
    "\n",
    "# Calculate the age\n",
    "copied_all_hy_df['AGE'] = current_year - copied_all_hy_df['INSTDATE']\n",
    "\n",
    "# If INSTDATE was missing, AGE will be NaN\n",
    "copied_all_hy_df['AGE'] = copied_all_hy_df['AGE'].fillna(-1)  # Filling with -1 to indicate missing ages, you can choose other strategies\n",
    "\n",
    "print(copied_all_hy_df[['INSTDATE', 'AGE']].head(100))"
   ]
  },
  {
   "cell_type": "markdown",
   "id": "c1d2f098",
   "metadata": {},
   "source": [
    "Converting Flushing Frequency"
   ]
  },
  {
   "cell_type": "code",
   "execution_count": null,
   "id": "94ddc6bf",
   "metadata": {},
   "outputs": [],
   "source": [
    "def convert_to_days(frequency):\n",
    "    if pd.isna(frequency):\n",
    "        return None\n",
    "    frequency = frequency.upper().strip()\n",
    "    if 'DAY' in frequency:\n",
    "        return int(frequency.split()[0])\n",
    "    elif 'DAILY' in frequency:\n",
    "        return 1\n",
    "    elif 'WEEK' in frequency:\n",
    "        return int(frequency.split()[0]) * 7\n",
    "    elif 'MONTH' in frequency:\n",
    "        return int(frequency.split()[0]) * 30\n",
    "    elif 'YEAR' in frequency:\n",
    "        return int(frequency.split()[0]) * 365\n",
    "    else:\n",
    "        return None  # For any unknown frequency format\n",
    "\n",
    "# Apply the conversion function\n",
    "copied_all_hy_df['FLSHFRE_DAYS'] = copied_all_hy_df['FLSHFRE'].apply(convert_to_days)\n",
    "print(copied_all_hy_df[['FLSHFRE', 'FLSHFRE_DAYS']].head())\n",
    "\n",
    "print(copied_all_hy_df['FLSHFRE_DAYS'].unique())\n",
    "print(copied_all_hy_df['FLSHFRE'].unique())"
   ]
  },
  {
   "cell_type": "code",
   "execution_count": null,
   "id": "7afd2fb3",
   "metadata": {},
   "outputs": [],
   "source": [
    "#TODO: Ella + Jordan: For INSTDATE: Convert year 9999 to null, then see whether we can use the ADDDTTM and/or the first time a hydrant was flushed in the history table to fill this info in. After filling in the info, delete ADDTTM\n",
    "# Then calculate the age of the asset and delete INSTDATE column"
   ]
  },
  {
   "cell_type": "markdown",
   "id": "8e1ac614-1a54-4777-98b8-e5f77be8480c",
   "metadata": {},
   "source": [
    "### Merging the datasets\n",
    "\n",
    "Using the COMPKEY column from both datasets to merge the datasets together"
   ]
  },
  {
   "cell_type": "code",
   "execution_count": null,
   "id": "8c015994",
   "metadata": {},
   "outputs": [],
   "source": [
    "#TODO: Ayan to find the right column to merge the 2 datasets. After merging, delete all the ...KEY columns (identification columns) in the merge df\n",
    "# Renaming the column so that the name is the same in both datasets\n",
    "copied_all_hydrants_df.rename(columns={'IMSRO_COMPHY_COMPKEY': 'COMPKEY'}, inplace=True)"
   ]
  },
  {
   "cell_type": "code",
   "execution_count": null,
   "id": "47627837-a485-441e-a615-7e95788e97ed",
   "metadata": {},
   "outputs": [],
   "source": [
    "# Merging the DataFrames based on the 'COMPKEY' column - similar to a SQL left outer join\n",
    "merged_df = pd.merge(copied_all_hydrants_df, copied_flushing_history_df, on='COMPKEY', how='right', indicator=True)\n",
    "\n",
    "# Removing the COMPKEY column now that we don't need it\n",
    "merged_df.drop(['COMPKEY'], axis=1, inplace=True)\n",
    "\n",
    "# Save the result to a new Excel file\n",
    "merged_df.to_excel('merged_dataset.xlsx', index=False)"
   ]
  },
  {
   "cell_type": "markdown",
   "id": "1d2fc75d-4af4-4936-beb7-2005e66dacf2",
   "metadata": {},
   "source": [
    "### Feature Selection\n",
    "Using mutual Information"
   ]
  },
  {
   "cell_type": "code",
   "execution_count": null,
   "id": "f03d3270-1d6d-4876-b6dd-5f325e0847ad",
   "metadata": {},
   "outputs": [],
   "source": [
    "from sklearn.feature_selection import mutual_info_classif"
   ]
  },
  {
   "cell_type": "markdown",
   "id": "38fa1f73-8bf4-4138-9282-25ca1997024c",
   "metadata": {
    "jp-MarkdownHeadingCollapsed": true
   },
   "source": [
    "#### Numerical Feature Selection\n",
    "Using Pearson's correlation coefficient"
   ]
  },
  {
   "cell_type": "markdown",
   "id": "9ab9ce51",
   "metadata": {},
   "source": [
    "### Splitting the data into training and testing sets"
   ]
  },
  {
   "cell_type": "code",
   "execution_count": null,
   "id": "26b287f9-105c-47eb-b325-d6fd8479eb61",
   "metadata": {},
   "outputs": [],
   "source": [
    "# The class to split the data into training and testing sets\n",
    "from sklearn.model_selection import train_test_split\n",
    "# Separating the dataset by features (independent variables) and target (dependent variable)\n",
    "# x = merged_df[]\n",
    "# y = merged_df['FLSHFRE']"
   ]
  },
  {
   "cell_type": "code",
   "execution_count": null,
   "id": "55656063-dfbd-429e-9374-8437ea2b7152",
   "metadata": {},
   "outputs": [],
   "source": [
    "# Separating each of X and Y datasets into training and testing sets\n",
    "# Fraction of data to be used for testing; the rest is to be used for training\n",
    "test_size = 0.3\n",
    "random_state = 42\n",
    "\n",
    "x_train, x_test, y_train, y_test = train_test_split(x, y, test_size=test_size, random_state=random_state)"
   ]
  },
  {
   "cell_type": "markdown",
   "id": "5c0557c2-545d-4a65-a65d-ded2646ce61a",
   "metadata": {},
   "source": [
    "### Scaling the data"
   ]
  },
  {
   "cell_type": "code",
   "execution_count": null,
   "id": "84642958-4a42-4b4d-b8a9-62fdc52cc2c9",
   "metadata": {},
   "outputs": [],
   "source": [
    "# Importing the class to use for scaling the data\n",
    "from sklearn.preprocessing import MinMaxScaler\n",
    "\n",
    "# Instantiating a MinMaxScaler object\n",
    "scaler = MinMaxScaler()\n",
    "# Fitting the scaler to the training features\n",
    "scaler.fit(x_train)\n",
    "# Scaling the training and testing features\n",
    "x_train = scaler.transform(x_train)\n",
    "x_test = scaler.transform(x_test)"
   ]
  },
  {
   "cell_type": "markdown",
   "id": "b684b1eb-5933-4af9-8f1c-0f45773e3376",
   "metadata": {},
   "source": [
    "# Training the Model"
   ]
  },
  {
   "cell_type": "markdown",
   "id": "efa356e2",
   "metadata": {},
   "source": [
    "## Model 1: Linear Regression"
   ]
  },
  {
   "cell_type": "code",
   "execution_count": null,
   "id": "50b6ecbc-f36c-4a88-94c6-8b5e563d4e3c",
   "metadata": {},
   "outputs": [],
   "source": [
    "from sklearn.linear_model import LinearRegression"
   ]
  },
  {
   "cell_type": "markdown",
   "id": "f12c0241-18cd-4b11-88b8-ab5d7fbe4134",
   "metadata": {},
   "source": [
    "### Hyperparameter Optimization"
   ]
  },
  {
   "cell_type": "code",
   "execution_count": null,
   "id": "ac8c7bc2-e583-4eb5-9190-6acb8546f000",
   "metadata": {},
   "outputs": [],
   "source": [
    "# Framework for autonomous hyperparameter optimization\n",
    "import optuna"
   ]
  },
  {
   "cell_type": "markdown",
   "id": "7e8debb8",
   "metadata": {},
   "source": [
    "## Model 2: XGBoost Regression"
   ]
  },
  {
   "cell_type": "code",
   "execution_count": null,
   "id": "8b0eb7ac-b5a3-4958-9db5-038fe13bc281",
   "metadata": {},
   "outputs": [],
   "source": [
    "from xgboost import XGBRegressor"
   ]
  },
  {
   "cell_type": "markdown",
   "id": "7d190453-7e9f-4a85-bcbf-894078675578",
   "metadata": {},
   "source": [
    "### Hyperparameter Optimization"
   ]
  },
  {
   "cell_type": "code",
   "execution_count": null,
   "id": "48a22b76-8161-4d64-b15f-40077ea95760",
   "metadata": {},
   "outputs": [],
   "source": []
  },
  {
   "cell_type": "markdown",
   "id": "544c7749",
   "metadata": {},
   "source": [
    "## Model 3: Support Vector Regression"
   ]
  },
  {
   "cell_type": "code",
   "execution_count": null,
   "id": "37e8de0e-aa9c-408c-8231-1dcb223912e4",
   "metadata": {},
   "outputs": [],
   "source": [
    "from sklearn.svm import SVR"
   ]
  },
  {
   "cell_type": "markdown",
   "id": "6657c137-4c49-4c0d-b925-7eb4d17e4da1",
   "metadata": {},
   "source": [
    "### Hyperparameter Optimization"
   ]
  },
  {
   "cell_type": "code",
   "execution_count": null,
   "id": "b717c4ef-f357-4923-831a-ca458682c4ee",
   "metadata": {},
   "outputs": [],
   "source": []
  },
  {
   "cell_type": "markdown",
   "id": "673caf05-d1b0-456f-b8a1-e90b6d9d7449",
   "metadata": {},
   "source": [
    "## Model 4: Decision Tree Regression"
   ]
  },
  {
   "cell_type": "code",
   "execution_count": null,
   "id": "6d51131e-2a0c-40eb-9f59-e779a2adf998",
   "metadata": {},
   "outputs": [],
   "source": [
    "from sklearn.tree import DecisionTreeRegressor"
   ]
  },
  {
   "cell_type": "markdown",
   "id": "ea0a0f37-25f1-4270-ad14-c9c513de5673",
   "metadata": {},
   "source": [
    "### Hyperparameter Optimization"
   ]
  },
  {
   "cell_type": "code",
   "execution_count": null,
   "id": "0752f113-83f0-42a6-abdb-05f3779daf3d",
   "metadata": {},
   "outputs": [],
   "source": []
  },
  {
   "cell_type": "markdown",
   "id": "1e980389",
   "metadata": {},
   "source": [
    "# Result Comparison"
   ]
  },
  {
   "cell_type": "markdown",
   "id": "aca3606c-9c47-4ed5-a176-bc3912af1a4e",
   "metadata": {},
   "source": [
    "## Comparing MSE (mean squared error)"
   ]
  },
  {
   "cell_type": "markdown",
   "id": "0e833cd5-e346-40d7-ac1c-d8cf0ec8471d",
   "metadata": {
    "jp-MarkdownHeadingCollapsed": true
   },
   "source": [
    "## Consider adjusting the train-test split for better results"
   ]
  },
  {
   "cell_type": "markdown",
   "id": "04269648-2d54-432a-a049-14da4abe0776",
   "metadata": {},
   "source": [
    "# Testing the Model"
   ]
  },
  {
   "cell_type": "code",
   "execution_count": null,
   "id": "5d1734d9-891e-4b5e-85fe-614beda54945",
   "metadata": {},
   "outputs": [],
   "source": []
  }
 ],
 "metadata": {
  "dependencies": {
   "lakehouse": {
    "default_lakehouse": "2580adb5-704c-444f-8038-daf0f6595eb6",
    "default_lakehouse_name": "EllaTesting",
    "default_lakehouse_workspace_id": "a8f3554f-0417-4db4-bf3d-627a7a3da2c5"
   }
  },
  "kernel_info": {
   "name": "synapse_pyspark"
  },
  "kernelspec": {
   "display_name": "Python 3 (ipykernel)",
   "language": "python",
   "name": "python3"
  },
  "language_info": {
   "codemirror_mode": {
    "name": "ipython",
    "version": 3
   },
   "file_extension": ".py",
   "mimetype": "text/x-python",
   "name": "python",
   "nbconvert_exporter": "python",
   "pygments_lexer": "ipython3",
   "version": "3.10.11"
  },
  "microsoft": {
   "language": "python",
   "language_group": "synapse_pyspark",
   "ms_spell_check": {
    "ms_spell_check_language": "en"
   }
  },
  "nteract": {
   "version": "nteract-front-end@1.0.0"
  },
  "spark_compute": {
   "compute_id": "/trident/default"
  },
  "widgets": {}
 },
 "nbformat": 4,
 "nbformat_minor": 5
}
