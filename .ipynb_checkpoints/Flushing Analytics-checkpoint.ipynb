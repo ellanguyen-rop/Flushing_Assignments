{
 "cells": [
  {
   "cell_type": "markdown",
   "id": "6d9b011a-a83b-4b45-8f8e-a0c8e2d6ff0b",
   "metadata": {
    "jp-MarkdownHeadingCollapsed": true,
    "nteract": {
     "transient": {
      "deleting": false
     }
    }
   },
   "source": [
    "# ****FLUSHING ANALYTICS****\n"
   ]
  },
  {
   "cell_type": "markdown",
   "id": "a53669f1-b6c4-4b27-9160-af4070c835f4",
   "metadata": {
    "jp-MarkdownHeadingCollapsed": true
   },
   "source": [
    "# Installing Dependencies"
   ]
  },
  {
   "cell_type": "code",
   "execution_count": 12,
   "id": "f1ab0c63-1cd9-4a7b-81c3-e133a0dd98bd",
   "metadata": {
    "collapsed": false,
    "jupyter": {
     "outputs_hidden": false,
     "source_hidden": false
    },
    "microsoft": {
     "language": "python",
     "language_group": "synapse_pyspark"
    },
    "nteract": {
     "transient": {
      "deleting": false
     }
    },
    "scrolled": true
   },
   "outputs": [
    {
     "name": "stdout",
     "output_type": "stream",
     "text": [
      "Requirement already satisfied: pandas in c:\\users\\17561\\appdata\\local\\programs\\python\\python312\\lib\\site-packages (2.2.2)\n",
      "Requirement already satisfied: numpy>=1.26.0 in c:\\users\\17561\\appdata\\local\\programs\\python\\python312\\lib\\site-packages (from pandas) (2.0.0)\n",
      "Requirement already satisfied: python-dateutil>=2.8.2 in c:\\users\\17561\\appdata\\roaming\\python\\python312\\site-packages (from pandas) (2.9.0.post0)\n",
      "Requirement already satisfied: pytz>=2020.1 in c:\\users\\17561\\appdata\\local\\programs\\python\\python312\\lib\\site-packages (from pandas) (2024.1)\n",
      "Requirement already satisfied: tzdata>=2022.7 in c:\\users\\17561\\appdata\\local\\programs\\python\\python312\\lib\\site-packages (from pandas) (2024.1)\n",
      "Requirement already satisfied: six>=1.5 in c:\\users\\17561\\appdata\\roaming\\python\\python312\\site-packages (from python-dateutil>=2.8.2->pandas) (1.16.0)\n",
      "Note: you may need to restart the kernel to use updated packages.\n"
     ]
    },
    {
     "name": "stderr",
     "output_type": "stream",
     "text": [
      "\n",
      "[notice] A new release of pip is available: 24.0 -> 24.1.2\n",
      "[notice] To update, run: python.exe -m pip install --upgrade pip\n"
     ]
    },
    {
     "name": "stdout",
     "output_type": "stream",
     "text": [
      "Requirement already satisfied: pyproj in c:\\users\\17561\\appdata\\local\\programs\\python\\python312\\lib\\site-packages (3.6.1)\n",
      "Requirement already satisfied: certifi in c:\\users\\17561\\appdata\\local\\programs\\python\\python312\\lib\\site-packages (from pyproj) (2024.7.4)\n",
      "Note: you may need to restart the kernel to use updated packages.\n"
     ]
    },
    {
     "name": "stderr",
     "output_type": "stream",
     "text": [
      "\n",
      "[notice] A new release of pip is available: 24.0 -> 24.1.2\n",
      "[notice] To update, run: python.exe -m pip install --upgrade pip\n"
     ]
    },
    {
     "name": "stdout",
     "output_type": "stream",
     "text": [
      "Requirement already satisfied: scikit-learn in c:\\users\\17561\\appdata\\local\\programs\\python\\python312\\lib\\site-packages (1.5.1)\n",
      "Requirement already satisfied: numpy>=1.19.5 in c:\\users\\17561\\appdata\\local\\programs\\python\\python312\\lib\\site-packages (from scikit-learn) (2.0.0)\n",
      "Requirement already satisfied: scipy>=1.6.0 in c:\\users\\17561\\appdata\\local\\programs\\python\\python312\\lib\\site-packages (from scikit-learn) (1.14.0)\n",
      "Requirement already satisfied: joblib>=1.2.0 in c:\\users\\17561\\appdata\\local\\programs\\python\\python312\\lib\\site-packages (from scikit-learn) (1.4.2)\n",
      "Requirement already satisfied: threadpoolctl>=3.1.0 in c:\\users\\17561\\appdata\\local\\programs\\python\\python312\\lib\\site-packages (from scikit-learn) (3.5.0)\n",
      "Note: you may need to restart the kernel to use updated packages.\n"
     ]
    },
    {
     "name": "stderr",
     "output_type": "stream",
     "text": [
      "\n",
      "[notice] A new release of pip is available: 24.0 -> 24.1.2\n",
      "[notice] To update, run: python.exe -m pip install --upgrade pip\n"
     ]
    },
    {
     "name": "stdout",
     "output_type": "stream",
     "text": [
      "Requirement already satisfied: openpyxl in c:\\users\\17561\\appdata\\local\\programs\\python\\python312\\lib\\site-packages (3.1.5)\n",
      "Requirement already satisfied: et-xmlfile in c:\\users\\17561\\appdata\\local\\programs\\python\\python312\\lib\\site-packages (from openpyxl) (1.1.0)\n",
      "Note: you may need to restart the kernel to use updated packages.\n"
     ]
    },
    {
     "name": "stderr",
     "output_type": "stream",
     "text": [
      "\n",
      "[notice] A new release of pip is available: 24.0 -> 24.1.2\n",
      "[notice] To update, run: python.exe -m pip install --upgrade pip\n"
     ]
    },
    {
     "name": "stdout",
     "output_type": "stream",
     "text": [
      "Requirement already satisfied: matplotlib in c:\\users\\17561\\appdata\\local\\programs\\python\\python312\\lib\\site-packages (3.9.1)\n",
      "Requirement already satisfied: contourpy>=1.0.1 in c:\\users\\17561\\appdata\\local\\programs\\python\\python312\\lib\\site-packages (from matplotlib) (1.2.1)\n",
      "Requirement already satisfied: cycler>=0.10 in c:\\users\\17561\\appdata\\local\\programs\\python\\python312\\lib\\site-packages (from matplotlib) (0.12.1)\n",
      "Requirement already satisfied: fonttools>=4.22.0 in c:\\users\\17561\\appdata\\local\\programs\\python\\python312\\lib\\site-packages (from matplotlib) (4.53.1)\n",
      "Requirement already satisfied: kiwisolver>=1.3.1 in c:\\users\\17561\\appdata\\local\\programs\\python\\python312\\lib\\site-packages (from matplotlib) (1.4.5)\n",
      "Requirement already satisfied: numpy>=1.23 in c:\\users\\17561\\appdata\\local\\programs\\python\\python312\\lib\\site-packages (from matplotlib) (2.0.0)\n",
      "Requirement already satisfied: packaging>=20.0 in c:\\users\\17561\\appdata\\roaming\\python\\python312\\site-packages (from matplotlib) (24.1)\n",
      "Requirement already satisfied: pillow>=8 in c:\\users\\17561\\appdata\\local\\programs\\python\\python312\\lib\\site-packages (from matplotlib) (10.4.0)\n",
      "Requirement already satisfied: pyparsing>=2.3.1 in c:\\users\\17561\\appdata\\local\\programs\\python\\python312\\lib\\site-packages (from matplotlib) (3.1.2)\n",
      "Requirement already satisfied: python-dateutil>=2.7 in c:\\users\\17561\\appdata\\roaming\\python\\python312\\site-packages (from matplotlib) (2.9.0.post0)\n",
      "Requirement already satisfied: six>=1.5 in c:\\users\\17561\\appdata\\roaming\\python\\python312\\site-packages (from python-dateutil>=2.7->matplotlib) (1.16.0)\n",
      "Note: you may need to restart the kernel to use updated packages.\n"
     ]
    },
    {
     "name": "stderr",
     "output_type": "stream",
     "text": [
      "\n",
      "[notice] A new release of pip is available: 24.0 -> 24.1.2\n",
      "[notice] To update, run: python.exe -m pip install --upgrade pip\n"
     ]
    },
    {
     "name": "stdout",
     "output_type": "stream",
     "text": [
      "Collecting seaborn\n",
      "  Downloading seaborn-0.13.2-py3-none-any.whl.metadata (5.4 kB)\n",
      "Requirement already satisfied: numpy!=1.24.0,>=1.20 in c:\\users\\17561\\appdata\\local\\programs\\python\\python312\\lib\\site-packages (from seaborn) (2.0.0)\n",
      "Requirement already satisfied: pandas>=1.2 in c:\\users\\17561\\appdata\\local\\programs\\python\\python312\\lib\\site-packages (from seaborn) (2.2.2)\n",
      "Requirement already satisfied: matplotlib!=3.6.1,>=3.4 in c:\\users\\17561\\appdata\\local\\programs\\python\\python312\\lib\\site-packages (from seaborn) (3.9.1)\n",
      "Requirement already satisfied: contourpy>=1.0.1 in c:\\users\\17561\\appdata\\local\\programs\\python\\python312\\lib\\site-packages (from matplotlib!=3.6.1,>=3.4->seaborn) (1.2.1)\n",
      "Requirement already satisfied: cycler>=0.10 in c:\\users\\17561\\appdata\\local\\programs\\python\\python312\\lib\\site-packages (from matplotlib!=3.6.1,>=3.4->seaborn) (0.12.1)\n",
      "Requirement already satisfied: fonttools>=4.22.0 in c:\\users\\17561\\appdata\\local\\programs\\python\\python312\\lib\\site-packages (from matplotlib!=3.6.1,>=3.4->seaborn) (4.53.1)\n",
      "Requirement already satisfied: kiwisolver>=1.3.1 in c:\\users\\17561\\appdata\\local\\programs\\python\\python312\\lib\\site-packages (from matplotlib!=3.6.1,>=3.4->seaborn) (1.4.5)\n",
      "Requirement already satisfied: packaging>=20.0 in c:\\users\\17561\\appdata\\roaming\\python\\python312\\site-packages (from matplotlib!=3.6.1,>=3.4->seaborn) (24.1)\n",
      "Requirement already satisfied: pillow>=8 in c:\\users\\17561\\appdata\\local\\programs\\python\\python312\\lib\\site-packages (from matplotlib!=3.6.1,>=3.4->seaborn) (10.4.0)\n",
      "Requirement already satisfied: pyparsing>=2.3.1 in c:\\users\\17561\\appdata\\local\\programs\\python\\python312\\lib\\site-packages (from matplotlib!=3.6.1,>=3.4->seaborn) (3.1.2)\n",
      "Requirement already satisfied: python-dateutil>=2.7 in c:\\users\\17561\\appdata\\roaming\\python\\python312\\site-packages (from matplotlib!=3.6.1,>=3.4->seaborn) (2.9.0.post0)\n",
      "Requirement already satisfied: pytz>=2020.1 in c:\\users\\17561\\appdata\\local\\programs\\python\\python312\\lib\\site-packages (from pandas>=1.2->seaborn) (2024.1)\n",
      "Requirement already satisfied: tzdata>=2022.7 in c:\\users\\17561\\appdata\\local\\programs\\python\\python312\\lib\\site-packages (from pandas>=1.2->seaborn) (2024.1)\n",
      "Requirement already satisfied: six>=1.5 in c:\\users\\17561\\appdata\\roaming\\python\\python312\\site-packages (from python-dateutil>=2.7->matplotlib!=3.6.1,>=3.4->seaborn) (1.16.0)\n",
      "Downloading seaborn-0.13.2-py3-none-any.whl (294 kB)\n",
      "   ---------------------------------------- 0.0/294.9 kB ? eta -:--:--\n",
      "   - -------------------------------------- 10.2/294.9 kB ? eta -:--:--\n",
      "   ---- ---------------------------------- 30.7/294.9 kB 660.6 kB/s eta 0:00:01\n",
      "   ---------------------- ----------------- 163.8/294.9 kB 1.6 MB/s eta 0:00:01\n",
      "   -------------------------------------- - 286.7/294.9 kB 2.5 MB/s eta 0:00:01\n",
      "   ---------------------------------------- 294.9/294.9 kB 2.0 MB/s eta 0:00:00\n",
      "Installing collected packages: seaborn\n",
      "Successfully installed seaborn-0.13.2\n",
      "Note: you may need to restart the kernel to use updated packages.\n"
     ]
    },
    {
     "name": "stderr",
     "output_type": "stream",
     "text": [
      "\n",
      "[notice] A new release of pip is available: 24.0 -> 24.1.2\n",
      "[notice] To update, run: python.exe -m pip install --upgrade pip\n"
     ]
    }
   ],
   "source": [
    "%pip install pandas\n",
    "%pip install pyproj\n",
    "%pip install scikit-learn\n",
    "%pip install openpyxl\n",
    "%pip install matplotlib\n",
    "%pip install seaborn"
   ]
  },
  {
   "cell_type": "code",
   "execution_count": 1,
   "id": "2c5cc698-f219-48da-a0fd-4d8e25ef88ff",
   "metadata": {
    "scrolled": true
   },
   "outputs": [
    {
     "name": "stdout",
     "output_type": "stream",
     "text": [
      "Requirement already satisfied: optuna in c:\\users\\26154\\appdata\\local\\programs\\python\\python310\\lib\\site-packages (3.6.1)\n",
      "Requirement already satisfied: alembic>=1.5.0 in c:\\users\\26154\\appdata\\local\\programs\\python\\python310\\lib\\site-packages (from optuna) (1.13.2)\n",
      "Requirement already satisfied: colorlog in c:\\users\\26154\\appdata\\local\\programs\\python\\python310\\lib\\site-packages (from optuna) (6.8.2)\n",
      "Requirement already satisfied: numpy in c:\\users\\26154\\appdata\\local\\programs\\python\\python310\\lib\\site-packages (from optuna) (1.26.4)\n",
      "Requirement already satisfied: packaging>=20.0 in c:\\users\\26154\\appdata\\local\\programs\\python\\python310\\lib\\site-packages (from optuna) (24.1)\n",
      "Requirement already satisfied: sqlalchemy>=1.3.0 in c:\\users\\26154\\appdata\\local\\programs\\python\\python310\\lib\\site-packages (from optuna) (2.0.31)\n",
      "Requirement already satisfied: tqdm in c:\\users\\26154\\appdata\\local\\programs\\python\\python310\\lib\\site-packages (from optuna) (4.66.4)\n",
      "Requirement already satisfied: PyYAML in c:\\users\\26154\\appdata\\local\\programs\\python\\python310\\lib\\site-packages (from optuna) (6.0.1)\n",
      "Requirement already satisfied: Mako in c:\\users\\26154\\appdata\\local\\programs\\python\\python310\\lib\\site-packages (from alembic>=1.5.0->optuna) (1.3.5)\n",
      "Requirement already satisfied: typing-extensions>=4 in c:\\users\\26154\\appdata\\local\\programs\\python\\python310\\lib\\site-packages (from alembic>=1.5.0->optuna) (4.11.0)\n",
      "Requirement already satisfied: greenlet!=0.4.17 in c:\\users\\26154\\appdata\\local\\programs\\python\\python310\\lib\\site-packages (from sqlalchemy>=1.3.0->optuna) (3.0.3)\n",
      "Requirement already satisfied: colorama in c:\\users\\26154\\appdata\\local\\programs\\python\\python310\\lib\\site-packages (from colorlog->optuna) (0.4.6)\n",
      "Requirement already satisfied: MarkupSafe>=0.9.2 in c:\\users\\26154\\appdata\\local\\programs\\python\\python310\\lib\\site-packages (from Mako->alembic>=1.5.0->optuna) (2.1.5)\n",
      "Note: you may need to restart the kernel to use updated packages.\n"
     ]
    },
    {
     "name": "stderr",
     "output_type": "stream",
     "text": [
      "\n",
      "[notice] A new release of pip is available: 24.1.2 -> 24.2\n",
      "[notice] To update, run: python.exe -m pip install --upgrade pip\n"
     ]
    },
    {
     "name": "stdout",
     "output_type": "stream",
     "text": [
      "Requirement already satisfied: xgboost in c:\\users\\26154\\appdata\\local\\programs\\python\\python310\\lib\\site-packages (2.1.1)\n",
      "Requirement already satisfied: numpy in c:\\users\\26154\\appdata\\local\\programs\\python\\python310\\lib\\site-packages (from xgboost) (1.26.4)\n",
      "Requirement already satisfied: scipy in c:\\users\\26154\\appdata\\local\\programs\\python\\python310\\lib\\site-packages (from xgboost) (1.13.1)\n",
      "Note: you may need to restart the kernel to use updated packages.\n"
     ]
    },
    {
     "name": "stderr",
     "output_type": "stream",
     "text": [
      "\n",
      "[notice] A new release of pip is available: 24.1.2 -> 24.2\n",
      "[notice] To update, run: python.exe -m pip install --upgrade pip\n"
     ]
    }
   ],
   "source": [
    "%pip install optuna\n",
    "%pip install xgboost"
   ]
  },
  {
   "cell_type": "markdown",
   "id": "e5b8b28a-96d6-4a59-93b3-05d6ca472c0f",
   "metadata": {},
   "source": [
    "# Preparing the Data"
   ]
  },
  {
   "cell_type": "markdown",
   "id": "cee90e9b-f835-4faa-93b7-af6c4d81243c",
   "metadata": {},
   "source": [
    "## Loading and exploring the datasets"
   ]
  },
  {
   "cell_type": "code",
   "execution_count": 2,
   "id": "c8a29292-94e8-45d4-b23c-657292cb967b",
   "metadata": {
    "collapsed": false,
    "jupyter": {
     "outputs_hidden": false,
     "source_hidden": false
    },
    "microsoft": {
     "language": "python",
     "language_group": "synapse_pyspark"
    },
    "nteract": {
     "transient": {
      "deleting": false
     }
    }
   },
   "outputs": [
    {
     "name": "stderr",
     "output_type": "stream",
     "text": [
      "C:\\Users\\17561\\AppData\\Local\\Temp\\1\\ipykernel_18768\\881486883.py:20: DtypeWarning: Columns (33,50,57,91) have mixed types. Specify dtype option on import or set low_memory=False.\n",
      "  all_hydrants_df = pd.read_csv(all_hydrants_filepath)\n",
      "C:\\Users\\17561\\AppData\\Local\\Temp\\1\\ipykernel_18768\\881486883.py:21: DtypeWarning: Columns (0,4,5,15,23,24,63,64,65,66) have mixed types. Specify dtype option on import or set low_memory=False.\n",
      "  flushing_history_df = pd.read_csv(flushing_history_filepath)\n"
     ]
    }
   ],
   "source": [
    "# Importing dependencies\n",
    "import pandas as pd\n",
    "import matplotlib.pyplot as plt\n",
    "import numpy as np\n",
    "import copy\n",
    "\n",
    "from sklearn.model_selection import train_test_split\n",
    "from sklearn.linear_model import LinearRegression\n",
    "from sklearn.metrics import mean_squared_error as mse\n",
    "from pyproj import Proj, transform\n",
    "\n",
    "# file_path = '/EllaTesting/Files/Repairs_2018_2023.xlsx'\n",
    "\n",
    "# print(file_path)\n",
    "\n",
    "# Creating DataFrames from spreadsheets\n",
    "all_hydrants_filepath = \"Qry_AllHY.csv\"\n",
    "flushing_history_filepath = \"Qry_FlushHistory.csv\"\n",
    "\n",
    "all_hydrants_df = pd.read_csv(all_hydrants_filepath)\n",
    "flushing_history_df = pd.read_csv(flushing_history_filepath)"
   ]
  },
  {
   "cell_type": "markdown",
   "id": "cf8127dc",
   "metadata": {},
   "source": [
    "## Data Cleaning and Preprocessing"
   ]
  },
  {
   "cell_type": "markdown",
   "id": "591c3da6",
   "metadata": {},
   "source": [
    "### Data Cleaning - History Table"
   ]
  },
  {
   "cell_type": "code",
   "execution_count": 3,
   "id": "069a26ac-5e98-4c5b-91ff-451e1fce419d",
   "metadata": {
    "collapsed": false,
    "jupyter": {
     "outputs_hidden": false,
     "source_hidden": false
    },
    "microsoft": {
     "language": "python",
     "language_group": "synapse_pyspark"
    },
    "nteract": {
     "transient": {
      "deleting": false
     }
    }
   },
   "outputs": [],
   "source": [
    "# Creating a copy of the Flushing History DataFrame\n",
    "copied_flushing_history_df = copy.deepcopy(flushing_history_df)"
   ]
  },
  {
   "cell_type": "code",
   "execution_count": 4,
   "id": "c431e8b0",
   "metadata": {},
   "outputs": [],
   "source": [
    "#delete all unnecessary columns\n",
    "copied_flushing_history_df = copied_flushing_history_df.drop(columns={'FLSHTIME3', 'FLSHTIME4', 'FLSHTIME5', 'FLSHTIME6', 'FLSHTIME7', 'FLSHTIME8', 'FLSHTIME9', 'FLSHTIME10', 'FLSHTIME11', 'FLSHVOL1', 'FLSHVOL2', 'FLSHVOL3', 'FLSHVOL4', 'FLSHVOL5', 'FLSHVOL6', 'FLSHVOL7', 'FLSHVOL8', 'FLSHVOL9', 'FLSHVOL10', 'FLSHVOL11', 'CLFREE3', \n",
    "                                                                      'CLFREE4', 'CLFREE5', 'CLFREE6', 'CLFREE7', 'CLFREE8', 'CLFREE9', 'CLFREE10', 'CLFREE11', 'CLTOTL3', 'CLTOTL4', 'CLTOTL5', 'CLTOTL6', 'CLTOTL7', 'CLTOTL8', 'CLTOTL9', 'CLTOTL10', 'CLTOTL11', 'ADDBY', 'ADDDTTM', 'MODBY', 'MODDTTM', 'REMARKS', 'FLSHTIME', 'FLUSHNC', 'NFREASON',  \n",
    "                                                                      'CLTOTL1', 'CLTOTL2', 'CLTOTL', 'UNSCEHDLD',  'ALTERNATE'})"
   ]
  },
  {
   "cell_type": "code",
   "execution_count": 5,
   "id": "e807a4ff",
   "metadata": {},
   "outputs": [
    {
     "data": {
      "text/plain": [
       "(116808, 16)"
      ]
     },
     "execution_count": 5,
     "metadata": {},
     "output_type": "execute_result"
    }
   ],
   "source": [
    "copied_flushing_history_df.shape"
   ]
  },
  {
   "cell_type": "code",
   "execution_count": 6,
   "id": "0f81e1cb",
   "metadata": {},
   "outputs": [],
   "source": [
    "copied_flushing_history_df = copied_flushing_history_df.dropna(subset=['FLSHFRE', 'FLSHDATE', 'CLFREE', 'PHREAD', 'FLSHVOL', 'FLSHDUR', 'COMPKEY'])"
   ]
  },
  {
   "cell_type": "code",
   "execution_count": 7,
   "id": "116290fc",
   "metadata": {},
   "outputs": [
    {
     "data": {
      "text/plain": [
       "(112606, 16)"
      ]
     },
     "execution_count": 7,
     "metadata": {},
     "output_type": "execute_result"
    }
   ],
   "source": [
    "copied_flushing_history_df.shape"
   ]
  },
  {
   "cell_type": "code",
   "execution_count": 8,
   "id": "563090c3",
   "metadata": {},
   "outputs": [
    {
     "data": {
      "text/html": [
       "<div>\n",
       "<style scoped>\n",
       "    .dataframe tbody tr th:only-of-type {\n",
       "        vertical-align: middle;\n",
       "    }\n",
       "\n",
       "    .dataframe tbody tr th {\n",
       "        vertical-align: top;\n",
       "    }\n",
       "\n",
       "    .dataframe thead th {\n",
       "        text-align: right;\n",
       "    }\n",
       "</style>\n",
       "<table border=\"1\" class=\"dataframe\">\n",
       "  <thead>\n",
       "    <tr style=\"text-align: right;\">\n",
       "      <th></th>\n",
       "      <th>INSPKEY</th>\n",
       "      <th>GRIDKEY</th>\n",
       "      <th>FLSHFRE</th>\n",
       "      <th>FLSHDATE</th>\n",
       "      <th>CLFREE</th>\n",
       "      <th>PHREAD</th>\n",
       "      <th>FLSHVOL</th>\n",
       "      <th>FLSHDUR</th>\n",
       "      <th>INSPBY</th>\n",
       "      <th>CLFREE1</th>\n",
       "      <th>CLFREE2</th>\n",
       "      <th>WWNUM</th>\n",
       "      <th>COMMUN</th>\n",
       "      <th>COMPKEY</th>\n",
       "      <th>FLSHTIME1</th>\n",
       "      <th>FLSHTIME2</th>\n",
       "    </tr>\n",
       "  </thead>\n",
       "  <tbody>\n",
       "    <tr>\n",
       "      <th>6</th>\n",
       "      <td>965966</td>\n",
       "      <td>19046430</td>\n",
       "      <td>1 WEEK</td>\n",
       "      <td>2019-04-23</td>\n",
       "      <td>1.18</td>\n",
       "      <td>7.92</td>\n",
       "      <td>1.000</td>\n",
       "      <td>5.0</td>\n",
       "      <td>61535</td>\n",
       "      <td>NaN</td>\n",
       "      <td>NaN</td>\n",
       "      <td>WW220003993</td>\n",
       "      <td>CD</td>\n",
       "      <td>805425.0</td>\n",
       "      <td>NaN</td>\n",
       "      <td>NaN</td>\n",
       "    </tr>\n",
       "    <tr>\n",
       "      <th>7</th>\n",
       "      <td>972209</td>\n",
       "      <td>19048814</td>\n",
       "      <td>1 MONTH</td>\n",
       "      <td>2019-04-25</td>\n",
       "      <td>1.66</td>\n",
       "      <td>7.90</td>\n",
       "      <td>18.000</td>\n",
       "      <td>10.0</td>\n",
       "      <td>65673</td>\n",
       "      <td>1.67</td>\n",
       "      <td>NaN</td>\n",
       "      <td>WW220003993</td>\n",
       "      <td>CV</td>\n",
       "      <td>9876.0</td>\n",
       "      <td>15:05</td>\n",
       "      <td>NaN</td>\n",
       "    </tr>\n",
       "    <tr>\n",
       "      <th>8</th>\n",
       "      <td>972253</td>\n",
       "      <td>19048815</td>\n",
       "      <td>1 MONTH</td>\n",
       "      <td>2019-04-25</td>\n",
       "      <td>1.33</td>\n",
       "      <td>7.51</td>\n",
       "      <td>10.000</td>\n",
       "      <td>10.0</td>\n",
       "      <td>65673</td>\n",
       "      <td>1.30</td>\n",
       "      <td>NaN</td>\n",
       "      <td>WW260002590</td>\n",
       "      <td>CR</td>\n",
       "      <td>540642.0</td>\n",
       "      <td>09:55</td>\n",
       "      <td>NaN</td>\n",
       "    </tr>\n",
       "    <tr>\n",
       "      <th>9</th>\n",
       "      <td>965951</td>\n",
       "      <td>19048816</td>\n",
       "      <td>1 WEEK</td>\n",
       "      <td>2019-04-29</td>\n",
       "      <td>1.69</td>\n",
       "      <td>7.50</td>\n",
       "      <td>6.000</td>\n",
       "      <td>5.0</td>\n",
       "      <td>65673</td>\n",
       "      <td>NaN</td>\n",
       "      <td>NaN</td>\n",
       "      <td>WW260002590</td>\n",
       "      <td>CT</td>\n",
       "      <td>531455.0</td>\n",
       "      <td>NaN</td>\n",
       "      <td>NaN</td>\n",
       "    </tr>\n",
       "    <tr>\n",
       "      <th>10</th>\n",
       "      <td>965955</td>\n",
       "      <td>19048817</td>\n",
       "      <td>2 WEEKS</td>\n",
       "      <td>2019-04-30</td>\n",
       "      <td>1.67</td>\n",
       "      <td>7.86</td>\n",
       "      <td>10.000</td>\n",
       "      <td>10.0</td>\n",
       "      <td>65673</td>\n",
       "      <td>1.64</td>\n",
       "      <td>NaN</td>\n",
       "      <td>WW220003993</td>\n",
       "      <td>CV</td>\n",
       "      <td>541072.0</td>\n",
       "      <td>10:50</td>\n",
       "      <td>NaN</td>\n",
       "    </tr>\n",
       "    <tr>\n",
       "      <th>11</th>\n",
       "      <td>965950</td>\n",
       "      <td>19048818</td>\n",
       "      <td>1 WEEK</td>\n",
       "      <td>2019-04-30</td>\n",
       "      <td>0.72</td>\n",
       "      <td>8.09</td>\n",
       "      <td>23.000</td>\n",
       "      <td>15.0</td>\n",
       "      <td>65673</td>\n",
       "      <td>0.77</td>\n",
       "      <td>0.82</td>\n",
       "      <td>WW260094120</td>\n",
       "      <td>CB</td>\n",
       "      <td>528297.0</td>\n",
       "      <td>09:40</td>\n",
       "      <td>09:45</td>\n",
       "    </tr>\n",
       "    <tr>\n",
       "      <th>12</th>\n",
       "      <td>970581</td>\n",
       "      <td>19048819</td>\n",
       "      <td>2 WEEKS</td>\n",
       "      <td>2019-05-01</td>\n",
       "      <td>1.09</td>\n",
       "      <td>8.21</td>\n",
       "      <td>1.000</td>\n",
       "      <td>5.0</td>\n",
       "      <td>61535</td>\n",
       "      <td>NaN</td>\n",
       "      <td>NaN</td>\n",
       "      <td>WW260094120</td>\n",
       "      <td>CB</td>\n",
       "      <td>9986.0</td>\n",
       "      <td>NaN</td>\n",
       "      <td>NaN</td>\n",
       "    </tr>\n",
       "    <tr>\n",
       "      <th>13</th>\n",
       "      <td>970575</td>\n",
       "      <td>19048820</td>\n",
       "      <td>2 WEEKS</td>\n",
       "      <td>2019-05-01</td>\n",
       "      <td>1.11</td>\n",
       "      <td>8.31</td>\n",
       "      <td>1.000</td>\n",
       "      <td>5.0</td>\n",
       "      <td>61535</td>\n",
       "      <td>NaN</td>\n",
       "      <td>NaN</td>\n",
       "      <td>WW260094120</td>\n",
       "      <td>CCC</td>\n",
       "      <td>9263.0</td>\n",
       "      <td>NaN</td>\n",
       "      <td>NaN</td>\n",
       "    </tr>\n",
       "    <tr>\n",
       "      <th>14</th>\n",
       "      <td>965730</td>\n",
       "      <td>19048821</td>\n",
       "      <td>3 DAYS</td>\n",
       "      <td>2019-03-01</td>\n",
       "      <td>0.92</td>\n",
       "      <td>7.69</td>\n",
       "      <td>1.194</td>\n",
       "      <td>20.0</td>\n",
       "      <td>35832</td>\n",
       "      <td>NaN</td>\n",
       "      <td>NaN</td>\n",
       "      <td>WW260094120</td>\n",
       "      <td>B</td>\n",
       "      <td>7781.0</td>\n",
       "      <td>NaN</td>\n",
       "      <td>NaN</td>\n",
       "    </tr>\n",
       "    <tr>\n",
       "      <th>15</th>\n",
       "      <td>965730</td>\n",
       "      <td>19048822</td>\n",
       "      <td>3 DAYS</td>\n",
       "      <td>2019-04-30</td>\n",
       "      <td>0.42</td>\n",
       "      <td>7.89</td>\n",
       "      <td>5.000</td>\n",
       "      <td>13.0</td>\n",
       "      <td>68527</td>\n",
       "      <td>0.71</td>\n",
       "      <td>NaN</td>\n",
       "      <td>WW260094120</td>\n",
       "      <td>B</td>\n",
       "      <td>7781.0</td>\n",
       "      <td>07:40</td>\n",
       "      <td>NaN</td>\n",
       "    </tr>\n",
       "  </tbody>\n",
       "</table>\n",
       "</div>"
      ],
      "text/plain": [
       "    INSPKEY   GRIDKEY  FLSHFRE    FLSHDATE  CLFREE  PHREAD  FLSHVOL  FLSHDUR  \\\n",
       "6    965966  19046430   1 WEEK  2019-04-23    1.18    7.92    1.000      5.0   \n",
       "7    972209  19048814  1 MONTH  2019-04-25    1.66    7.90   18.000     10.0   \n",
       "8    972253  19048815  1 MONTH  2019-04-25    1.33    7.51   10.000     10.0   \n",
       "9    965951  19048816   1 WEEK  2019-04-29    1.69    7.50    6.000      5.0   \n",
       "10   965955  19048817  2 WEEKS  2019-04-30    1.67    7.86   10.000     10.0   \n",
       "11   965950  19048818   1 WEEK  2019-04-30    0.72    8.09   23.000     15.0   \n",
       "12   970581  19048819  2 WEEKS  2019-05-01    1.09    8.21    1.000      5.0   \n",
       "13   970575  19048820  2 WEEKS  2019-05-01    1.11    8.31    1.000      5.0   \n",
       "14   965730  19048821   3 DAYS  2019-03-01    0.92    7.69    1.194     20.0   \n",
       "15   965730  19048822   3 DAYS  2019-04-30    0.42    7.89    5.000     13.0   \n",
       "\n",
       "   INSPBY  CLFREE1  CLFREE2        WWNUM COMMUN   COMPKEY FLSHTIME1 FLSHTIME2  \n",
       "6   61535      NaN      NaN  WW220003993     CD  805425.0       NaN       NaN  \n",
       "7   65673     1.67      NaN  WW220003993     CV    9876.0     15:05       NaN  \n",
       "8   65673     1.30      NaN  WW260002590     CR  540642.0     09:55       NaN  \n",
       "9   65673      NaN      NaN  WW260002590     CT  531455.0       NaN       NaN  \n",
       "10  65673     1.64      NaN  WW220003993     CV  541072.0     10:50       NaN  \n",
       "11  65673     0.77     0.82  WW260094120     CB  528297.0     09:40     09:45  \n",
       "12  61535      NaN      NaN  WW260094120     CB    9986.0       NaN       NaN  \n",
       "13  61535      NaN      NaN  WW260094120    CCC    9263.0       NaN       NaN  \n",
       "14  35832      NaN      NaN  WW260094120      B    7781.0       NaN       NaN  \n",
       "15  68527     0.71      NaN  WW260094120      B    7781.0     07:40       NaN  "
      ]
     },
     "execution_count": 8,
     "metadata": {},
     "output_type": "execute_result"
    }
   ],
   "source": [
    "copied_flushing_history_df.head(10)"
   ]
  },
  {
   "cell_type": "code",
   "execution_count": 9,
   "id": "5faca8c1",
   "metadata": {},
   "outputs": [],
   "source": [
    "copied_flushing_history_df.to_csv('historycheck.csv', index=False)"
   ]
  },
  {
   "cell_type": "markdown",
   "id": "c69e8828-de7e-4b4f-817e-cb7ba2b04304",
   "metadata": {},
   "source": [
    "#### Imputing Missing Categorical Data"
   ]
  },
  {
   "cell_type": "code",
   "execution_count": 10,
   "id": "4d1c2199",
   "metadata": {},
   "outputs": [],
   "source": [
    "#TODO: Ayan: Use the COMPKEY to fill out the missing values in COMMUN\n",
    "# Sorting the DataFrame by COMPKEY, as there is a pattern between COMPKEY values and COMMUN values\n",
    "copied_flushing_history_df = copied_flushing_history_df.sort_values('COMPKEY')\n",
    "\n",
    "# Imputing every missing value with the value that came before it in the sorted DataFrame\n",
    "copied_flushing_history_df['COMMUN'] = copied_flushing_history_df['COMMUN'].ffill()"
   ]
  },
  {
   "cell_type": "markdown",
   "id": "78a25c66-6293-4199-9f02-545f2ec0030d",
   "metadata": {},
   "source": [
    "#### Imputing Missing Numerical Data"
   ]
  },
  {
   "cell_type": "code",
   "execution_count": null,
   "id": "e0a71888-026a-4d89-b68b-72ec7583a82c",
   "metadata": {},
   "outputs": [],
   "source": [
    "print(\"FLSHVOL:\")\n",
    "print(copied_flushing_history_df['FLSHVOL'].head(50))"
   ]
  },
  {
   "cell_type": "code",
   "execution_count": null,
   "id": "c8c13d87-0ffe-4eaf-bed4-dacc316b4c9b",
   "metadata": {},
   "outputs": [],
   "source": [
    "print(\"FLSHDUR:\")\n",
    "print(copied_flushing_history_df['FLSHDUR'].head(50))"
   ]
  },
  {
   "cell_type": "code",
   "execution_count": null,
   "id": "e208d753-0719-42f3-8973-4941c43ca51b",
   "metadata": {},
   "outputs": [],
   "source": [
    "copied_flushing_history_df"
   ]
  },
  {
   "cell_type": "code",
   "execution_count": null,
   "id": "746cb3ce-d106-429c-b402-cd1598d16a01",
   "metadata": {},
   "outputs": [],
   "source": [
    "# Imputing missing values in the FLSHVOL column with the median of the column\n",
    "copied_flushing_history_df['FLSHVOL'] = copied_flushing_history_df['FLSHVOL'].fillna(copied_flushing_history_df['FLSHVOL'].median())\n",
    "print(\"FLSHVOL (imputed):\")\n",
    "print(copied_flushing_history_df['FLSHVOL'].head(50))"
   ]
  },
  {
   "cell_type": "code",
   "execution_count": null,
   "id": "473dfcb5-05e1-41ec-87ed-81fe9d10496a",
   "metadata": {},
   "outputs": [],
   "source": [
    "# Imputing missing values in the FLSHVOL column with the median of the column\n",
    "copied_flushing_history_df['FLSHDUR'] = copied_flushing_history_df['FLSHDUR'].fillna(copied_flushing_history_df['FLSHDUR'].median())\n",
    "print(\"FLSHDUR (imputed):\")\n",
    "print(copied_flushing_history_df['FLSHDUR'].head(50))"
   ]
  },
  {
   "cell_type": "markdown",
   "id": "c6c9c8be-f715-453a-b47d-8ec1803aaa3f",
   "metadata": {},
   "source": [
    "#### Detecting and Replacing Outliers\n",
    "\n",
    "To mitigate bias in the model"
   ]
  },
  {
   "cell_type": "code",
   "execution_count": 13,
   "id": "6c61cef1",
   "metadata": {},
   "outputs": [],
   "source": [
    "# For visualizing the box and whisker plot\n",
    "import seaborn as sns\n",
    "\n",
    "# Replaces all outliers within a given column with the median of that column\n",
    "def replace_outliers(df, column):\n",
    "    # Creates a box and whisker plot to visualize data points that are considered to be outliers\n",
    "    sns.boxplot(df[column])\n",
    "    plt.title(f\"Original Box and Whisker Plot for {column}\")\n",
    "    plt.show()\n",
    "    \n",
    "    # Computing the first, second (median), and third quartiles\n",
    "    q1 = df[column].quantile(0.25)\n",
    "    q2 = df[column].quantile(0.5)\n",
    "    q3 = df[column].quantile(0.75)\n",
    "\n",
    "    print(f\"First quartile is {q1}\")\n",
    "    print(f\"Median is {q2}\")\n",
    "    print(f\"Third quartile is {q3}\")\n",
    "    \n",
    "    # Computing the interquartile range\n",
    "    iqr = q3 - q1\n",
    "\n",
    "    # Values that are lower than the lower fence or higher than the upper fence are considered to be outliers\n",
    "    lower_fence = q1 - (1.5 * iqr)\n",
    "    upper_fence = q3 + (1.5 * iqr)\n",
    "\n",
    "    print(f\"Lower fence is {lower_fence}\")\n",
    "    print(f\"Upper fence is {upper_fence}\")\n",
    "\n",
    "    # Replace outliers with the median\n",
    "    adjusted_column = [x if lower_fence <= x <= upper_fence else q2 for x in df[column]]\n",
    "    \n",
    "    # New box and whisker plot with outliers adjusted\n",
    "    sns.boxplot(adjusted_column)\n",
    "    plt.title(f\"New Box and Whisker Plot for {column}\")\n",
    "    plt.show()\n",
    "\n",
    "    return adjusted_column"
   ]
  },
  {
   "cell_type": "code",
   "execution_count": 14,
   "id": "97ac5e8c",
   "metadata": {},
   "outputs": [
    {
     "data": {
      "image/png": "[encoded data removed]",
      "text/plain": [
       "<Figure size 640x480 with 1 Axes>"
      ]
     },
     "metadata": {},
     "output_type": "display_data"
    },
    {
     "name": "stdout",
     "output_type": "stream",
     "text": [
      "First quartile is 5.0\n",
      "Median is 10.0\n",
      "Third quartile is 18.0\n",
      "Lower fence is -14.5\n",
      "Upper fence is 37.5\n"
     ]
    },
    {
     "data": {
      "image/png": "[encoded data removed]",
      "text/plain": [
       "<Figure size 640x480 with 1 Axes>"
      ]
     },
     "metadata": {},
     "output_type": "display_data"
    }
   ],
   "source": [
    "# Replacing outliers in the FLSHVOL column\n",
    "copied_flushing_history_df['FLSHVOL'] = replace_outliers(copied_flushing_history_df, 'FLSHVOL')"
   ]
  },
  {
   "cell_type": "code",
   "execution_count": 15,
   "id": "fecfea7d",
   "metadata": {},
   "outputs": [
    {
     "data": {
      "image/png": "[encoded data removed]",
      "text/plain": [
       "<Figure size 640x480 with 1 Axes>"
      ]
     },
     "metadata": {},
     "output_type": "display_data"
    },
    {
     "name": "stdout",
     "output_type": "stream",
     "text": [
      "First quartile is 10.0\n",
      "Median is 15.0\n",
      "Third quartile is 23.0\n",
      "Lower fence is -9.5\n",
      "Upper fence is 42.5\n"
     ]
    },
    {
     "data": {
      "image/png": "[encoded data removed]",
      "text/plain": [
       "<Figure size 640x480 with 1 Axes>"
      ]
     },
     "metadata": {},
     "output_type": "display_data"
    }
   ],
   "source": [
    "# Replacing outliers in the FLSHDUR column\n",
    "copied_flushing_history_df['FLSHDUR'] = replace_outliers(copied_flushing_history_df, 'FLSHDUR')"
   ]
  },
  {
   "cell_type": "markdown",
   "id": "1bbfb53d",
   "metadata": {},
   "source": [
    "### Data Cleaning - Hydrant Table"
   ]
  },
  {
   "cell_type": "code",
   "execution_count": 16,
   "id": "839c23eb-6269-4dd4-86ce-5c331080bbfa",
   "metadata": {
    "collapsed": false,
    "jupyter": {
     "outputs_hidden": false,
     "source_hidden": false
    },
    "microsoft": {
     "language": "python",
     "language_group": "synapse_pyspark"
    },
    "nteract": {
     "transient": {
      "deleting": false
     }
    }
   },
   "outputs": [],
   "source": [
    "# Creating a copy of the All Hydrants DataFrame\n",
    "copied_all_hydrants_df = copy.deepcopy(all_hydrants_df)"
   ]
  },
  {
   "cell_type": "code",
   "execution_count": 18,
   "id": "13d73105-14d9-4dd3-b45f-b2385183f7b3",
   "metadata": {
    "collapsed": false,
    "jupyter": {
     "outputs_hidden": false,
     "source_hidden": false
    },
    "microsoft": {
     "language": "python",
     "language_group": "synapse_pyspark"
    },
    "nteract": {
     "transient": {
      "deleting": false
     }
    }
   },
   "outputs": [
    {
     "data": {
      "text/html": [
       "<div>\n",
       "<style scoped>\n",
       "    .dataframe tbody tr th:only-of-type {\n",
       "        vertical-align: middle;\n",
       "    }\n",
       "\n",
       "    .dataframe tbody tr th {\n",
       "        vertical-align: top;\n",
       "    }\n",
       "\n",
       "    .dataframe thead th {\n",
       "        text-align: right;\n",
       "    }\n",
       "</style>\n",
       "<table border=\"1\" class=\"dataframe\">\n",
       "  <thead>\n",
       "    <tr style=\"text-align: right;\">\n",
       "      <th></th>\n",
       "      <th>ADDRKEY</th>\n",
       "      <th>AUXVALVE</th>\n",
       "      <th>BARRELSIZE</th>\n",
       "      <th>IMSRO_COMPHY_COMPKEY</th>\n",
       "      <th>COMPLEXKEY</th>\n",
       "      <th>FEEDERDIAM</th>\n",
       "      <th>FEEDERLEN</th>\n",
       "      <th>GISSTATIC</th>\n",
       "      <th>HT</th>\n",
       "      <th>INTKEY</th>\n",
       "      <th>...</th>\n",
       "      <th>EMASSTCRTL</th>\n",
       "      <th>EMASSTCRDT</th>\n",
       "      <th>EMASSTRISK</th>\n",
       "      <th>EMASTRSKDT</th>\n",
       "      <th>EMDISTRICT</th>\n",
       "      <th>EMEQPMNTCL</th>\n",
       "      <th>EMEQPMNTTP</th>\n",
       "      <th>EMASSTDESC</th>\n",
       "      <th>EMCOND</th>\n",
       "      <th>EMCONDDATE</th>\n",
       "    </tr>\n",
       "  </thead>\n",
       "  <tbody>\n",
       "    <tr>\n",
       "      <th>count</th>\n",
       "      <td>2389.000000</td>\n",
       "      <td>0.0</td>\n",
       "      <td>2389.0</td>\n",
       "      <td>2.389000e+03</td>\n",
       "      <td>2389.0</td>\n",
       "      <td>2389.000000</td>\n",
       "      <td>2389.000000</td>\n",
       "      <td>0.0</td>\n",
       "      <td>2389.0</td>\n",
       "      <td>2389.0</td>\n",
       "      <td>...</td>\n",
       "      <td>0.0</td>\n",
       "      <td>0.0</td>\n",
       "      <td>0.0</td>\n",
       "      <td>0.0</td>\n",
       "      <td>0.0</td>\n",
       "      <td>0.0</td>\n",
       "      <td>0.0</td>\n",
       "      <td>0.0</td>\n",
       "      <td>0.0</td>\n",
       "      <td>0.0</td>\n",
       "    </tr>\n",
       "    <tr>\n",
       "      <th>mean</th>\n",
       "      <td>81076.322729</td>\n",
       "      <td>NaN</td>\n",
       "      <td>0.0</td>\n",
       "      <td>3.362129e+05</td>\n",
       "      <td>1.0</td>\n",
       "      <td>63.729594</td>\n",
       "      <td>4.024884</td>\n",
       "      <td>NaN</td>\n",
       "      <td>0.0</td>\n",
       "      <td>1.0</td>\n",
       "      <td>...</td>\n",
       "      <td>NaN</td>\n",
       "      <td>NaN</td>\n",
       "      <td>NaN</td>\n",
       "      <td>NaN</td>\n",
       "      <td>NaN</td>\n",
       "      <td>NaN</td>\n",
       "      <td>NaN</td>\n",
       "      <td>NaN</td>\n",
       "      <td>NaN</td>\n",
       "      <td>NaN</td>\n",
       "    </tr>\n",
       "    <tr>\n",
       "      <th>std</th>\n",
       "      <td>122051.138142</td>\n",
       "      <td>NaN</td>\n",
       "      <td>0.0</td>\n",
       "      <td>4.165480e+05</td>\n",
       "      <td>0.0</td>\n",
       "      <td>74.163875</td>\n",
       "      <td>29.154112</td>\n",
       "      <td>NaN</td>\n",
       "      <td>0.0</td>\n",
       "      <td>0.0</td>\n",
       "      <td>...</td>\n",
       "      <td>NaN</td>\n",
       "      <td>NaN</td>\n",
       "      <td>NaN</td>\n",
       "      <td>NaN</td>\n",
       "      <td>NaN</td>\n",
       "      <td>NaN</td>\n",
       "      <td>NaN</td>\n",
       "      <td>NaN</td>\n",
       "      <td>NaN</td>\n",
       "      <td>NaN</td>\n",
       "    </tr>\n",
       "    <tr>\n",
       "      <th>min</th>\n",
       "      <td>1003.000000</td>\n",
       "      <td>NaN</td>\n",
       "      <td>0.0</td>\n",
       "      <td>1.002000e+03</td>\n",
       "      <td>1.0</td>\n",
       "      <td>0.000000</td>\n",
       "      <td>0.000000</td>\n",
       "      <td>NaN</td>\n",
       "      <td>0.0</td>\n",
       "      <td>1.0</td>\n",
       "      <td>...</td>\n",
       "      <td>NaN</td>\n",
       "      <td>NaN</td>\n",
       "      <td>NaN</td>\n",
       "      <td>NaN</td>\n",
       "      <td>NaN</td>\n",
       "      <td>NaN</td>\n",
       "      <td>NaN</td>\n",
       "      <td>NaN</td>\n",
       "      <td>NaN</td>\n",
       "      <td>NaN</td>\n",
       "    </tr>\n",
       "    <tr>\n",
       "      <th>25%</th>\n",
       "      <td>3243.000000</td>\n",
       "      <td>NaN</td>\n",
       "      <td>0.0</td>\n",
       "      <td>9.067000e+03</td>\n",
       "      <td>1.0</td>\n",
       "      <td>0.000000</td>\n",
       "      <td>1.200000</td>\n",
       "      <td>NaN</td>\n",
       "      <td>0.0</td>\n",
       "      <td>1.0</td>\n",
       "      <td>...</td>\n",
       "      <td>NaN</td>\n",
       "      <td>NaN</td>\n",
       "      <td>NaN</td>\n",
       "      <td>NaN</td>\n",
       "      <td>NaN</td>\n",
       "      <td>NaN</td>\n",
       "      <td>NaN</td>\n",
       "      <td>NaN</td>\n",
       "      <td>NaN</td>\n",
       "      <td>NaN</td>\n",
       "    </tr>\n",
       "    <tr>\n",
       "      <th>50%</th>\n",
       "      <td>5478.000000</td>\n",
       "      <td>NaN</td>\n",
       "      <td>0.0</td>\n",
       "      <td>1.939500e+04</td>\n",
       "      <td>1.0</td>\n",
       "      <td>0.000000</td>\n",
       "      <td>2.291000</td>\n",
       "      <td>NaN</td>\n",
       "      <td>0.0</td>\n",
       "      <td>1.0</td>\n",
       "      <td>...</td>\n",
       "      <td>NaN</td>\n",
       "      <td>NaN</td>\n",
       "      <td>NaN</td>\n",
       "      <td>NaN</td>\n",
       "      <td>NaN</td>\n",
       "      <td>NaN</td>\n",
       "      <td>NaN</td>\n",
       "      <td>NaN</td>\n",
       "      <td>NaN</td>\n",
       "      <td>NaN</td>\n",
       "    </tr>\n",
       "    <tr>\n",
       "      <th>75%</th>\n",
       "      <td>129011.000000</td>\n",
       "      <td>NaN</td>\n",
       "      <td>0.0</td>\n",
       "      <td>7.158620e+05</td>\n",
       "      <td>1.0</td>\n",
       "      <td>150.000000</td>\n",
       "      <td>3.500000</td>\n",
       "      <td>NaN</td>\n",
       "      <td>0.0</td>\n",
       "      <td>1.0</td>\n",
       "      <td>...</td>\n",
       "      <td>NaN</td>\n",
       "      <td>NaN</td>\n",
       "      <td>NaN</td>\n",
       "      <td>NaN</td>\n",
       "      <td>NaN</td>\n",
       "      <td>NaN</td>\n",
       "      <td>NaN</td>\n",
       "      <td>NaN</td>\n",
       "      <td>NaN</td>\n",
       "      <td>NaN</td>\n",
       "    </tr>\n",
       "    <tr>\n",
       "      <th>max</th>\n",
       "      <td>437401.000000</td>\n",
       "      <td>NaN</td>\n",
       "      <td>0.0</td>\n",
       "      <td>1.312755e+06</td>\n",
       "      <td>1.0</td>\n",
       "      <td>150.000000</td>\n",
       "      <td>1166.540000</td>\n",
       "      <td>NaN</td>\n",
       "      <td>0.0</td>\n",
       "      <td>1.0</td>\n",
       "      <td>...</td>\n",
       "      <td>NaN</td>\n",
       "      <td>NaN</td>\n",
       "      <td>NaN</td>\n",
       "      <td>NaN</td>\n",
       "      <td>NaN</td>\n",
       "      <td>NaN</td>\n",
       "      <td>NaN</td>\n",
       "      <td>NaN</td>\n",
       "      <td>NaN</td>\n",
       "      <td>NaN</td>\n",
       "    </tr>\n",
       "  </tbody>\n",
       "</table>\n",
       "<p>8 rows × 71 columns</p>\n",
       "</div>"
      ],
      "text/plain": [
       "             ADDRKEY  AUXVALVE  BARRELSIZE  IMSRO_COMPHY_COMPKEY  COMPLEXKEY  \\\n",
       "count    2389.000000       0.0      2389.0          2.389000e+03      2389.0   \n",
       "mean    81076.322729       NaN         0.0          3.362129e+05         1.0   \n",
       "std    122051.138142       NaN         0.0          4.165480e+05         0.0   \n",
       "min      1003.000000       NaN         0.0          1.002000e+03         1.0   \n",
       "25%      3243.000000       NaN         0.0          9.067000e+03         1.0   \n",
       "50%      5478.000000       NaN         0.0          1.939500e+04         1.0   \n",
       "75%    129011.000000       NaN         0.0          7.158620e+05         1.0   \n",
       "max    437401.000000       NaN         0.0          1.312755e+06         1.0   \n",
       "\n",
       "        FEEDERDIAM    FEEDERLEN  GISSTATIC      HT  INTKEY  ...  EMASSTCRTL  \\\n",
       "count  2389.000000  2389.000000        0.0  2389.0  2389.0  ...         0.0   \n",
       "mean     63.729594     4.024884        NaN     0.0     1.0  ...         NaN   \n",
       "std      74.163875    29.154112        NaN     0.0     0.0  ...         NaN   \n",
       "min       0.000000     0.000000        NaN     0.0     1.0  ...         NaN   \n",
       "25%       0.000000     1.200000        NaN     0.0     1.0  ...         NaN   \n",
       "50%       0.000000     2.291000        NaN     0.0     1.0  ...         NaN   \n",
       "75%     150.000000     3.500000        NaN     0.0     1.0  ...         NaN   \n",
       "max     150.000000  1166.540000        NaN     0.0     1.0  ...         NaN   \n",
       "\n",
       "       EMASSTCRDT  EMASSTRISK  EMASTRSKDT  EMDISTRICT  EMEQPMNTCL  EMEQPMNTTP  \\\n",
       "count         0.0         0.0         0.0         0.0         0.0         0.0   \n",
       "mean          NaN         NaN         NaN         NaN         NaN         NaN   \n",
       "std           NaN         NaN         NaN         NaN         NaN         NaN   \n",
       "min           NaN         NaN         NaN         NaN         NaN         NaN   \n",
       "25%           NaN         NaN         NaN         NaN         NaN         NaN   \n",
       "50%           NaN         NaN         NaN         NaN         NaN         NaN   \n",
       "75%           NaN         NaN         NaN         NaN         NaN         NaN   \n",
       "max           NaN         NaN         NaN         NaN         NaN         NaN   \n",
       "\n",
       "       EMASSTDESC  EMCOND  EMCONDDATE  \n",
       "count         0.0     0.0         0.0  \n",
       "mean          NaN     NaN         NaN  \n",
       "std           NaN     NaN         NaN  \n",
       "min           NaN     NaN         NaN  \n",
       "25%           NaN     NaN         NaN  \n",
       "50%           NaN     NaN         NaN  \n",
       "75%           NaN     NaN         NaN  \n",
       "max           NaN     NaN         NaN  \n",
       "\n",
       "[8 rows x 71 columns]"
      ]
     },
     "execution_count": 18,
     "metadata": {},
     "output_type": "execute_result"
    }
   ],
   "source": [
    "# Filters rows where flushing frequency is blank\n",
    "copied_all_hydrants_df = copied_all_hydrants_df[copied_all_hydrants_df['FLSHFRE'].notnull()]\n",
    "copied_all_hydrants_df.describe()"
   ]
  },
  {
   "cell_type": "markdown",
   "id": "72afd422-c812-4312-b51a-2682f65c8b80",
   "metadata": {},
   "source": [
    "#### Imputing Missing Categorical Values"
   ]
  },
  {
   "cell_type": "code",
   "execution_count": 20,
   "id": "94ae8673-f584-48d1-befa-4221233e433d",
   "metadata": {
    "collapsed": false,
    "jupyter": {
     "outputs_hidden": false,
     "source_hidden": false
    },
    "microsoft": {
     "language": "python",
     "language_group": "synapse_pyspark"
    },
    "nteract": {
     "transient": {
      "deleting": false
     }
    }
   },
   "outputs": [],
   "source": [
    "# Item 3: Clean data, replace nulls with values in some columns\n",
    "copied_all_hydrants_df['UNITTYPE'] = copied_all_hydrants_df['UNITTYPE'].fillna('STDHY')"
   ]
  },
  {
   "cell_type": "code",
   "execution_count": 21,
   "id": "fb8e0c89-0914-4ce5-9800-9b0e135e3f1c",
   "metadata": {
    "collapsed": false,
    "jupyter": {
     "outputs_hidden": false,
     "source_hidden": false
    },
    "microsoft": {
     "language": "python",
     "language_group": "synapse_pyspark"
    },
    "nteract": {
     "transient": {
      "deleting": false
     }
    }
   },
   "outputs": [
    {
     "data": {
      "text/plain": [
       "count       2389\n",
       "unique         2\n",
       "top       HYBLWF\n",
       "freq        2350\n",
       "Name: UNITTYPE, dtype: object"
      ]
     },
     "execution_count": 21,
     "metadata": {},
     "output_type": "execute_result"
    }
   ],
   "source": [
    "copied_all_hydrants_df['UNITTYPE'].describe()"
   ]
  },
  {
   "cell_type": "code",
   "execution_count": 22,
   "id": "90a0b9db",
   "metadata": {},
   "outputs": [],
   "source": [
    "copied_all_hydrants_df = copied_all_hydrants_df[copied_all_hydrants_df['OWN'].isin(['R', 'NAMP'])]\n",
    "copied_all_hydrants_df = copied_all_hydrants_df[copied_all_hydrants_df['SERVSTAT'].isin(['A', 'ANYR'])]\n",
    "copied_all_hydrants_df = copied_all_hydrants_df[copied_all_hydrants_df['EXPDATE'].isnull()]"
   ]
  },
  {
   "cell_type": "code",
   "execution_count": 23,
   "id": "121384ee",
   "metadata": {},
   "outputs": [],
   "source": [
    "copied_all_hydrants_df = copied_all_hydrants_df.drop(columns={'ADDRKEY', 'ADDRQUAL', 'AUXVALVE', 'BARRELSIZE', 'COMPLEXKEY', 'GISSTATIC', 'HT', 'INTKEY', 'MAPNO', 'OBST', 'OUTLSZ4', 'PACKING', 'PAINTTYPE', 'PRCLKEY', 'SEGKEY', 'SERNO', 'SLKEY', 'SPECINST', 'STKEY', 'WVKEY', 'BGTNO', 'USGAREAKEY', 'EXPBY', 'EXPDATE', 'ADDBY', 'MODBY', 'MODDTTM',\n",
    "                                                              'LASTINSP', 'LASTWINT', 'OLDID', 'WMODID', 'MUNICIPAL', 'FLUDATE', 'WWNUM', 'LASTFREE', 'LASTOTAL', 'FLSHFRE_GIS', 'MINFLTM', 'AVKCLIP', 'ASUMDATE', 'MAINTBY', 'REPLABY', 'REPLAFOR', 'FRFLWVLDDT', 'ASSTGRPID', 'EMDEPT', 'EMDIV', 'EMSERV', 'EMSERVCAT', 'EMCAMASTCL', 'EMASSTPRNT', 'EMPURCHDAT',\n",
    "                                                                  'EMESTSRVLF', 'EMRMGSRVLF', 'EMRMSRLFDT', 'EMREPLCOST', 'EMREPCOSDT', 'EMPURINCST', 'EMASSTCRTL', 'EMASSTCRDT', 'EMASSTRISK', 'EMASTRSKDT', 'EMDISTRICT', 'EMEQPMNTCL', 'EMEQPMNTTP', 'EMASSTDESC', 'EMCOND', 'EMCONDDATE', 'OWN', 'SERVSTAT', 'DISTRICT', 'ASBLT', 'WATPLATT',\n",
    "                                                                  'LSTFMAX1',\t'LSTFMAX2',\t'LSTFMAX3',\t'AVE3FMAX',\t'LSTTMAX1',\t'LSTTMAX2',\t'LSTTMAX3',\t'AVE3TMAX', 'ASBLT', 'ZCOORD', 'PRESSMIN',\t'PRESSMAX',\t'FIRFLGPM',\t'OUTELEVN',\t'MDLRESRD', 'FEEDERTYPE'})"
   ]
  },
  {
   "cell_type": "code",
   "execution_count": 25,
   "id": "cab202d0",
   "metadata": {},
   "outputs": [],
   "source": [
    "copied_all_hydrants_df.to_csv('hydrantcheck.csv', index=False)"
   ]
  },
  {
   "cell_type": "code",
   "execution_count": 26,
   "id": "26244952",
   "metadata": {},
   "outputs": [],
   "source": [
    "#TODO: Ayan: Imputing the missing data for PRESZONE\n",
    "# Based on other rows with similar data as the missing rows in PRESZONE, PG8 is the most suitable value to impute here\n",
    "copied_all_hydrants_df['PRESZONE'] = copied_all_hydrants_df['PRESZONE'].fillna(\"PG8\")"
   ]
  },
  {
   "cell_type": "code",
   "execution_count": 21,
   "id": "51192427",
   "metadata": {},
   "outputs": [
    {
     "name": "stdout",
     "output_type": "stream",
     "text": [
      "0\n"
     ]
    }
   ],
   "source": [
    "#TODO: Jordan: Imputing the missing data for SUBAREA\n",
    "\n",
    "subarea_mode = copied_all_hydrants_df['SUBAREA'].mode()[0]\n",
    "copied_all_hydrants_df['SUBAREA'] = copied_all_hydrants_df['SUBAREA'].fillna(subarea_mode)\n",
    "print(copied_all_hydrants_df['SUBAREA'].isna().sum())"
   ]
  },
  {
   "cell_type": "code",
   "execution_count": null,
   "id": "e720ead3",
   "metadata": {},
   "outputs": [],
   "source": [
    "#TODO: Jordan: What are the differences between AREA, SUBAREA, COMMUN, WARDID. Which columns to keep and why?"
   ]
  },
  {
   "cell_type": "code",
   "execution_count": null,
   "id": "dd27cb5e",
   "metadata": {},
   "outputs": [],
   "source": [
    "#TODO: Ayan: Imputation for DECLREQD\n",
    "copied_all_hy_df['DECLREQD'].fillna(copied_all_hy_df['NONSCHE'].value_counts().idxmax(), inplace=True)"
   ]
  },
  {
   "cell_type": "code",
   "execution_count": 20,
   "id": "19aba725",
   "metadata": {},
   "outputs": [],
   "source": [
    "#TODO: Ella: Convert null to N for HYMARKER\n",
    "copied_all_hydrants_df['HYMARKER'] = copied_all_hydrants_df['HYMARKER'].fillna('N')"
   ]
  },
  {
   "cell_type": "code",
   "execution_count": null,
   "id": "54ac1bc7",
   "metadata": {},
   "outputs": [],
   "source": [
    "#TODO: Ayan: Impute FEEDERTYPE"
   ]
  },
  {
   "cell_type": "code",
   "execution_count": 105,
   "id": "7afd2fb3",
   "metadata": {},
   "outputs": [],
   "source": [
    "#TODO: Ella + Jordan: For INSTDATE: Convert year 9999 to null, then see whether we can use the ADDDTTM and/or the first time a hydrant was flushed in the history table to fill this info in. After filling in the info, delete ADDTTM\n",
    "# Then calculate the age of the asset and delete INSTDATE column"
   ]
  },
  {
   "cell_type": "code",
   "execution_count": 2,
   "id": "b1f22087",
   "metadata": {},
   "outputs": [
    {
     "name": "stdout",
     "output_type": "stream",
     "text": [
      "['CENTURY' 'M67' 'D67' 'M59M' '2700' 'B50' 'M59' 'UNKNOWN' 'BRIGADIER'\n",
      " 'B-05' 'B20-B24' 'CAN-VAL' 'C' '3 PORT' 'SL GATE' '27/100' 'SENTINEL'\n",
      " 'DARLING' 'AVK' 'MACAVITY' 'MCAVITY' 'BRIDGADIER M67B' 'M-67B']\n",
      "0\n"
     ]
    }
   ],
   "source": [
    "#TODO: Jordan: Clean up the values in MODEL column (group those that are of similar values but in different forms) & fill the null value with UNKNOWN\n",
    "\n",
    "import pandas as pd\n",
    "\n",
    "# Load the updated dataset\n",
    "df = pd.read_csv(\"hydrantcheck.csv\")\n",
    "\n",
    "# Standardize the values in the MODELNO column\n",
    "df['MODELNO'] = df['MODELNO'].str.strip().str.upper()\n",
    "\n",
    "# Fill missing values with 'UNKNOWN'\n",
    "df['MODELNO'] = df['MODELNO'].fillna('UNKNOWN')\n",
    "\n",
    "# Define a mapping for similar model numbers\n",
    "modelno_mapping = {\n",
    "    'BRIGADIER': [\n",
    "        'BRIG', 'BRIGADIER', 'BRIGADIER M67', 'BRIGADEER', 'BRIGADERE', \n",
    "        'BRIGD', 'BRIGA', 'BRIGADIER M64', 'BRIGADIER M67B', \n",
    "        'BRIGADIER M67B-002', 'BRIGIDAR', 'BRIGIDERE', 'BRIGG', 'BRIG.', 'brig', 'brig.', 'Brig'\n",
    "    ],\n",
    "    'CENTURY': [\n",
    "        'CENTURY', 'century', 'CEN', 'CENT', 'CENTRY', 'CENTRUY', \n",
    "        'CENURY', 'CENTY', 'CENTRYY', 'CENRTY', 'CCENTURY', 'c entury', 'CEN.'\n",
    "    ],\n",
    "    '27/100': ['27/100', '27-100', '27-00', '27/00', 'B52700'],\n",
    "    'M67': [\n",
    "        'M67', 'M67B', 'M67B-002', 'M67-B', 'M67 BRIG', 'M67 BRIGADIER', \n",
    "        'M67 BRIGADIER', 'M67-BRIG', 'M67D', 'M67E', 'M67Y', 'M67m', \n",
    "        'M67\\r\\nM67', 'M-67', 'M67M', 'M 67', 'M67-brig.', 'm67', 'm67b'\n",
    "    ],\n",
    "    'D67': ['D67', 'D67M', 'D-67', 'D-67M', 'D67m', 'D57M'],\n",
    "    'B50': [\n",
    "        'B50', 'B50-B24', 'B50-B18', 'B50-B-24', 'B-50-B', \n",
    "        'B-50', 'B67', 'B560-B24', 'B50B'\n",
    "    ],\n",
    "    'C': ['C', 'C61', 'C61A'],\n",
    "    '3 PORT': [\n",
    "        '#5', '5', '3', '3-PORT', '3 PORT', '3 PORTS', '3PORT BRIGADIER', \n",
    "        '3PORT BRIGADIER M67B', '3PORT BRIGADIER M67B', 'M3', \n",
    "        'M-93', 'SIGELOCK SPARTAN', 'THREE PORT', 'TWO PORT'\n",
    "    ]\n",
    "    # Add more mappings as needed\n",
    "}\n",
    "\n",
    "# Reverse the mapping for easy replacement\n",
    "reverse_modelno_mapping = {}\n",
    "for key, values in modelno_mapping.items():\n",
    "    for value in values:\n",
    "        reverse_modelno_mapping[value] = key\n",
    "\n",
    "# Apply the mapping to the MODELNO column\n",
    "df['MODELNO'] = df['MODELNO'].replace(reverse_modelno_mapping)\n",
    "\n",
    "# Verify the changes\n",
    "print(df['MODELNO'].unique())\n",
    "print(df['MODELNO'].isna().sum())\n",
    "\n",
    "# Save the cleaned dataset\n",
    "df.to_csv('cleaned_hydrantcheck.csv', index=False)\n"
   ]
  },
  {
   "cell_type": "code",
   "execution_count": 104,
   "id": "e6206277",
   "metadata": {},
   "outputs": [],
   "source": [
    "#TODO: Ayan: Impute the missing value for NONSCHE\n",
    "copied_all_hy_df['NONSCHE'].fillna(copied_all_hy_df['NONSCHE'].value_counts().idxmax(), inplace=True)"
   ]
  },
  {
   "cell_type": "code",
   "execution_count": 101,
   "id": "441783dd",
   "metadata": {},
   "outputs": [],
   "source": [
    "#TODO: Ella to cluster XCOORD and YCOORD, then delete these 2 columns from the dataset"
   ]
  },
  {
   "cell_type": "code",
   "execution_count": 102,
   "id": "8c015994",
   "metadata": {},
   "outputs": [],
   "source": [
    "#TODO: Ayan to find the right column to merge the 2 datasets. After merging, delete all the ...KEY columns (identification columns) in the merge df\n",
    "\n",
    "# Renaming the column so that the name is the same in both datasets\n",
    "copied_all_hydrants_df.rename(columns={'IMSRO_COMPHY_COMPKEY': 'COMPKEY'}, inplace=True)"
   ]
  },
  {
   "cell_type": "code",
   "execution_count": null,
   "id": "b996581a",
   "metadata": {},
   "outputs": [],
   "source": [
    "# Merging the DataFrames based on the 'COMPKEY' column - similar to a SQL left outer join\n",
    "merged_df = pd.merge(copied_all_hy_df, copied_flushing_history_df, on='COMPKEY', how='left')\n",
    "\n",
    "merged_df.drop(['COMPKEY'], axis=1)\n",
    "\n",
    "# Save the result to a new Excel file\n",
    "result.to_excel('combined_spreadsheet.xlsx', index=False)"
   ]
  },
  {
   "cell_type": "code",
   "execution_count": 9,
   "id": "22084bb7-1a35-4ca8-9a9e-3c482a4167cb",
   "metadata": {
    "collapsed": false,
    "jupyter": {
     "outputs_hidden": false,
     "source_hidden": false
    },
    "microsoft": {
     "language": "python",
     "language_group": "synapse_pyspark"
    },
    "nteract": {
     "transient": {
      "deleting": false
     }
    }
   },
   "outputs": [
    {
     "data": {
      "text/html": [
       "<div>\n",
       "<style scoped>\n",
       "    .dataframe tbody tr th:only-of-type {\n",
       "        vertical-align: middle;\n",
       "    }\n",
       "\n",
       "    .dataframe tbody tr th {\n",
       "        vertical-align: top;\n",
       "    }\n",
       "\n",
       "    .dataframe thead th {\n",
       "        text-align: right;\n",
       "    }\n",
       "</style>\n",
       "<table border=\"1\" class=\"dataframe\">\n",
       "  <thead>\n",
       "    <tr style=\"text-align: right;\">\n",
       "      <th></th>\n",
       "      <th>ADDRKEY</th>\n",
       "      <th>AUXVALVE</th>\n",
       "      <th>BARRELSIZE</th>\n",
       "      <th>IMSRO_COMPHY_COMPKEY</th>\n",
       "      <th>COMPLEXKEY</th>\n",
       "      <th>FEEDERDIAM</th>\n",
       "      <th>FEEDERLEN</th>\n",
       "      <th>GISSTATIC</th>\n",
       "      <th>HT</th>\n",
       "      <th>INTKEY</th>\n",
       "      <th>...</th>\n",
       "      <th>EMASSTRISK</th>\n",
       "      <th>EMASTRSKDT</th>\n",
       "      <th>EMDISTRICT</th>\n",
       "      <th>EMEQPMNTCL</th>\n",
       "      <th>EMEQPMNTTP</th>\n",
       "      <th>EMASSTDESC</th>\n",
       "      <th>EMCOND</th>\n",
       "      <th>EMCONDDATE</th>\n",
       "      <th>XCOORD_float</th>\n",
       "      <th>YCOORD_float</th>\n",
       "    </tr>\n",
       "  </thead>\n",
       "  <tbody>\n",
       "    <tr>\n",
       "      <th>count</th>\n",
       "      <td>2389.000000</td>\n",
       "      <td>0.0</td>\n",
       "      <td>2389.0</td>\n",
       "      <td>2.389000e+03</td>\n",
       "      <td>2389.0</td>\n",
       "      <td>2389.000000</td>\n",
       "      <td>2389.000000</td>\n",
       "      <td>0.0</td>\n",
       "      <td>2389.0</td>\n",
       "      <td>2389.0</td>\n",
       "      <td>...</td>\n",
       "      <td>0.0</td>\n",
       "      <td>0.0</td>\n",
       "      <td>0.0</td>\n",
       "      <td>0.0</td>\n",
       "      <td>0.0</td>\n",
       "      <td>0.0</td>\n",
       "      <td>0.0</td>\n",
       "      <td>0.0</td>\n",
       "      <td>2389.000000</td>\n",
       "      <td>2.389000e+03</td>\n",
       "    </tr>\n",
       "    <tr>\n",
       "      <th>mean</th>\n",
       "      <td>81076.322729</td>\n",
       "      <td>NaN</td>\n",
       "      <td>0.0</td>\n",
       "      <td>3.362129e+05</td>\n",
       "      <td>1.0</td>\n",
       "      <td>63.729594</td>\n",
       "      <td>4.024884</td>\n",
       "      <td>NaN</td>\n",
       "      <td>0.0</td>\n",
       "      <td>1.0</td>\n",
       "      <td>...</td>\n",
       "      <td>NaN</td>\n",
       "      <td>NaN</td>\n",
       "      <td>NaN</td>\n",
       "      <td>NaN</td>\n",
       "      <td>NaN</td>\n",
       "      <td>NaN</td>\n",
       "      <td>NaN</td>\n",
       "      <td>NaN</td>\n",
       "      <td>603585.008429</td>\n",
       "      <td>4.835625e+06</td>\n",
       "    </tr>\n",
       "    <tr>\n",
       "      <th>min</th>\n",
       "      <td>1003.000000</td>\n",
       "      <td>NaN</td>\n",
       "      <td>0.0</td>\n",
       "      <td>1.002000e+03</td>\n",
       "      <td>1.0</td>\n",
       "      <td>0.000000</td>\n",
       "      <td>0.000000</td>\n",
       "      <td>NaN</td>\n",
       "      <td>0.0</td>\n",
       "      <td>1.0</td>\n",
       "      <td>...</td>\n",
       "      <td>NaN</td>\n",
       "      <td>NaN</td>\n",
       "      <td>NaN</td>\n",
       "      <td>NaN</td>\n",
       "      <td>NaN</td>\n",
       "      <td>NaN</td>\n",
       "      <td>NaN</td>\n",
       "      <td>NaN</td>\n",
       "      <td>574107.000000</td>\n",
       "      <td>4.817268e+06</td>\n",
       "    </tr>\n",
       "    <tr>\n",
       "      <th>25%</th>\n",
       "      <td>3243.000000</td>\n",
       "      <td>NaN</td>\n",
       "      <td>0.0</td>\n",
       "      <td>9.067000e+03</td>\n",
       "      <td>1.0</td>\n",
       "      <td>0.000000</td>\n",
       "      <td>1.200000</td>\n",
       "      <td>NaN</td>\n",
       "      <td>0.0</td>\n",
       "      <td>1.0</td>\n",
       "      <td>...</td>\n",
       "      <td>NaN</td>\n",
       "      <td>NaN</td>\n",
       "      <td>NaN</td>\n",
       "      <td>NaN</td>\n",
       "      <td>NaN</td>\n",
       "      <td>NaN</td>\n",
       "      <td>NaN</td>\n",
       "      <td>NaN</td>\n",
       "      <td>599879.840000</td>\n",
       "      <td>4.825955e+06</td>\n",
       "    </tr>\n",
       "    <tr>\n",
       "      <th>50%</th>\n",
       "      <td>5478.000000</td>\n",
       "      <td>NaN</td>\n",
       "      <td>0.0</td>\n",
       "      <td>1.939500e+04</td>\n",
       "      <td>1.0</td>\n",
       "      <td>0.000000</td>\n",
       "      <td>2.291000</td>\n",
       "      <td>NaN</td>\n",
       "      <td>0.0</td>\n",
       "      <td>1.0</td>\n",
       "      <td>...</td>\n",
       "      <td>NaN</td>\n",
       "      <td>NaN</td>\n",
       "      <td>NaN</td>\n",
       "      <td>NaN</td>\n",
       "      <td>NaN</td>\n",
       "      <td>NaN</td>\n",
       "      <td>NaN</td>\n",
       "      <td>NaN</td>\n",
       "      <td>603124.950000</td>\n",
       "      <td>4.833903e+06</td>\n",
       "    </tr>\n",
       "    <tr>\n",
       "      <th>75%</th>\n",
       "      <td>129011.000000</td>\n",
       "      <td>NaN</td>\n",
       "      <td>0.0</td>\n",
       "      <td>7.158620e+05</td>\n",
       "      <td>1.0</td>\n",
       "      <td>150.000000</td>\n",
       "      <td>3.500000</td>\n",
       "      <td>NaN</td>\n",
       "      <td>0.0</td>\n",
       "      <td>1.0</td>\n",
       "      <td>...</td>\n",
       "      <td>NaN</td>\n",
       "      <td>NaN</td>\n",
       "      <td>NaN</td>\n",
       "      <td>NaN</td>\n",
       "      <td>NaN</td>\n",
       "      <td>NaN</td>\n",
       "      <td>NaN</td>\n",
       "      <td>NaN</td>\n",
       "      <td>608432.340000</td>\n",
       "      <td>4.842763e+06</td>\n",
       "    </tr>\n",
       "    <tr>\n",
       "      <th>max</th>\n",
       "      <td>437401.000000</td>\n",
       "      <td>NaN</td>\n",
       "      <td>0.0</td>\n",
       "      <td>1.312755e+06</td>\n",
       "      <td>1.0</td>\n",
       "      <td>150.000000</td>\n",
       "      <td>1166.540000</td>\n",
       "      <td>NaN</td>\n",
       "      <td>0.0</td>\n",
       "      <td>1.0</td>\n",
       "      <td>...</td>\n",
       "      <td>NaN</td>\n",
       "      <td>NaN</td>\n",
       "      <td>NaN</td>\n",
       "      <td>NaN</td>\n",
       "      <td>NaN</td>\n",
       "      <td>NaN</td>\n",
       "      <td>NaN</td>\n",
       "      <td>NaN</td>\n",
       "      <td>616887.720000</td>\n",
       "      <td>4.869890e+06</td>\n",
       "    </tr>\n",
       "    <tr>\n",
       "      <th>std</th>\n",
       "      <td>122051.138142</td>\n",
       "      <td>NaN</td>\n",
       "      <td>0.0</td>\n",
       "      <td>4.165480e+05</td>\n",
       "      <td>0.0</td>\n",
       "      <td>74.163875</td>\n",
       "      <td>29.154112</td>\n",
       "      <td>NaN</td>\n",
       "      <td>0.0</td>\n",
       "      <td>0.0</td>\n",
       "      <td>...</td>\n",
       "      <td>NaN</td>\n",
       "      <td>NaN</td>\n",
       "      <td>NaN</td>\n",
       "      <td>NaN</td>\n",
       "      <td>NaN</td>\n",
       "      <td>NaN</td>\n",
       "      <td>NaN</td>\n",
       "      <td>NaN</td>\n",
       "      <td>6786.099251</td>\n",
       "      <td>1.158453e+04</td>\n",
       "    </tr>\n",
       "  </tbody>\n",
       "</table>\n",
       "<p>8 rows × 77 columns</p>\n",
       "</div>"
      ],
      "text/plain": [
       "             ADDRKEY  AUXVALVE  BARRELSIZE  IMSRO_COMPHY_COMPKEY  COMPLEXKEY  \\\n",
       "count    2389.000000       0.0      2389.0          2.389000e+03      2389.0   \n",
       "mean    81076.322729       NaN         0.0          3.362129e+05         1.0   \n",
       "min      1003.000000       NaN         0.0          1.002000e+03         1.0   \n",
       "25%      3243.000000       NaN         0.0          9.067000e+03         1.0   \n",
       "50%      5478.000000       NaN         0.0          1.939500e+04         1.0   \n",
       "75%    129011.000000       NaN         0.0          7.158620e+05         1.0   \n",
       "max    437401.000000       NaN         0.0          1.312755e+06         1.0   \n",
       "std    122051.138142       NaN         0.0          4.165480e+05         0.0   \n",
       "\n",
       "        FEEDERDIAM    FEEDERLEN  GISSTATIC      HT  INTKEY  ...  EMASSTRISK  \\\n",
       "count  2389.000000  2389.000000        0.0  2389.0  2389.0  ...         0.0   \n",
       "mean     63.729594     4.024884        NaN     0.0     1.0  ...         NaN   \n",
       "min       0.000000     0.000000        NaN     0.0     1.0  ...         NaN   \n",
       "25%       0.000000     1.200000        NaN     0.0     1.0  ...         NaN   \n",
       "50%       0.000000     2.291000        NaN     0.0     1.0  ...         NaN   \n",
       "75%     150.000000     3.500000        NaN     0.0     1.0  ...         NaN   \n",
       "max     150.000000  1166.540000        NaN     0.0     1.0  ...         NaN   \n",
       "std      74.163875    29.154112        NaN     0.0     0.0  ...         NaN   \n",
       "\n",
       "       EMASTRSKDT  EMDISTRICT  EMEQPMNTCL  EMEQPMNTTP  EMASSTDESC  EMCOND  \\\n",
       "count         0.0         0.0         0.0         0.0         0.0     0.0   \n",
       "mean          NaN         NaN         NaN         NaN         NaN     NaN   \n",
       "min           NaN         NaN         NaN         NaN         NaN     NaN   \n",
       "25%           NaN         NaN         NaN         NaN         NaN     NaN   \n",
       "50%           NaN         NaN         NaN         NaN         NaN     NaN   \n",
       "75%           NaN         NaN         NaN         NaN         NaN     NaN   \n",
       "max           NaN         NaN         NaN         NaN         NaN     NaN   \n",
       "std           NaN         NaN         NaN         NaN         NaN     NaN   \n",
       "\n",
       "       EMCONDDATE   XCOORD_float  YCOORD_float  \n",
       "count         0.0    2389.000000  2.389000e+03  \n",
       "mean          NaN  603585.008429  4.835625e+06  \n",
       "min           NaN  574107.000000  4.817268e+06  \n",
       "25%           NaN  599879.840000  4.825955e+06  \n",
       "50%           NaN  603124.950000  4.833903e+06  \n",
       "75%           NaN  608432.340000  4.842763e+06  \n",
       "max           NaN  616887.720000  4.869890e+06  \n",
       "std           NaN    6786.099251  1.158453e+04  \n",
       "\n",
       "[8 rows x 77 columns]"
      ]
     },
     "execution_count": 9,
     "metadata": {},
     "output_type": "execute_result"
    }
   ],
   "source": [
    "# Item 9: Formatting coordinates as numeric data\n",
    "copied_all_hydrants_df['XCOORD'].head()\n",
    "copied_all_hydrants_df['XCOORD_float'] = pd.to_numeric(copied_all_hydrants_df['XCOORD'], errors='coerce')\n",
    "copied_all_hydrants_df['YCOORD_float'] = pd.to_numeric(copied_all_hydrants_df['YCOORD'], errors='coerce')\n",
    "copied_all_hydrants_df['XCOORD_float'].head()\n",
    "copied_all_hydrants_df.describe()"
   ]
  },
  {
   "cell_type": "code",
   "execution_count": 10,
   "id": "6837cd9e-53a8-4312-b6ee-fd33eedd7acd",
   "metadata": {
    "collapsed": false,
    "jupyter": {
     "outputs_hidden": false,
     "source_hidden": false
    },
    "microsoft": {
     "language": "python",
     "language_group": "synapse_pyspark"
    },
    "nteract": {
     "transient": {
      "deleting": false
     }
    }
   },
   "outputs": [],
   "source": [
    "# Uses X and Y Coordinates to find the corresponding latitude and longitude ana adds this data to the given DataFrame\n",
    "def utm_to_latlon(df, xcoord, ycoord, utm_zone):\n",
    "    utm_proj = Proj(proj='utm', zone=utm_zone, ellps='WGS84')\n",
    "    lonlat = utm_proj(df[xcoord].values, df[ycoord].values, inverse=True)\n",
    "    df['Latitude'] = lonlat[1]\n",
    "    df['Longitude'] = lonlat[0]\n",
    "    return df"
   ]
  },
  {
   "cell_type": "code",
   "execution_count": 11,
   "id": "8718fe3a-136a-439a-af30-041148672c9f",
   "metadata": {
    "collapsed": false,
    "jupyter": {
     "outputs_hidden": false,
     "source_hidden": false
    },
    "microsoft": {
     "language": "python",
     "language_group": "synapse_pyspark"
    },
    "nteract": {
     "transient": {
      "deleting": false
     }
    }
   },
   "outputs": [
    {
     "data": {
      "text/html": [
       "<div>\n",
       "<style scoped>\n",
       "    .dataframe tbody tr th:only-of-type {\n",
       "        vertical-align: middle;\n",
       "    }\n",
       "\n",
       "    .dataframe tbody tr th {\n",
       "        vertical-align: top;\n",
       "    }\n",
       "\n",
       "    .dataframe thead th {\n",
       "        text-align: right;\n",
       "    }\n",
       "</style>\n",
       "<table border=\"1\" class=\"dataframe\">\n",
       "  <thead>\n",
       "    <tr style=\"text-align: right;\">\n",
       "      <th></th>\n",
       "      <th>ADDRKEY</th>\n",
       "      <th>AUXVALVE</th>\n",
       "      <th>BARRELSIZE</th>\n",
       "      <th>IMSRO_COMPHY_COMPKEY</th>\n",
       "      <th>COMPLEXKEY</th>\n",
       "      <th>FEEDERDIAM</th>\n",
       "      <th>FEEDERLEN</th>\n",
       "      <th>GISSTATIC</th>\n",
       "      <th>HT</th>\n",
       "      <th>INTKEY</th>\n",
       "      <th>...</th>\n",
       "      <th>EMDISTRICT</th>\n",
       "      <th>EMEQPMNTCL</th>\n",
       "      <th>EMEQPMNTTP</th>\n",
       "      <th>EMASSTDESC</th>\n",
       "      <th>EMCOND</th>\n",
       "      <th>EMCONDDATE</th>\n",
       "      <th>XCOORD_float</th>\n",
       "      <th>YCOORD_float</th>\n",
       "      <th>Latitude</th>\n",
       "      <th>Longitude</th>\n",
       "    </tr>\n",
       "  </thead>\n",
       "  <tbody>\n",
       "    <tr>\n",
       "      <th>count</th>\n",
       "      <td>2389.000000</td>\n",
       "      <td>0.0</td>\n",
       "      <td>2389.0</td>\n",
       "      <td>2.389000e+03</td>\n",
       "      <td>2389.0</td>\n",
       "      <td>2389.000000</td>\n",
       "      <td>2389.000000</td>\n",
       "      <td>0.0</td>\n",
       "      <td>2389.0</td>\n",
       "      <td>2389.0</td>\n",
       "      <td>...</td>\n",
       "      <td>0.0</td>\n",
       "      <td>0.0</td>\n",
       "      <td>0.0</td>\n",
       "      <td>0.0</td>\n",
       "      <td>0.0</td>\n",
       "      <td>0.0</td>\n",
       "      <td>2389.000000</td>\n",
       "      <td>2.389000e+03</td>\n",
       "      <td>2389.000000</td>\n",
       "      <td>2389.000000</td>\n",
       "    </tr>\n",
       "    <tr>\n",
       "      <th>mean</th>\n",
       "      <td>81076.322729</td>\n",
       "      <td>NaN</td>\n",
       "      <td>0.0</td>\n",
       "      <td>3.362129e+05</td>\n",
       "      <td>1.0</td>\n",
       "      <td>63.729594</td>\n",
       "      <td>4.024884</td>\n",
       "      <td>NaN</td>\n",
       "      <td>0.0</td>\n",
       "      <td>1.0</td>\n",
       "      <td>...</td>\n",
       "      <td>NaN</td>\n",
       "      <td>NaN</td>\n",
       "      <td>NaN</td>\n",
       "      <td>NaN</td>\n",
       "      <td>NaN</td>\n",
       "      <td>NaN</td>\n",
       "      <td>603585.008429</td>\n",
       "      <td>4.835625e+06</td>\n",
       "      <td>43.666383</td>\n",
       "      <td>-121.715269</td>\n",
       "    </tr>\n",
       "    <tr>\n",
       "      <th>min</th>\n",
       "      <td>1003.000000</td>\n",
       "      <td>NaN</td>\n",
       "      <td>0.0</td>\n",
       "      <td>1.002000e+03</td>\n",
       "      <td>1.0</td>\n",
       "      <td>0.000000</td>\n",
       "      <td>0.000000</td>\n",
       "      <td>NaN</td>\n",
       "      <td>0.0</td>\n",
       "      <td>1.0</td>\n",
       "      <td>...</td>\n",
       "      <td>NaN</td>\n",
       "      <td>NaN</td>\n",
       "      <td>NaN</td>\n",
       "      <td>NaN</td>\n",
       "      <td>NaN</td>\n",
       "      <td>NaN</td>\n",
       "      <td>574107.000000</td>\n",
       "      <td>4.817268e+06</td>\n",
       "      <td>43.500369</td>\n",
       "      <td>-122.077736</td>\n",
       "    </tr>\n",
       "    <tr>\n",
       "      <th>25%</th>\n",
       "      <td>3243.000000</td>\n",
       "      <td>NaN</td>\n",
       "      <td>0.0</td>\n",
       "      <td>9.067000e+03</td>\n",
       "      <td>1.0</td>\n",
       "      <td>0.000000</td>\n",
       "      <td>1.200000</td>\n",
       "      <td>NaN</td>\n",
       "      <td>0.0</td>\n",
       "      <td>1.0</td>\n",
       "      <td>...</td>\n",
       "      <td>NaN</td>\n",
       "      <td>NaN</td>\n",
       "      <td>NaN</td>\n",
       "      <td>NaN</td>\n",
       "      <td>NaN</td>\n",
       "      <td>NaN</td>\n",
       "      <td>599879.840000</td>\n",
       "      <td>4.825955e+06</td>\n",
       "      <td>43.578955</td>\n",
       "      <td>-121.760724</td>\n",
       "    </tr>\n",
       "    <tr>\n",
       "      <th>50%</th>\n",
       "      <td>5478.000000</td>\n",
       "      <td>NaN</td>\n",
       "      <td>0.0</td>\n",
       "      <td>1.939500e+04</td>\n",
       "      <td>1.0</td>\n",
       "      <td>0.000000</td>\n",
       "      <td>2.291000</td>\n",
       "      <td>NaN</td>\n",
       "      <td>0.0</td>\n",
       "      <td>1.0</td>\n",
       "      <td>...</td>\n",
       "      <td>NaN</td>\n",
       "      <td>NaN</td>\n",
       "      <td>NaN</td>\n",
       "      <td>NaN</td>\n",
       "      <td>NaN</td>\n",
       "      <td>NaN</td>\n",
       "      <td>603124.950000</td>\n",
       "      <td>4.833903e+06</td>\n",
       "      <td>43.651207</td>\n",
       "      <td>-121.719748</td>\n",
       "    </tr>\n",
       "    <tr>\n",
       "      <th>75%</th>\n",
       "      <td>129011.000000</td>\n",
       "      <td>NaN</td>\n",
       "      <td>0.0</td>\n",
       "      <td>7.158620e+05</td>\n",
       "      <td>1.0</td>\n",
       "      <td>150.000000</td>\n",
       "      <td>3.500000</td>\n",
       "      <td>NaN</td>\n",
       "      <td>0.0</td>\n",
       "      <td>1.0</td>\n",
       "      <td>...</td>\n",
       "      <td>NaN</td>\n",
       "      <td>NaN</td>\n",
       "      <td>NaN</td>\n",
       "      <td>NaN</td>\n",
       "      <td>NaN</td>\n",
       "      <td>NaN</td>\n",
       "      <td>608432.340000</td>\n",
       "      <td>4.842763e+06</td>\n",
       "      <td>43.731067</td>\n",
       "      <td>-121.655763</td>\n",
       "    </tr>\n",
       "    <tr>\n",
       "      <th>max</th>\n",
       "      <td>437401.000000</td>\n",
       "      <td>NaN</td>\n",
       "      <td>0.0</td>\n",
       "      <td>1.312755e+06</td>\n",
       "      <td>1.0</td>\n",
       "      <td>150.000000</td>\n",
       "      <td>1166.540000</td>\n",
       "      <td>NaN</td>\n",
       "      <td>0.0</td>\n",
       "      <td>1.0</td>\n",
       "      <td>...</td>\n",
       "      <td>NaN</td>\n",
       "      <td>NaN</td>\n",
       "      <td>NaN</td>\n",
       "      <td>NaN</td>\n",
       "      <td>NaN</td>\n",
       "      <td>NaN</td>\n",
       "      <td>616887.720000</td>\n",
       "      <td>4.869890e+06</td>\n",
       "      <td>43.976043</td>\n",
       "      <td>-121.552075</td>\n",
       "    </tr>\n",
       "    <tr>\n",
       "      <th>std</th>\n",
       "      <td>122051.138142</td>\n",
       "      <td>NaN</td>\n",
       "      <td>0.0</td>\n",
       "      <td>4.165480e+05</td>\n",
       "      <td>0.0</td>\n",
       "      <td>74.163875</td>\n",
       "      <td>29.154112</td>\n",
       "      <td>NaN</td>\n",
       "      <td>0.0</td>\n",
       "      <td>0.0</td>\n",
       "      <td>...</td>\n",
       "      <td>NaN</td>\n",
       "      <td>NaN</td>\n",
       "      <td>NaN</td>\n",
       "      <td>NaN</td>\n",
       "      <td>NaN</td>\n",
       "      <td>NaN</td>\n",
       "      <td>6786.099251</td>\n",
       "      <td>1.158453e+04</td>\n",
       "      <td>0.104866</td>\n",
       "      <td>0.082829</td>\n",
       "    </tr>\n",
       "  </tbody>\n",
       "</table>\n",
       "<p>8 rows × 79 columns</p>\n",
       "</div>"
      ],
      "text/plain": [
       "             ADDRKEY  AUXVALVE  BARRELSIZE  IMSRO_COMPHY_COMPKEY  COMPLEXKEY  \\\n",
       "count    2389.000000       0.0      2389.0          2.389000e+03      2389.0   \n",
       "mean    81076.322729       NaN         0.0          3.362129e+05         1.0   \n",
       "min      1003.000000       NaN         0.0          1.002000e+03         1.0   \n",
       "25%      3243.000000       NaN         0.0          9.067000e+03         1.0   \n",
       "50%      5478.000000       NaN         0.0          1.939500e+04         1.0   \n",
       "75%    129011.000000       NaN         0.0          7.158620e+05         1.0   \n",
       "max    437401.000000       NaN         0.0          1.312755e+06         1.0   \n",
       "std    122051.138142       NaN         0.0          4.165480e+05         0.0   \n",
       "\n",
       "        FEEDERDIAM    FEEDERLEN  GISSTATIC      HT  INTKEY  ...  EMDISTRICT  \\\n",
       "count  2389.000000  2389.000000        0.0  2389.0  2389.0  ...         0.0   \n",
       "mean     63.729594     4.024884        NaN     0.0     1.0  ...         NaN   \n",
       "min       0.000000     0.000000        NaN     0.0     1.0  ...         NaN   \n",
       "25%       0.000000     1.200000        NaN     0.0     1.0  ...         NaN   \n",
       "50%       0.000000     2.291000        NaN     0.0     1.0  ...         NaN   \n",
       "75%     150.000000     3.500000        NaN     0.0     1.0  ...         NaN   \n",
       "max     150.000000  1166.540000        NaN     0.0     1.0  ...         NaN   \n",
       "std      74.163875    29.154112        NaN     0.0     0.0  ...         NaN   \n",
       "\n",
       "       EMEQPMNTCL  EMEQPMNTTP  EMASSTDESC  EMCOND  EMCONDDATE   XCOORD_float  \\\n",
       "count         0.0         0.0         0.0     0.0         0.0    2389.000000   \n",
       "mean          NaN         NaN         NaN     NaN         NaN  603585.008429   \n",
       "min           NaN         NaN         NaN     NaN         NaN  574107.000000   \n",
       "25%           NaN         NaN         NaN     NaN         NaN  599879.840000   \n",
       "50%           NaN         NaN         NaN     NaN         NaN  603124.950000   \n",
       "75%           NaN         NaN         NaN     NaN         NaN  608432.340000   \n",
       "max           NaN         NaN         NaN     NaN         NaN  616887.720000   \n",
       "std           NaN         NaN         NaN     NaN         NaN    6786.099251   \n",
       "\n",
       "       YCOORD_float     Latitude    Longitude  \n",
       "count  2.389000e+03  2389.000000  2389.000000  \n",
       "mean   4.835625e+06    43.666383  -121.715269  \n",
       "min    4.817268e+06    43.500369  -122.077736  \n",
       "25%    4.825955e+06    43.578955  -121.760724  \n",
       "50%    4.833903e+06    43.651207  -121.719748  \n",
       "75%    4.842763e+06    43.731067  -121.655763  \n",
       "max    4.869890e+06    43.976043  -121.552075  \n",
       "std    1.158453e+04     0.104866     0.082829  \n",
       "\n",
       "[8 rows x 79 columns]"
      ]
     },
     "execution_count": 11,
     "metadata": {},
     "output_type": "execute_result"
    }
   ],
   "source": [
    "copied_all_hydrants_df = utm_to_latlon(copied_all_hydrants_df, 'XCOORD_float', 'YCOORD_float', utm_zone=10)\n",
    "copied_all_hydrants_df.head()\n",
    "copied_all_hydrants_df.describe()"
   ]
  },
  {
   "cell_type": "code",
   "execution_count": 12,
   "id": "626e8475-5657-4abf-a022-6f90744b3598",
   "metadata": {
    "collapsed": false,
    "jupyter": {
     "outputs_hidden": false,
     "source_hidden": false
    },
    "microsoft": {
     "language": "python",
     "language_group": "synapse_pyspark"
    },
    "nteract": {
     "transient": {
      "deleting": false
     }
    }
   },
   "outputs": [
    {
     "name": "stdout",
     "output_type": "stream",
     "text": [
      "count    2389.000000\n",
      "mean       43.666383\n",
      "std         0.104866\n",
      "min        43.500369\n",
      "25%        43.578955\n",
      "50%        43.651207\n",
      "75%        43.731067\n",
      "max        43.976043\n",
      "Name: Latitude, dtype: float64\n",
      "count    2389.000000\n",
      "mean     -121.715269\n",
      "std         0.082829\n",
      "min      -122.077736\n",
      "25%      -121.760724\n",
      "50%      -121.719748\n",
      "75%      -121.655763\n",
      "max      -121.552075\n",
      "Name: Longitude, dtype: float64\n",
      "0\n",
      "0\n"
     ]
    }
   ],
   "source": [
    "from sklearn.cluster import DBSCAN\n",
    "\n",
    "# Applies a DBSCAN algorithm to organize latitude and longitude data \n",
    "dbscan = DBSCAN(eps=0.1, min_samples=5)\n",
    "# Delete rows with empty longitude or latitude values\n",
    "copied_all_hydrants_df = copied_all_hydrants_df.dropna(subset=['Longitude', 'Latitude'])\n",
    "# Remove latitude/longitude values that are positive/negative infinity\n",
    "copied_all_hydrants_df['Latitude'] = copied_all_hydrants_df['Latitude'].replace([np.inf, -np.inf], np.nan).dropna()\n",
    "copied_all_hydrants_df['Longitude'] = copied_all_hydrants_df['Longitude'].replace([np.inf, -np.inf], np.nan).dropna()\n",
    "# print(copied_all_hydrants_df.sort_values(by=['Latitude'], ascending=False).head())\n",
    "# Remove any other blank values from the latitude/longitude columns\n",
    "copied_all_hydrants_df['Latitude'] = copied_all_hydrants_df['Latitude'].dropna()\n",
    "copied_all_hydrants_df['Longitude'] = copied_all_hydrants_df['Longitude'].dropna()\n",
    "copied_all_hydrants_df.dropna(subset=['Longitude', 'Latitude'], inplace=True)\n",
    "print(copied_all_hydrants_df['Latitude'].describe())\n",
    "print(copied_all_hydrants_df['Longitude'].describe())\n",
    "print(copied_all_hydrants_df['Latitude'].isna().sum())\n",
    "print(copied_all_hydrants_df['Longitude'].isna().sum())"
   ]
  },
  {
   "cell_type": "code",
   "execution_count": 13,
   "id": "494556ce-328c-418c-b97d-76002b11adfa",
   "metadata": {
    "collapsed": false,
    "jupyter": {
     "outputs_hidden": false,
     "source_hidden": false
    },
    "microsoft": {
     "language": "python",
     "language_group": "synapse_pyspark"
    },
    "nteract": {
     "transient": {
      "deleting": false
     }
    }
   },
   "outputs": [],
   "source": [
    "copied_all_hydrants_df['Geo_Cluster'] = dbscan.fit_predict(copied_all_hydrants_df[['Longitude', 'Latitude']])"
   ]
  },
  {
   "cell_type": "code",
   "execution_count": 14,
   "id": "74421e91-2819-4998-975f-7f34bf9f1a5b",
   "metadata": {
    "collapsed": false,
    "jupyter": {
     "outputs_hidden": false,
     "source_hidden": false
    },
    "microsoft": {
     "language": "python",
     "language_group": "synapse_pyspark"
    },
    "nteract": {
     "transient": {
      "deleting": false
     }
    }
   },
   "outputs": [
    {
     "data": {
      "text/html": [
       "<div>\n",
       "<style scoped>\n",
       "    .dataframe tbody tr th:only-of-type {\n",
       "        vertical-align: middle;\n",
       "    }\n",
       "\n",
       "    .dataframe tbody tr th {\n",
       "        vertical-align: top;\n",
       "    }\n",
       "\n",
       "    .dataframe thead th {\n",
       "        text-align: right;\n",
       "    }\n",
       "</style>\n",
       "<table border=\"1\" class=\"dataframe\">\n",
       "  <thead>\n",
       "    <tr style=\"text-align: right;\">\n",
       "      <th></th>\n",
       "      <th>ADDRKEY</th>\n",
       "      <th>ADDRQUAL</th>\n",
       "      <th>AREA</th>\n",
       "      <th>ASBLT</th>\n",
       "      <th>AUXVALVE</th>\n",
       "      <th>BARRELSIZE</th>\n",
       "      <th>COLOR</th>\n",
       "      <th>IMSRO_COMPHY_COMPKEY</th>\n",
       "      <th>COMPLEXKEY</th>\n",
       "      <th>DISTRICT</th>\n",
       "      <th>...</th>\n",
       "      <th>EMEQPMNTCL</th>\n",
       "      <th>EMEQPMNTTP</th>\n",
       "      <th>EMASSTDESC</th>\n",
       "      <th>EMCOND</th>\n",
       "      <th>EMCONDDATE</th>\n",
       "      <th>XCOORD_float</th>\n",
       "      <th>YCOORD_float</th>\n",
       "      <th>Latitude</th>\n",
       "      <th>Longitude</th>\n",
       "      <th>Geo_Cluster</th>\n",
       "    </tr>\n",
       "  </thead>\n",
       "  <tbody>\n",
       "    <tr>\n",
       "      <th>65</th>\n",
       "      <td>1494</td>\n",
       "      <td>20 - 22</td>\n",
       "      <td>B31</td>\n",
       "      <td>NaN</td>\n",
       "      <td>NaN</td>\n",
       "      <td>0</td>\n",
       "      <td>BLUE</td>\n",
       "      <td>1673</td>\n",
       "      <td>1</td>\n",
       "      <td>C</td>\n",
       "      <td>...</td>\n",
       "      <td>NaN</td>\n",
       "      <td>NaN</td>\n",
       "      <td>NaN</td>\n",
       "      <td>NaN</td>\n",
       "      <td>NaN</td>\n",
       "      <td>597828.69</td>\n",
       "      <td>4841977.83</td>\n",
       "      <td>43.724380</td>\n",
       "      <td>-121.785410</td>\n",
       "      <td>0</td>\n",
       "    </tr>\n",
       "    <tr>\n",
       "      <th>76</th>\n",
       "      <td>1509</td>\n",
       "      <td>16</td>\n",
       "      <td>B31</td>\n",
       "      <td>NaN</td>\n",
       "      <td>NaN</td>\n",
       "      <td>0</td>\n",
       "      <td>BLUE</td>\n",
       "      <td>1696</td>\n",
       "      <td>1</td>\n",
       "      <td>C</td>\n",
       "      <td>...</td>\n",
       "      <td>NaN</td>\n",
       "      <td>NaN</td>\n",
       "      <td>NaN</td>\n",
       "      <td>NaN</td>\n",
       "      <td>NaN</td>\n",
       "      <td>596099.18</td>\n",
       "      <td>4844170.61</td>\n",
       "      <td>43.744345</td>\n",
       "      <td>-121.806486</td>\n",
       "      <td>0</td>\n",
       "    </tr>\n",
       "    <tr>\n",
       "      <th>126</th>\n",
       "      <td>2226</td>\n",
       "      <td>56</td>\n",
       "      <td>B31</td>\n",
       "      <td>NaN</td>\n",
       "      <td>NaN</td>\n",
       "      <td>0</td>\n",
       "      <td>BLUE</td>\n",
       "      <td>2847</td>\n",
       "      <td>1</td>\n",
       "      <td>C</td>\n",
       "      <td>...</td>\n",
       "      <td>NaN</td>\n",
       "      <td>NaN</td>\n",
       "      <td>NaN</td>\n",
       "      <td>NaN</td>\n",
       "      <td>NaN</td>\n",
       "      <td>596309.85</td>\n",
       "      <td>4841454.28</td>\n",
       "      <td>43.719866</td>\n",
       "      <td>-121.804357</td>\n",
       "      <td>0</td>\n",
       "    </tr>\n",
       "    <tr>\n",
       "      <th>138</th>\n",
       "      <td>211559</td>\n",
       "      <td>NaN</td>\n",
       "      <td>B06</td>\n",
       "      <td>NaN</td>\n",
       "      <td>NaN</td>\n",
       "      <td>0</td>\n",
       "      <td>ORANGE</td>\n",
       "      <td>2863</td>\n",
       "      <td>1</td>\n",
       "      <td>C</td>\n",
       "      <td>...</td>\n",
       "      <td>NaN</td>\n",
       "      <td>NaN</td>\n",
       "      <td>NaN</td>\n",
       "      <td>NaN</td>\n",
       "      <td>NaN</td>\n",
       "      <td>602040.45</td>\n",
       "      <td>4833238.58</td>\n",
       "      <td>43.645143</td>\n",
       "      <td>-121.734786</td>\n",
       "      <td>0</td>\n",
       "    </tr>\n",
       "    <tr>\n",
       "      <th>139</th>\n",
       "      <td>2246</td>\n",
       "      <td>7</td>\n",
       "      <td>B12</td>\n",
       "      <td>NaN</td>\n",
       "      <td>NaN</td>\n",
       "      <td>0</td>\n",
       "      <td>BLUE</td>\n",
       "      <td>2864</td>\n",
       "      <td>1</td>\n",
       "      <td>C</td>\n",
       "      <td>...</td>\n",
       "      <td>NaN</td>\n",
       "      <td>NaN</td>\n",
       "      <td>NaN</td>\n",
       "      <td>NaN</td>\n",
       "      <td>NaN</td>\n",
       "      <td>603629.16</td>\n",
       "      <td>4841098.82</td>\n",
       "      <td>43.715680</td>\n",
       "      <td>-121.713581</td>\n",
       "      <td>0</td>\n",
       "    </tr>\n",
       "  </tbody>\n",
       "</table>\n",
       "<p>5 rows × 123 columns</p>\n",
       "</div>"
      ],
      "text/plain": [
       "     ADDRKEY ADDRQUAL AREA ASBLT  AUXVALVE  BARRELSIZE   COLOR  \\\n",
       "65      1494  20 - 22  B31   NaN       NaN           0    BLUE   \n",
       "76      1509       16  B31   NaN       NaN           0    BLUE   \n",
       "126     2226       56  B31   NaN       NaN           0    BLUE   \n",
       "138   211559      NaN  B06   NaN       NaN           0  ORANGE   \n",
       "139     2246        7  B12   NaN       NaN           0    BLUE   \n",
       "\n",
       "     IMSRO_COMPHY_COMPKEY  COMPLEXKEY DISTRICT  ...  EMEQPMNTCL  EMEQPMNTTP  \\\n",
       "65                   1673           1        C  ...         NaN         NaN   \n",
       "76                   1696           1        C  ...         NaN         NaN   \n",
       "126                  2847           1        C  ...         NaN         NaN   \n",
       "138                  2863           1        C  ...         NaN         NaN   \n",
       "139                  2864           1        C  ...         NaN         NaN   \n",
       "\n",
       "    EMASSTDESC  EMCOND  EMCONDDATE XCOORD_float  YCOORD_float   Latitude  \\\n",
       "65         NaN     NaN         NaN    597828.69    4841977.83  43.724380   \n",
       "76         NaN     NaN         NaN    596099.18    4844170.61  43.744345   \n",
       "126        NaN     NaN         NaN    596309.85    4841454.28  43.719866   \n",
       "138        NaN     NaN         NaN    602040.45    4833238.58  43.645143   \n",
       "139        NaN     NaN         NaN    603629.16    4841098.82  43.715680   \n",
       "\n",
       "      Longitude Geo_Cluster  \n",
       "65  -121.785410           0  \n",
       "76  -121.806486           0  \n",
       "126 -121.804357           0  \n",
       "138 -121.734786           0  \n",
       "139 -121.713581           0  \n",
       "\n",
       "[5 rows x 123 columns]"
      ]
     },
     "execution_count": 14,
     "metadata": {},
     "output_type": "execute_result"
    }
   ],
   "source": [
    "copied_all_hydrants_df.head()"
   ]
  },
  {
   "cell_type": "code",
   "execution_count": 15,
   "id": "a8c61d07-6f72-4204-98d8-f3a762012656",
   "metadata": {
    "collapsed": false,
    "jupyter": {
     "outputs_hidden": false,
     "source_hidden": false
    },
    "microsoft": {
     "language": "python",
     "language_group": "synapse_pyspark"
    },
    "nteract": {
     "transient": {
      "deleting": false
     }
    }
   },
   "outputs": [
    {
     "data": {
      "text/plain": [
       "count    2389.0\n",
       "mean        0.0\n",
       "std         0.0\n",
       "min         0.0\n",
       "25%         0.0\n",
       "50%         0.0\n",
       "75%         0.0\n",
       "max         0.0\n",
       "Name: Geo_Cluster, dtype: float64"
      ]
     },
     "execution_count": 15,
     "metadata": {},
     "output_type": "execute_result"
    }
   ],
   "source": [
    "copied_all_hydrants_df['Geo_Cluster'].describe()"
   ]
  },
  {
   "cell_type": "code",
   "execution_count": 16,
   "id": "c786e8ac-6ab5-4413-b43e-a960680e4ed8",
   "metadata": {
    "collapsed": false,
    "jupyter": {
     "outputs_hidden": false,
     "source_hidden": false
    },
    "microsoft": {
     "language": "python",
     "language_group": "synapse_pyspark"
    },
    "nteract": {
     "transient": {
      "deleting": false
     }
    }
   },
   "outputs": [
    {
     "name": "stdout",
     "output_type": "stream",
     "text": [
      "(2389, 123)\n"
     ]
    },
    {
     "data": {
      "text/plain": [
       "(2389, 123)"
      ]
     },
     "execution_count": 16,
     "metadata": {},
     "output_type": "execute_result"
    }
   ],
   "source": [
    "print(copied_all_hydrants_df.shape)\n",
    "na_copied_all_hydrants_df = copy.deepcopy(copied_all_hydrants_df)\n",
    "na_copied_all_hydrants_df.shape"
   ]
  },
  {
   "cell_type": "code",
   "execution_count": null,
   "id": "0b190491-1338-4bca-ba47-26ac885eb929",
   "metadata": {
    "collapsed": false,
    "jupyter": {
     "outputs_hidden": false,
     "source_hidden": false
    },
    "microsoft": {
     "language": "python",
     "language_group": "synapse_pyspark"
    },
    "nteract": {
     "transient": {
      "deleting": false
     }
    },
    "scrolled": true
   },
   "outputs": [],
   "source": [
    "# copied_all_hydrants_df = copied_all_hydrants_df.fillna('Unknown')\n",
    "# copied_all_hydrants_df"
   ]
  },
  {
   "cell_type": "code",
   "execution_count": 17,
   "id": "75d802b6-8656-4c71-a777-793bd2d90684",
   "metadata": {
    "collapsed": false,
    "jupyter": {
     "outputs_hidden": false,
     "source_hidden": false
    },
    "microsoft": {
     "language": "python",
     "language_group": "synapse_pyspark"
    },
    "nteract": {
     "transient": {
      "deleting": false
     }
    }
   },
   "outputs": [],
   "source": [
    "knn_copied_all_hydrants_df = copy.deepcopy(copied_all_hydrants_df)"
   ]
  },
  {
   "cell_type": "code",
   "execution_count": 18,
   "id": "f08868f9-fa32-4efd-9c08-e645fc1f1338",
   "metadata": {
    "collapsed": false,
    "jupyter": {
     "outputs_hidden": false,
     "source_hidden": false
    },
    "microsoft": {
     "language": "python",
     "language_group": "synapse_pyspark"
    },
    "nteract": {
     "transient": {
      "deleting": false
     }
    }
   },
   "outputs": [
    {
     "data": {
      "text/plain": [
       "count       2389\n",
       "unique        12\n",
       "top       1 YEAR\n",
       "freq        1221\n",
       "Name: FLSHFRE, dtype: object"
      ]
     },
     "execution_count": 18,
     "metadata": {},
     "output_type": "execute_result"
    }
   ],
   "source": [
    "copied_all_hydrants_df['FLSHFRE'].describe()"
   ]
  },
  {
   "cell_type": "code",
   "execution_count": 19,
   "id": "4007cffb-8bb8-45a8-bb1f-c6ce4c593958",
   "metadata": {
    "collapsed": false,
    "jupyter": {
     "outputs_hidden": false,
     "source_hidden": false
    },
    "microsoft": {
     "language": "python",
     "language_group": "synapse_pyspark"
    },
    "nteract": {
     "transient": {
      "deleting": false
     }
    }
   },
   "outputs": [
    {
     "data": {
      "text/plain": [
       "array(['1 YEAR', '3 MONTHS', '6 MONTHS', '3 DAYS', '1 WEEK', '4 MONTHS',\n",
       "       '2 WEEKS', '1 MONTH', '2 MONTHS', '3 WEEKS', '2 DAYS', 'DAILY'],\n",
       "      dtype=object)"
      ]
     },
     "execution_count": 19,
     "metadata": {},
     "output_type": "execute_result"
    }
   ],
   "source": [
    "copied_all_hydrants_df['FLSHFRE'].unique()"
   ]
  },
  {
   "cell_type": "code",
   "execution_count": 20,
   "id": "a8ca79e5-7126-477e-8752-89afc4ebe05c",
   "metadata": {},
   "outputs": [],
   "source": [
    "# Specifying columns in the dataset that we will clean for missing data and outliers\n",
    "all_hy_columns_to_adjust = ['PRESSMIN', 'PRESSMAX']\n",
    "flush_hist_columns_to_adjust = ['FLSHVOL', 'FLSHDUR']"
   ]
  },
  {
   "cell_type": "markdown",
   "id": "efb8ef3b-09f4-4e2d-8572-1837cef269a9",
   "metadata": {},
   "source": [
    "### Imputing Missing Values"
   ]
  },
  {
   "cell_type": "code",
   "execution_count": 21,
   "id": "7d7aec48-9022-446a-aeb7-fd0ed50da3ca",
   "metadata": {},
   "outputs": [
    {
     "name": "stdout",
     "output_type": "stream",
     "text": [
      "Column: PRESSMIN\n",
      "65     60.7656\n",
      "76     72.6852\n",
      "126    65.7167\n",
      "138    73.0940\n",
      "139    72.6360\n",
      "143    54.7469\n",
      "154    70.7205\n",
      "304    72.4360\n",
      "309    83.3325\n",
      "312    89.5256\n",
      "324    70.7652\n",
      "328    61.8132\n",
      "329    61.9111\n",
      "340    72.3439\n",
      "349    54.0032\n",
      "355    61.4530\n",
      "363    55.9765\n",
      "394        NaN\n",
      "402    70.9262\n",
      "403    67.7282\n",
      "413    77.3031\n",
      "449    58.9533\n",
      "459    80.5179\n",
      "469    72.5541\n",
      "475    65.7466\n",
      "480    49.2915\n",
      "486    75.6050\n",
      "595    62.5853\n",
      "636    77.2544\n",
      "639    73.1378\n",
      "679    41.6938\n",
      "693    74.2959\n",
      "696        NaN\n",
      "750    84.6836\n",
      "753    81.6176\n",
      "777    63.8080\n",
      "785    58.6898\n",
      "793    48.2959\n",
      "796    55.2642\n",
      "843    63.4781\n",
      "854    72.3948\n",
      "883    64.5949\n",
      "916    97.9277\n",
      "962    69.4346\n",
      "969    78.2441\n",
      "981    59.9541\n",
      "989    53.0359\n",
      "995    50.4947\n",
      "996    52.4633\n",
      "998    53.7308\n",
      "Name: PRESSMIN, dtype: float64\n",
      "---------------------------------------------------------------\n",
      "Column: PRESSMAX\n",
      "65      83.1983\n",
      "76      72.7167\n",
      "126     84.3747\n",
      "138    113.7570\n",
      "139    113.5766\n",
      "143     69.2250\n",
      "154    109.9626\n",
      "304    113.3136\n",
      "309    106.7703\n",
      "312     98.4802\n",
      "324    110.1236\n",
      "328    102.5844\n",
      "329    102.6738\n",
      "340    113.1311\n",
      "349     94.6702\n",
      "355    102.2258\n",
      "363     95.3719\n",
      "394         NaN\n",
      "402     93.4649\n",
      "403     90.2546\n",
      "413    100.6243\n",
      "449     98.3835\n",
      "459     80.5683\n",
      "469    111.9355\n",
      "475    106.2308\n",
      "480     67.9939\n",
      "486    116.5721\n",
      "595    101.9810\n",
      "636    118.2438\n",
      "639    114.0851\n",
      "679     64.0837\n",
      "693     98.2714\n",
      "696         NaN\n",
      "750     93.7454\n",
      "753     90.6709\n",
      "777    103.7923\n",
      "785     97.5264\n",
      "793     87.3731\n",
      "796     63.7800\n",
      "843    102.9543\n",
      "854    111.7620\n",
      "883    104.8197\n",
      "916    138.9084\n",
      "962    108.6768\n",
      "969    101.5263\n",
      "981    100.6065\n",
      "989     93.7520\n",
      "995     91.1943\n",
      "996     93.1712\n",
      "998     94.4526\n",
      "Name: PRESSMAX, dtype: float64\n",
      "---------------------------------------------------------------\n"
     ]
    }
   ],
   "source": [
    "for col in columns_to_adjust:\n",
    "    print(f\"Column: {col}\")\n",
    "    print(copied_all_hydrants_df[col].head(50))\n",
    "    print(\"---------------------------------------------------------------\")"
   ]
  },
  {
   "cell_type": "code",
   "execution_count": 22,
   "id": "98add807-2343-4664-b899-8ed26667a0aa",
   "metadata": {},
   "outputs": [],
   "source": [
    "# Replaces missing values in a given column with the median of that column\n",
    "def impute_missing_vals(column):\n",
    "    median = copied_all_hydrants_df[column].median()\n",
    "    return copied_all_hydrants_df[column].fillna(median)"
   ]
  },
  {
   "cell_type": "code",
   "execution_count": 23,
   "id": "a7bad3f6-62e5-40e5-9797-e4b25a41c8a9",
   "metadata": {},
   "outputs": [
    {
     "name": "stdout",
     "output_type": "stream",
     "text": [
      "Column: PRESSMIN_adjusted\n",
      "65     60.7656\n",
      "76     72.6852\n",
      "126    65.7167\n",
      "138    73.0940\n",
      "139    72.6360\n",
      "143    54.7469\n",
      "154    70.7205\n",
      "304    72.4360\n",
      "309    83.3325\n",
      "312    89.5256\n",
      "324    70.7652\n",
      "328    61.8132\n",
      "329    61.9111\n",
      "340    72.3439\n",
      "349    54.0032\n",
      "355    61.4530\n",
      "363    55.9765\n",
      "394    68.2433\n",
      "402    70.9262\n",
      "403    67.7282\n",
      "413    77.3031\n",
      "449    58.9533\n",
      "459    80.5179\n",
      "469    72.5541\n",
      "475    65.7466\n",
      "480    49.2915\n",
      "486    75.6050\n",
      "595    62.5853\n",
      "636    77.2544\n",
      "639    73.1378\n",
      "679    41.6938\n",
      "693    74.2959\n",
      "696    68.2433\n",
      "750    84.6836\n",
      "753    81.6176\n",
      "777    63.8080\n",
      "785    58.6898\n",
      "793    48.2959\n",
      "796    55.2642\n",
      "843    63.4781\n",
      "854    72.3948\n",
      "883    64.5949\n",
      "916    97.9277\n",
      "962    69.4346\n",
      "969    78.2441\n",
      "981    59.9541\n",
      "989    53.0359\n",
      "995    50.4947\n",
      "996    52.4633\n",
      "998    53.7308\n",
      "Name: PRESSMIN_adjusted, dtype: float64\n",
      "---------------------------------------------------------------\n",
      "Column: PRESSMAX_adjusted\n",
      "65      83.1983\n",
      "76      72.7167\n",
      "126     84.3747\n",
      "138    113.7570\n",
      "139    113.5766\n",
      "143     69.2250\n",
      "154    109.9626\n",
      "304    113.3136\n",
      "309    106.7703\n",
      "312     98.4802\n",
      "324    110.1236\n",
      "328    102.5844\n",
      "329    102.6738\n",
      "340    113.1311\n",
      "349     94.6702\n",
      "355    102.2258\n",
      "363     95.3719\n",
      "394     88.9342\n",
      "402     93.4649\n",
      "403     90.2546\n",
      "413    100.6243\n",
      "449     98.3835\n",
      "459     80.5683\n",
      "469    111.9355\n",
      "475    106.2308\n",
      "480     67.9939\n",
      "486    116.5721\n",
      "595    101.9810\n",
      "636    118.2438\n",
      "639    114.0851\n",
      "679     64.0837\n",
      "693     98.2714\n",
      "696     88.9342\n",
      "750     93.7454\n",
      "753     90.6709\n",
      "777    103.7923\n",
      "785     97.5264\n",
      "793     87.3731\n",
      "796     63.7800\n",
      "843    102.9543\n",
      "854    111.7620\n",
      "883    104.8197\n",
      "916    138.9084\n",
      "962    108.6768\n",
      "969    101.5263\n",
      "981    100.6065\n",
      "989     93.7520\n",
      "995     91.1943\n",
      "996     93.1712\n",
      "998     94.4526\n",
      "Name: PRESSMAX_adjusted, dtype: float64\n",
      "---------------------------------------------------------------\n"
     ]
    }
   ],
   "source": [
    "# Imputes missing values for each of the columns we want to clean\n",
    "for col in columns_to_adjust:\n",
    "    copied_all_hydrants_df[f'{col}_adjusted'] = impute_missing_vals(col)\n",
    "    print(f\"Column: {col}_adjusted\")\n",
    "    print(copied_all_hydrants_df[f'{col}_adjusted'].head(50))\n",
    "    print(\"---------------------------------------------------------------\")"
   ]
  },
  {
   "cell_type": "markdown",
   "id": "657ce2e7-f6f1-4f03-b019-dd51385ff0f1",
   "metadata": {},
   "source": [
    "### Detecting and Replacing Outliers\n",
    "To mitigate bias in the model"
   ]
  },
  {
   "cell_type": "code",
   "execution_count": 26,
   "id": "28fcde9e-c502-4067-832e-6316491abd10",
   "metadata": {},
   "outputs": [],
   "source": [
    "import seaborn as sns\n",
    "from matplotlib import pyplot as plt\n",
    "\n",
    "# Replaces all outliers within a given column with the median of that column\n",
    "def replace_outliers(column):\n",
    "    # Creates a box and whisker plot to visualize data points that are considered to be outliers\n",
    "    sns.boxplot(copied_all_hydrants_df[f'{column}_adjusted'])\n",
    "    plt.title(f\"Original Box and Whisker Plot for {column}_adjusted\")\n",
    "    plt.show()\n",
    "    \n",
    "    # Computing the first, second (median), and third quartiles\n",
    "    q1 = copied_all_hydrants_df[f'{column}_adjusted'].quantile(0.25)\n",
    "    q2 = copied_all_hydrants_df[f'{column}_adjusted'].quantile(0.5)\n",
    "    q3 = copied_all_hydrants_df[f'{column}_adjusted'].quantile(0.75)\n",
    "\n",
    "    print(f\"First quartile is {q1}\")\n",
    "    print(f\"Median is {q2}\")\n",
    "    print(f\"Third quartile is {q3}\")\n",
    "    \n",
    "    # Computing the interquartile range\n",
    "    iqr = q3 - q1\n",
    "\n",
    "    # Values that are lower than the lower fence or higher than the upper fence are considered to be outliers\n",
    "    lower_fence = q1 - (1.5 * iqr)\n",
    "    upper_fence = q3 + (1.5 * iqr)\n",
    "\n",
    "    print(f\"Lower fence is {lower_fence}\")\n",
    "    print(f\"Upper fence is {upper_fence}\")\n",
    "\n",
    "    # Replace outliers with the median\n",
    "    copied_all_hydrants_df[f'{column}_adjusted'] = [x if lower_fence <= x <= upper_fence else q2 for x in copied_all_hydrants_df[f'{column}_adjusted']]\n",
    "    \n",
    "    # Replace outliers with the nearest value\n",
    "    \"\"\"\n",
    "    return [x if lower_bound <= x <= upper_bound else \n",
    "            (lower_bound if x < lower_bound else upper_bound)\n",
    "    \"\"\"\n",
    "    \n",
    "    # New box and whisker plot with outliers adjusted\n",
    "    sns.boxplot(copied_all_hydrants_df[f'{col}_adjusted'])\n",
    "    plt.title(f\"New Box and Whisker Plot for {col}\")\n",
    "    plt.show()"
   ]
  },
  {
   "cell_type": "code",
   "execution_count": 27,
   "id": "bdac3fcf-d32f-4a45-b9bb-52df1724918b",
   "metadata": {},
   "outputs": [
    {
     "data": {
      "image/png": "[encoded data removed]",
      "text/plain": [
       "<Figure size 640x480 with 1 Axes>"
      ]
     },
     "metadata": {},
     "output_type": "display_data"
    },
    {
     "name": "stdout",
     "output_type": "stream",
     "text": [
      "First quartile is 60.0837\n",
      "Median is 68.2433\n",
      "Third quartile is 77.3243\n",
      "Lower fence is 34.22280000000001\n",
      "Upper fence is 103.18519999999998\n"
     ]
    },
    {
     "data": {
      "image/png": "[encoded data removed]",
      "text/plain": [
       "<Figure size 640x480 with 1 Axes>"
      ]
     },
     "metadata": {},
     "output_type": "display_data"
    }
   ],
   "source": [
    "replace_outliers('PRESSMIN')"
   ]
  },
  {
   "cell_type": "code",
   "execution_count": 34,
   "id": "f865de2d-a58e-4faf-8f69-775e1b481f68",
   "metadata": {},
   "outputs": [
    {
     "data": {
      "image/png": "[encoded data removed]",
      "text/plain": [
       "<Figure size 640x480 with 1 Axes>"
      ]
     },
     "metadata": {},
     "output_type": "display_data"
    },
    {
     "name": "stdout",
     "output_type": "stream",
     "text": [
      "First quartile is 77.7497\n",
      "Median is 88.9342\n",
      "Third quartile is 98.2124\n",
      "Lower fence is 47.05565000000001\n",
      "Upper fence is 128.90645\n"
     ]
    },
    {
     "data": {
      "image/png": "[encoded data removed]",
      "text/plain": [
       "<Figure size 640x480 with 1 Axes>"
      ]
     },
     "metadata": {},
     "output_type": "display_data"
    }
   ],
   "source": [
    "replace_outliers('PRESSMAX')"
   ]
  },
  {
   "cell_type": "markdown",
   "id": "b28034ae-f5cb-4774-9798-b529eec9c7f2",
   "metadata": {},
   "source": [
    "### Log Transformations\n",
    "To normalize the data"
   ]
  },
  {
   "cell_type": "code",
   "execution_count": 47,
   "id": "cd57316b-1c1a-447c-82ad-3c37edfa040a",
   "metadata": {},
   "outputs": [
    {
     "data": {
      "text/plain": [
       "5         15.0\n",
       "6          1.0\n",
       "7         18.0\n",
       "8         10.0\n",
       "9          6.0\n",
       "          ... \n",
       "116803    13.0\n",
       "116804     1.0\n",
       "116805    26.0\n",
       "116806    20.0\n",
       "116807     7.0\n",
       "Name: FLSHVOL, Length: 113727, dtype: float64"
      ]
     },
     "execution_count": 47,
     "metadata": {},
     "output_type": "execute_result"
    }
   ],
   "source": [
    "import numpy as np\n",
    "copied_flushing_history_df['FLSHVOL_log'] = (copied_flushing_history_df['FLSHVOL']+1).transform(np.log)"
   ]
  },
  {
   "cell_type": "code",
   "execution_count": 48,
   "id": "f0049dc0-3fe9-4ebc-b7e3-f4c0190bbcb3",
   "metadata": {},
   "outputs": [],
   "source": [
    "copied_flushing_history_df['FLSHDUR_log'] = (copied_flushing_history_df['FLSHDUR']+1).transform(np.log)"
   ]
  },
  {
   "cell_type": "markdown",
   "id": "a73a54a8-22e7-44d1-838a-c77575cc3a9c",
   "metadata": {},
   "source": [
    "### Binning"
   ]
  },
  {
   "cell_type": "code",
   "execution_count": null,
   "id": "219d41de-4600-4ec4-ab3a-32333497be0c",
   "metadata": {},
   "outputs": [],
   "source": []
  },
  {
   "cell_type": "markdown",
   "id": "1fec542d-fb92-4a3d-b0e3-65472cb21008",
   "metadata": {},
   "source": [
    "### One Hot Encoding\n",
    "\n",
    "Extracting the letter from AREA"
   ]
  },
  {
   "cell_type": "code",
   "execution_count": 14,
   "id": "938bb69f-8097-4637-be99-9f4d7345fd0e",
   "metadata": {},
   "outputs": [
    {
     "name": "stdout",
     "output_type": "stream",
     "text": [
      "      AREA Letters\n",
      "0      B21       B\n",
      "1      B21       B\n",
      "2      B21       B\n",
      "3      B21       B\n",
      "4      B20       B\n",
      "...    ...     ...\n",
      "40539  S35       S\n",
      "40540  S35       S\n",
      "40541  S35       S\n",
      "40542  S35       S\n",
      "40543  B34       B\n",
      "\n",
      "[40544 rows x 2 columns]\n"
     ]
    },
    {
     "name": "stderr",
     "output_type": "stream",
     "text": [
      "/tmp/ipykernel_6250/4014954066.py:2: DtypeWarning: Columns (33,50,57,91) have mixed types. Specify dtype option on import or set low_memory=False.\n",
      "  df = pd.read_csv(\"Qry_AllHY.csv\")\n"
     ]
    }
   ],
   "source": [
    "# Loading your data into a DataFrame\n",
    "df = pd.read_csv(\"Qry_AllHY.csv\")\n",
    "\n",
    "# Extracting only the letters from the AREA column\n",
    "df['Letters'] = df['AREA'].str.extract(r'([A-Za-z]+)', expand=False)\n",
    "\n",
    "# Displaying the resulting DataFrame with only the letters\n",
    "print(df[['AREA', 'Letters']])"
   ]
  },
  {
   "cell_type": "markdown",
   "id": "d0d34731",
   "metadata": {},
   "source": [
    "One-hot encoding the letters"
   ]
  },
  {
   "cell_type": "code",
   "execution_count": 16,
   "id": "3c79b9ff",
   "metadata": {},
   "outputs": [
    {
     "name": "stdout",
     "output_type": "stream",
     "text": [
      "Original DataFrame with extracted letters and one-hot encoded columns:\n",
      "   ADDRKEY            ADDRQUAL AREA ASBLT  AUXVALVE  BARRELSIZE COLOR  \\\n",
      "0     1893   1ST W BRAMALEA RD  B21   NaN       NaN           0  BLUE   \n",
      "1     1893  1ST E  HILLDALE CR  B21   NaN       NaN           0  BLUE   \n",
      "2     3430     CENTRAL PARK DR  B21   NaN       NaN           0  BLUE   \n",
      "3     1893          500-CHURCH  B21   NaN       NaN           0  BLUE   \n",
      "4     1893   1ST E BRAMALEA RD  B20   NaN       NaN           0  BLUE   \n",
      "\n",
      "   IMSRO_COMPHY_COMPKEY  COMPLEXKEY DISTRICT  ...  EMEQPMNTTP  EMASSTDESC  \\\n",
      "0                  2237           1        C  ...         NaN         NaN   \n",
      "1                  2240           1        C  ...         NaN         NaN   \n",
      "2                  2241           1        C  ...         NaN         NaN   \n",
      "3                  2243           1        C  ...         NaN         NaN   \n",
      "4                  2244           1        C  ...         NaN         NaN   \n",
      "\n",
      "  EMCOND  EMCONDDATE  Letters Letters_AAAA  Letters_B Letters_C  Letters_S  \\\n",
      "0    NaN         NaN        B          0.0        1.0       0.0        0.0   \n",
      "1    NaN         NaN        B          0.0        1.0       0.0        0.0   \n",
      "2    NaN         NaN        B          0.0        1.0       0.0        0.0   \n",
      "3    NaN         NaN        B          0.0        1.0       0.0        0.0   \n",
      "4    NaN         NaN        B          0.0        1.0       0.0        0.0   \n",
      "\n",
      "  Letters_nan  \n",
      "0         0.0  \n",
      "1         0.0  \n",
      "2         0.0  \n",
      "3         0.0  \n",
      "4         0.0  \n",
      "\n",
      "[5 rows x 124 columns]\n"
     ]
    }
   ],
   "source": [
    "import pandas as pd\n",
    "from sklearn.preprocessing import OneHotEncoder\n",
    "from sklearn.decomposition import PCA\n",
    "\n",
    "# One-hot encoding the letters\n",
    "encoder = OneHotEncoder(sparse_output=False)\n",
    "encoded_letters = encoder.fit_transform(df[['Letters']])\n",
    "encoded_letters_df = pd.DataFrame(encoded_letters, columns=encoder.get_feature_names_out(['Letters']))\n",
    "\n",
    "# Combining the original DataFrame with the encoded letters\n",
    "df_combined = pd.concat([df, encoded_letters_df], axis=1)\n",
    "\n",
    "# Displaying the resulting DataFrame to ensure the columns are included\n",
    "print(\"Original DataFrame with extracted letters and one-hot encoded columns:\")\n",
    "print(df_combined.head())"
   ]
  },
  {
   "cell_type": "code",
   "execution_count": 27,
   "id": "e9162039",
   "metadata": {},
   "outputs": [],
   "source": [
    "#TODO: Ayan: Imputation for DECLREQD\n",
    "# Replacing blank values in the 'DECLREQD' column with the mode of the column\n",
    "copied_all_hydrants_df['DECLREQD'] = copied_all_hydrants_df['DECLREQD'].fillna(copied_all_hydrants_df['DECLREQD'].mode().iloc[0])"
   ]
  },
  {
   "cell_type": "code",
   "execution_count": 28,
   "id": "9373c8ea",
   "metadata": {},
   "outputs": [],
   "source": [
    "#TODO: Ella: Convert null to N for HYMARKER\n",
    "copied_all_hydrants_df['HYMARKER'] = copied_all_hydrants_df['HYMARKER'].fillna('N')"
   ]
  },
  {
   "cell_type": "code",
   "execution_count": 30,
   "id": "6ef3e0d1",
   "metadata": {},
   "outputs": [],
   "source": [
    "#TODO: Ayan: Impute the missing value for NONSCHE\n",
    "copied_all_hydrants_df['NONSCHE'] = copied_all_hydrants_df['NONSCHE'].fillna(copied_all_hydrants_df['NONSCHE'].mode().iloc[0])"
   ]
  },
  {
   "cell_type": "markdown",
   "id": "143fdb02-7bc9-4290-9e2b-f8cf9458b9e2",
   "metadata": {},
   "source": [
    "#### Detecting and Replacing Outliers"
   ]
  },
  {
   "cell_type": "code",
   "execution_count": null,
   "id": "4bcf11bf-8949-4a66-8f7c-c851dee052e0",
   "metadata": {},
   "outputs": [],
   "source": [
    "copied_all_hydrants_df['FEEDERLEN'] = replace_outliers(copied_all_hydrants_df, 'FEEDERLEN')"
   ]
  },
  {
   "cell_type": "markdown",
   "id": "a20d7337-787d-484b-8dcf-600fffac52ab",
   "metadata": {},
   "source": [
    "#### Binning"
   ]
  },
  {
   "cell_type": "code",
   "execution_count": null,
   "id": "c624535a-819b-46e9-8b1c-d582f11bf545",
   "metadata": {},
   "outputs": [],
   "source": [
    "#TODO: Jordan: Imputing the missing data for SUBAREA\n",
    "#TODO: Jordan: What are the differences between AREA, SUBAREA, COMMUN, WARDID. Which columns to keep and why?\n",
    "\n",
    "subarea_mode = copied_all_hydrants_df['SUBAREA'].mode()[0]\n",
    "copied_all_hydrants_df['SUBAREA'] = copied_all_hydrants_df['SUBAREA'].fillna(subarea_mode)\n",
    "print(copied_all_hydrants_df['SUBAREA'].isna().sum())"
   ]
  },
  {
   "cell_type": "code",
   "execution_count": null,
   "id": "dbb27046-4597-49f4-9a3a-8be883176c86",
   "metadata": {},
   "outputs": [],
   "source": [
    "# Extracting only the letters from the AREA column\n",
    "copied_all_hydrants_df['Letters'] = copied_all_hydrants_df['AREA'].str.extract(r'([A-Za-z]+)', expand=False)\n",
    "\n",
    "# Displaying the resulting DataFrame with only the letters\n",
    "print(copied_all_hydrants_df[['AREA', 'Letters']])"
   ]
  },
  {
   "cell_type": "code",
   "execution_count": null,
   "id": "ca8a4e5f-23bc-45fe-bde1-144e2d9c9564",
   "metadata": {},
   "outputs": [],
   "source": [
    "copied_all_hydrants_df[copied_all_hydrants_df['Letters'].isnull()]"
   ]
  },
  {
   "cell_type": "code",
   "execution_count": null,
   "id": "47620dd2-47d7-48ba-b5fd-aa5e8eff0648",
   "metadata": {},
   "outputs": [],
   "source": [
    "# Imputing the missing value with the most suitable value based on \n",
    "copied_all_hydrants_df['Letters'] = copied_all_hydrants_df['Letters'].fillna(\"S\")"
   ]
  },
  {
   "cell_type": "code",
   "execution_count": 29,
   "id": "7ae47a5d",
   "metadata": {},
   "outputs": [
    {
     "name": "stdout",
     "output_type": "stream",
     "text": [
      "['CENTURY' 'M67' 'D67' 'M59M' '2700' 'B50' 'M59' 'UNKNOWN' 'BRIGADIER'\n",
      " 'B-05' 'B20-B24' 'CAN-VAL' 'C' '3 PORT' 'SL GATE' '27/100' 'SENTINEL'\n",
      " 'DARLING' 'AVK' 'MACAVITY' 'MCAVITY' 'BRIDGADIER M67B' 'M-67B']\n",
      "0\n"
     ]
    }
   ],
   "source": [
    "#TODO: Jordan: Clean up the values in MODEL column (group those that are of similar values but in different forms) & fill the null value with UNKNOWN - Done\n",
    "#TODO: ELla to clean up the grouping\n",
    "\n",
    "# Standardize the values in the MODELNO column\n",
    "copied_all_hydrants_df['MODELNO'] = copied_all_hydrants_df['MODELNO'].str.strip().str.upper()\n",
    "\n",
    "# Fill missing values with 'UNKNOWN'\n",
    "copied_all_hydrants_df['MODELNO'] = copied_all_hydrants_df['MODELNO'].fillna('UNKNOWN')"
   ]
  },
  {
   "cell_type": "code",
   "execution_count": null,
   "id": "19d75119-ee96-4b36-9f4c-d0ad4ee1af57",
   "metadata": {},
   "outputs": [],
   "source": [
    "# Define a mapping for similar model numbers\n",
    "modelno_mapping = {\n",
    "    'BRIGADIER': [\n",
    "        'BRIG', 'BRIGADIER', 'BRIGADIER M67', 'BRIGADEER', 'BRIGADERE', \n",
    "        'BRIGD', 'BRIGA', 'BRIGADIER M64', 'BRIGADIER M67B', \n",
    "        'BRIGADIER M67B-002', 'BRIGIDAR', 'BRIGIDERE', 'BRIGG', 'BRIG.', 'brig', 'brig.', 'Brig'\n",
    "    ],\n",
    "    'CENTURY': [\n",
    "        'CENTURY', 'century', 'CEN', 'CENT', 'CENTRY', 'CENTRUY', \n",
    "        'CENURY', 'CENTY', 'CENTRYY', 'CENRTY', 'CCENTURY', 'c entury', 'CEN.'\n",
    "    ],\n",
    "    '27/100': ['27/100', '27-100', '27-00', '27/00', 'B52700'],\n",
    "    'M67': [\n",
    "        'M67', 'M67B', 'M67B-002', 'M67-B', 'M67 BRIG', 'M67 BRIGADIER', \n",
    "        'M67 BRIGADIER', 'M67-BRIG', 'M67D', 'M67E', 'M67Y', 'M67m', \n",
    "        'M67\\r\\nM67', 'M-67', 'M67M', 'M 67', 'M67-brig.', 'm67', 'm67b'\n",
    "    ],\n",
    "    'D67': ['D67', 'D67M', 'D-67', 'D-67M', 'D67m', 'D57M'],\n",
    "    'B50': [\n",
    "        'B50', 'B50-B24', 'B50-B18', 'B50-B-24', 'B-50-B', \n",
    "        'B-50', 'B67', 'B560-B24', 'B50B'\n",
    "    ],\n",
    "    'C': ['C', 'C61', 'C61A'],\n",
    "    '3 PORT': [\n",
    "        '#5', '5', '3', '3-PORT', '3 PORT', '3 PORTS', '3PORT BRIGADIER', \n",
    "        '3PORT BRIGADIER M67B', '3PORT BRIGADIER M67B', 'M3', \n",
    "        'M-93', 'SIGELOCK SPARTAN', 'THREE PORT', 'TWO PORT'\n",
    "    ]\n",
    "    # Add more mappings as needed\n",
    "}"
   ]
  },
  {
   "cell_type": "code",
   "execution_count": null,
   "id": "d577d51f-d30e-4d1a-b6a1-3c1d322dc69d",
   "metadata": {},
   "outputs": [],
   "source": [
    "# Reverse the mapping for easy replacement\n",
    "reverse_modelno_mapping = {}\n",
    "for key, values in modelno_mapping.items():\n",
    "    for value in values:\n",
    "        reverse_modelno_mapping[value] = key\n",
    "\n",
    "# Apply the mapping to the MODELNO column\n",
    "copied_all_hydrants_df['MODELNO'] = copied_all_hydrants_df['MODELNO'].replace(reverse_modelno_mapping)\n",
    "\n",
    "# Verify the changes\n",
    "print(copied_all_hydrants_df['MODELNO'].unique())\n",
    "print(copied_all_hydrants_df['MODELNO'].isna().sum())\n",
    "\n",
    "# Save the cleaned dataset\n",
    "copied_all_hydrants_df.to_csv('cleaned_hydrantcheck.csv', index=False)"
   ]
  },
  {
   "cell_type": "markdown",
   "id": "a599a1b2-e5ac-4388-8af5-23a604933873",
   "metadata": {},
   "source": [
    "#### One Hot Encoding"
   ]
  },
  {
   "cell_type": "code",
   "execution_count": null,
   "id": "1a20e333-3287-4ccc-b69b-fa68a8e88ccc",
   "metadata": {},
   "outputs": [],
   "source": [
    "from sklearn.preprocessing import OneHotEncoder\n",
    "\n",
    "# One-hot encoding the letters\n",
    "encoder = OneHotEncoder(sparse_output=False)\n",
    "encoded_letters = encoder.fit_transform(copied_all_hydrants_df[['Letters']])\n",
    "encoded_letters_df = pd.DataFrame(encoded_letters, columns=encoder.get_feature_names_out(['Letters']))\n",
    "\n",
    "# Combining the original DataFrame with the encoded letters\n",
    "copied_all_hydrants_df = pd.concat([copied_all_hydrants_df, encoded_letters_df], axis=1)\n",
    "\n",
    "# Displaying the resulting DataFrame to ensure the columns are included\n",
    "print(\"Original DataFrame with extracted letters and one-hot encoded columns:\\n\")\n",
    "print(copied_all_hydrants_df.head())"
   ]
  },
  {
   "cell_type": "markdown",
   "id": "a328b20b-74dd-4ed9-93fb-2824ed37455c",
   "metadata": {},
   "source": [
    "#### Extracting Dates"
   ]
  },
  {
   "cell_type": "code",
   "execution_count": 105,
   "id": "347cadcc",
   "metadata": {},
   "outputs": [],
   "source": [
    "#TODO: Ella + Jordan: For INSTDATE: Convert year 9999 to null, then see whether we can use the ADDDTTM and/or the first time a hydrant was flushed in the history table to fill this info in. After filling in the info, delete ADDTTM\n",
    "# Then calculate the age of the asset and delete INSTDATE column\n",
    "\n",
    "# Converting date column to datetime and extracting the year\n",
    "copied_all_hydrants_df['INSTDATE'] = pd.to_datetime(copied_all_hydrants_df['INSTDATE'], errors='coerce').dt.year\n",
    "\n",
    "# Displaying the resulting DataFrame\n",
    "print(copied_all_hydrants_df['INSTDATE'].head())"
   ]
  },
  {
   "cell_type": "code",
   "execution_count": null,
   "id": "6b082cf2-6f9e-421c-9089-7d1278bbd3c4",
   "metadata": {},
   "outputs": [],
   "source": [
    "from datetime import datetime\n",
    "\n",
    "# Get the current year\n",
    "current_date = datetime.now().date()\n",
    "\n",
    "# Calculate the age\n",
    "copied_all_hydrants_df['AGE'] = current_year - copied_all_hydrants_df['INSTDATE']\n",
    "\n",
    "# If INSTDATE was missing, AGE will be NaN\n",
    "copied_all_hydrants_df['AGE'] = copied_all_hydrants_df['AGE'].fillna(-1)  # Filling with -1 to indicate missing ages, you can choose other strategies\n",
    "\n",
    "print(copied_all_hydrants_df[['INSTDATE', 'AGE']].head(100))"
   ]
  },
  {
   "cell_type": "code",
   "execution_count": null,
   "id": "59ece4cd-1868-406c-b2a4-dbbf49e57d84",
   "metadata": {},
   "outputs": [],
   "source": [
    "def convert_to_days(frequency):\n",
    "    if pd.isna(frequency):\n",
    "        return None\n",
    "    frequency = frequency.upper().strip()\n",
    "    if 'DAY' in frequency:\n",
    "        return int(frequency.split()[0])\n",
    "    elif 'DAILY' in frequency:\n",
    "        return 1\n",
    "    elif 'WEEK' in frequency:\n",
    "        return int(frequency.split()[0]) * 7\n",
    "    elif 'MONTH' in frequency:\n",
    "        return int(frequency.split()[0]) * 30\n",
    "    elif 'YEAR' in frequency:\n",
    "        return int(frequency.split()[0]) * 365\n",
    "    else:\n",
    "        return None  # For any unknown frequency format"
   ]
  },
  {
   "cell_type": "code",
   "execution_count": null,
   "id": "b9405f50-ab83-4273-93c2-cf9e0ad1298e",
   "metadata": {},
   "outputs": [],
   "source": [
    "# Apply the conversion function\n",
    "copied_all_hydrants_df['FLSHFRE_DAYS'] = copied_all_hydrants_df['FLSHFRE'].apply(convert_to_days)\n",
    "print(copied_all_hydrants_df[['FLSHFRE', 'FLSHFRE_DAYS']].head())\n",
    "\n",
    "print(copied_all_hydrants_df['FLSHFRE_DAYS'].unique())\n",
    "print(copied_all_hydrants_df['FLSHFRE'].unique())"
   ]
  },
  {
   "cell_type": "markdown",
   "id": "259e803c-2d69-4cce-b651-a87f4bf9677c",
   "metadata": {},
   "source": [
    "### Merging the datasets\n",
    "\n",
    "Using the COMPKEY column from both datasets to merge the datasets together"
   ]
  },
  {
   "cell_type": "code",
   "execution_count": 31,
   "id": "9a9df519",
   "metadata": {},
   "outputs": [],
   "source": [
    "#TODO: Ayan to find the right column to merge the 2 datasets. After merging, delete all the ...KEY columns (identification columns) in the merge df\n",
    "\n",
    "# Renaming the column so that the name is the same in both datasets\n",
    "copied_all_hydrants_df.rename(columns={'IMSRO_COMPHY_COMPKEY': 'COMPKEY'}, inplace=True)"
   ]
  },
  {
   "cell_type": "code",
   "execution_count": 32,
   "id": "5ac3ac59",
   "metadata": {},
   "outputs": [],
   "source": [
    "# Merging the DataFrames based on the 'COMPKEY' column - similar to a SQL left outer join\n",
    "merged_df = pd.merge(copied_all_hydrants_df, copied_flushing_history_df, on='COMPKEY', how='right', indicator=True)\n",
    "\n",
    "# Removing the COMPKEY column now that we don't need it\n",
    "merged_df.drop(['COMPKEY'], axis=1, inplace=True)\n",
    "\n",
    "# Save the result to a new Excel file\n",
    "merged_df.to_excel('merged_dataset.xlsx', index=False)"
   ]
  },
  {
   "cell_type": "markdown",
   "id": "59576b60-3b61-4254-9e03-57b424f7d685",
   "metadata": {},
   "source": [
    "### Feature Selection\n",
    "Using mutual Information"
   ]
  },
  {
   "cell_type": "code",
   "execution_count": null,
   "id": "f3f6408b-449b-47b2-b99e-d5c2de3a49d7",
   "metadata": {},
   "outputs": [],
   "source": [
    "from sklearn.feature_selection import mutual_info_classif"
   ]
  },
  {
   "cell_type": "markdown",
   "id": "9ab9ce51",
   "metadata": {},
   "source": [
    "### Splitting the data into training and testing sets"
   ]
  },
  {
   "cell_type": "code",
   "execution_count": null,
   "id": "22eebe0e-014a-42b9-b8b4-d1f0699721fe",
   "metadata": {},
   "outputs": [],
   "source": [
    "# The class to split the data into training and testing sets\n",
    "from sklearn.model_selection import train_test_split\n",
    "# Separating the dataset by features (independent variables) and target (dependent variable)\n",
    "# x = merged_df[]\n",
    "# y = merged_df['FLSHFRE']"
   ]
  },
  {
   "cell_type": "code",
   "execution_count": null,
   "id": "48a9d49c-1fd6-44b4-bf22-6b0f064b00e2",
   "metadata": {},
   "outputs": [],
   "source": [
    "# Separating each of X and Y datasets into training and testing sets\n",
    "# Fraction of data to be used for testing; the rest is to be used for training\n",
    "test_size = 0.3\n",
    "random_state = 42\n",
    "\n",
    "x_train, x_test, y_train, y_test = train_test_split(x, y, test_size=test_size, random_state=random_state)"
   ]
  },
  {
   "cell_type": "markdown",
   "id": "4d5b8148-c6c2-465d-9330-1b8fb4ab08a3",
   "metadata": {},
   "source": [
    "### Scaling the Data"
   ]
  },
  {
   "cell_type": "code",
   "execution_count": null,
   "id": "1bd5ecb8-9c87-48a0-b249-9cc07d4a71e5",
   "metadata": {},
   "outputs": [],
   "source": [
    "# Importing the class to use for scaling the data\n",
    "from sklearn.preprocessing import MinMaxScaler\n",
    "\n",
    "# Instantiating a MinMaxScaler object\n",
    "scaler = MinMaxScaler()\n",
    "# Fitting the scaler to the training features\n",
    "scaler.fit(x_train)\n",
    "# Scaling the training and testing features\n",
    "x_train = scaler.transform(x_train)\n",
    "x_test = scaler.transform(x_test)"
   ]
  },
  {
   "cell_type": "markdown",
   "id": "b684b1eb-5933-4af9-8f1c-0f45773e3376",
   "metadata": {},
   "source": [
    "# Training the Model"
   ]
  },
  {
   "cell_type": "markdown",
   "id": "efa356e2",
   "metadata": {},
   "source": [
    "## Model 1: Linear Regression"
   ]
  },
  {
   "cell_type": "code",
   "execution_count": null,
   "id": "70d202e9-1370-44f1-b450-f6f4ad351f88",
   "metadata": {},
   "outputs": [],
   "source": [
    "from sklearn.linear_model import LinearRegression"
   ]
  },
  {
   "cell_type": "markdown",
   "id": "7e76adab-8af4-4d0d-8d25-4e2a08ba6e6f",
   "metadata": {},
   "source": [
    "### Hyperparameter Optimization"
   ]
  },
  {
   "cell_type": "code",
   "execution_count": null,
   "id": "62707aca-5830-49ea-a645-85c9866a4a64",
   "metadata": {},
   "outputs": [],
   "source": [
    "import optuna"
   ]
  },
  {
   "cell_type": "markdown",
   "id": "7e8debb8",
   "metadata": {},
   "source": [
    "## Model 2: XGBoost"
   ]
  },
  {
   "cell_type": "markdown",
   "id": "0e49b3b7-ad0a-4cb0-b9b9-939f66aaa48e",
   "metadata": {},
   "source": [
    "### Hyperparameter Optimization"
   ]
  },
  {
   "cell_type": "markdown",
   "id": "544c7749",
   "metadata": {},
   "source": [
    "## Model 3: Support Vector Regression"
   ]
  },
  {
   "cell_type": "markdown",
   "id": "d58a436c-1238-4e50-b41a-b9f123c087ec",
   "metadata": {},
   "source": [
    "### Hyperparameter Optimization"
   ]
  },
  {
   "cell_type": "markdown",
   "id": "6542cdee-8d9d-41d6-a6a2-41923dd5f845",
   "metadata": {},
   "source": [
    "## Model 4: Random Forest Regression"
   ]
  },
  {
   "cell_type": "markdown",
   "id": "24a95905-4e62-447e-8546-07402d8c468e",
   "metadata": {},
   "source": [
    "### Hyperparameter Optimization"
   ]
  },
  {
   "cell_type": "markdown",
   "id": "1e980389",
   "metadata": {},
   "source": [
    "# Result Comparison"
   ]
  },
  {
   "cell_type": "markdown",
   "id": "c93b2017-5cde-46d1-abb8-813143adea7f",
   "metadata": {},
   "source": [
    "## Comparing MSE (mean squared error)"
   ]
  },
  {
   "cell_type": "markdown",
   "id": "9641a27e-0e00-4ed6-8040-4b5eba2d4ee3",
   "metadata": {},
   "source": [
    "## Consider adjusting the train-test split for better results"
   ]
  },
  {
   "cell_type": "markdown",
   "id": "04269648-2d54-432a-a049-14da4abe0776",
   "metadata": {
    "jp-MarkdownHeadingCollapsed": true
   },
   "source": [
    "# Testing the Model"
   ]
  }
 ],
 "metadata": {
  "dependencies": {
   "lakehouse": {
    "default_lakehouse": "2580adb5-704c-444f-8038-daf0f6595eb6",
    "default_lakehouse_name": "EllaTesting",
    "default_lakehouse_workspace_id": "a8f3554f-0417-4db4-bf3d-627a7a3da2c5"
   }
  },
  "kernel_info": {
   "name": "synapse_pyspark"
  },
  "kernelspec": {
   "display_name": "Python 3 (ipykernel)",
   "language": "python",
   "name": "python3"
  },
  "language_info": {
   "codemirror_mode": {
    "name": "ipython",
    "version": 3
   },
   "file_extension": ".py",
   "mimetype": "text/x-python",
   "name": "python",
   "nbconvert_exporter": "python",
   "pygments_lexer": "ipython3",
   "version": "3.10.11"
  },
  "microsoft": {
   "language": "python",
   "language_group": "synapse_pyspark",
   "ms_spell_check": {
    "ms_spell_check_language": "en"
   }
  },
  "nteract": {
   "version": "nteract-front-end@1.0.0"
  },
  "spark_compute": {
   "compute_id": "/trident/default"
  },
  "widgets": {}
 },
 "nbformat": 4,
 "nbformat_minor": 5
}
