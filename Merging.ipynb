{
 "cells": [
  {
   "cell_type": "code",
   "execution_count": 1,
   "id": "e8ccf02d-5977-4eaf-9d56-5754fe62dcb3",
   "metadata": {},
   "outputs": [],
   "source": [
    "import pandas as pd"
   ]
  },
  {
   "cell_type": "code",
   "execution_count": 3,
   "id": "a7133266-b626-40cb-a032-c8cc6dfb5e71",
   "metadata": {},
   "outputs": [
    {
     "name": "stderr",
     "output_type": "stream",
     "text": [
      "C:\\Users\\26154\\AppData\\Local\\Temp\\1\\ipykernel_28004\\826349592.py:1: DtypeWarning: Columns (33,50,57,91) have mixed types. Specify dtype option on import or set low_memory=False.\n",
      "  all_hy_df = pd.read_csv('Qry_AllHY.csv')\n",
      "C:\\Users\\26154\\AppData\\Local\\Temp\\1\\ipykernel_28004\\826349592.py:2: DtypeWarning: Columns (0,4,5,15,23,24,63,64,65,66) have mixed types. Specify dtype option on import or set low_memory=False.\n",
      "  flush_hist_df = pd.read_csv('Qry_FlushHistory.csv')\n"
     ]
    }
   ],
   "source": [
    "all_hy_df = pd.read_csv('Qry_AllHY.csv')\n",
    "flush_hist_df = pd.read_csv('Qry_FlushHistory.csv')"
   ]
  },
  {
   "cell_type": "code",
   "execution_count": 4,
   "id": "7464154a-3fc7-461a-b69d-a2e45f4984c3",
   "metadata": {},
   "outputs": [],
   "source": [
    "all_hy_df.rename(columns={'IMSRO_COMPHY_COMPKEY': 'COMPKEY'}, inplace=True)"
   ]
  },
  {
   "cell_type": "code",
   "execution_count": 6,
   "id": "33847f4c-01b5-4491-af7a-b06fc5fd4ffb",
   "metadata": {},
   "outputs": [],
   "source": [
    "# Merge the dataframes based on the 'COMPKEY' column\n",
    "result = pd.merge(all_hy_df, flush_hist_df, on='COMPKEY', how='left')\n",
    "\n",
    "# Save the result to a new Excel file\n",
    "result.to_excel('combined_spreadsheet.xlsx', index=False)"
   ]
  }
 ],
 "metadata": {
  "kernelspec": {
   "display_name": "Python 3 (ipykernel)",
   "language": "python",
   "name": "python3"
  },
  "language_info": {
   "codemirror_mode": {
    "name": "ipython",
    "version": 3
   },
   "file_extension": ".py",
   "mimetype": "text/x-python",
   "name": "python",
   "nbconvert_exporter": "python",
   "pygments_lexer": "ipython3",
   "version": "3.10.11"
  }
 },
 "nbformat": 4,
 "nbformat_minor": 5
}
