{
 "cells": [
  {
   "cell_type": "code",
   "execution_count": 10,
   "id": "e5afabac-61b7-43d0-8f4a-3b059ad99742",
   "metadata": {},
   "outputs": [],
   "source": [
    "import pandas as pd\n",
    "import numpy as np"
   ]
  },
  {
   "cell_type": "code",
   "execution_count": 21,
   "id": "b060f92f-53df-46ba-bd4e-a13593078478",
   "metadata": {},
   "outputs": [
    {
     "name": "stderr",
     "output_type": "stream",
     "text": [
      "C:\\Users\\26154\\AppData\\Local\\Temp\\1\\ipykernel_5132\\2154655908.py:2: DtypeWarning: Columns (0,4,5,15,23,24,63,64,65,66) have mixed types. Specify dtype option on import or set low_memory=False.\n",
      "  df = pd.read_csv('Qry_FlushHistory.csv')\n"
     ]
    }
   ],
   "source": [
    "# Load the spreadsheet\n",
    "df = pd.read_csv('Qry_FlushHistory.csv')\n",
    "\n",
    "# Sort the dataframe by COMPKEY\n",
    "df = df.sort_values('COMPKEY')"
   ]
  },
  {
   "cell_type": "code",
   "execution_count": 16,
   "id": "d3ae7a3b-1aa7-4eb7-b2fe-3f001c15dc85",
   "metadata": {},
   "outputs": [
    {
     "name": "stderr",
     "output_type": "stream",
     "text": [
      "C:\\Users\\26154\\AppData\\Local\\Temp\\1\\ipykernel_5132\\690981006.py:1: FutureWarning: A value is trying to be set on a copy of a DataFrame or Series through chained assignment using an inplace method.\n",
      "The behavior will change in pandas 3.0. This inplace method will never work because the intermediate object on which we are setting values always behaves as a copy.\n",
      "\n",
      "For example, when doing 'df[col].method(value, inplace=True)', try using 'df.method({col: value}, inplace=True)' or df[col] = df[col].method(value) instead, to perform the operation inplace on the original object.\n",
      "\n",
      "\n",
      "  df['COMMUN'].fillna(method='ffill', inplace=True)\n",
      "C:\\Users\\26154\\AppData\\Local\\Temp\\1\\ipykernel_5132\\690981006.py:1: FutureWarning: Series.fillna with 'method' is deprecated and will raise in a future version. Use obj.ffill() or obj.bfill() instead.\n",
      "  df['COMMUN'].fillna(method='ffill', inplace=True)\n"
     ]
    }
   ],
   "source": [
    "df['COMMUN'].fillna(method='ffill', inplace=True)"
   ]
  },
  {
   "cell_type": "code",
   "execution_count": 22,
   "id": "c071ccfb-09fb-461d-a4d4-61ad33fcc7c8",
   "metadata": {},
   "outputs": [],
   "source": [
    "# df['COMMUN'].ffill(inplace=True)\n",
    "\n",
    "df['COMMUN'] = df['COMMUN'].ffill()"
   ]
  },
  {
   "cell_type": "code",
   "execution_count": 23,
   "id": "ea859d0d-170a-4122-93e5-28ef009be42d",
   "metadata": {},
   "outputs": [],
   "source": [
    "df.to_excel('imputed_commun.xlsx')"
   ]
  }
 ],
 "metadata": {
  "kernelspec": {
   "display_name": "Python 3 (ipykernel)",
   "language": "python",
   "name": "python3"
  },
  "language_info": {
   "codemirror_mode": {
    "name": "ipython",
    "version": 3
   },
   "file_extension": ".py",
   "mimetype": "text/x-python",
   "name": "python",
   "nbconvert_exporter": "python",
   "pygments_lexer": "ipython3",
   "version": "3.10.11"
  }
 },
 "nbformat": 4,
 "nbformat_minor": 5
}
