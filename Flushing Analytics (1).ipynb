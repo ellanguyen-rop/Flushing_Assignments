{
 "cells": [
  {
   "cell_type": "markdown",
   "id": "6d9b011a-a83b-4b45-8f8e-a0c8e2d6ff0b",
   "metadata": {
    "jp-MarkdownHeadingCollapsed": true,
    "nteract": {
     "transient": {
      "deleting": false
     }
    }
   },
   "source": [
    "# ****FLUSHING ANALYTICS****\n"
   ]
  },
  {
   "cell_type": "markdown",
   "id": "a53669f1-b6c4-4b27-9160-af4070c835f4",
   "metadata": {
    "jp-MarkdownHeadingCollapsed": true
   },
   "source": [
    "# Installing Dependencies"
   ]
  },
  {
   "cell_type": "code",
   "execution_count": 106,
   "id": "f1ab0c63-1cd9-4a7b-81c3-e133a0dd98bd",
   "metadata": {
    "collapsed": false,
    "jupyter": {
     "outputs_hidden": false,
     "source_hidden": false
    },
    "microsoft": {
     "language": "python",
     "language_group": "synapse_pyspark"
    },
    "nteract": {
     "transient": {
      "deleting": false
     }
    },
    "scrolled": true
   },
   "outputs": [],
   "source": [
    "# %pip install pandas\n",
    "# %pip install pyproj\n",
    "# %pip install scikit-learn\n",
    "# %pip install openpyxl\n",
    "# %pip install matplotlib\n",
    "# %pip install seaborn"
   ]
  },
  {
   "cell_type": "code",
   "execution_count": 107,
   "id": "e877692e-ae23-41ed-a63e-fca1b33b2fe6",
   "metadata": {
    "scrolled": true
   },
   "outputs": [],
   "source": [
    "# %pip install xgboost\n",
    "# %pip install optuna"
   ]
  },
  {
   "cell_type": "markdown",
   "id": "e5b8b28a-96d6-4a59-93b3-05d6ca472c0f",
   "metadata": {},
   "source": [
    "# Preparing the Data"
   ]
  },
  {
   "cell_type": "markdown",
   "id": "cee90e9b-f835-4faa-93b7-af6c4d81243c",
   "metadata": {
    "jp-MarkdownHeadingCollapsed": true
   },
   "source": [
    "## Loading and exploring the datasets"
   ]
  },
  {
   "cell_type": "code",
   "execution_count": 108,
   "id": "c8a29292-94e8-45d4-b23c-657292cb967b",
   "metadata": {
    "collapsed": false,
    "jupyter": {
     "outputs_hidden": false,
     "source_hidden": false
    },
    "microsoft": {
     "language": "python",
     "language_group": "synapse_pyspark"
    },
    "nteract": {
     "transient": {
      "deleting": false
     }
    }
   },
   "outputs": [
    {
     "name": "stderr",
     "output_type": "stream",
     "text": [
      "C:\\Users\\26154\\AppData\\Local\\Temp\\1\\ipykernel_23712\\881486883.py:20: DtypeWarning: Columns (33,50,57,91) have mixed types. Specify dtype option on import or set low_memory=False.\n",
      "  all_hydrants_df = pd.read_csv(all_hydrants_filepath)\n",
      "C:\\Users\\26154\\AppData\\Local\\Temp\\1\\ipykernel_23712\\881486883.py:21: DtypeWarning: Columns (0,4,5,15,23,24,63,64,65,66) have mixed types. Specify dtype option on import or set low_memory=False.\n",
      "  flushing_history_df = pd.read_csv(flushing_history_filepath)\n"
     ]
    }
   ],
   "source": [
    "# Importing dependencies\n",
    "import pandas as pd\n",
    "import matplotlib.pyplot as plt\n",
    "import numpy as np\n",
    "import copy\n",
    "\n",
    "from sklearn.model_selection import train_test_split\n",
    "from sklearn.linear_model import LinearRegression\n",
    "from sklearn.metrics import mean_squared_error as mse\n",
    "from pyproj import Proj, transform\n",
    "\n",
    "# file_path = '/EllaTesting/Files/Repairs_2018_2023.xlsx'\n",
    "\n",
    "# print(file_path)\n",
    "\n",
    "# Creating DataFrames from spreadsheets\n",
    "all_hydrants_filepath = \"Qry_AllHY.csv\"\n",
    "flushing_history_filepath = \"Qry_FlushHistory.csv\"\n",
    "\n",
    "all_hydrants_df = pd.read_csv(all_hydrants_filepath)\n",
    "flushing_history_df = pd.read_csv(flushing_history_filepath)"
   ]
  },
  {
   "cell_type": "markdown",
   "id": "cf8127dc",
   "metadata": {},
   "source": [
    "## Data Cleaning and Preprocessing"
   ]
  },
  {
   "cell_type": "markdown",
   "id": "591c3da6",
   "metadata": {
    "jp-MarkdownHeadingCollapsed": true
   },
   "source": [
    "### Data Cleaning - History Table"
   ]
  },
  {
   "cell_type": "code",
   "execution_count": 109,
   "id": "069a26ac-5e98-4c5b-91ff-451e1fce419d",
   "metadata": {
    "collapsed": false,
    "jupyter": {
     "outputs_hidden": false,
     "source_hidden": false
    },
    "microsoft": {
     "language": "python",
     "language_group": "synapse_pyspark"
    },
    "nteract": {
     "transient": {
      "deleting": false
     }
    }
   },
   "outputs": [],
   "source": [
    "# Creating a copy of the Flushing History DataFrame\n",
    "copied_flushing_history_df = copy.deepcopy(flushing_history_df)"
   ]
  },
  {
   "cell_type": "code",
   "execution_count": 110,
   "id": "c431e8b0",
   "metadata": {},
   "outputs": [],
   "source": [
    "#delete all unnecessary columns\n",
    "copied_flushing_history_df = copied_flushing_history_df.drop(columns={'FLSHTIME3', 'FLSHTIME4', 'FLSHTIME5', 'FLSHTIME6', 'FLSHTIME7', 'FLSHTIME8', 'FLSHTIME9', 'FLSHTIME10', 'FLSHTIME11', 'FLSHVOL1', 'FLSHVOL2', 'FLSHVOL3', 'FLSHVOL4', 'FLSHVOL5', 'FLSHVOL6', 'FLSHVOL7', 'FLSHVOL8', 'FLSHVOL9', 'FLSHVOL10', 'FLSHVOL11', 'CLFREE3', \n",
    "                                                                      'CLFREE4', 'CLFREE5', 'CLFREE6', 'CLFREE7', 'CLFREE8', 'CLFREE9', 'CLFREE10', 'CLFREE11', 'CLTOTL3', 'CLTOTL4', 'CLTOTL5', 'CLTOTL6', 'CLTOTL7', 'CLTOTL8', 'CLTOTL9', 'CLTOTL10', 'CLTOTL11', 'ADDBY', 'ADDDTTM', 'MODBY', 'MODDTTM', 'REMARKS', 'FLSHTIME', 'FLUSHNC', 'NFREASON',  \n",
    "                                                                      'CLTOTL1', 'CLTOTL2', 'CLTOTL', 'UNSCEHDLD',  'ALTERNATE'})"
   ]
  },
  {
   "cell_type": "markdown",
   "id": "569daf14-6807-4677-b40e-b448897e070d",
   "metadata": {
    "jp-MarkdownHeadingCollapsed": true
   },
   "source": [
    "#### Inspecting the data"
   ]
  },
  {
   "cell_type": "code",
   "execution_count": 111,
   "id": "e807a4ff",
   "metadata": {},
   "outputs": [
    {
     "data": {
      "text/plain": [
       "(116808, 16)"
      ]
     },
     "execution_count": 111,
     "metadata": {},
     "output_type": "execute_result"
    }
   ],
   "source": [
    "copied_flushing_history_df.shape"
   ]
  },
  {
   "cell_type": "code",
   "execution_count": 112,
   "id": "0f81e1cb",
   "metadata": {},
   "outputs": [],
   "source": [
    "copied_flushing_history_df = copied_flushing_history_df.dropna(subset=['FLSHFRE', 'FLSHDATE', 'CLFREE', 'PHREAD', 'FLSHVOL', 'FLSHDUR', 'COMPKEY'])"
   ]
  },
  {
   "cell_type": "code",
   "execution_count": 113,
   "id": "116290fc",
   "metadata": {},
   "outputs": [
    {
     "data": {
      "text/plain": [
       "(112606, 16)"
      ]
     },
     "execution_count": 113,
     "metadata": {},
     "output_type": "execute_result"
    }
   ],
   "source": [
    "copied_flushing_history_df.shape"
   ]
  },
  {
   "cell_type": "code",
   "execution_count": 114,
   "id": "563090c3",
   "metadata": {
    "scrolled": true
   },
   "outputs": [
    {
     "data": {
      "text/html": [
       "<div>\n",
       "<style scoped>\n",
       "    .dataframe tbody tr th:only-of-type {\n",
       "        vertical-align: middle;\n",
       "    }\n",
       "\n",
       "    .dataframe tbody tr th {\n",
       "        vertical-align: top;\n",
       "    }\n",
       "\n",
       "    .dataframe thead th {\n",
       "        text-align: right;\n",
       "    }\n",
       "</style>\n",
       "<table border=\"1\" class=\"dataframe\">\n",
       "  <thead>\n",
       "    <tr style=\"text-align: right;\">\n",
       "      <th></th>\n",
       "      <th>INSPKEY</th>\n",
       "      <th>GRIDKEY</th>\n",
       "      <th>FLSHFRE</th>\n",
       "      <th>FLSHDATE</th>\n",
       "      <th>CLFREE</th>\n",
       "      <th>PHREAD</th>\n",
       "      <th>FLSHVOL</th>\n",
       "      <th>FLSHDUR</th>\n",
       "      <th>INSPBY</th>\n",
       "      <th>CLFREE1</th>\n",
       "      <th>CLFREE2</th>\n",
       "      <th>WWNUM</th>\n",
       "      <th>COMMUN</th>\n",
       "      <th>COMPKEY</th>\n",
       "      <th>FLSHTIME1</th>\n",
       "      <th>FLSHTIME2</th>\n",
       "    </tr>\n",
       "  </thead>\n",
       "  <tbody>\n",
       "    <tr>\n",
       "      <th>6</th>\n",
       "      <td>965966</td>\n",
       "      <td>19046430</td>\n",
       "      <td>1 WEEK</td>\n",
       "      <td>2019-04-23</td>\n",
       "      <td>1.18</td>\n",
       "      <td>7.92</td>\n",
       "      <td>1.000</td>\n",
       "      <td>5.0</td>\n",
       "      <td>61535</td>\n",
       "      <td>NaN</td>\n",
       "      <td>NaN</td>\n",
       "      <td>WW220003993</td>\n",
       "      <td>CD</td>\n",
       "      <td>805425.0</td>\n",
       "      <td>NaN</td>\n",
       "      <td>NaN</td>\n",
       "    </tr>\n",
       "    <tr>\n",
       "      <th>7</th>\n",
       "      <td>972209</td>\n",
       "      <td>19048814</td>\n",
       "      <td>1 MONTH</td>\n",
       "      <td>2019-04-25</td>\n",
       "      <td>1.66</td>\n",
       "      <td>7.90</td>\n",
       "      <td>18.000</td>\n",
       "      <td>10.0</td>\n",
       "      <td>65673</td>\n",
       "      <td>1.67</td>\n",
       "      <td>NaN</td>\n",
       "      <td>WW220003993</td>\n",
       "      <td>CV</td>\n",
       "      <td>9876.0</td>\n",
       "      <td>15:05</td>\n",
       "      <td>NaN</td>\n",
       "    </tr>\n",
       "    <tr>\n",
       "      <th>8</th>\n",
       "      <td>972253</td>\n",
       "      <td>19048815</td>\n",
       "      <td>1 MONTH</td>\n",
       "      <td>2019-04-25</td>\n",
       "      <td>1.33</td>\n",
       "      <td>7.51</td>\n",
       "      <td>10.000</td>\n",
       "      <td>10.0</td>\n",
       "      <td>65673</td>\n",
       "      <td>1.30</td>\n",
       "      <td>NaN</td>\n",
       "      <td>WW260002590</td>\n",
       "      <td>CR</td>\n",
       "      <td>540642.0</td>\n",
       "      <td>09:55</td>\n",
       "      <td>NaN</td>\n",
       "    </tr>\n",
       "    <tr>\n",
       "      <th>9</th>\n",
       "      <td>965951</td>\n",
       "      <td>19048816</td>\n",
       "      <td>1 WEEK</td>\n",
       "      <td>2019-04-29</td>\n",
       "      <td>1.69</td>\n",
       "      <td>7.50</td>\n",
       "      <td>6.000</td>\n",
       "      <td>5.0</td>\n",
       "      <td>65673</td>\n",
       "      <td>NaN</td>\n",
       "      <td>NaN</td>\n",
       "      <td>WW260002590</td>\n",
       "      <td>CT</td>\n",
       "      <td>531455.0</td>\n",
       "      <td>NaN</td>\n",
       "      <td>NaN</td>\n",
       "    </tr>\n",
       "    <tr>\n",
       "      <th>10</th>\n",
       "      <td>965955</td>\n",
       "      <td>19048817</td>\n",
       "      <td>2 WEEKS</td>\n",
       "      <td>2019-04-30</td>\n",
       "      <td>1.67</td>\n",
       "      <td>7.86</td>\n",
       "      <td>10.000</td>\n",
       "      <td>10.0</td>\n",
       "      <td>65673</td>\n",
       "      <td>1.64</td>\n",
       "      <td>NaN</td>\n",
       "      <td>WW220003993</td>\n",
       "      <td>CV</td>\n",
       "      <td>541072.0</td>\n",
       "      <td>10:50</td>\n",
       "      <td>NaN</td>\n",
       "    </tr>\n",
       "    <tr>\n",
       "      <th>11</th>\n",
       "      <td>965950</td>\n",
       "      <td>19048818</td>\n",
       "      <td>1 WEEK</td>\n",
       "      <td>2019-04-30</td>\n",
       "      <td>0.72</td>\n",
       "      <td>8.09</td>\n",
       "      <td>23.000</td>\n",
       "      <td>15.0</td>\n",
       "      <td>65673</td>\n",
       "      <td>0.77</td>\n",
       "      <td>0.82</td>\n",
       "      <td>WW260094120</td>\n",
       "      <td>CB</td>\n",
       "      <td>528297.0</td>\n",
       "      <td>09:40</td>\n",
       "      <td>09:45</td>\n",
       "    </tr>\n",
       "    <tr>\n",
       "      <th>12</th>\n",
       "      <td>970581</td>\n",
       "      <td>19048819</td>\n",
       "      <td>2 WEEKS</td>\n",
       "      <td>2019-05-01</td>\n",
       "      <td>1.09</td>\n",
       "      <td>8.21</td>\n",
       "      <td>1.000</td>\n",
       "      <td>5.0</td>\n",
       "      <td>61535</td>\n",
       "      <td>NaN</td>\n",
       "      <td>NaN</td>\n",
       "      <td>WW260094120</td>\n",
       "      <td>CB</td>\n",
       "      <td>9986.0</td>\n",
       "      <td>NaN</td>\n",
       "      <td>NaN</td>\n",
       "    </tr>\n",
       "    <tr>\n",
       "      <th>13</th>\n",
       "      <td>970575</td>\n",
       "      <td>19048820</td>\n",
       "      <td>2 WEEKS</td>\n",
       "      <td>2019-05-01</td>\n",
       "      <td>1.11</td>\n",
       "      <td>8.31</td>\n",
       "      <td>1.000</td>\n",
       "      <td>5.0</td>\n",
       "      <td>61535</td>\n",
       "      <td>NaN</td>\n",
       "      <td>NaN</td>\n",
       "      <td>WW260094120</td>\n",
       "      <td>CCC</td>\n",
       "      <td>9263.0</td>\n",
       "      <td>NaN</td>\n",
       "      <td>NaN</td>\n",
       "    </tr>\n",
       "    <tr>\n",
       "      <th>14</th>\n",
       "      <td>965730</td>\n",
       "      <td>19048821</td>\n",
       "      <td>3 DAYS</td>\n",
       "      <td>2019-03-01</td>\n",
       "      <td>0.92</td>\n",
       "      <td>7.69</td>\n",
       "      <td>1.194</td>\n",
       "      <td>20.0</td>\n",
       "      <td>35832</td>\n",
       "      <td>NaN</td>\n",
       "      <td>NaN</td>\n",
       "      <td>WW260094120</td>\n",
       "      <td>B</td>\n",
       "      <td>7781.0</td>\n",
       "      <td>NaN</td>\n",
       "      <td>NaN</td>\n",
       "    </tr>\n",
       "    <tr>\n",
       "      <th>15</th>\n",
       "      <td>965730</td>\n",
       "      <td>19048822</td>\n",
       "      <td>3 DAYS</td>\n",
       "      <td>2019-04-30</td>\n",
       "      <td>0.42</td>\n",
       "      <td>7.89</td>\n",
       "      <td>5.000</td>\n",
       "      <td>13.0</td>\n",
       "      <td>68527</td>\n",
       "      <td>0.71</td>\n",
       "      <td>NaN</td>\n",
       "      <td>WW260094120</td>\n",
       "      <td>B</td>\n",
       "      <td>7781.0</td>\n",
       "      <td>07:40</td>\n",
       "      <td>NaN</td>\n",
       "    </tr>\n",
       "  </tbody>\n",
       "</table>\n",
       "</div>"
      ],
      "text/plain": [
       "    INSPKEY   GRIDKEY  FLSHFRE    FLSHDATE  CLFREE  PHREAD  FLSHVOL  FLSHDUR  \\\n",
       "6    965966  19046430   1 WEEK  2019-04-23    1.18    7.92    1.000      5.0   \n",
       "7    972209  19048814  1 MONTH  2019-04-25    1.66    7.90   18.000     10.0   \n",
       "8    972253  19048815  1 MONTH  2019-04-25    1.33    7.51   10.000     10.0   \n",
       "9    965951  19048816   1 WEEK  2019-04-29    1.69    7.50    6.000      5.0   \n",
       "10   965955  19048817  2 WEEKS  2019-04-30    1.67    7.86   10.000     10.0   \n",
       "11   965950  19048818   1 WEEK  2019-04-30    0.72    8.09   23.000     15.0   \n",
       "12   970581  19048819  2 WEEKS  2019-05-01    1.09    8.21    1.000      5.0   \n",
       "13   970575  19048820  2 WEEKS  2019-05-01    1.11    8.31    1.000      5.0   \n",
       "14   965730  19048821   3 DAYS  2019-03-01    0.92    7.69    1.194     20.0   \n",
       "15   965730  19048822   3 DAYS  2019-04-30    0.42    7.89    5.000     13.0   \n",
       "\n",
       "   INSPBY  CLFREE1  CLFREE2        WWNUM COMMUN   COMPKEY FLSHTIME1 FLSHTIME2  \n",
       "6   61535      NaN      NaN  WW220003993     CD  805425.0       NaN       NaN  \n",
       "7   65673     1.67      NaN  WW220003993     CV    9876.0     15:05       NaN  \n",
       "8   65673     1.30      NaN  WW260002590     CR  540642.0     09:55       NaN  \n",
       "9   65673      NaN      NaN  WW260002590     CT  531455.0       NaN       NaN  \n",
       "10  65673     1.64      NaN  WW220003993     CV  541072.0     10:50       NaN  \n",
       "11  65673     0.77     0.82  WW260094120     CB  528297.0     09:40     09:45  \n",
       "12  61535      NaN      NaN  WW260094120     CB    9986.0       NaN       NaN  \n",
       "13  61535      NaN      NaN  WW260094120    CCC    9263.0       NaN       NaN  \n",
       "14  35832      NaN      NaN  WW260094120      B    7781.0       NaN       NaN  \n",
       "15  68527     0.71      NaN  WW260094120      B    7781.0     07:40       NaN  "
      ]
     },
     "execution_count": 114,
     "metadata": {},
     "output_type": "execute_result"
    }
   ],
   "source": [
    "copied_flushing_history_df.head(10)"
   ]
  },
  {
   "cell_type": "code",
   "execution_count": 115,
   "id": "5faca8c1",
   "metadata": {},
   "outputs": [],
   "source": [
    "copied_flushing_history_df.to_csv('historycheck.csv', index=False)"
   ]
  },
  {
   "cell_type": "markdown",
   "id": "b03bbecc-7078-4262-b61f-7312a4b7ceea",
   "metadata": {},
   "source": [
    "**Imputing Missing Categorical Values**"
   ]
  },
  {
   "cell_type": "code",
   "execution_count": 116,
   "id": "4d1c2199",
   "metadata": {},
   "outputs": [],
   "source": [
    "#TODO: Ayan: Use the COMPKEY to fill out the missing values in COMMUN\n",
    "# Sorting the DataFrame by COMPKEY, as there is a pattern between COMPKEY values and COMMUN values\n",
    "copied_flushing_history_df = copied_flushing_history_df.sort_values('COMPKEY')\n",
    "\n",
    "# Imputing every missing value with the value that came before it in the sorted DataFrame\n",
    "copied_flushing_history_df['COMMUN'] = copied_flushing_history_df['COMMUN'].ffill()"
   ]
  },
  {
   "cell_type": "markdown",
   "id": "5df1f930-16ff-4042-bbd5-dfecaff617b5",
   "metadata": {},
   "source": [
    "**Imputing Missing Numerical Values**"
   ]
  },
  {
   "cell_type": "code",
   "execution_count": 117,
   "id": "40e27ca4-b851-4e38-bd4a-2ff0a4e0142e",
   "metadata": {},
   "outputs": [],
   "source": [
    "# Imputing missing values in the FLSHVOL and FLSHDUR columns with the median of the column\n",
    "copied_flushing_history_df['FLSHVOL'] = copied_flushing_history_df['FLSHVOL'].fillna(copied_flushing_history_df['FLSHVOL'].median())\n",
    "copied_flushing_history_df['FLSHDUR'] = copied_flushing_history_df['FLSHDUR'].fillna(copied_flushing_history_df['FLSHDUR'].median())"
   ]
  },
  {
   "cell_type": "markdown",
   "id": "149889bf-3240-488e-9c7c-f95f5cdf29e6",
   "metadata": {},
   "source": [
    "**Detecting and Replacing Outliers**"
   ]
  },
  {
   "cell_type": "code",
   "execution_count": 118,
   "id": "6c61cef1",
   "metadata": {},
   "outputs": [],
   "source": [
    "# For visualizing the box and whisker plot\n",
    "import seaborn as sns\n",
    "\n",
    "# Replaces all outliers within a given column with the median of that column\n",
    "def replace_outliers(df, column):\n",
    "    # Creates a box and whisker plot to visualize data points that are considered to be outliers\n",
    "    sns.boxplot(df[column])\n",
    "    plt.title(f\"Original Box and Whisker Plot for {column}\")\n",
    "    plt.show()\n",
    "    \n",
    "    # Computing the first, second (median), and third quartiles\n",
    "    q1 = df[column].quantile(0.25)\n",
    "    q2 = df[column].quantile(0.5)\n",
    "    q3 = df[column].quantile(0.75)\n",
    "\n",
    "    print(f\"First quartile is {q1}\")\n",
    "    print(f\"Median is {q2}\")\n",
    "    print(f\"Third quartile is {q3}\")\n",
    "    \n",
    "    # Computing the interquartile range\n",
    "    iqr = q3 - q1\n",
    "\n",
    "    # Values that are lower than the lower fence or higher than the upper fence are considered to be outliers\n",
    "    lower_fence = q1 - (1.5 * iqr)\n",
    "    upper_fence = q3 + (1.5 * iqr)\n",
    "\n",
    "    print(f\"Lower fence is {lower_fence}\")\n",
    "    print(f\"Upper fence is {upper_fence}\")\n",
    "\n",
    "    # Replace outliers with the median\n",
    "    adjusted_column = [x if lower_fence <= x <= upper_fence else q2 for x in df[column]]\n",
    "    \n",
    "    # New box and whisker plot with outliers adjusted\n",
    "    sns.boxplot(adjusted_column)\n",
    "    plt.title(f\"New Box and Whisker Plot for {column}\")\n",
    "    plt.show()\n",
    "\n",
    "    return adjusted_column"
   ]
  },
  {
   "cell_type": "code",
   "execution_count": 119,
   "id": "97ac5e8c",
   "metadata": {},
   "outputs": [
    {
     "data": {
      "image/png": "[encoded data removed]",
      "text/plain": [
       "<Figure size 640x480 with 1 Axes>"
      ]
     },
     "metadata": {},
     "output_type": "display_data"
    },
    {
     "name": "stdout",
     "output_type": "stream",
     "text": [
      "First quartile is 5.0\n",
      "Median is 10.0\n",
      "Third quartile is 18.0\n",
      "Lower fence is -14.5\n",
      "Upper fence is 37.5\n"
     ]
    },
    {
     "data": {
      "image/png": "[encoded data removed]",
      "text/plain": [
       "<Figure size 640x480 with 1 Axes>"
      ]
     },
     "metadata": {},
     "output_type": "display_data"
    }
   ],
   "source": [
    "# Replacing outliers in the FLSHVOL column\n",
    "copied_flushing_history_df['FLSHVOL'] = replace_outliers(copied_flushing_history_df, 'FLSHVOL')"
   ]
  },
  {
   "cell_type": "code",
   "execution_count": 120,
   "id": "fecfea7d",
   "metadata": {},
   "outputs": [
    {
     "data": {
      "image/png": "[encoded data removed]",
      "text/plain": [
       "<Figure size 640x480 with 1 Axes>"
      ]
     },
     "metadata": {},
     "output_type": "display_data"
    },
    {
     "name": "stdout",
     "output_type": "stream",
     "text": [
      "First quartile is 10.0\n",
      "Median is 15.0\n",
      "Third quartile is 23.0\n",
      "Lower fence is -9.5\n",
      "Upper fence is 42.5\n"
     ]
    },
    {
     "data": {
      "image/png": "[encoded data removed]",
      "text/plain": [
       "<Figure size 640x480 with 1 Axes>"
      ]
     },
     "metadata": {},
     "output_type": "display_data"
    }
   ],
   "source": [
    "# Replacing outliers in the FLSHDUR column\n",
    "copied_flushing_history_df['FLSHDUR'] = replace_outliers(copied_flushing_history_df, 'FLSHDUR')"
   ]
  },
  {
   "cell_type": "markdown",
   "id": "1bbfb53d",
   "metadata": {},
   "source": [
    "### Data Cleaning - Hydrant Table"
   ]
  },
  {
   "cell_type": "code",
   "execution_count": 121,
   "id": "839c23eb-6269-4dd4-86ce-5c331080bbfa",
   "metadata": {
    "collapsed": false,
    "jupyter": {
     "outputs_hidden": false,
     "source_hidden": false
    },
    "microsoft": {
     "language": "python",
     "language_group": "synapse_pyspark"
    },
    "nteract": {
     "transient": {
      "deleting": false
     }
    }
   },
   "outputs": [],
   "source": [
    "# Creating a copy of the All Hydrants DataFrame\n",
    "copied_all_hydrants_df = copy.deepcopy(all_hydrants_df)"
   ]
  },
  {
   "cell_type": "code",
   "execution_count": 122,
   "id": "13d73105-14d9-4dd3-b45f-b2385183f7b3",
   "metadata": {
    "collapsed": false,
    "jupyter": {
     "outputs_hidden": false,
     "source_hidden": false
    },
    "microsoft": {
     "language": "python",
     "language_group": "synapse_pyspark"
    },
    "nteract": {
     "transient": {
      "deleting": false
     }
    }
   },
   "outputs": [
    {
     "data": {
      "text/html": [
       "<div>\n",
       "<style scoped>\n",
       "    .dataframe tbody tr th:only-of-type {\n",
       "        vertical-align: middle;\n",
       "    }\n",
       "\n",
       "    .dataframe tbody tr th {\n",
       "        vertical-align: top;\n",
       "    }\n",
       "\n",
       "    .dataframe thead th {\n",
       "        text-align: right;\n",
       "    }\n",
       "</style>\n",
       "<table border=\"1\" class=\"dataframe\">\n",
       "  <thead>\n",
       "    <tr style=\"text-align: right;\">\n",
       "      <th></th>\n",
       "      <th>ADDRKEY</th>\n",
       "      <th>AUXVALVE</th>\n",
       "      <th>BARRELSIZE</th>\n",
       "      <th>IMSRO_COMPHY_COMPKEY</th>\n",
       "      <th>COMPLEXKEY</th>\n",
       "      <th>FEEDERDIAM</th>\n",
       "      <th>FEEDERLEN</th>\n",
       "      <th>GISSTATIC</th>\n",
       "      <th>HT</th>\n",
       "      <th>INTKEY</th>\n",
       "      <th>...</th>\n",
       "      <th>EMASSTCRTL</th>\n",
       "      <th>EMASSTCRDT</th>\n",
       "      <th>EMASSTRISK</th>\n",
       "      <th>EMASTRSKDT</th>\n",
       "      <th>EMDISTRICT</th>\n",
       "      <th>EMEQPMNTCL</th>\n",
       "      <th>EMEQPMNTTP</th>\n",
       "      <th>EMASSTDESC</th>\n",
       "      <th>EMCOND</th>\n",
       "      <th>EMCONDDATE</th>\n",
       "    </tr>\n",
       "  </thead>\n",
       "  <tbody>\n",
       "    <tr>\n",
       "      <th>count</th>\n",
       "      <td>2389.000000</td>\n",
       "      <td>0.0</td>\n",
       "      <td>2389.0</td>\n",
       "      <td>2.389000e+03</td>\n",
       "      <td>2389.0</td>\n",
       "      <td>2389.000000</td>\n",
       "      <td>2389.000000</td>\n",
       "      <td>0.0</td>\n",
       "      <td>2389.0</td>\n",
       "      <td>2389.0</td>\n",
       "      <td>...</td>\n",
       "      <td>0.0</td>\n",
       "      <td>0.0</td>\n",
       "      <td>0.0</td>\n",
       "      <td>0.0</td>\n",
       "      <td>0.0</td>\n",
       "      <td>0.0</td>\n",
       "      <td>0.0</td>\n",
       "      <td>0.0</td>\n",
       "      <td>0.0</td>\n",
       "      <td>0.0</td>\n",
       "    </tr>\n",
       "    <tr>\n",
       "      <th>mean</th>\n",
       "      <td>81076.322729</td>\n",
       "      <td>NaN</td>\n",
       "      <td>0.0</td>\n",
       "      <td>3.362129e+05</td>\n",
       "      <td>1.0</td>\n",
       "      <td>63.729594</td>\n",
       "      <td>4.024884</td>\n",
       "      <td>NaN</td>\n",
       "      <td>0.0</td>\n",
       "      <td>1.0</td>\n",
       "      <td>...</td>\n",
       "      <td>NaN</td>\n",
       "      <td>NaN</td>\n",
       "      <td>NaN</td>\n",
       "      <td>NaN</td>\n",
       "      <td>NaN</td>\n",
       "      <td>NaN</td>\n",
       "      <td>NaN</td>\n",
       "      <td>NaN</td>\n",
       "      <td>NaN</td>\n",
       "      <td>NaN</td>\n",
       "    </tr>\n",
       "    <tr>\n",
       "      <th>std</th>\n",
       "      <td>122051.138142</td>\n",
       "      <td>NaN</td>\n",
       "      <td>0.0</td>\n",
       "      <td>4.165480e+05</td>\n",
       "      <td>0.0</td>\n",
       "      <td>74.163875</td>\n",
       "      <td>29.154112</td>\n",
       "      <td>NaN</td>\n",
       "      <td>0.0</td>\n",
       "      <td>0.0</td>\n",
       "      <td>...</td>\n",
       "      <td>NaN</td>\n",
       "      <td>NaN</td>\n",
       "      <td>NaN</td>\n",
       "      <td>NaN</td>\n",
       "      <td>NaN</td>\n",
       "      <td>NaN</td>\n",
       "      <td>NaN</td>\n",
       "      <td>NaN</td>\n",
       "      <td>NaN</td>\n",
       "      <td>NaN</td>\n",
       "    </tr>\n",
       "    <tr>\n",
       "      <th>min</th>\n",
       "      <td>1003.000000</td>\n",
       "      <td>NaN</td>\n",
       "      <td>0.0</td>\n",
       "      <td>1.002000e+03</td>\n",
       "      <td>1.0</td>\n",
       "      <td>0.000000</td>\n",
       "      <td>0.000000</td>\n",
       "      <td>NaN</td>\n",
       "      <td>0.0</td>\n",
       "      <td>1.0</td>\n",
       "      <td>...</td>\n",
       "      <td>NaN</td>\n",
       "      <td>NaN</td>\n",
       "      <td>NaN</td>\n",
       "      <td>NaN</td>\n",
       "      <td>NaN</td>\n",
       "      <td>NaN</td>\n",
       "      <td>NaN</td>\n",
       "      <td>NaN</td>\n",
       "      <td>NaN</td>\n",
       "      <td>NaN</td>\n",
       "    </tr>\n",
       "    <tr>\n",
       "      <th>25%</th>\n",
       "      <td>3243.000000</td>\n",
       "      <td>NaN</td>\n",
       "      <td>0.0</td>\n",
       "      <td>9.067000e+03</td>\n",
       "      <td>1.0</td>\n",
       "      <td>0.000000</td>\n",
       "      <td>1.200000</td>\n",
       "      <td>NaN</td>\n",
       "      <td>0.0</td>\n",
       "      <td>1.0</td>\n",
       "      <td>...</td>\n",
       "      <td>NaN</td>\n",
       "      <td>NaN</td>\n",
       "      <td>NaN</td>\n",
       "      <td>NaN</td>\n",
       "      <td>NaN</td>\n",
       "      <td>NaN</td>\n",
       "      <td>NaN</td>\n",
       "      <td>NaN</td>\n",
       "      <td>NaN</td>\n",
       "      <td>NaN</td>\n",
       "    </tr>\n",
       "    <tr>\n",
       "      <th>50%</th>\n",
       "      <td>5478.000000</td>\n",
       "      <td>NaN</td>\n",
       "      <td>0.0</td>\n",
       "      <td>1.939500e+04</td>\n",
       "      <td>1.0</td>\n",
       "      <td>0.000000</td>\n",
       "      <td>2.291000</td>\n",
       "      <td>NaN</td>\n",
       "      <td>0.0</td>\n",
       "      <td>1.0</td>\n",
       "      <td>...</td>\n",
       "      <td>NaN</td>\n",
       "      <td>NaN</td>\n",
       "      <td>NaN</td>\n",
       "      <td>NaN</td>\n",
       "      <td>NaN</td>\n",
       "      <td>NaN</td>\n",
       "      <td>NaN</td>\n",
       "      <td>NaN</td>\n",
       "      <td>NaN</td>\n",
       "      <td>NaN</td>\n",
       "    </tr>\n",
       "    <tr>\n",
       "      <th>75%</th>\n",
       "      <td>129011.000000</td>\n",
       "      <td>NaN</td>\n",
       "      <td>0.0</td>\n",
       "      <td>7.158620e+05</td>\n",
       "      <td>1.0</td>\n",
       "      <td>150.000000</td>\n",
       "      <td>3.500000</td>\n",
       "      <td>NaN</td>\n",
       "      <td>0.0</td>\n",
       "      <td>1.0</td>\n",
       "      <td>...</td>\n",
       "      <td>NaN</td>\n",
       "      <td>NaN</td>\n",
       "      <td>NaN</td>\n",
       "      <td>NaN</td>\n",
       "      <td>NaN</td>\n",
       "      <td>NaN</td>\n",
       "      <td>NaN</td>\n",
       "      <td>NaN</td>\n",
       "      <td>NaN</td>\n",
       "      <td>NaN</td>\n",
       "    </tr>\n",
       "    <tr>\n",
       "      <th>max</th>\n",
       "      <td>437401.000000</td>\n",
       "      <td>NaN</td>\n",
       "      <td>0.0</td>\n",
       "      <td>1.312755e+06</td>\n",
       "      <td>1.0</td>\n",
       "      <td>150.000000</td>\n",
       "      <td>1166.540000</td>\n",
       "      <td>NaN</td>\n",
       "      <td>0.0</td>\n",
       "      <td>1.0</td>\n",
       "      <td>...</td>\n",
       "      <td>NaN</td>\n",
       "      <td>NaN</td>\n",
       "      <td>NaN</td>\n",
       "      <td>NaN</td>\n",
       "      <td>NaN</td>\n",
       "      <td>NaN</td>\n",
       "      <td>NaN</td>\n",
       "      <td>NaN</td>\n",
       "      <td>NaN</td>\n",
       "      <td>NaN</td>\n",
       "    </tr>\n",
       "  </tbody>\n",
       "</table>\n",
       "<p>8 rows × 71 columns</p>\n",
       "</div>"
      ],
      "text/plain": [
       "             ADDRKEY  AUXVALVE  BARRELSIZE  IMSRO_COMPHY_COMPKEY  COMPLEXKEY  \\\n",
       "count    2389.000000       0.0      2389.0          2.389000e+03      2389.0   \n",
       "mean    81076.322729       NaN         0.0          3.362129e+05         1.0   \n",
       "std    122051.138142       NaN         0.0          4.165480e+05         0.0   \n",
       "min      1003.000000       NaN         0.0          1.002000e+03         1.0   \n",
       "25%      3243.000000       NaN         0.0          9.067000e+03         1.0   \n",
       "50%      5478.000000       NaN         0.0          1.939500e+04         1.0   \n",
       "75%    129011.000000       NaN         0.0          7.158620e+05         1.0   \n",
       "max    437401.000000       NaN         0.0          1.312755e+06         1.0   \n",
       "\n",
       "        FEEDERDIAM    FEEDERLEN  GISSTATIC      HT  INTKEY  ...  EMASSTCRTL  \\\n",
       "count  2389.000000  2389.000000        0.0  2389.0  2389.0  ...         0.0   \n",
       "mean     63.729594     4.024884        NaN     0.0     1.0  ...         NaN   \n",
       "std      74.163875    29.154112        NaN     0.0     0.0  ...         NaN   \n",
       "min       0.000000     0.000000        NaN     0.0     1.0  ...         NaN   \n",
       "25%       0.000000     1.200000        NaN     0.0     1.0  ...         NaN   \n",
       "50%       0.000000     2.291000        NaN     0.0     1.0  ...         NaN   \n",
       "75%     150.000000     3.500000        NaN     0.0     1.0  ...         NaN   \n",
       "max     150.000000  1166.540000        NaN     0.0     1.0  ...         NaN   \n",
       "\n",
       "       EMASSTCRDT  EMASSTRISK  EMASTRSKDT  EMDISTRICT  EMEQPMNTCL  EMEQPMNTTP  \\\n",
       "count         0.0         0.0         0.0         0.0         0.0         0.0   \n",
       "mean          NaN         NaN         NaN         NaN         NaN         NaN   \n",
       "std           NaN         NaN         NaN         NaN         NaN         NaN   \n",
       "min           NaN         NaN         NaN         NaN         NaN         NaN   \n",
       "25%           NaN         NaN         NaN         NaN         NaN         NaN   \n",
       "50%           NaN         NaN         NaN         NaN         NaN         NaN   \n",
       "75%           NaN         NaN         NaN         NaN         NaN         NaN   \n",
       "max           NaN         NaN         NaN         NaN         NaN         NaN   \n",
       "\n",
       "       EMASSTDESC  EMCOND  EMCONDDATE  \n",
       "count         0.0     0.0         0.0  \n",
       "mean          NaN     NaN         NaN  \n",
       "std           NaN     NaN         NaN  \n",
       "min           NaN     NaN         NaN  \n",
       "25%           NaN     NaN         NaN  \n",
       "50%           NaN     NaN         NaN  \n",
       "75%           NaN     NaN         NaN  \n",
       "max           NaN     NaN         NaN  \n",
       "\n",
       "[8 rows x 71 columns]"
      ]
     },
     "execution_count": 122,
     "metadata": {},
     "output_type": "execute_result"
    }
   ],
   "source": [
    "# Filters rows where flushing frequency is blank\n",
    "copied_all_hydrants_df = copied_all_hydrants_df[copied_all_hydrants_df['FLSHFRE'].notnull()]\n",
    "copied_all_hydrants_df.describe()"
   ]
  },
  {
   "cell_type": "code",
   "execution_count": 123,
   "id": "121384ee",
   "metadata": {},
   "outputs": [],
   "source": [
    "# Dropping unnecessary columns\n",
    "copied_all_hydrants_df = copied_all_hydrants_df.drop(columns={'ADDRKEY', 'ADDRQUAL', 'AUXVALVE', 'BARRELSIZE', 'COMPLEXKEY', 'GISSTATIC', 'HT', 'INTKEY', 'MAPNO', 'OBST', 'OUTLSZ4', 'PACKING', 'PAINTTYPE', 'PRCLKEY', 'SEGKEY', 'SERNO', 'SLKEY', 'SPECINST', 'STKEY', 'WVKEY', 'BGTNO', 'USGAREAKEY', 'EXPBY', 'EXPDATE', 'ADDBY', 'MODBY', 'MODDTTM',\n",
    "                                                              'LASTINSP', 'LASTWINT', 'OLDID', 'WMODID', 'MUNICIPAL', 'FLUDATE', 'WWNUM', 'LASTFREE', 'LASTOTAL', 'FLSHFRE_GIS', 'MINFLTM', 'AVKCLIP', 'ASUMDATE', 'MAINTBY', 'REPLABY', 'REPLAFOR', 'FRFLWVLDDT', 'ASSTGRPID', 'EMDEPT', 'EMDIV', 'EMSERV', 'EMSERVCAT', 'EMCAMASTCL', 'EMASSTPRNT', 'EMPURCHDAT',\n",
    "                                                                  'EMESTSRVLF', 'EMRMGSRVLF', 'EMRMSRLFDT', 'EMREPLCOST', 'EMREPCOSDT', 'EMPURINCST', 'EMASSTCRTL', 'EMASSTCRDT', 'EMASSTRISK', 'EMASTRSKDT', 'EMDISTRICT', 'EMEQPMNTCL', 'EMEQPMNTTP', 'EMASSTDESC', 'EMCOND', 'EMCONDDATE', 'OWN', 'SERVSTAT', 'DISTRICT', 'ASBLT', 'WATPLATT',\n",
    "                                                                  'LSTFMAX1',\t'LSTFMAX2',\t'LSTFMAX3',\t'AVE3FMAX',\t'LSTTMAX1',\t'LSTTMAX2',\t'LSTTMAX3',\t'AVE3TMAX', 'ASBLT', 'ZCOORD', 'PRESSMIN',\t'PRESSMAX',\t'FIRFLGPM',\t'OUTELEVN',\t'MDLRESRD', 'FEEDERTYPE'})"
   ]
  },
  {
   "cell_type": "code",
   "execution_count": 124,
   "id": "90a0b9db",
   "metadata": {},
   "outputs": [],
   "source": [
    "# Filtering out invalid values\n",
    "# copied_all_hydrants_df = copied_all_hydrants_df[copied_all_hydrants_df['OWN'].isin(['R', 'NAMP'])]\n",
    "# copied_all_hydrants_df = copied_all_hydrants_df[copied_all_hydrants_df['SERVSTAT'].isin(['A', 'ANYR'])]\n",
    "# copied_all_hydrants_df = copied_all_hydrants_df[copied_all_hydrants_df['EXPDATE'].isnull()]"
   ]
  },
  {
   "cell_type": "markdown",
   "id": "b473da0a-4ff1-4ff2-836a-c48aba6432b0",
   "metadata": {},
   "source": [
    "**Imputing Missing Categorical Values**"
   ]
  },
  {
   "cell_type": "code",
   "execution_count": 125,
   "id": "94ae8673-f584-48d1-befa-4221233e433d",
   "metadata": {
    "collapsed": false,
    "jupyter": {
     "outputs_hidden": false,
     "source_hidden": false
    },
    "microsoft": {
     "language": "python",
     "language_group": "synapse_pyspark"
    },
    "nteract": {
     "transient": {
      "deleting": false
     }
    }
   },
   "outputs": [],
   "source": [
    "# Item 3: Clean data, replace nulls with values in some columns\n",
    "copied_all_hydrants_df['UNITTYPE'] = copied_all_hydrants_df['UNITTYPE'].fillna('STDHY')"
   ]
  },
  {
   "cell_type": "code",
   "execution_count": 126,
   "id": "fb8e0c89-0914-4ce5-9800-9b0e135e3f1c",
   "metadata": {
    "collapsed": false,
    "jupyter": {
     "outputs_hidden": false,
     "source_hidden": false
    },
    "microsoft": {
     "language": "python",
     "language_group": "synapse_pyspark"
    },
    "nteract": {
     "transient": {
      "deleting": false
     }
    }
   },
   "outputs": [
    {
     "data": {
      "text/plain": [
       "count       2389\n",
       "unique         2\n",
       "top       HYBLWF\n",
       "freq        2350\n",
       "Name: UNITTYPE, dtype: object"
      ]
     },
     "execution_count": 126,
     "metadata": {},
     "output_type": "execute_result"
    }
   ],
   "source": [
    "copied_all_hydrants_df['UNITTYPE'].describe()"
   ]
  },
  {
   "cell_type": "code",
   "execution_count": 127,
   "id": "cab202d0",
   "metadata": {},
   "outputs": [],
   "source": [
    "copied_all_hydrants_df.to_csv('hydrantcheck.csv', index=False)"
   ]
  },
  {
   "cell_type": "code",
   "execution_count": 128,
   "id": "26244952",
   "metadata": {},
   "outputs": [],
   "source": [
    "#TODO: Ayan: Imputing the missing data for PRESZONE\n",
    "# Based on other rows with similar data as the missing rows in PRESZONE, PG8 is the most suitable value to impute here\n",
    "copied_all_hydrants_df['PRESZONE'] = copied_all_hydrants_df['PRESZONE'].fillna(\"PG8\")"
   ]
  },
  {
   "cell_type": "code",
   "execution_count": 129,
   "id": "dd27cb5e",
   "metadata": {},
   "outputs": [],
   "source": [
    "#TODO: Ayan: Imputation for DECLREQD\n",
    "# Replacing blank values in the 'DECLREQD' column with the mode of the column\n",
    "copied_all_hydrants_df['DECLREQD'] = copied_all_hydrants_df['DECLREQD'].fillna(copied_all_hydrants_df['DECLREQD'].mode().iloc[0])"
   ]
  },
  {
   "cell_type": "code",
   "execution_count": 130,
   "id": "19aba725",
   "metadata": {},
   "outputs": [],
   "source": [
    "#TODO: Ella: Convert null to N for HYMARKER\n",
    "copied_all_hydrants_df['HYMARKER'] = copied_all_hydrants_df['HYMARKER'].fillna('N')"
   ]
  },
  {
   "cell_type": "code",
   "execution_count": 131,
   "id": "e6206277",
   "metadata": {},
   "outputs": [],
   "source": [
    "#TODO: Ayan: Impute the missing value for NONSCHE\n",
    "copied_all_hydrants_df['NONSCHE'] = copied_all_hydrants_df['NONSCHE'].fillna(copied_all_hydrants_df['NONSCHE'].mode().iloc[0])"
   ]
  },
  {
   "cell_type": "code",
   "execution_count": 132,
   "id": "74421e91-2819-4998-975f-7f34bf9f1a5b",
   "metadata": {
    "collapsed": false,
    "jupyter": {
     "outputs_hidden": false,
     "source_hidden": false
    },
    "microsoft": {
     "language": "python",
     "language_group": "synapse_pyspark"
    },
    "nteract": {
     "transient": {
      "deleting": false
     }
    }
   },
   "outputs": [
    {
     "data": {
      "text/html": [
       "<div>\n",
       "<style scoped>\n",
       "    .dataframe tbody tr th:only-of-type {\n",
       "        vertical-align: middle;\n",
       "    }\n",
       "\n",
       "    .dataframe tbody tr th {\n",
       "        vertical-align: top;\n",
       "    }\n",
       "\n",
       "    .dataframe thead th {\n",
       "        text-align: right;\n",
       "    }\n",
       "</style>\n",
       "<table border=\"1\" class=\"dataframe\">\n",
       "  <thead>\n",
       "    <tr style=\"text-align: right;\">\n",
       "      <th></th>\n",
       "      <th>AREA</th>\n",
       "      <th>COLOR</th>\n",
       "      <th>IMSRO_COMPHY_COMPKEY</th>\n",
       "      <th>FEEDERDIAM</th>\n",
       "      <th>FEEDERLEN</th>\n",
       "      <th>INSTDATE</th>\n",
       "      <th>LOC</th>\n",
       "      <th>MAINKEY</th>\n",
       "      <th>MFGKEY</th>\n",
       "      <th>MODELNO</th>\n",
       "      <th>...</th>\n",
       "      <th>ADDDTTM</th>\n",
       "      <th>FLSHFRE</th>\n",
       "      <th>LONGKEY</th>\n",
       "      <th>PLUGGED</th>\n",
       "      <th>COMMUN</th>\n",
       "      <th>NONSCHE</th>\n",
       "      <th>FZONENUM</th>\n",
       "      <th>DECLREQD</th>\n",
       "      <th>WARDID</th>\n",
       "      <th>HYMARKER</th>\n",
       "    </tr>\n",
       "  </thead>\n",
       "  <tbody>\n",
       "    <tr>\n",
       "      <th>65</th>\n",
       "      <td>B31</td>\n",
       "      <td>BLUE</td>\n",
       "      <td>1673</td>\n",
       "      <td>0.0</td>\n",
       "      <td>1.4</td>\n",
       "      <td>NaN</td>\n",
       "      <td>1031</td>\n",
       "      <td>526297</td>\n",
       "      <td>1012</td>\n",
       "      <td>CENTURY</td>\n",
       "      <td>...</td>\n",
       "      <td>2003-03-01</td>\n",
       "      <td>1 YEAR</td>\n",
       "      <td>N</td>\n",
       "      <td>N</td>\n",
       "      <td>B</td>\n",
       "      <td>N</td>\n",
       "      <td>FZ-C01</td>\n",
       "      <td>N</td>\n",
       "      <td>B02</td>\n",
       "      <td>Y</td>\n",
       "    </tr>\n",
       "    <tr>\n",
       "      <th>76</th>\n",
       "      <td>B31</td>\n",
       "      <td>BLUE</td>\n",
       "      <td>1696</td>\n",
       "      <td>0.0</td>\n",
       "      <td>1.1</td>\n",
       "      <td>NaN</td>\n",
       "      <td>1145</td>\n",
       "      <td>754390</td>\n",
       "      <td>1022</td>\n",
       "      <td>M67</td>\n",
       "      <td>...</td>\n",
       "      <td>2003-03-01</td>\n",
       "      <td>1 YEAR</td>\n",
       "      <td>N</td>\n",
       "      <td>N</td>\n",
       "      <td>B</td>\n",
       "      <td>N</td>\n",
       "      <td>FZ-C01</td>\n",
       "      <td>Y</td>\n",
       "      <td>B02</td>\n",
       "      <td>N</td>\n",
       "    </tr>\n",
       "    <tr>\n",
       "      <th>126</th>\n",
       "      <td>B31</td>\n",
       "      <td>BLUE</td>\n",
       "      <td>2847</td>\n",
       "      <td>0.0</td>\n",
       "      <td>1.1</td>\n",
       "      <td>NaN</td>\n",
       "      <td>1058</td>\n",
       "      <td>762853</td>\n",
       "      <td>1012</td>\n",
       "      <td>CENTURY</td>\n",
       "      <td>...</td>\n",
       "      <td>2003-03-01</td>\n",
       "      <td>1 YEAR</td>\n",
       "      <td>N</td>\n",
       "      <td>N</td>\n",
       "      <td>B</td>\n",
       "      <td>N</td>\n",
       "      <td>FZ-C01</td>\n",
       "      <td>N</td>\n",
       "      <td>B02</td>\n",
       "      <td>N</td>\n",
       "    </tr>\n",
       "    <tr>\n",
       "      <th>138</th>\n",
       "      <td>B06</td>\n",
       "      <td>ORANGE</td>\n",
       "      <td>2863</td>\n",
       "      <td>0.0</td>\n",
       "      <td>3.0</td>\n",
       "      <td>NaN</td>\n",
       "      <td>0641</td>\n",
       "      <td>512055</td>\n",
       "      <td>1009</td>\n",
       "      <td>D67M</td>\n",
       "      <td>...</td>\n",
       "      <td>2003-03-01</td>\n",
       "      <td>1 YEAR</td>\n",
       "      <td>N</td>\n",
       "      <td>N</td>\n",
       "      <td>B</td>\n",
       "      <td>N</td>\n",
       "      <td>FZ-C03</td>\n",
       "      <td>N</td>\n",
       "      <td>B04</td>\n",
       "      <td>N</td>\n",
       "    </tr>\n",
       "    <tr>\n",
       "      <th>139</th>\n",
       "      <td>B12</td>\n",
       "      <td>BLUE</td>\n",
       "      <td>2864</td>\n",
       "      <td>0.0</td>\n",
       "      <td>1.0</td>\n",
       "      <td>NaN</td>\n",
       "      <td>0821</td>\n",
       "      <td>716655</td>\n",
       "      <td>1022</td>\n",
       "      <td>M59M</td>\n",
       "      <td>...</td>\n",
       "      <td>2003-03-01</td>\n",
       "      <td>1 YEAR</td>\n",
       "      <td>N</td>\n",
       "      <td>N</td>\n",
       "      <td>B</td>\n",
       "      <td>N</td>\n",
       "      <td>FZ-C03</td>\n",
       "      <td>Y</td>\n",
       "      <td>B07</td>\n",
       "      <td>N</td>\n",
       "    </tr>\n",
       "  </tbody>\n",
       "</table>\n",
       "<p>5 rows × 30 columns</p>\n",
       "</div>"
      ],
      "text/plain": [
       "    AREA   COLOR  IMSRO_COMPHY_COMPKEY  FEEDERDIAM  FEEDERLEN INSTDATE   LOC  \\\n",
       "65   B31    BLUE                  1673         0.0        1.4      NaN  1031   \n",
       "76   B31    BLUE                  1696         0.0        1.1      NaN  1145   \n",
       "126  B31    BLUE                  2847         0.0        1.1      NaN  1058   \n",
       "138  B06  ORANGE                  2863         0.0        3.0      NaN  0641   \n",
       "139  B12    BLUE                  2864         0.0        1.0      NaN  0821   \n",
       "\n",
       "     MAINKEY  MFGKEY  MODELNO  ...     ADDDTTM  FLSHFRE  LONGKEY PLUGGED  \\\n",
       "65    526297    1012  CENTURY  ...  2003-03-01   1 YEAR        N       N   \n",
       "76    754390    1022      M67  ...  2003-03-01   1 YEAR        N       N   \n",
       "126   762853    1012  CENTURY  ...  2003-03-01   1 YEAR        N       N   \n",
       "138   512055    1009     D67M  ...  2003-03-01   1 YEAR        N       N   \n",
       "139   716655    1022     M59M  ...  2003-03-01   1 YEAR        N       N   \n",
       "\n",
       "    COMMUN NONSCHE FZONENUM  DECLREQD  WARDID  HYMARKER  \n",
       "65       B       N   FZ-C01         N     B02         Y  \n",
       "76       B       N   FZ-C01         Y     B02         N  \n",
       "126      B       N   FZ-C01         N     B02         N  \n",
       "138      B       N   FZ-C03         N     B04         N  \n",
       "139      B       N   FZ-C03         Y     B07         N  \n",
       "\n",
       "[5 rows x 30 columns]"
      ]
     },
     "execution_count": 132,
     "metadata": {},
     "output_type": "execute_result"
    }
   ],
   "source": [
    "copied_all_hydrants_df.head()"
   ]
  },
  {
   "cell_type": "markdown",
   "id": "a66be612-760c-4e83-9142-6dafee0b37a5",
   "metadata": {},
   "source": [
    "**Binning**"
   ]
  },
  {
   "cell_type": "code",
   "execution_count": 133,
   "id": "51192427",
   "metadata": {},
   "outputs": [
    {
     "name": "stdout",
     "output_type": "stream",
     "text": [
      "0\n",
      "      AREA Letters\n",
      "65     B31       B\n",
      "76     B31       B\n",
      "126    B31       B\n",
      "138    B06       B\n",
      "139    B12       B\n",
      "...    ...     ...\n",
      "40336  C36       C\n",
      "40502  B34       B\n",
      "40503  B34       B\n",
      "40504  B34       B\n",
      "40543  B34       B\n",
      "\n",
      "[2389 rows x 2 columns]\n",
      "Original DataFrame with extracted letters and one-hot encoded columns:\n",
      "    AREA   COLOR  IMSRO_COMPHY_COMPKEY  FEEDERDIAM  FEEDERLEN INSTDATE   LOC  \\\n",
      "65   B31    BLUE                1673.0         0.0        1.4      NaN  1031   \n",
      "76   B31    BLUE                1696.0         0.0        1.1      NaN  1145   \n",
      "126  B31    BLUE                2847.0         0.0        1.1      NaN  1058   \n",
      "138  B06  ORANGE                2863.0         0.0        3.0      NaN  0641   \n",
      "139  B12    BLUE                2864.0         0.0        1.0      NaN  0821   \n",
      "\n",
      "      MAINKEY  MFGKEY  MODELNO  ...  NONSCHE  FZONENUM  DECLREQD WARDID  \\\n",
      "65   526297.0  1012.0  CENTURY  ...        N    FZ-C01         N    B02   \n",
      "76   754390.0  1022.0      M67  ...        N    FZ-C01         Y    B02   \n",
      "126  762853.0  1012.0  CENTURY  ...        N    FZ-C01         N    B02   \n",
      "138  512055.0  1009.0     D67M  ...        N    FZ-C03         N    B04   \n",
      "139  716655.0  1022.0     M59M  ...        N    FZ-C03         Y    B07   \n",
      "\n",
      "    HYMARKER Letters Letters_B  Letters_C  Letters_S  Letters_nan  \n",
      "65         Y       B       1.0        0.0        0.0          0.0  \n",
      "76         N       B       1.0        0.0        0.0          0.0  \n",
      "126        N       B       1.0        0.0        0.0          0.0  \n",
      "138        N       B       1.0        0.0        0.0          0.0  \n",
      "139        N       B       1.0        0.0        0.0          0.0  \n",
      "\n",
      "[5 rows x 35 columns]\n"
     ]
    }
   ],
   "source": [
    "#TODO: Jordan: Imputing the missing data for SUBAREA\n",
    "#TODO: Jordan: What are the differences between AREA, SUBAREA, COMMUN, WARDID. Which columns to keep and why?\n",
    "\n",
    "subarea_mode = copied_all_hydrants_df['SUBAREA'].mode()[0]\n",
    "copied_all_hydrants_df['SUBAREA'] = copied_all_hydrants_df['SUBAREA'].fillna(subarea_mode)\n",
    "print(copied_all_hydrants_df['SUBAREA'].isna().sum())\n",
    "\n",
    "# Extracting only the letters from the AREA column\n",
    "copied_all_hydrants_df['Letters'] = copied_all_hydrants_df['AREA'].str.extract(r'([A-Za-z]+)', expand=False)\n",
    "\n",
    "# Displaying the resulting DataFrame with only the letters\n",
    "print(copied_all_hydrants_df[['AREA', 'Letters']])\n",
    "\n",
    "from sklearn.preprocessing import OneHotEncoder\n",
    "\n",
    "# One-hot encoding the letters\n",
    "encoder = OneHotEncoder(sparse_output=False)\n",
    "encoded_letters = encoder.fit_transform(copied_all_hydrants_df[['Letters']])\n",
    "encoded_letters_df = pd.DataFrame(encoded_letters, columns=encoder.get_feature_names_out(['Letters']))\n",
    "\n",
    "# Combining the original DataFrame with the encoded letters\n",
    "copied_all_hydrants_df = pd.concat([copied_all_hydrants_df, encoded_letters_df], axis=1)\n",
    "\n",
    "# Displaying the resulting DataFrame to ensure the columns are included\n",
    "print(\"Original DataFrame with extracted letters and one-hot encoded columns:\")\n",
    "print(copied_all_hydrants_df.head())"
   ]
  },
  {
   "cell_type": "code",
   "execution_count": 134,
   "id": "b1f22087",
   "metadata": {},
   "outputs": [],
   "source": [
    "#TODO: Jordan: Clean up the values in MODEL column (group those that are of similar values but in different forms) & fill the null value with UNKNOWN - Done\n",
    "#TODO: ELla to clean up the grouping\n",
    "\n",
    "# Standardize the values in the MODELNO column\n",
    "copied_all_hydrants_df['MODELNO'] = copied_all_hydrants_df['MODELNO'].str.strip().str.upper()\n",
    "\n",
    "# Fill missing values with 'UNKNOWN'\n",
    "copied_all_hydrants_df['MODELNO'] = copied_all_hydrants_df['MODELNO'].fillna('UNKNOWN')"
   ]
  },
  {
   "cell_type": "code",
   "execution_count": 135,
   "id": "0d06d5b4-0055-48be-9721-aa49ec3a52f4",
   "metadata": {},
   "outputs": [],
   "source": [
    "# Define a mapping for similar model numbers\n",
    "modelno_mapping = {\n",
    "    'BRIGADIER': [\n",
    "        'BRIG', 'BRIGADIER', 'BRIGADIER M67', 'BRIGADEER', 'BRIGADERE', \n",
    "        'BRIGD', 'BRIGA', 'BRIGADIER M64', 'BRIGADIER M67B', \n",
    "        'BRIGADIER M67B-002', 'BRIGIDAR', 'BRIGIDERE', 'BRIGG', 'BRIG.', 'brig', 'brig.', 'Brig'\n",
    "    ],\n",
    "    'CENTURY': [\n",
    "        'CENTURY', 'century', 'CEN', 'CENT', 'CENTRY', 'CENTRUY', \n",
    "        'CENURY', 'CENTY', 'CENTRYY', 'CENRTY', 'CCENTURY', 'c entury', 'CEN.'\n",
    "    ],\n",
    "    '27/100': ['27/100', '27-100', '27-00', '27/00', 'B52700'],\n",
    "    'M67': [\n",
    "        'M67', 'M67B', 'M67B-002', 'M67-B', 'M67 BRIG', 'M67 BRIGADIER', \n",
    "        'M67 BRIGADIER', 'M67-BRIG', 'M67D', 'M67E', 'M67Y', 'M67m', \n",
    "        'M67\\r\\nM67', 'M-67', 'M67M', 'M 67', 'M67-brig.', 'm67', 'm67b'\n",
    "    ],\n",
    "    'D67': ['D67', 'D67M', 'D-67', 'D-67M', 'D67m', 'D57M'],\n",
    "    'B50': [\n",
    "        'B50', 'B50-B24', 'B50-B18', 'B50-B-24', 'B-50-B', \n",
    "        'B-50', 'B67', 'B560-B24', 'B50B'\n",
    "    ],\n",
    "    'C': ['C', 'C61', 'C61A'],\n",
    "    '3 PORT': [\n",
    "        '#5', '5', '3', '3-PORT', '3 PORT', '3 PORTS', '3PORT BRIGADIER', \n",
    "        '3PORT BRIGADIER M67B', '3PORT BRIGADIER M67B', 'M3', \n",
    "        'M-93', 'SIGELOCK SPARTAN', 'THREE PORT', 'TWO PORT'\n",
    "    ]\n",
    "    # Add more mappings as needed\n",
    "}"
   ]
  },
  {
   "cell_type": "code",
   "execution_count": 136,
   "id": "a5442711-cdc6-4ff3-9c43-e4622012725d",
   "metadata": {},
   "outputs": [],
   "source": [
    "# Reverse the mapping for easy replacement\n",
    "reverse_modelno_mapping = {}\n",
    "for key, values in modelno_mapping.items():\n",
    "    for value in values:\n",
    "        reverse_modelno_mapping[value] = key\n",
    "\n",
    "# Apply the mapping to the MODELNO column\n",
    "copied_all_hydrants_df['MODELNO'] = copied_all_hydrants_df['MODELNO'].replace(reverse_modelno_mapping)"
   ]
  },
  {
   "cell_type": "code",
   "execution_count": 137,
   "id": "05b28088-f079-41ed-a639-034a522d72a1",
   "metadata": {},
   "outputs": [
    {
     "name": "stdout",
     "output_type": "stream",
     "text": [
      "['CENTURY' 'M67' 'D67' 'M59M' '2700' 'B50' 'M59' 'UNKNOWN' 'ST JOHN #2'\n",
      " 'BRIGADIER' 'B-05' 'B20-B24' 'CAN-VAL' 'C' '3 PORT' 'MUELLER' 'SL GATE'\n",
      " '27/100' 'SENTINEL' 'DARLING' 'MACAVITY' 'AVK' 'MCAVITY' 'D-67M 3 PORT'\n",
      " 'BRIDGADIER M67B' 'M-67B' 'BBRIGADIER']\n",
      "0\n"
     ]
    }
   ],
   "source": [
    "# Verify the changes\n",
    "print(copied_all_hydrants_df['MODELNO'].unique())\n",
    "print(copied_all_hydrants_df['MODELNO'].isna().sum())\n",
    "\n",
    "# Save the cleaned dataset\n",
    "copied_all_hydrants_df.to_csv('cleaned_hydrantcheck.csv', index=False)"
   ]
  },
  {
   "cell_type": "markdown",
   "id": "844d4989-df9a-4152-9540-bd036ef30b1c",
   "metadata": {},
   "source": [
    "**Extracting Dates**"
   ]
  },
  {
   "cell_type": "code",
   "execution_count": 138,
   "id": "fdaeb863-2068-4480-92f7-b56f4edadd83",
   "metadata": {},
   "outputs": [
    {
     "name": "stdout",
     "output_type": "stream",
     "text": [
      "65    NaT\n",
      "76    NaT\n",
      "126   NaT\n",
      "138   NaT\n",
      "139   NaT\n",
      "Name: INSTDATE, dtype: datetime64[ns]\n"
     ]
    }
   ],
   "source": [
    "# Converting date column to datetime and extracting the year\n",
    "copied_all_hydrants_df['INSTDATE'] = pd.to_datetime(copied_all_hydrants_df['INSTDATE'], errors='coerce')\n",
    "\n",
    "# Displaying the resulting DataFrame\n",
    "print(copied_all_hydrants_df['INSTDATE'].head())"
   ]
  },
  {
   "cell_type": "code",
   "execution_count": 139,
   "id": "e1ccf694-f861-4897-b357-e6690a9fc46c",
   "metadata": {},
   "outputs": [
    {
     "name": "stdout",
     "output_type": "stream",
     "text": [
      "     INSTDATE  AGE\n",
      "65        NaT -1.0\n",
      "76        NaT -1.0\n",
      "126       NaT -1.0\n",
      "138       NaT -1.0\n",
      "139       NaT -1.0\n",
      "...       ...  ...\n",
      "1695      NaT -1.0\n",
      "1696      NaT -1.0\n",
      "1710      NaT -1.0\n",
      "1714      NaT -1.0\n",
      "1718      NaT -1.0\n",
      "\n",
      "[100 rows x 2 columns]\n"
     ]
    }
   ],
   "source": [
    "#from datetime import datetime\n",
    "\n",
    "# Calculate the age in days\n",
    "copied_all_hydrants_df['AGE'] = (pd.Timestamp.now() - copied_all_hydrants_df['INSTDATE']).dt.days\n",
    "\n",
    "# If INSTDATE was missing, AGE will be NaN\n",
    "copied_all_hydrants_df['AGE'] = copied_all_hydrants_df['AGE'].fillna(-1)  # Filling with -1 to indicate missing ages, you can choose other strategies\n",
    "\n",
    "print(copied_all_hydrants_df[['INSTDATE', 'AGE']].head(100))"
   ]
  },
  {
   "cell_type": "code",
   "execution_count": 140,
   "id": "415884bf-32d2-42e0-8e40-4b2f66accfe7",
   "metadata": {},
   "outputs": [],
   "source": [
    "# Maps a value from FLSHFRE to an integer representing the frequency in days\n",
    "def convert_to_days(frequency):\n",
    "    if pd.isna(frequency):\n",
    "        return None\n",
    "    frequency = frequency.upper().strip()\n",
    "    if 'DAY' in frequency:\n",
    "        return int(frequency.split()[0])\n",
    "    elif 'DAILY' in frequency:\n",
    "        return 1\n",
    "    elif 'WEEK' in frequency:\n",
    "        return int(frequency.split()[0]) * 7\n",
    "    elif 'MONTH' in frequency:\n",
    "        return int(frequency.split()[0]) * 30\n",
    "    elif 'YEAR' in frequency:\n",
    "        return int(frequency.split()[0]) * 365\n",
    "    else:\n",
    "        return None  # For any unknown frequency format"
   ]
  },
  {
   "cell_type": "code",
   "execution_count": 141,
   "id": "741d31b2-40e0-4b62-a262-12c7d6cb16d8",
   "metadata": {},
   "outputs": [
    {
     "name": "stdout",
     "output_type": "stream",
     "text": [
      "    FLSHFRE  FLSHFRE_DAYS\n",
      "65   1 YEAR         365.0\n",
      "76   1 YEAR         365.0\n",
      "126  1 YEAR         365.0\n",
      "138  1 YEAR         365.0\n",
      "139  1 YEAR         365.0\n",
      "[365.  90. 180.   3.   7. 120.  14.  30.  60.  21.   2.   1.  nan]\n",
      "['1 YEAR' '3 MONTHS' '6 MONTHS' '3 DAYS' '1 WEEK' '4 MONTHS' '2 WEEKS'\n",
      " '1 MONTH' '2 MONTHS' '3 WEEKS' '2 DAYS' 'DAILY' nan]\n"
     ]
    }
   ],
   "source": [
    "# Apply the conversion function\n",
    "copied_all_hydrants_df['FLSHFRE_DAYS'] = copied_all_hydrants_df['FLSHFRE'].apply(convert_to_days)\n",
    "print(copied_all_hydrants_df[['FLSHFRE', 'FLSHFRE_DAYS']].head())\n",
    "\n",
    "print(copied_all_hydrants_df['FLSHFRE_DAYS'].unique())\n",
    "print(copied_all_hydrants_df['FLSHFRE'].unique())"
   ]
  },
  {
   "cell_type": "markdown",
   "id": "686fb37b-4fdb-410f-a3b5-64c91b8949f3",
   "metadata": {},
   "source": [
    "### Merging the datasets"
   ]
  },
  {
   "cell_type": "code",
   "execution_count": 142,
   "id": "8c015994",
   "metadata": {},
   "outputs": [],
   "source": [
    "#TODO: Ayan to find the right column to merge the 2 datasets. After merging, delete all the ...KEY columns (identification columns) in the merge df\n",
    "# Renaming the column so that the name is the same in both datasets\n",
    "copied_all_hydrants_df.rename(columns={'IMSRO_COMPHY_COMPKEY': 'COMPKEY'}, inplace=True)"
   ]
  },
  {
   "cell_type": "code",
   "execution_count": 143,
   "id": "b996581a",
   "metadata": {},
   "outputs": [],
   "source": [
    "# Merging the DataFrames based on the 'COMPKEY' column - similar to a SQL left outer join\n",
    "merged_df = pd.merge(copied_all_hydrants_df, copied_flushing_history_df, on='COMPKEY', how='right', indicator=True)\n",
    "\n",
    "# Removing the COMPKEY column now that we don't need it\n",
    "merged_df.drop(['COMPKEY'], axis=1, inplace=True)"
   ]
  },
  {
   "cell_type": "code",
   "execution_count": 144,
   "id": "25ec38b0-4ccf-4c3a-8442-c17755df50d7",
   "metadata": {},
   "outputs": [
    {
     "data": {
      "text/plain": [
       "array(['1 YEAR', '6 MONTHS', '3 MONTHS', '4 MONTHS', '2 MONTHS', '2 DAYS',\n",
       "       '3 DAYS', '1 WEEK', '1 MONTH', '2 WEEKS', '6 WEEKS', 'DAYS',\n",
       "       '3 WEEKS', 'DAILY', '2 X DAILY', '1 week', '2 days', '2DAYS'],\n",
       "      dtype=object)"
      ]
     },
     "execution_count": 144,
     "metadata": {},
     "output_type": "execute_result"
    }
   ],
   "source": [
    "merged_df['FLSHFRE_y'].unique()"
   ]
  },
  {
   "cell_type": "code",
   "execution_count": 145,
   "id": "7576d4e4-45d0-4703-91c8-057093891fdd",
   "metadata": {},
   "outputs": [],
   "source": [
    "# Adjusting incorrectly formatted rows\n",
    "merged_df['FLSHFRE_y'] = merged_df['FLSHFRE_y'].replace(['DAYS', '2DAYS'], '2 DAYS')"
   ]
  },
  {
   "cell_type": "code",
   "execution_count": 146,
   "id": "f819f02e-7aea-4f56-b7c8-409fa5b84f4d",
   "metadata": {},
   "outputs": [
    {
     "data": {
      "text/plain": [
       "array(['1 YEAR', '6 MONTHS', '3 MONTHS', '4 MONTHS', '2 MONTHS', '2 DAYS',\n",
       "       '3 DAYS', '1 WEEK', '1 MONTH', '2 WEEKS', '6 WEEKS', '3 WEEKS',\n",
       "       'DAILY', '2 X DAILY', '1 week', '2 days'], dtype=object)"
      ]
     },
     "execution_count": 146,
     "metadata": {},
     "output_type": "execute_result"
    }
   ],
   "source": [
    "merged_df['FLSHFRE_y'].unique()"
   ]
  },
  {
   "cell_type": "code",
   "execution_count": 147,
   "id": "84c4724e-f9c3-440b-b8b9-4d711d8fc0ca",
   "metadata": {},
   "outputs": [],
   "source": [
    "# Using the FLSHFRE values from the Flushing History dataset to get the frequency in days\n",
    "merged_df['FLSHFRE_DAYS'] = merged_df['FLSHFRE_y'].apply(convert_to_days)"
   ]
  },
  {
   "cell_type": "code",
   "execution_count": 148,
   "id": "8390deb3-4197-4a05-8d97-0f872c1640c8",
   "metadata": {},
   "outputs": [],
   "source": [
    "# Save the result to a new Excel file\n",
    "merged_df.to_excel('merged_dataset.xlsx', index=False)"
   ]
  },
  {
   "cell_type": "markdown",
   "id": "48f95c3f-3bfe-4096-b4f4-b928812da88e",
   "metadata": {},
   "source": [
    "### Feature Selection\n",
    "Using mutual information"
   ]
  },
  {
   "cell_type": "code",
   "execution_count": null,
   "id": "f3488b99-e0d7-435f-9692-fc1bf990abc5",
   "metadata": {},
   "outputs": [],
   "source": [
    "from sklearn.feature_selection import mutual_info_classif\n",
    "\n",
    "# Separate features and target\n",
    "x = data.drop('FLSHFRE_days', axis=1)\n",
    "y = data['FLSHFRE_days']"
   ]
  },
  {
   "cell_type": "code",
   "execution_count": null,
   "id": "fe5e1efb-856b-4e45-a801-cd7500ce4c15",
   "metadata": {},
   "outputs": [],
   "source": [
    "from sklearn.preprocessing import LabelEncoder\n",
    "\n",
    "# Identify numeric and categorical columns\n",
    "numeric_features = x.select_dtypes(include=['int64', 'float64']).columns\n",
    "categorical_features = x.select_dtypes(include=['object', 'category']).columns\n",
    "\n",
    "# Encode categorical features\n",
    "le = LabelEncoder()\n",
    "for feature in categorical_features:\n",
    "    x[feature] = le.fit_transform(x[feature])"
   ]
  },
  {
   "cell_type": "code",
   "execution_count": null,
   "id": "62d5f505-fd03-4c71-b973-6ce66e7a84eb",
   "metadata": {},
   "outputs": [],
   "source": [
    "# Calculate mutual information scores\n",
    "mi_scores = mutual_info_regression(x, y)\n",
    "\n",
    "# Create a dataframe of features and their MI scores\n",
    "mi_scores_df = pd.DataFrame({'feature': x.columns, 'mi_score': mi_scores})\n",
    "mi_scores_df = mi_scores_df.sort_values('mi_score', ascending=False)\n",
    "\n",
    "# Print the mutual information scores\n",
    "print(mi_scores_df)"
   ]
  },
  {
   "cell_type": "markdown",
   "id": "9ab9ce51",
   "metadata": {
    "jp-MarkdownHeadingCollapsed": true
   },
   "source": [
    "### Split the data into training and testing sets"
   ]
  },
  {
   "cell_type": "code",
   "execution_count": null,
   "id": "099e9bb0-cc02-47b1-983a-aceeccdec35a",
   "metadata": {},
   "outputs": [],
   "source": [
    "# The class to split the data into training and testing sets\n",
    "from sklearn.model_selection import train_test_split\n",
    "# Separating the dataset by features (independent variables) and target (dependent variable)\n",
    "# x = merged_df[]\n",
    "# y = merged_df['FLSHFRE']"
   ]
  },
  {
   "cell_type": "code",
   "execution_count": null,
   "id": "4bf4c2b3-525a-4ae9-a3eb-1e3315087947",
   "metadata": {},
   "outputs": [],
   "source": [
    "# Separating each of X and Y datasets into training and testing sets\n",
    "# Fraction of data to be used for testing; the rest is to be used for training\n",
    "test_size = 0.3\n",
    "random_state = 42\n",
    "\n",
    "x_train, x_test, y_train, y_test = train_test_split(x, y, test_size=test_size, random_state=random_state)"
   ]
  },
  {
   "cell_type": "markdown",
   "id": "f089c85e-2dba-44ee-bb3f-2951119815b7",
   "metadata": {
    "jp-MarkdownHeadingCollapsed": true
   },
   "source": [
    "### Scaling the Data"
   ]
  },
  {
   "cell_type": "code",
   "execution_count": null,
   "id": "aac2b16c-7335-423d-b637-ca09ebcfdcbf",
   "metadata": {},
   "outputs": [],
   "source": [
    "# Importing the class to use for scaling the data\n",
    "from sklearn.preprocessing import MinMaxScaler\n",
    "\n",
    "# Instantiating a MinMaxScaler object\n",
    "scaler = MinMaxScaler()\n",
    "# Fitting the scaler to the training features\n",
    "scaler.fit(x_train)\n",
    "# Scaling the training and testing features\n",
    "x_train = scaler.transform(x_train)\n",
    "x_test = scaler.transform(x_test)"
   ]
  },
  {
   "cell_type": "markdown",
   "id": "b684b1eb-5933-4af9-8f1c-0f45773e3376",
   "metadata": {},
   "source": [
    "# Training the Model"
   ]
  },
  {
   "cell_type": "markdown",
   "id": "efa356e2",
   "metadata": {},
   "source": [
    "### Model 1: Linear Regression"
   ]
  },
  {
   "cell_type": "code",
   "execution_count": null,
   "id": "a665b45f-3680-4578-977f-9f7ba0b6a3b9",
   "metadata": {},
   "outputs": [],
   "source": [
    "from sklearn.linear_model import LinearRegression"
   ]
  },
  {
   "cell_type": "markdown",
   "id": "343d4de1-e87e-4751-994b-c3f3e504bd77",
   "metadata": {},
   "source": [
    "### Hyperparameter Optimization"
   ]
  },
  {
   "cell_type": "code",
   "execution_count": null,
   "id": "8153aae7-ef0d-47d7-af99-8a111dca57b3",
   "metadata": {},
   "outputs": [],
   "source": [
    "import optuna"
   ]
  },
  {
   "cell_type": "markdown",
   "id": "7e8debb8",
   "metadata": {},
   "source": [
    "### Model 2: XGBoost Regression"
   ]
  },
  {
   "cell_type": "markdown",
   "id": "3a6d13be-3e71-4ed8-9b39-0c08e4f7b92c",
   "metadata": {},
   "source": [
    "### Hyperparameter Optimization"
   ]
  },
  {
   "cell_type": "markdown",
   "id": "544c7749",
   "metadata": {},
   "source": [
    "### Model 3: Support Vector Regression"
   ]
  },
  {
   "cell_type": "markdown",
   "id": "2005ca57-0f55-47cf-89c0-a7899b3ea144",
   "metadata": {},
   "source": [
    "### Hyperparameter Optimization"
   ]
  },
  {
   "cell_type": "markdown",
   "id": "a2f45338-0c2a-4c08-9a8b-2fd161b20dee",
   "metadata": {},
   "source": [
    "### Model 4: Random Forest Regression"
   ]
  },
  {
   "cell_type": "markdown",
   "id": "d120788b-5552-4110-859e-c552031edd28",
   "metadata": {},
   "source": [
    "### Hyperparameter Optimization"
   ]
  },
  {
   "cell_type": "markdown",
   "id": "1e980389",
   "metadata": {},
   "source": [
    "# Result Comparison"
   ]
  },
  {
   "cell_type": "markdown",
   "id": "4c13fe42-3eec-41cb-8b27-c12541e8de0a",
   "metadata": {},
   "source": [
    "## Comparing MSE (mean squared error)"
   ]
  },
  {
   "cell_type": "markdown",
   "id": "ce810c1f-67ee-4a3d-8671-d4accff54ac9",
   "metadata": {},
   "source": [
    "## Consider adjusting the train-test split for better results"
   ]
  },
  {
   "cell_type": "markdown",
   "id": "04269648-2d54-432a-a049-14da4abe0776",
   "metadata": {},
   "source": [
    "# Testing the Model"
   ]
  }
 ],
 "metadata": {
  "dependencies": {
   "lakehouse": {
    "default_lakehouse": "2580adb5-704c-444f-8038-daf0f6595eb6",
    "default_lakehouse_name": "EllaTesting",
    "default_lakehouse_workspace_id": "a8f3554f-0417-4db4-bf3d-627a7a3da2c5"
   }
  },
  "kernel_info": {
   "name": "synapse_pyspark"
  },
  "kernelspec": {
   "display_name": "Python 3 (ipykernel)",
   "language": "python",
   "name": "python3"
  },
  "language_info": {
   "codemirror_mode": {
    "name": "ipython",
    "version": 3
   },
   "file_extension": ".py",
   "mimetype": "text/x-python",
   "name": "python",
   "nbconvert_exporter": "python",
   "pygments_lexer": "ipython3",
   "version": "3.10.11"
  },
  "microsoft": {
   "language": "python",
   "language_group": "synapse_pyspark",
   "ms_spell_check": {
    "ms_spell_check_language": "en"
   }
  },
  "nteract": {
   "version": "nteract-front-end@1.0.0"
  },
  "spark_compute": {
   "compute_id": "/trident/default"
  },
  "widgets": {}
 },
 "nbformat": 4,
 "nbformat_minor": 5
}
